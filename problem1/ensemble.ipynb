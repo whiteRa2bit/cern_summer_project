{
 "cells": [
  {
   "cell_type": "code",
   "execution_count": 3,
   "metadata": {},
   "outputs": [],
   "source": [
    "import matplotlib.pyplot as plt\n",
    "import numpy as np\n",
    "from sklearn.model_selection import train_test_split\n",
    "from sklearn.linear_model import LinearRegression\n",
    "from sklearn.metrics import r2_score, mean_absolute_error, mean_squared_error\n",
    "from sklearn.model_selection import cross_validate\n",
    "import tqdm\n",
    "from math import sqrt\n",
    "import sys\n",
    "sys.path.insert(0, '../problem2/')"
   ]
  },
  {
   "cell_type": "markdown",
   "metadata": {},
   "source": [
    "### Loading data"
   ]
  },
  {
   "cell_type": "code",
   "execution_count": 4,
   "metadata": {},
   "outputs": [],
   "source": [
    "from common import get_data, get_freq_data, signal_cyclic_shift"
   ]
  },
  {
   "cell_type": "code",
   "execution_count": 7,
   "metadata": {},
   "outputs": [],
   "source": [
    "X, y = get_data(is_one_signal=True)\n",
    "X = get_freq_data(X, freq=15)\n",
    "y = y - np.mean(y)"
   ]
  },
  {
   "cell_type": "markdown",
   "metadata": {},
   "source": [
    "### Pipelines"
   ]
  },
  {
   "cell_type": "code",
   "execution_count": 4,
   "metadata": {},
   "outputs": [],
   "source": [
    "from sklearn.pipeline import Pipeline\n",
    "from sklearn.linear_model import HuberRegressor\n",
    "from sklearn import linear_model\n",
    "from sklearn import tree\n",
    "from sklearn import svm\n",
    "from sklearn.linear_model import PassiveAggressiveRegressor\n",
    "import xgboost as xgb\n",
    "from catboost import CatBoostRegressor"
   ]
  },
  {
   "cell_type": "markdown",
   "metadata": {},
   "source": [
    "### Let's find the best ensemble"
   ]
  },
  {
   "cell_type": "code",
   "execution_count": 5,
   "metadata": {},
   "outputs": [],
   "source": [
    "from sklearn.model_selection import KFold\n",
    "from sklearn.metrics import r2_score\n",
    "from mlxtend.regressor import StackingRegressor\n",
    "import warnings\n",
    "warnings.filterwarnings('ignore')"
   ]
  },
  {
   "cell_type": "code",
   "execution_count": 6,
   "metadata": {},
   "outputs": [],
   "source": [
    "huber_reg = HuberRegressor(epsilon= 5.09, alpha= 0.0004)\n",
    "ridge_reg = linear_model.Ridge(solver='saga', max_iter=4000, alpha= 0.582)\n",
    "lasso_reg = linear_model.Lasso(max_iter=4000, alpha=0.0038, normalize=False)\n",
    "dt_reg = tree.DecisionTreeRegressor(min_samples_split=7, min_samples_leaf=7, min_weight_fraction_leaf=0.000516, \n",
    "                                                                                             max_features='auto')\n",
    "    \n",
    "pa_reg = PassiveAggressiveRegressor(C = 0.55, max_iter=3600, tol=2.4919865657850927e-06)\n",
    "xgb_reg = xgb.XGBRegressor(objective=\"reg:linear\", alpha= 0.00244, booster='dart', eta= 0.017326, gamma=0.19504, \n",
    "                           reg_lambda=0.22451, max_depth=8, verbosity=0)\n",
    "\n",
    "models = [huber_reg, ridge_reg, lasso_reg, dt_reg, xgb_reg, pa_reg]"
   ]
  },
  {
   "cell_type": "code",
   "execution_count": 7,
   "metadata": {
    "scrolled": false
   },
   "outputs": [
    {
     "name": "stdout",
     "output_type": "stream",
     "text": [
      "Metaregressor: HuberRegressor\n",
      "95% confidence interval:\n",
      "r2_score: 0.99959 (+/- 0.00004)\n",
      "MSE[ns^2]: 0.00269 (+/- 0.00103)\n",
      "RMSE[ns]: 0.05182 (+/- 0.00198)\n",
      "MAE[ns]: 0.04026 (+/- 0.00075)\n",
      "----------------------------------\n",
      "Metaregressor: Ridge\n",
      "95% confidence interval:\n",
      "r2_score: 0.99958 (+/- 0.00005)\n",
      "MSE[ns^2]: 0.00272 (+/- 0.00104)\n",
      "RMSE[ns]: 0.05217 (+/- 0.00199)\n",
      "MAE[ns]: 0.04052 (+/- 0.00063)\n",
      "----------------------------------\n",
      "Metaregressor: Lasso\n",
      "95% confidence interval:\n",
      "r2_score: 0.99940 (+/- 0.00008)\n",
      "MSE[ns^2]: 0.00391 (+/- 0.00203)\n",
      "RMSE[ns]: 0.06249 (+/- 0.00324)\n",
      "MAE[ns]: 0.04826 (+/- 0.00121)\n",
      "----------------------------------\n",
      "Metaregressor: DecisionTreeRegressor\n",
      "95% confidence interval:\n",
      "r2_score: 0.99956 (+/- 0.00004)\n",
      "MSE[ns^2]: 0.00288 (+/- 0.00107)\n",
      "RMSE[ns]: 0.05367 (+/- 0.00201)\n",
      "MAE[ns]: 0.04178 (+/- 0.00093)\n",
      "----------------------------------\n",
      "Metaregressor: XGBRegressor\n",
      "95% confidence interval:\n",
      "r2_score: 0.99959 (+/- 0.00003)\n",
      "MSE[ns^2]: 0.00264 (+/- 0.00072)\n",
      "RMSE[ns]: 0.05139 (+/- 0.00141)\n",
      "MAE[ns]: 0.04010 (+/- 0.00048)\n",
      "----------------------------------\n",
      "Metaregressor: PassiveAggressiveRegressor\n",
      "95% confidence interval:\n",
      "r2_score: 0.99934 (+/- 0.00036)\n",
      "MSE[ns^2]: 0.00427 (+/- 0.01130)\n",
      "RMSE[ns]: 0.06475 (+/- 0.01705)\n",
      "MAE[ns]: 0.05064 (+/- 0.01534)\n",
      "----------------------------------\n"
     ]
    }
   ],
   "source": [
    "model_names = [type(model).__name__ for model in models]\n",
    "r2_scores_mean = []\n",
    "mse_scores_mean = []\n",
    "mae_scores_mean = []\n",
    "r2_scores_std = []\n",
    "mse_scores_std = []\n",
    "mae_scores_std = []\n",
    "\n",
    "TIME_SCALE_COEF = 0.2\n",
    "\n",
    "for model in models:    \n",
    "    print(\"Metaregressor:\", type(model).__name__)\n",
    "    stregr = StackingRegressor(regressors=models, meta_regressor=model)\n",
    "    scoring = ['r2', 'neg_mean_squared_error', 'neg_mean_absolute_error']\n",
    "    scores = cross_validate(stregr, X, y, scoring=scoring, cv=5)\n",
    "   \n",
    "    print(\"95% confidence interval:\")\n",
    "    print(\"r2_score: %0.5f (+/- %0.5f)\" % (scores['test_r2'].mean(), scores['test_r2'].std() * 2))\n",
    "    print(\"MSE[ns^2]: %0.5f (+/- %0.5f)\" % (TIME_SCALE_COEF**2 * -scores['test_neg_mean_squared_error'].mean(), TIME_SCALE_COEF * scores['test_neg_mean_squared_error'].std() * 2))\n",
    "    print(\"RMSE[ns]: %0.5f (+/- %0.5f)\" % (TIME_SCALE_COEF * np.sqrt(-scores['test_neg_mean_squared_error']).mean(), np.sqrt(TIME_SCALE_COEF**2 * -scores['test_neg_mean_squared_error']).std() * 2))\n",
    "    print(\"MAE[ns]: %0.5f (+/- %0.5f)\" % (TIME_SCALE_COEF * -scores['test_neg_mean_absolute_error'].mean(), TIME_SCALE_COEF * scores['test_neg_mean_absolute_error'].std() * 2))\n",
    "    print('----------------------------------')"
   ]
  },
  {
   "cell_type": "markdown",
   "metadata": {},
   "source": [
    "#### As we can see the best r2_score 0.99959 achieves if using huber regressor as metamodel"
   ]
  }
 ],
 "metadata": {
  "kernelspec": {
   "display_name": "Python 3",
   "language": "python",
   "name": "python3"
  },
  "language_info": {
   "codemirror_mode": {
    "name": "ipython",
    "version": 3
   },
   "file_extension": ".py",
   "mimetype": "text/x-python",
   "name": "python",
   "nbconvert_exporter": "python",
   "pygments_lexer": "ipython3",
   "version": "3.7.4"
  }
 },
 "nbformat": 4,
 "nbformat_minor": 2
}
