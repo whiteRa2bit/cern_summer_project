{
 "cells": [
  {
   "cell_type": "code",
   "execution_count": 1,
   "metadata": {},
   "outputs": [],
   "source": [
    "import matplotlib.pyplot as plt\n",
    "import numpy as np\n",
    "from sklearn.model_selection import train_test_split\n",
    "from sklearn.linear_model import LinearRegression\n",
    "from sklearn.metrics import r2_score, mean_absolute_error, mean_squared_error\n",
    "from sklearn.model_selection import cross_validate\n",
    "import tqdm"
   ]
  },
  {
   "cell_type": "code",
   "execution_count": 2,
   "metadata": {},
   "outputs": [],
   "source": [
    "from hyperopt.pyll import scope as ho_scope\n",
    "from hyperopt import fmin, tpe, hp\n",
    "import tqdm "
   ]
  },
  {
   "cell_type": "markdown",
   "metadata": {},
   "source": [
    "### Loading data"
   ]
  },
  {
   "cell_type": "code",
   "execution_count": 3,
   "metadata": {},
   "outputs": [],
   "source": [
    "import sys\n",
    "sys.path.insert(0, '../problem2')"
   ]
  },
  {
   "cell_type": "code",
   "execution_count": 5,
   "metadata": {},
   "outputs": [],
   "source": [
    "from common import get_data, get_freq_data"
   ]
  },
  {
   "cell_type": "code",
   "execution_count": 6,
   "metadata": {},
   "outputs": [],
   "source": [
    "X, y = get_data('./data/na62_11_pulses.txt', is_one_signal=True)"
   ]
  },
  {
   "cell_type": "code",
   "execution_count": 13,
   "metadata": {},
   "outputs": [],
   "source": [
    "X = X[:, :370]"
   ]
  },
  {
   "cell_type": "markdown",
   "metadata": {},
   "source": [
    "### Defining pipelines"
   ]
  },
  {
   "cell_type": "code",
   "execution_count": 14,
   "metadata": {},
   "outputs": [],
   "source": [
    "from sklearn.pipeline import Pipeline\n",
    "from sklearn.linear_model import HuberRegressor\n",
    "from sklearn import linear_model\n",
    "from sklearn import tree\n",
    "from sklearn import svm\n",
    "from sklearn.linear_model import PassiveAggressiveRegressor\n",
    "import xgboost as xgb\n",
    "from catboost import CatBoostRegressor"
   ]
  },
  {
   "cell_type": "code",
   "execution_count": 15,
   "metadata": {},
   "outputs": [],
   "source": [
    "TIME_SCALE_COEF = 0.2"
   ]
  },
  {
   "cell_type": "code",
   "execution_count": 16,
   "metadata": {},
   "outputs": [],
   "source": [
    "# freq_values = [1, 10, 20, 30, 40, 50]\n",
    "freq_values = [1]"
   ]
  },
  {
   "cell_type": "code",
   "execution_count": 17,
   "metadata": {},
   "outputs": [],
   "source": [
    "def print_results(iter_num=200):\n",
    "    global X_freq\n",
    "    for freq in freq_values:\n",
    "        X_freq = get_freq_data(X, freq=freq)\n",
    "\n",
    "        best = fmin(\n",
    "            fn=f,  # \"Loss\" function to minimize\n",
    "            space=space,  # Hyperparameter space\n",
    "            algo=tpe.suggest,  # Tree-structured Parzen Estimator (TPE)\n",
    "            max_evals=iter_num  # Perform 100 trials\n",
    "        )\n",
    "\n",
    "        print('-----------------------------------------------------')\n",
    "        print(\"Freq:\", freq)\n",
    "        print(\"X_freq shape:\", X_freq.shape)\n",
    "        print(\"Found minimum after %d trials:\" %(iter_num))\n",
    "        print(best)\n",
    "        print('-----------------------------------------------------')"
   ]
  },
  {
   "cell_type": "markdown",
   "metadata": {},
   "source": [
    "### Huber regressor"
   ]
  },
  {
   "cell_type": "code",
   "execution_count": 18,
   "metadata": {},
   "outputs": [
    {
     "name": "stdout",
     "output_type": "stream",
     "text": [
      "100%|██████████| 50/50 [04:10<00:00,  5.01s/it, best loss: 0.10524695266405254]\n",
      "-----------------------------------------------------\n",
      "Freq: 1\n",
      "X_freq shape: (1207, 370)\n",
      "Found minimum after 50 trials:\n",
      "{'alpha': 0.0006936700770729473, 'epsilon': 1.6447564875032097, 'max_iter': 430.0}\n",
      "-----------------------------------------------------\n"
     ]
    }
   ],
   "source": [
    "def f(space):\n",
    "    huber_reg = HuberRegressor(epsilon=space['epsilon'], max_iter=space['max_iter'], alpha=space['alpha'])\n",
    "    scores = cross_validate(huber_reg, X_freq, y, scoring='neg_mean_absolute_error', cv=5)\n",
    "    return TIME_SCALE_COEF * -scores['test_score'].mean()\n",
    "    \n",
    "space = {\n",
    "    'epsilon':  hp.loguniform('epsilon', low=np.log(1.1), high=np.log(10)),\n",
    "    'max_iter': ho_scope.int(hp.quniform('max_iter', low=100, high=500, q=10)),\n",
    "    'alpha':  hp.loguniform('alpha', low=np.log(0.0001), high=np.log(0.01)),\n",
    "}\n",
    "\n",
    "global X_freq\n",
    "print_results(iter_num=50)"
   ]
  },
  {
   "cell_type": "markdown",
   "metadata": {},
   "source": [
    "### Ridge regressor"
   ]
  },
  {
   "cell_type": "code",
   "execution_count": 22,
   "metadata": {},
   "outputs": [
    {
     "data": {
      "image/png": "[encoded data removed]",
      "text/plain": [
       "<Figure size 432x288 with 1 Axes>"
      ]
     },
     "metadata": {
      "needs_background": "light"
     },
     "output_type": "display_data"
    }
   ],
   "source": [
    "for i in range(10):\n",
    "    plt.plot(X[i])"
   ]
  },
  {
   "cell_type": "code",
   "execution_count": 23,
   "metadata": {},
   "outputs": [
    {
     "name": "stdout",
     "output_type": "stream",
     "text": [
      "100%|██████████| 50/50 [01:12<00:00,  1.45s/it, best loss: 0.10503333601959056]\n",
      "-----------------------------------------------------\n",
      "Freq: 1\n",
      "X_freq shape: (1207, 370)\n",
      "Found minimum after 50 trials:\n",
      "{'alpha': 0.10704394865042775, 'max_iter': 4900.0, 'solver': 0}\n",
      "-----------------------------------------------------\n"
     ]
    }
   ],
   "source": [
    "def f(space):\n",
    "    ridge_reg = linear_model.Ridge(solver=space['solver'], max_iter=space['max_iter'], alpha=space['alpha'])\n",
    "    scores = cross_validate(ridge_reg, X_freq, y, scoring='neg_mean_absolute_error', cv=5)\n",
    "    return TIME_SCALE_COEF * -scores['test_score'].mean()\n",
    "    \n",
    "space = {\n",
    "    'solver': hp.choice('solver', ['auto', 'svd', 'cholesky', 'lsqr', 'sparse_cg', 'sag', 'saga']),\n",
    "    'max_iter': ho_scope.int(hp.quniform('max_iter', low=1000, high=5000, q=100)),\n",
    "    'alpha':  hp.loguniform('alpha', low=np.log(0.0001), high=np.log(1)),\n",
    "}\n",
    "\n",
    "global X_freq\n",
    "print_results(iter_num=50)"
   ]
  },
  {
   "cell_type": "markdown",
   "metadata": {},
   "source": [
    "### Lasso regressor"
   ]
  },
  {
   "cell_type": "code",
   "execution_count": 24,
   "metadata": {},
   "outputs": [],
   "source": [
    "import warnings\n",
    "warnings.filterwarnings('ignore')"
   ]
  },
  {
   "cell_type": "code",
   "execution_count": 25,
   "metadata": {
    "scrolled": true
   },
   "outputs": [
    {
     "name": "stdout",
     "output_type": "stream",
     "text": [
      "100%|██████████| 50/50 [01:23<00:00,  1.67s/it, best loss: 0.10569754594495905]\n",
      "-----------------------------------------------------\n",
      "Freq: 1\n",
      "X_freq shape: (1207, 370)\n",
      "Found minimum after 50 trials:\n",
      "{'alpha': 0.0010852243110024613, 'max_iter': 3000.0, 'normalize': 0}\n",
      "-----------------------------------------------------\n"
     ]
    }
   ],
   "source": [
    "def f(space):\n",
    "    lasso_reg = linear_model.Lasso(max_iter=space['max_iter'], alpha=space['alpha'], normalize=space['normalize'])\n",
    "    scores = cross_validate(lasso_reg, X_freq, y, scoring='neg_mean_absolute_error', cv=5)\n",
    "    return TIME_SCALE_COEF * -scores['test_score'].mean()\n",
    "    \n",
    "space = {\n",
    "    'normalize': hp.choice('normalize', [True, False]),\n",
    "    'max_iter': ho_scope.int(hp.quniform('max_iter', low=1000, high=5000, q=100)),\n",
    "    'alpha':  hp.loguniform('alpha', low=np.log(0.0001), high=np.log(1)),\n",
    "}\n",
    "\n",
    "global X_freq\n",
    "print_results(iter_num=50)"
   ]
  },
  {
   "cell_type": "markdown",
   "metadata": {},
   "source": [
    "### Decision tree"
   ]
  },
  {
   "cell_type": "code",
   "execution_count": 27,
   "metadata": {},
   "outputs": [
    {
     "name": "stdout",
     "output_type": "stream",
     "text": [
      "100%|██████████| 100/100 [00:22<00:00,  4.45it/s, best loss: 0.10059889405263314]\n",
      "-----------------------------------------------------\n",
      "Freq: 1\n",
      "X_freq shape: (1207, 370)\n",
      "Found minimum after 100 trials:\n",
      "{'max_features': 0, 'max_iter': 26.0, 'min_samples_leaf': 6.0, 'min_samples_split': 8.0, 'min_weight_fraction_leaf': 0.0102039874421182}\n",
      "-----------------------------------------------------\n"
     ]
    }
   ],
   "source": [
    "def f(space):\n",
    "    dt_reg = tree.DecisionTreeRegressor(max_depth=space['max_depth'], min_samples_split=space['min_samples_split'],\n",
    "                                       min_samples_leaf=space['min_samples_leaf'], min_weight_fraction_leaf=\n",
    "                                        space['min_weight_fraction_leaf'], max_features=space['max_features'])\n",
    "    scores = cross_validate(dt_reg, X_freq, y, scoring='neg_mean_absolute_error', cv=5)\n",
    "    return TIME_SCALE_COEF * -scores['test_score'].mean()\n",
    "    \n",
    "space = {\n",
    "    'max_depth':  ho_scope.int(hp.quniform('max_iter', low=4, high=100, q=2)),\n",
    "    'min_samples_split': ho_scope.int(hp.quniform('min_samples_split', low=2, high=10, q=1)),\n",
    "    'min_samples_leaf':  ho_scope.int(hp.quniform('min_samples_leaf', low=1, high=10, q=1)),\n",
    "    'min_weight_fraction_leaf': hp.uniform('min_weight_fraction_leaf', 0, 0.5),\n",
    "    'max_features': hp.choice('max_features', ['auto', 'sqrt', 'log2'])\n",
    "}\n",
    "\n",
    "global X_freq\n",
    "print_results(iter_num=100)"
   ]
  },
  {
   "cell_type": "markdown",
   "metadata": {},
   "source": [
    "### Passive aggressive"
   ]
  },
  {
   "cell_type": "code",
   "execution_count": 28,
   "metadata": {
    "scrolled": false
   },
   "outputs": [
    {
     "name": "stdout",
     "output_type": "stream",
     "text": [
      "100%|██████████| 50/50 [00:03<00:00, 15.62it/s, best loss: 0.4796799836052835] \n",
      "-----------------------------------------------------\n",
      "Freq: 1\n",
      "X_freq shape: (1207, 370)\n",
      "Found minimum after 50 trials:\n",
      "{'C': 0.23093357092839936, 'max_iter': 4800.0, 'tol': 0.00010713753581551084, 'verbose': 16.0}\n",
      "-----------------------------------------------------\n"
     ]
    }
   ],
   "source": [
    "def f(space):\n",
    "    pa_reg = PassiveAggressiveRegressor(max_iter=space['max_iter'], tol=space['max_iter'], \n",
    "                                       C = space['C'])\n",
    "    scores = cross_validate(pa_reg, X_freq, y, scoring='neg_mean_absolute_error', cv=5)\n",
    "    return TIME_SCALE_COEF * -scores['test_score'].mean()\n",
    "    \n",
    "space = {\n",
    "    'max_iter': ho_scope.int(hp.quniform('max_iter', low=1000, high=5000, q=100)),\n",
    "    'tol': hp.loguniform('tol', low=np.log(0.000001), high=np.log(0.001)),\n",
    "    'verbose': ho_scope.int(hp.quniform('verbose', low=1, high=100, q=2)),\n",
    "    'C':  hp.loguniform('C', low=np.log(0.0001), high=np.log(10)),\n",
    "}\n",
    "\n",
    "global X_freq\n",
    "print_results(iter_num=50)"
   ]
  },
  {
   "cell_type": "markdown",
   "metadata": {},
   "source": [
    "### Xgboost"
   ]
  },
  {
   "cell_type": "code",
   "execution_count": 29,
   "metadata": {},
   "outputs": [
    {
     "name": "stdout",
     "output_type": "stream",
     "text": [
      "100%|██████████| 50/50 [34:58<00:00, 41.96s/it, best loss: 0.07631883886631681]\n",
      "-----------------------------------------------------\n",
      "Freq: 1\n",
      "X_freq shape: (1207, 370)\n",
      "Found minimum after 50 trials:\n",
      "{'alpha': 9.720814421482372, 'booster': 0, 'eta': 0.040967242033212566, 'gamma': 0.11403358374490781, 'lambda': 0.0010412564895330462, 'max_depth': 42.0}\n",
      "-----------------------------------------------------\n"
     ]
    }
   ],
   "source": [
    "def f(space):\n",
    "    xgb_reg = xgb.XGBRegressor(objective=\"reg:linear\", booster=space['booster'], eta=space['eta'], \n",
    "                               gamma=space['gamma'], max_depth=space['max_depth'], reg_lambda=space['lambda'],\n",
    "                               alpha=space['alpha'], verbosity=0)\n",
    "    scores = cross_validate(xgb_reg, X_freq, y, scoring='neg_mean_absolute_error', cv=5)\n",
    "    return TIME_SCALE_COEF * -scores['test_score'].mean()\n",
    "    \n",
    "space = {\n",
    "    'booster': hp.choice('booster', ['gbtree', 'gblinear', 'dart']),\n",
    "    'eta': hp.loguniform('eta', low=np.log(0.001), high=np.log(1)),\n",
    "    'gamma': hp.loguniform('gamma', low=np.log(0.001), high=np.log(100)),\n",
    "    'max_depth': ho_scope.int(hp.quniform('max_depth', low=5, high=50, q=2)),\n",
    "    'lambda': hp.loguniform('lambda', low=np.log(0.001), high=np.log(10)),\n",
    "    'alpha':  hp.loguniform('alpha', low=np.log(0.001), high=np.log(10)),\n",
    "}\n",
    "\n",
    "global X_freq\n",
    "print_results(iter_num=50)"
   ]
  },
  {
   "cell_type": "code",
   "execution_count": 30,
   "metadata": {},
   "outputs": [],
   "source": [
    "xgb_reg = xgb.XGBRegressor(objective=\"reg:linear\", booster='gbtree', eta=0.040967242033212566, \n",
    "                               gamma=0.11403358374490781, max_depth=42, reg_lambda=0.0010412564895330462,\n",
    "                               alpha=9.720814421482372, verbosity=0)"
   ]
  },
  {
   "cell_type": "code",
   "execution_count": 31,
   "metadata": {},
   "outputs": [
    {
     "name": "stdout",
     "output_type": "stream",
     "text": [
      "95% confidence interval:\n",
      "r2_score: 0.99823 (+/- 0.00129)\n",
      "MSE[ns^2]: 0.01211 (+/- 0.04539)\n",
      "RMSE[ns]: 0.10846 (+/- 0.03727)\n",
      "MAE[ns]: 0.07632 (+/- 0.00756)\n"
     ]
    }
   ],
   "source": [
    "scoring = ['r2', 'neg_mean_squared_error', 'neg_mean_absolute_error']\n",
    "scores = cross_validate(xgb_reg, X, y, scoring=scoring, cv=5)\n",
    "\n",
    "print(\"95% confidence interval:\")\n",
    "print(\"r2_score: %0.5f (+/- %0.5f)\" % (scores['test_r2'].mean(), scores['test_r2'].std() * 2))\n",
    "print(\"MSE[ns^2]: %0.5f (+/- %0.5f)\" % (TIME_SCALE_COEF**2 * -scores['test_neg_mean_squared_error'].mean(), TIME_SCALE_COEF*scores['test_neg_mean_squared_error'].std() * 2))\n",
    "print(\"RMSE[ns]: %0.5f (+/- %0.5f)\" % (TIME_SCALE_COEF * np.sqrt(-scores['test_neg_mean_squared_error']).mean(), np.sqrt(TIME_SCALE_COEF**2 * -scores['test_neg_mean_squared_error']).std() * 2))\n",
    "print(\"MAE[ns]: %0.5f (+/- %0.5f)\" % (TIME_SCALE_COEF * -scores['test_neg_mean_absolute_error'].mean(), TIME_SCALE_COEF*scores['test_neg_mean_absolute_error'].std() * 2))"
   ]
  }
 ],
 "metadata": {
  "kernelspec": {
   "display_name": "Python 3",
   "language": "python",
   "name": "python3"
  },
  "language_info": {
   "codemirror_mode": {
    "name": "ipython",
    "version": 3
   },
   "file_extension": ".py",
   "mimetype": "text/x-python",
   "name": "python",
   "nbconvert_exporter": "python",
   "pygments_lexer": "ipython3",
   "version": "3.6.9"
  }
 },
 "nbformat": 4,
 "nbformat_minor": 2
}
