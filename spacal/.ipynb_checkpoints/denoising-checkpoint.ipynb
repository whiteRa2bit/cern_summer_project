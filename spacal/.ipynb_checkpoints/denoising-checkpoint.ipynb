{
 "cells": [
  {
   "cell_type": "code",
   "execution_count": 1,
   "metadata": {},
   "outputs": [],
   "source": [
    "import matplotlib.pyplot as plt\n",
    "import numpy as np\n",
    "from sklearn.model_selection import train_test_split\n",
    "from sklearn.linear_model import LinearRegression\n",
    "import tqdm\n",
    "from math import sqrt\n",
    "import random\n",
    "from common import get_data, get_freq_data\n",
    "# import seaborn as sns; \n",
    "# sns.set()"
   ]
  },
  {
   "cell_type": "code",
   "execution_count": 2,
   "metadata": {},
   "outputs": [],
   "source": [
    "X, y = get_data('./data/na62_11_pulses.txt')"
   ]
  },
  {
   "cell_type": "code",
   "execution_count": 3,
   "metadata": {},
   "outputs": [],
   "source": [
    "from sklearn.metrics import r2_score, mean_absolute_error, mean_squared_error\n",
    "from sklearn.model_selection import cross_validate\n",
    "from sklearn.metrics import recall_score\n",
    "from sklearn.preprocessing import PolynomialFeatures\n",
    "\n",
    "TIME_SCALE_COEF = 0.2\n",
    "\n",
    "def get_model_scores(X, y, model=LinearRegression()):\n",
    "    scoring = ['r2', 'neg_mean_squared_error', 'neg_mean_absolute_error']\n",
    "    scores = cross_validate(model, X, y, scoring=scoring, cv=5)\n",
    "    r2_score = scores['test_r2'].mean()\n",
    "    mse =  TIME_SCALE_COEF**2 * -scores['test_neg_mean_squared_error'].mean()\n",
    "    rmse = TIME_SCALE_COEF * np.sqrt(-scores['test_neg_mean_squared_error']).mean()\n",
    "    mae = TIME_SCALE_COEF * -scores['test_neg_mean_absolute_error'].mean()\n",
    "    \n",
    "    return {'r2': r2_score, 'mse': mse, 'rmse': rmse, 'mae': mae}\n",
    "\n",
    "def print_model_scores(X, y, model=LinearRegression()):\n",
    "    scoring = ['r2', 'neg_mean_squared_error', 'neg_mean_absolute_error']\n",
    "    scores = cross_validate(model, X, y, scoring=scoring, cv=5)\n",
    "    \n",
    "    print(\"95% confidence interval:\")\n",
    "    print(\"r2_score: %0.5f (+/- %0.5f)\" % (scores['test_r2'].mean(), scores['test_r2'].std() * 2))\n",
    "    print(\"MSE[ns^2]: %0.5f (+/- %0.5f)\" % (TIME_SCALE_COEF**2 * -scores['test_neg_mean_squared_error'].mean(), TIME_SCALE_COEF*scores['test_neg_mean_squared_error'].std() * 2))\n",
    "    print(\"RMSE[ns]: %0.5f (+/- %0.5f)\" % (TIME_SCALE_COEF * np.sqrt(-scores['test_neg_mean_squared_error']).mean(), np.sqrt(TIME_SCALE_COEF**2 * -scores['test_neg_mean_squared_error']).std() * 2))\n",
    "    print(\"MAE[ns]: %0.5f (+/- %0.5f)\" % (TIME_SCALE_COEF * -scores['test_neg_mean_absolute_error'].mean(), TIME_SCALE_COEF*scores['test_neg_mean_absolute_error'].std() * 2))"
   ]
  },
  {
   "cell_type": "code",
   "execution_count": 4,
   "metadata": {},
   "outputs": [
    {
     "name": "stdout",
     "output_type": "stream",
     "text": [
      "95% confidence interval:\n",
      "r2_score: 0.99547 (+/- 0.00164)\n",
      "MSE[ns^2]: 0.03088 (+/- 0.05936)\n",
      "RMSE[ns]: 0.17499 (+/- 0.03208)\n",
      "MAE[ns]: 0.13427 (+/- 0.01180)\n"
     ]
    }
   ],
   "source": [
    "print_model_scores(X[:, :360], y)"
   ]
  },
  {
   "cell_type": "code",
   "execution_count": 5,
   "metadata": {},
   "outputs": [],
   "source": [
    "import xgboost as xgb\n",
    "\n",
    "xgb_reg = xgb.XGBRegressor(objective=\"reg:linear\", booster='gbtree', eta=0.040967242033212566, \n",
    "                               gamma=0.11403358374490781, max_depth=42, reg_lambda=0.0010412564895330462,\n",
    "                               alpha=9.720814421482372, verbosity=0)"
   ]
  },
  {
   "cell_type": "code",
   "execution_count": 6,
   "metadata": {
    "scrolled": true
   },
   "outputs": [
    {
     "name": "stdout",
     "output_type": "stream",
     "text": [
      "95% confidence interval:\n",
      "r2_score: 0.99822 (+/- 0.00129)\n",
      "MSE[ns^2]: 0.01216 (+/- 0.04550)\n",
      "RMSE[ns]: 0.10866 (+/- 0.03731)\n",
      "MAE[ns]: 0.07641 (+/- 0.00870)\n"
     ]
    }
   ],
   "source": [
    "print_model_scores(X[:, :360], y, model=xgb_reg)"
   ]
  },
  {
   "cell_type": "code",
   "execution_count": 7,
   "metadata": {
    "scrolled": false
   },
   "outputs": [
    {
     "name": "stdout",
     "output_type": "stream",
     "text": [
      "95% confidence interval:\n",
      "r2_score: 0.99818 (+/- 0.00128)\n",
      "MSE[ns^2]: 0.01240 (+/- 0.04509)\n",
      "RMSE[ns]: 0.10984 (+/- 0.03682)\n",
      "MAE[ns]: 0.07807 (+/- 0.00887)\n"
     ]
    }
   ],
   "source": [
    "print_model_scores(X, y, model=xgb_reg)"
   ]
  },
  {
   "cell_type": "code",
   "execution_count": 8,
   "metadata": {},
   "outputs": [],
   "source": [
    "import numpy\n",
    "\n",
    "def smooth(x,window_len=11,window='hanning'):\n",
    "    \"\"\"smooth the data using a window with requested size.\n",
    "    \n",
    "    This method is based on the convolution of a scaled window with the signal.\n",
    "    The signal is prepared by introducing reflected copies of the signal \n",
    "    (with the window size) in both ends so that transient parts are minimized\n",
    "    in the begining and end part of the output signal.\n",
    "    \n",
    "    input:\n",
    "        x: the input signal \n",
    "        window_len: the dimension of the smoothing window; should be an odd integer\n",
    "        window: the type of window from 'flat', 'hanning', 'hamming', 'bartlett', 'blackman'\n",
    "            flat window will produce a moving average smoothing.\n",
    "\n",
    "    output:\n",
    "        the smoothed signal\n",
    "        \n",
    "    example:\n",
    "\n",
    "    t=linspace(-2,2,0.1)\n",
    "    x=sin(t)+randn(len(t))*0.1\n",
    "    y=smooth(x)\n",
    "    \n",
    "    see also: \n",
    "    \n",
    "    numpy.hanning, numpy.hamming, numpy.bartlett, numpy.blackman, numpy.convolve\n",
    "    scipy.signal.lfilter\n",
    " \n",
    "    TODO: the window parameter could be the window itself if an array instead of a string\n",
    "    NOTE: length(output) != length(input), to correct this: return y[(window_len/2-1):-(window_len/2)] instead of just y.\n",
    "    \"\"\"\n",
    "\n",
    "    if x.ndim != 1:\n",
    "        return -1\n",
    "#         raise ValueError, \"smooth only accepts 1 dimension arrays.\"\n",
    "\n",
    "    if x.size < window_len:\n",
    "        return -1\n",
    "#         raise ValueError, \"Input vector needs to be bigger than window size.\"\n",
    "\n",
    "\n",
    "    if window_len<3:\n",
    "        return x\n",
    "\n",
    "\n",
    "    if not window in ['flat', 'hanning', 'hamming', 'bartlett', 'blackman']:\n",
    "        pass\n",
    "#         raise ValueError, \"Window is on of 'flat', 'hanning', 'hamming', 'bartlett', 'blackman'\"\n",
    "\n",
    "\n",
    "    s=numpy.r_[x[window_len-1:0:-1],x,x[-2:-window_len-1:-1]]\n",
    "    #print(len(s))\n",
    "    if window == 'flat': #moving average\n",
    "        w=numpy.ones(window_len,'d')\n",
    "    else:\n",
    "        w=eval('numpy.'+window+'(window_len)')\n",
    "\n",
    "    y=numpy.convolve(w/w.sum(),s,mode='valid')\n",
    "    return y\n"
   ]
  },
  {
   "cell_type": "code",
   "execution_count": 9,
   "metadata": {},
   "outputs": [
    {
     "data": {
      "image/png": "[encoded data removed]",
      "text/plain": [
       "<Figure size 1080x360 with 2 Axes>"
      ]
     },
     "metadata": {
      "needs_background": "light"
     },
     "output_type": "display_data"
    }
   ],
   "source": [
    "idx = np.random.choice(range(len(X)))\n",
    "\n",
    "f, ax = plt.subplots(1, 2, figsize=(15,5))\n",
    "ax[0].set_title(\"Before denoising\")\n",
    "ax[0].plot(X[idx])\n",
    "ax[1].set_title(\"After denoising\")\n",
    "ax[1].plot(smooth(X[idx], window_len=50))\n",
    "plt.show()"
   ]
  },
  {
   "cell_type": "markdown",
   "metadata": {},
   "source": [
    "### Model scores after denoising"
   ]
  },
  {
   "cell_type": "code",
   "execution_count": 13,
   "metadata": {},
   "outputs": [],
   "source": [
    "window_types = ['flat', 'hanning', 'hamming', 'bartlett', 'blackman']\n",
    "window_lens = range(10, 60, 10)\n",
    "N = 200\n",
    "scores = {window: {window_len: {'full': None, 'front': None} for window_len in window_lens} for window in window_types}"
   ]
  },
  {
   "cell_type": "code",
   "execution_count": 14,
   "metadata": {},
   "outputs": [
    {
     "name": "stderr",
     "output_type": "stream",
     "text": [
      "\n",
      "  0%|          | 0/5 [00:00<?, ?it/s]\u001b[A\n",
      " 20%|██        | 1/5 [00:19<01:18, 19.58s/it]\u001b[A\n",
      " 40%|████      | 2/5 [00:39<00:59, 19.68s/it]\u001b[A\n",
      " 60%|██████    | 3/5 [00:59<00:39, 19.89s/it]\u001b[A\n",
      " 80%|████████  | 4/5 [01:19<00:19, 19.92s/it]\u001b[A\n",
      "100%|██████████| 5/5 [01:39<00:00, 19.92s/it]\u001b[A\n",
      "\n",
      "  0%|          | 0/5 [00:00<?, ?it/s]\u001b[A\n",
      " 20%|██        | 1/5 [00:20<01:20, 20.14s/it]\u001b[A\n",
      " 40%|████      | 2/5 [00:40<01:00, 20.10s/it]\u001b[A\n",
      " 60%|██████    | 3/5 [01:00<00:40, 20.08s/it]\u001b[A\n",
      " 80%|████████  | 4/5 [01:19<00:19, 19.95s/it]\u001b[A\n",
      "100%|██████████| 5/5 [01:39<00:00, 19.90s/it]\u001b[A\n",
      "\n",
      "  0%|          | 0/5 [00:00<?, ?it/s]\u001b[A\n",
      " 20%|██        | 1/5 [00:19<01:19, 19.90s/it]\u001b[A\n",
      " 40%|████      | 2/5 [00:39<00:59, 19.94s/it]\u001b[A\n",
      " 60%|██████    | 3/5 [00:59<00:39, 19.90s/it]\u001b[A\n",
      " 80%|████████  | 4/5 [01:19<00:19, 19.88s/it]\u001b[A\n",
      "100%|██████████| 5/5 [01:39<00:00, 19.91s/it]\u001b[A\n",
      "\n",
      "  0%|          | 0/5 [00:00<?, ?it/s]\u001b[A\n",
      " 20%|██        | 1/5 [00:19<01:19, 19.80s/it]\u001b[A\n",
      " 40%|████      | 2/5 [00:39<00:59, 19.88s/it]\u001b[A\n",
      " 60%|██████    | 3/5 [00:59<00:39, 19.91s/it]\u001b[A\n",
      " 80%|████████  | 4/5 [01:19<00:19, 19.96s/it]\u001b[A\n",
      "100%|██████████| 5/5 [01:39<00:00, 19.98s/it]\u001b[A\n",
      "\n",
      "  0%|          | 0/5 [00:00<?, ?it/s]\u001b[A\n",
      " 20%|██        | 1/5 [00:20<01:20, 20.13s/it]\u001b[A\n",
      " 40%|████      | 2/5 [00:40<01:00, 20.08s/it]\u001b[A\n",
      " 60%|██████    | 3/5 [01:00<00:40, 20.08s/it]\u001b[A\n",
      " 80%|████████  | 4/5 [01:20<00:20, 20.23s/it]\u001b[A\n",
      "100%|██████████| 5/5 [01:40<00:00, 20.12s/it]\u001b[A\n"
     ]
    }
   ],
   "source": [
    "for window in window_types:\n",
    "    for window_len in tqdm.tqdm(window_lens):\n",
    "        X_filtered = [smooth(signal, window_len=window_len, window=window) for signal in X]\n",
    "        front_rmse = get_model_scores(X[:N, :360], y[:N], model=xgb_reg)['rmse']\n",
    "        scores[window][window_len]['front'] = front_rmse\n",
    "        full_rmse = get_model_scores(X[:N, :], y[:N], model=xgb_reg)['rmse']\n",
    "        scores[window][window_len]['full'] = full_rmse"
   ]
  },
  {
   "cell_type": "code",
   "execution_count": null,
   "metadata": {},
   "outputs": [],
   "source": []
  }
 ],
 "metadata": {
  "kernelspec": {
   "display_name": "Python 3",
   "language": "python",
   "name": "python3"
  },
  "language_info": {
   "codemirror_mode": {
    "name": "ipython",
    "version": 3
   },
   "file_extension": ".py",
   "mimetype": "text/x-python",
   "name": "python",
   "nbconvert_exporter": "python",
   "pygments_lexer": "ipython3",
   "version": "3.7.4"
  }
 },
 "nbformat": 4,
 "nbformat_minor": 2
}
