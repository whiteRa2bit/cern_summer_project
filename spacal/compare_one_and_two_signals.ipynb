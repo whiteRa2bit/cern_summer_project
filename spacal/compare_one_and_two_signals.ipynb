{
 "cells": [
  {
   "cell_type": "code",
   "execution_count": 47,
   "metadata": {},
   "outputs": [],
   "source": [
    "import matplotlib.pyplot as plt\n",
    "import numpy as np\n",
    "from sklearn.model_selection import train_test_split\n",
    "from sklearn.linear_model import LinearRegression\n",
    "from sklearn.metrics import r2_score, mean_absolute_error, mean_squared_error\n",
    "from sklearn.model_selection import cross_validate\n",
    "import tqdm\n",
    "import random\n",
    "import seaborn as sns\n",
    "# sns.set()"
   ]
  },
  {
   "cell_type": "code",
   "execution_count": 48,
   "metadata": {},
   "outputs": [],
   "source": [
    "from common import get_freq_data, signal_cyclic_shift, get_ref_time, generate_multi_signal"
   ]
  },
  {
   "cell_type": "code",
   "execution_count": 49,
   "metadata": {},
   "outputs": [],
   "source": [
    "def get_data(is_one_signal=False):\n",
    "    file = open('./data/na62_11_pulses.txt', 'r')\n",
    "    data = file.readlines()\n",
    "    data = np.array([list(map(float, experiment.split())) for experiment in data])\n",
    "   \n",
    "    X = data[:, 2:]\n",
    "    y_baseline = data[:, 1]\n",
    "    y = data[:, 0]\n",
    "    \n",
    "    \n",
    "    X = np.array([experiment - np.max(experiment) for experiment in X])\n",
    "    X = np.array([experiment/-np.min(experiment) for experiment in X])\n",
    "    \n",
    "    ## Let's shift each signal so that reference time matches for each signal\n",
    "    if not is_one_signal:\n",
    "        y = y.astype(int)\n",
    "        mean_ref_time = int(y.mean())\n",
    "        X = np.array([signal_cyclic_shift(signal, mean_ref_time - y[i]) for i, signal in enumerate(X, 0)])\n",
    "        y = np.array([mean_ref_time]*len(X))\n",
    "    return X, y"
   ]
  },
  {
   "cell_type": "code",
   "execution_count": 50,
   "metadata": {},
   "outputs": [],
   "source": [
    "X_two_signals, y_two_signals = get_data(is_one_signal=False)\n",
    "\n",
    "X_two_signals_train, X_two_signals_test, y_two_signals_train, y_two_signals_test = train_test_split(X_two_signals,\\\n",
    "                                                                                    y_two_signals, test_size=0.2, shuffle=False)"
   ]
  },
  {
   "cell_type": "code",
   "execution_count": 51,
   "metadata": {},
   "outputs": [],
   "source": [
    "START_POINT = 100\n",
    "END_POINT = 900"
   ]
  },
  {
   "cell_type": "code",
   "execution_count": 52,
   "metadata": {},
   "outputs": [],
   "source": [
    "X_one_signal, y_one_signal = get_data(is_one_signal=True)\n",
    "X_one_signal = X_one_signal[:, START_POINT:END_POINT]\n",
    "\n",
    "X_one_signal_train, X_one_signal_test, y_one_signal_train, y_one_signal_test = train_test_split(X_one_signal,\\\n",
    "                                                                                    y_one_signal, test_size=0.2, shuffle=False)"
   ]
  },
  {
   "cell_type": "code",
   "execution_count": 53,
   "metadata": {},
   "outputs": [
    {
     "data": {
      "text/plain": [
       "(array([ 16.,  79., 173., 218., 212., 207., 187.,  97.,  15.,   3.]),\n",
       " array([193. , 201.1, 209.2, 217.3, 225.4, 233.5, 241.6, 249.7, 257.8,\n",
       "        265.9, 274. ]),\n",
       " <a list of 10 Patch objects>)"
      ]
     },
     "execution_count": 53,
     "metadata": {},
     "output_type": "execute_result"
    },
    {
     "data": {
      "image/png": "[encoded data removed]",
      "text/plain": [
       "<Figure size 432x288 with 1 Axes>"
      ]
     },
     "metadata": {
      "needs_background": "light"
     },
     "output_type": "display_data"
    }
   ],
   "source": [
    "ARGMIN_DISTR = np.argmin(X_one_signal, axis=1)\n",
    "plt.hist(ARGMIN_DISTR)"
   ]
  },
  {
   "cell_type": "code",
   "execution_count": 54,
   "metadata": {},
   "outputs": [],
   "source": [
    "from sklearn.utils import shuffle\n",
    "\n",
    "def prepare_data(X_origin, y_origin, tau_range, alpha_range, data_size=1000, to_print=False, \n",
    "                                                            start_point=START_POINT, end_point=END_POINT):    \n",
    "    X = []\n",
    "    y = []\n",
    "    alpha_values = []\n",
    "    tau_values = []\n",
    "    for i in range(data_size):\n",
    "        alpha = random.choice(alpha_range)\n",
    "        tau = random.choice(tau_range)\n",
    "        signal = generate_multi_signal(X_origin, y_origin, tau, alpha, argmin_distr=ARGMIN_DISTR)\n",
    "        \n",
    "        \n",
    "        X.append(signal['multi_impulse'][start_point:end_point])\n",
    "        y.append(signal['multi_ref_time']) \n",
    "        \n",
    "        alpha_values.append(alpha)\n",
    "        tau_values.append(tau)\n",
    "   \n",
    "    X = np.array(X)\n",
    "    y = np.array(y)\n",
    "    \n",
    "    if to_print:\n",
    "        print(\"X shape:\", X.shape)\n",
    "        print(\"y shape:\", y.shape)\n",
    "    \n",
    "    X, y = shuffle(X, y)\n",
    "\n",
    "#     plt.scatter(alpha_values, tau_values)\n",
    "#     plt.show()\n",
    "    \n",
    "    return X, y"
   ]
  },
  {
   "cell_type": "code",
   "execution_count": 55,
   "metadata": {},
   "outputs": [],
   "source": [
    "from scipy.stats import truncnorm\n",
    "\n",
    "def get_truncated_normal(mean=0, sd=1, low=0, upp=10):\n",
    "    return truncnorm(\n",
    "        (low - mean) / sd, (upp - mean) / sd, loc=mean, scale=sd)\n",
    "\n",
    "\n",
    "tau_train_range = list(map(int, get_truncated_normal(mean=0, sd=5, low=-20, upp=20).rvs(1000)))\n",
    "tau_test_range = list(map(int, get_truncated_normal(mean=0, sd=5, low=-20, upp=20).rvs(1000)))\n",
    "alpha_train_range = np.array([np.around(10**i, decimals=4) for i in np.arange(-3, 0.05, 0.05)])\n",
    "alpha_test_range = np.array([0, 0.01, 0.05, 0.1, 0.5])\n",
    "freq_values = [1, 5, 10, 25, 50, 100]"
   ]
  },
  {
   "cell_type": "code",
   "execution_count": 56,
   "metadata": {},
   "outputs": [],
   "source": [
    "import xgboost as xgb\n",
    "from sklearn.model_selection import cross_validate\n",
    "from math import sqrt"
   ]
  },
  {
   "cell_type": "code",
   "execution_count": 57,
   "metadata": {
    "scrolled": true
   },
   "outputs": [
    {
     "data": {
      "text/plain": [
       "[0.001, 0.003, 0.01, 0.032, 0.1, 0.316, 1.0]"
      ]
     },
     "execution_count": 57,
     "metadata": {},
     "output_type": "execute_result"
    }
   ],
   "source": [
    "[np.round(alpha, decimals=3) for alpha in alpha_train_range[::10]]"
   ]
  },
  {
   "cell_type": "code",
   "execution_count": 58,
   "metadata": {},
   "outputs": [],
   "source": [
    "LABEL_FONTSIZE=14"
   ]
  },
  {
   "cell_type": "code",
   "execution_count": 59,
   "metadata": {},
   "outputs": [],
   "source": [
    "plt.rcParams.update(\n",
    "    {\n",
    "        'text.usetex': False,\n",
    "        'font.family': 'stixgeneral',\n",
    "        'mathtext.fontset': 'stix',\n",
    "    }\n",
    ")"
   ]
  },
  {
   "cell_type": "code",
   "execution_count": 60,
   "metadata": {
    "scrolled": true
   },
   "outputs": [
    {
     "data": {
      "image/png": "[encoded data removed]",
      "text/plain": [
       "<Figure size 432x288 with 1 Axes>"
      ]
     },
     "metadata": {
      "needs_background": "light"
     },
     "output_type": "display_data"
    }
   ],
   "source": [
    "plt.title(\"Alpha train distribution\",  weight='bold', fontsize=15)\n",
    "plt.hist(alpha_train_range)\n",
    "plt.xlabel(\"Alpha\", fontsize=LABEL_FONTSIZE)\n",
    "plt.ylabel(\"Count\", fontsize=LABEL_FONTSIZE)\n",
    "plt.show()"
   ]
  },
  {
   "cell_type": "code",
   "execution_count": 61,
   "metadata": {
    "scrolled": true
   },
   "outputs": [
    {
     "data": {
      "text/plain": [
       "Text(0, 0.5, 'Count')"
      ]
     },
     "execution_count": 61,
     "metadata": {},
     "output_type": "execute_result"
    },
    {
     "data": {
      "image/png": "[encoded data removed]",
      "text/plain": [
       "<Figure size 432x288 with 1 Axes>"
      ]
     },
     "metadata": {
      "needs_background": "light"
     },
     "output_type": "display_data"
    }
   ],
   "source": [
    "TIME_SCALE_COEF = 0.2\n",
    "plt.title(\"Tau train distribution\", weight='bold', fontsize=15)\n",
    "plt.hist(np.array(tau_train_range)*TIME_SCALE_COEF)\n",
    "plt.xlabel(\"Tau [ns]\", fontsize=LABEL_FONTSIZE)\n",
    "plt.ylabel(\"Count\", fontsize=LABEL_FONTSIZE)"
   ]
  },
  {
   "cell_type": "code",
   "execution_count": 62,
   "metadata": {},
   "outputs": [],
   "source": [
    "from sklearn.metrics import mean_squared_error"
   ]
  },
  {
   "cell_type": "code",
   "execution_count": 63,
   "metadata": {},
   "outputs": [],
   "source": [
    "from shuffle_voter import ShuffleVoter"
   ]
  },
  {
   "cell_type": "code",
   "execution_count": 64,
   "metadata": {},
   "outputs": [],
   "source": [
    "import pickle\n",
    "\n",
    "MODEL_LOAD_PATH = './models/classifier/'\n",
    "\n",
    "def load_model(path):\n",
    "    with open(path, 'rb') as fid:\n",
    "        model = pickle.load(fid)\n",
    "        return model"
   ]
  },
  {
   "cell_type": "code",
   "execution_count": 65,
   "metadata": {},
   "outputs": [],
   "source": [
    "reg_multiple = xgb.XGBRegressor(objective=\"reg:linear\", alpha= 0.01, booster='gbtree', eta= 0.323, gamma=0.189, \n",
    "                               reg_lambda=0.48, max_depth=6, verbosity=0)\n",
    "\n",
    "reg_single = xgb.XGBRegressor(objective=\"reg:linear\", alpha= 0.00244, booster='dart', eta= 0.017326, gamma=0.19504, \n",
    "                           reg_lambda=0.22451, max_depth=8, verbosity=0)"
   ]
  },
  {
   "cell_type": "code",
   "execution_count": 66,
   "metadata": {},
   "outputs": [],
   "source": [
    "# clf_model = load_model(MODEL_LOAD_PATH + 'ensemble_freq_' + str(1) + '.pkl')"
   ]
  },
  {
   "cell_type": "code",
   "execution_count": 67,
   "metadata": {},
   "outputs": [],
   "source": [
    "# X_train, y_train = prepare_data(X_two_signals_train, y_two_signals_train, tau_train_range, alpha_train_range, data_size=2000)\n",
    "# y_pred = clf_model.predict(X_train)"
   ]
  },
  {
   "cell_type": "code",
   "execution_count": 68,
   "metadata": {
    "scrolled": false
   },
   "outputs": [],
   "source": [
    "# plt.hist(y_pred)\n",
    "# plt.xlabel(\"Confidence\")\n",
    "# plt.ylabel(\"Number of samples\")\n",
    "# plt.title(\"Probabilities distribution\")\n",
    "# plt.show()"
   ]
  },
  {
   "cell_type": "code",
   "execution_count": 69,
   "metadata": {
    "scrolled": true
   },
   "outputs": [
    {
     "name": "stderr",
     "output_type": "stream",
     "text": [
      "100%|██████████| 5/5 [00:00<00:00,  9.20it/s]\n",
      "100%|██████████| 5/5 [00:00<00:00,  9.16it/s]\n",
      "100%|██████████| 5/5 [00:00<00:00,  9.30it/s]\n",
      "100%|██████████| 5/5 [00:00<00:00,  9.37it/s]\n",
      "100%|██████████| 5/5 [00:00<00:00,  9.26it/s]\n",
      "100%|██████████| 5/5 [00:00<00:00,  9.00it/s]\n"
     ]
    }
   ],
   "source": [
    "two_signals_scores = {alpha:[] for alpha in alpha_test_range}\n",
    "\n",
    "TEST_SIZE = len(X_two_signals_test)\n",
    "TIME_SCALE_COEF = 0.2\n",
    "X_train, y_train = prepare_data(X_two_signals_train, y_two_signals_train, tau_train_range, alpha_train_range, data_size=len(X_two_signals))\n",
    "\n",
    "\n",
    "for freq in freq_values:\n",
    "    X_train_freq = get_freq_data(X_train, freq=freq)\n",
    "    reg_multiple.fit(X_train_freq, y_train)\n",
    "    \n",
    "    for alpha in tqdm.tqdm(alpha_test_range):\n",
    "        X_test_cur, y_test_cur = prepare_data(X_two_signals_test, y_two_signals_test, tau_test_range, [alpha], data_size=TEST_SIZE)\n",
    "        X_test_freq = get_freq_data(X_test_cur, freq=freq)\n",
    "        y_pred = reg_multiple.predict(X_test_freq)\n",
    "        two_signals_scores[alpha].append(sqrt(mean_squared_error(y_pred, y_test_cur)) * TIME_SCALE_COEF)"
   ]
  },
  {
   "cell_type": "code",
   "execution_count": 70,
   "metadata": {},
   "outputs": [],
   "source": [
    "# cascade_scores = {alpha:[] for alpha in alpha_test_range}\n",
    "\n",
    "\n",
    "# TEST_SIZE = len(X_two_signals_test)\n",
    "# TIME_SCALE_COEF = 0.2\n",
    "# CLF_THRESHOLD = 0.3\n",
    "\n",
    "# X_train, y_train = prepare_data(X_two_signals_train, y_two_signals_train, tau_train_range, alpha_train_range, data_size=len(X_two_signals))\n",
    "\n",
    "# for freq in freq_values:\n",
    "#     clf_model = load_model(MODEL_LOAD_PATH + 'ensemble_freq_' + str(freq) + '.pkl')\n",
    "#     X_train_freq = get_freq_data(X_train, freq=freq)\n",
    "#     reg_multiple.fit(X_train_freq, y_train)\n",
    "    \n",
    "#     X_train_freq = get_freq_data(X_one_signal_train, freq=freq)\n",
    "#     reg_single.fit(X_train_freq, y_one_signal_train)\n",
    "        \n",
    "#     for alpha in tqdm.tqdm(alpha_test_range):\n",
    "#         X_test_cur, y_test_cur = prepare_data(X_two_signals_test, y_two_signals_test, tau_test_range, [alpha], data_size=TEST_SIZE)\n",
    "#         X_test_freq = get_freq_data(X_test_cur, freq=freq)\n",
    "        \n",
    "#         is_single_pred = np.round(clf_model.predict(X_test_freq) - CLF_THRESHOLD + 0.5).astype(bool)\n",
    "#         is_multiple_pred = np.logical_not(is_single_pred)\n",
    "\n",
    "#         X_test_cur_single = X_test_freq[is_single_pred]\n",
    "#         y_test_cur_single = y_test_cur[is_single_pred]\n",
    "#         X_test_cur_multiple = X_test_freq[is_multiple_pred]\n",
    "#         y_test_cur_multiple = y_test_cur[is_multiple_pred]\n",
    "        \n",
    "#         y_pred_single = reg_single.predict(X_test_cur_single)\n",
    "#         y_pred_multiple = reg_multiple.predict(X_test_cur_multiple)\n",
    "#         y_pred = np.concatenate([y_pred_single, y_pred_multiple])\n",
    "#         y_test_cur = np.concatenate([y_test_cur_single, y_test_cur_multiple])\n",
    "       \n",
    "#         cascade_scores[alpha].append(sqrt(mean_squared_error(y_pred, y_test_cur)) * TIME_SCALE_COEF)"
   ]
  },
  {
   "cell_type": "code",
   "execution_count": 71,
   "metadata": {},
   "outputs": [],
   "source": [
    "# import pickle\n",
    "\n",
    "# def save_obj(obj, name ):\n",
    "#     with open('./data/'+ name + '.pkl', 'wb') as f:\n",
    "#         pickle.dump(obj, f, pickle.HIGHEST_PROTOCOL)\n",
    "\n",
    "# def load_obj(name ):\n",
    "#     with open('./data/' + name + '.pkl', 'rb') as f:\n",
    "#         return pickle.load(f)\n",
    "    \n",
    "# save_obj(threshold_scores, 'threshold_scores_models_comparison')"
   ]
  },
  {
   "cell_type": "code",
   "execution_count": 72,
   "metadata": {},
   "outputs": [],
   "source": [
    "# colors = ['b', 'g', 'r', 'c', 'y', 'k']\n",
    "\n",
    "# ORIGIN_FREQ = 5000\n",
    "\n",
    "# f, ax = plt.subplots(2, 2, figsize=(15, 12))\n",
    "\n",
    "# for num, alpha in enumerate(alpha_test_range[1:5], 0):\n",
    "#     idx1, idx2 = num//2, num%2\n",
    "    \n",
    "#     for i, t in enumerate(thresholds, 0):\n",
    "#         ax[idx1][idx2].plot(threshold_scores[t][alpha], marker='o', linestyle='--', color=colors[i])\n",
    "\n",
    "#     ax[idx1][idx2].set_title(\"Multiple signal, alpha=\" + str(alpha), weight='bold', fontsize=15)\n",
    "#     ax[idx1][idx2].set_ylabel(\"RMSE [ns]\", fontsize=LABEL_FONTSIZE)\n",
    "#     ax[idx1][idx2].set_xlabel(\"Sampling frequency [MHz]\", fontsize=LABEL_FONTSIZE)\n",
    "#     ax[idx1][idx2].set_xticks(range(len(freq_values)), [int(ORIGIN_FREQ/freq) for freq in freq_values])\n",
    "#     ax[idx1][idx2].legend([\"Cascade model, threshold=\" + str(t) for t in thresholds])\n",
    "# plt.show()"
   ]
  },
  {
   "cell_type": "code",
   "execution_count": 73,
   "metadata": {},
   "outputs": [],
   "source": [
    "alpha_one_signal_test = [0, 0.01, 0.05, 0.1, 0.5] \n",
    "one_signal_scores = {alpha: [] for alpha in alpha_one_signal_test} \n",
    "one_signal_scores[-1] = [] ### -1 - predict for one signal data"
   ]
  },
  {
   "cell_type": "code",
   "execution_count": 74,
   "metadata": {},
   "outputs": [
    {
     "name": "stderr",
     "output_type": "stream",
     "text": [
      "100%|██████████| 6/6 [00:14<00:00,  2.35s/it]\n"
     ]
    }
   ],
   "source": [
    "for freq in tqdm.tqdm(freq_values):\n",
    "    X_train_freq = get_freq_data(X_one_signal_train, freq=freq)\n",
    "    reg_single.fit(X_train_freq, y_one_signal_train)\n",
    "    X_test_freq = get_freq_data(X_one_signal_test, freq=freq)\n",
    "    y_pred = reg_single.predict(X_test_freq)\n",
    "    one_signal_scores[-1].append(sqrt(mean_squared_error(y_pred, y_one_signal_test)) * TIME_SCALE_COEF)"
   ]
  },
  {
   "cell_type": "code",
   "execution_count": 75,
   "metadata": {},
   "outputs": [
    {
     "data": {
      "text/plain": [
       "[<matplotlib.lines.Line2D at 0x7f1ebcc4a6a0>]"
      ]
     },
     "execution_count": 75,
     "metadata": {},
     "output_type": "execute_result"
    },
    {
     "data": {
      "image/png": "[encoded data removed]",
      "text/plain": [
       "<Figure size 432x288 with 1 Axes>"
      ]
     },
     "metadata": {
      "needs_background": "light"
     },
     "output_type": "display_data"
    }
   ],
   "source": [
    "plt.plot(X_one_signal_train[0])"
   ]
  },
  {
   "cell_type": "code",
   "execution_count": 76,
   "metadata": {
    "scrolled": false
   },
   "outputs": [
    {
     "name": "stderr",
     "output_type": "stream",
     "text": [
      "100%|██████████| 5/5 [00:00<00:00,  9.04it/s]\n",
      "100%|██████████| 5/5 [00:00<00:00,  9.29it/s]\n",
      "100%|██████████| 5/5 [00:00<00:00,  9.33it/s]\n",
      "100%|██████████| 5/5 [00:00<00:00,  9.33it/s]\n",
      "100%|██████████| 5/5 [00:00<00:00,  8.91it/s]\n",
      "100%|██████████| 5/5 [00:00<00:00,  9.09it/s]\n"
     ]
    }
   ],
   "source": [
    "for freq in freq_values:\n",
    "    X_train_freq = get_freq_data(X_one_signal_train, freq=freq)\n",
    "    reg_single.fit(X_train_freq, y_one_signal_train)\n",
    "    \n",
    "    for alpha in tqdm.tqdm(alpha_one_signal_test):\n",
    "        X_test_cur, y_test_cur = prepare_data(X_two_signals_test, y_two_signals_test, tau_test_range, [alpha], data_size=TEST_SIZE)\n",
    "        X_test_freq = get_freq_data(X_test_cur, freq=freq)\n",
    "        y_pred = reg_single.predict(X_test_freq)\n",
    "        one_signal_scores[alpha].append(sqrt(mean_squared_error(y_pred, y_test_cur)) * TIME_SCALE_COEF)"
   ]
  },
  {
   "cell_type": "code",
   "execution_count": 77,
   "metadata": {},
   "outputs": [
    {
     "data": {
      "image/png": "[encoded data removed]",
      "text/plain": [
       "<Figure size 432x288 with 1 Axes>"
      ]
     },
     "metadata": {
      "needs_background": "light"
     },
     "output_type": "display_data"
    }
   ],
   "source": [
    "colors = ['b', 'g']\n",
    "\n",
    "ORIGIN_FREQ = 5000\n",
    "\n",
    "# plt.plot(one_signal_scores[-1], marker='o', linestyle='--', color=colors[0])\n",
    "\n",
    "for i, alpha in enumerate(alpha_one_signal_test[:2], 0):\n",
    "    plt.plot(one_signal_scores[alpha], marker='o', linestyle='--', color=colors[i])\n",
    "for i, alpha in enumerate(alpha_one_signal_test[:2], 0):\n",
    "    plt.plot(two_signals_scores[alpha], marker='o', color=colors[i])\n",
    "\n",
    "plt.title(\"Models comparison for multiple signal\", weight='bold', fontsize=15)\n",
    "plt.ylabel(\"RMSE [ns]\", fontsize=LABEL_FONTSIZE)\n",
    "plt.xlabel(\"Sampling frequency [MHz]\", fontsize=LABEL_FONTSIZE)\n",
    "plt.xticks(range(len(freq_values)), [int(ORIGIN_FREQ/freq) for freq in freq_values])\n",
    "plt.legend([\"One signal model, alpha=\" + str(a) for a in alpha_one_signal_test[:2]] +\\\n",
    "                      [\"Two signals model, alpha=\" + str(a) for a in alpha_one_signal_test[:2]])\n",
    "plt.show()"
   ]
  },
  {
   "cell_type": "code",
   "execution_count": 78,
   "metadata": {},
   "outputs": [
    {
     "data": {
      "image/png": "[encoded data removed]",
      "text/plain": [
       "<Figure size 432x288 with 1 Axes>"
      ]
     },
     "metadata": {
      "needs_background": "light"
     },
     "output_type": "display_data"
    }
   ],
   "source": [
    "colors = ['r', 'c', 'y']\n",
    "\n",
    "\n",
    "ORIGIN_FREQ = 5000\n",
    "\n",
    "for i, alpha in enumerate(alpha_one_signal_test[2:], 0):\n",
    "    plt.plot(one_signal_scores[alpha], marker='o', linestyle='--', color=colors[i])\n",
    "for i, alpha in enumerate(alpha_one_signal_test[2:], 0):\n",
    "    plt.plot(two_signals_scores[alpha], marker='o', color=colors[i])\n",
    "\n",
    "plt.title(\"Models comparison for multiple signal\", weight='bold', fontsize=15)\n",
    "plt.ylabel(\"RMSE [ns]\", fontsize=LABEL_FONTSIZE)\n",
    "plt.xlabel(\"Sampling frequency [MHz]\", fontsize=LABEL_FONTSIZE)\n",
    "plt.xticks(range(len(freq_values)), [int(ORIGIN_FREQ/freq) for freq in freq_values])\n",
    "plt.legend([\"One signal model, alpha=\" + str(a) for a in alpha_one_signal_test[2:]] +\\\n",
    "                      [\"Two signals model, alpha=\" + str(a) for a in alpha_one_signal_test[2:]], loc='center')\n",
    "plt.show()"
   ]
  },
  {
   "cell_type": "code",
   "execution_count": 79,
   "metadata": {},
   "outputs": [
    {
     "ename": "NameError",
     "evalue": "name 'cascade_scores' is not defined",
     "output_type": "error",
     "traceback": [
      "\u001b[0;31m---------------------------------------------------------------------------\u001b[0m",
      "\u001b[0;31mNameError\u001b[0m                                 Traceback (most recent call last)",
      "\u001b[0;32m<ipython-input-79-c61052f42479>\u001b[0m in \u001b[0;36m<module>\u001b[0;34m\u001b[0m\n\u001b[1;32m      6\u001b[0m \u001b[0;34m\u001b[0m\u001b[0m\n\u001b[1;32m      7\u001b[0m \u001b[0;32mfor\u001b[0m \u001b[0mi\u001b[0m\u001b[0;34m,\u001b[0m \u001b[0malpha\u001b[0m \u001b[0;32min\u001b[0m \u001b[0menumerate\u001b[0m\u001b[0;34m(\u001b[0m\u001b[0malpha_one_signal_test\u001b[0m\u001b[0;34m,\u001b[0m \u001b[0;36m0\u001b[0m\u001b[0;34m)\u001b[0m\u001b[0;34m:\u001b[0m\u001b[0;34m\u001b[0m\u001b[0;34m\u001b[0m\u001b[0m\n\u001b[0;32m----> 8\u001b[0;31m     \u001b[0mplt\u001b[0m\u001b[0;34m.\u001b[0m\u001b[0mplot\u001b[0m\u001b[0;34m(\u001b[0m\u001b[0mcascade_scores\u001b[0m\u001b[0;34m[\u001b[0m\u001b[0malpha\u001b[0m\u001b[0;34m]\u001b[0m\u001b[0;34m,\u001b[0m \u001b[0mmarker\u001b[0m\u001b[0;34m=\u001b[0m\u001b[0;34m'o'\u001b[0m\u001b[0;34m,\u001b[0m \u001b[0mlinestyle\u001b[0m\u001b[0;34m=\u001b[0m\u001b[0;34m'--'\u001b[0m\u001b[0;34m,\u001b[0m \u001b[0mcolor\u001b[0m\u001b[0;34m=\u001b[0m\u001b[0mcolors\u001b[0m\u001b[0;34m[\u001b[0m\u001b[0mi\u001b[0m\u001b[0;34m]\u001b[0m\u001b[0;34m)\u001b[0m\u001b[0;34m\u001b[0m\u001b[0;34m\u001b[0m\u001b[0m\n\u001b[0m\u001b[1;32m      9\u001b[0m \u001b[0;34m\u001b[0m\u001b[0m\n\u001b[1;32m     10\u001b[0m \u001b[0mplt\u001b[0m\u001b[0;34m.\u001b[0m\u001b[0mtitle\u001b[0m\u001b[0;34m(\u001b[0m\u001b[0;34m\"Cascade model, multiple signal\"\u001b[0m\u001b[0;34m,\u001b[0m \u001b[0mweight\u001b[0m\u001b[0;34m=\u001b[0m\u001b[0;34m'bold'\u001b[0m\u001b[0;34m,\u001b[0m \u001b[0mfontsize\u001b[0m\u001b[0;34m=\u001b[0m\u001b[0;36m15\u001b[0m\u001b[0;34m)\u001b[0m\u001b[0;34m\u001b[0m\u001b[0;34m\u001b[0m\u001b[0m\n",
      "\u001b[0;31mNameError\u001b[0m: name 'cascade_scores' is not defined"
     ]
    }
   ],
   "source": [
    "colors = ['b', 'g', 'r', 'c', 'y']\n",
    "\n",
    "ORIGIN_FREQ = 5000\n",
    "\n",
    "# plt.plot(one_signal_scores[-1], marker='o', linestyle='--', color=colors[0])\n",
    "\n",
    "for i, alpha in enumerate(alpha_one_signal_test, 0):\n",
    "    plt.plot(cascade_scores[alpha], marker='o', linestyle='--', color=colors[i])\n",
    "\n",
    "plt.title(\"Cascade model, multiple signal\", weight='bold', fontsize=15)\n",
    "plt.ylabel(\"RMSE [ns]\", fontsize=LABEL_FONTSIZE)\n",
    "plt.xlabel(\"Sampling frequency [MHz]\", fontsize=LABEL_FONTSIZE)\n",
    "plt.xticks(range(len(freq_values)), [int(ORIGIN_FREQ/freq) for freq in freq_values])\n",
    "plt.legend([\"Cascade model, alpha=\" + str(a) for a in alpha_one_signal_test])\n",
    "plt.show()"
   ]
  },
  {
   "cell_type": "code",
   "execution_count": 80,
   "metadata": {},
   "outputs": [
    {
     "ename": "NameError",
     "evalue": "name 'cascade_scores' is not defined",
     "output_type": "error",
     "traceback": [
      "\u001b[0;31m---------------------------------------------------------------------------\u001b[0m",
      "\u001b[0;31mNameError\u001b[0m                                 Traceback (most recent call last)",
      "\u001b[0;32m<ipython-input-80-4329d1ef9977>\u001b[0m in \u001b[0;36m<module>\u001b[0;34m\u001b[0m\n\u001b[1;32m      6\u001b[0m \u001b[0;34m\u001b[0m\u001b[0m\n\u001b[1;32m      7\u001b[0m \u001b[0;32mfor\u001b[0m \u001b[0mi\u001b[0m\u001b[0;34m,\u001b[0m \u001b[0malpha\u001b[0m \u001b[0;32min\u001b[0m \u001b[0menumerate\u001b[0m\u001b[0;34m(\u001b[0m\u001b[0malpha_test_range\u001b[0m\u001b[0;34m,\u001b[0m \u001b[0;36m0\u001b[0m\u001b[0;34m)\u001b[0m\u001b[0;34m:\u001b[0m\u001b[0;34m\u001b[0m\u001b[0;34m\u001b[0m\u001b[0m\n\u001b[0;32m----> 8\u001b[0;31m     \u001b[0mplt\u001b[0m\u001b[0;34m.\u001b[0m\u001b[0mplot\u001b[0m\u001b[0;34m(\u001b[0m\u001b[0mcascade_scores\u001b[0m\u001b[0;34m[\u001b[0m\u001b[0malpha\u001b[0m\u001b[0;34m]\u001b[0m\u001b[0;34m,\u001b[0m \u001b[0mmarker\u001b[0m\u001b[0;34m=\u001b[0m\u001b[0;34m'o'\u001b[0m\u001b[0;34m,\u001b[0m \u001b[0mlinestyle\u001b[0m\u001b[0;34m=\u001b[0m\u001b[0;34m'--'\u001b[0m\u001b[0;34m,\u001b[0m \u001b[0mcolor\u001b[0m\u001b[0;34m=\u001b[0m\u001b[0mcolors\u001b[0m\u001b[0;34m[\u001b[0m\u001b[0mi\u001b[0m\u001b[0;34m]\u001b[0m\u001b[0;34m)\u001b[0m\u001b[0;34m\u001b[0m\u001b[0;34m\u001b[0m\u001b[0m\n\u001b[0m\u001b[1;32m      9\u001b[0m \u001b[0;34m\u001b[0m\u001b[0m\n\u001b[1;32m     10\u001b[0m \u001b[0mplt\u001b[0m\u001b[0;34m.\u001b[0m\u001b[0mtitle\u001b[0m\u001b[0;34m(\u001b[0m\u001b[0;34m\"Cascade model, multiple signal\"\u001b[0m\u001b[0;34m,\u001b[0m \u001b[0mweight\u001b[0m\u001b[0;34m=\u001b[0m\u001b[0;34m'bold'\u001b[0m\u001b[0;34m,\u001b[0m \u001b[0mfontsize\u001b[0m\u001b[0;34m=\u001b[0m\u001b[0;36m15\u001b[0m\u001b[0;34m)\u001b[0m\u001b[0;34m\u001b[0m\u001b[0;34m\u001b[0m\u001b[0m\n",
      "\u001b[0;31mNameError\u001b[0m: name 'cascade_scores' is not defined"
     ]
    }
   ],
   "source": [
    "colors = ['b', 'g', 'r', 'c', 'y']\n",
    "\n",
    "ORIGIN_FREQ = 5000\n",
    "\n",
    "# plt.plot(one_signal_scores[-1], marker='o', linestyle='--', color=colors[0])\n",
    "\n",
    "for i, alpha in enumerate(alpha_test_range, 0):\n",
    "    plt.plot(cascade_scores[alpha], marker='o', linestyle='--', color=colors[i])\n",
    "\n",
    "plt.title(\"Cascade model, multiple signal\", weight='bold', fontsize=15)\n",
    "plt.ylabel(\"RMSE [ns]\", fontsize=LABEL_FONTSIZE)\n",
    "plt.xlabel(\"Sampling frequency [MHz]\", fontsize=LABEL_FONTSIZE)\n",
    "plt.xticks(range(len(freq_values)), [int(ORIGIN_FREQ/freq) for freq in freq_values])\n",
    "plt.legend([\"Multiple signal, alpha=\" + str(a) for a in alpha_test_range])\n",
    "plt.show()"
   ]
  },
  {
   "cell_type": "code",
   "execution_count": 81,
   "metadata": {
    "scrolled": true
   },
   "outputs": [
    {
     "data": {
      "image/png": "[encoded data removed]",
      "text/plain": [
       "<Figure size 432x288 with 1 Axes>"
      ]
     },
     "metadata": {
      "needs_background": "light"
     },
     "output_type": "display_data"
    }
   ],
   "source": [
    "ORIGIN_FREQ = 5000\n",
    "\n",
    "\n",
    "plt.title(\"One signal model\", fontsize=15)\n",
    "for alpha in [-1] + alpha_one_signal_test:\n",
    "    plt.plot(one_signal_scores[alpha], marker='o')\n",
    "plt.ylabel(\"RMSE [ns]\", fontsize=LABEL_FONTSIZE)\n",
    "plt.xlabel(\"Sampling frequency [MHz]\", fontsize=LABEL_FONTSIZE)\n",
    "plt.xticks(range(len(freq_values)), [int(ORIGIN_FREQ/freq) for freq in freq_values])\n",
    "plt.legend([\"One signal\"] + [\"Two signals, alpha=\" + str(a) for a in alpha_one_signal_test])\n",
    "plt.show()"
   ]
  },
  {
   "cell_type": "code",
   "execution_count": null,
   "metadata": {},
   "outputs": [],
   "source": []
  },
  {
   "cell_type": "code",
   "execution_count": 82,
   "metadata": {
    "scrolled": true
   },
   "outputs": [
    {
     "data": {
      "image/png": "[encoded data removed]",
      "text/plain": [
       "<Figure size 432x288 with 1 Axes>"
      ]
     },
     "metadata": {
      "needs_background": "light"
     },
     "output_type": "display_data"
    }
   ],
   "source": [
    "plt.plot(one_signal_scores[-1], marker='o', linestyle='-.')\n",
    "\n",
    "for alpha in list(two_signals_scores.keys())[:4]:\n",
    "    plt.plot(two_signals_scores[alpha], marker='o', linestyle='-')\n",
    "\n",
    "plt.title(\"Models comparison\", fontsize=15, weight='bold')\n",
    "plt.ylabel(\"RMSE [ns]\", fontsize=LABEL_FONTSIZE)\n",
    "plt.xlabel(\"Sampling frequency [MHz]\", fontsize=LABEL_FONTSIZE)\n",
    "plt.xticks(range(len(freq_values)), [int(ORIGIN_FREQ/freq) for freq in freq_values])\n",
    "plt.legend(['one signal'] + ['two signals, alpha=' + str(key) for key in two_signals_scores.keys()])\n",
    "plt.show()"
   ]
  },
  {
   "cell_type": "markdown",
   "metadata": {},
   "source": [
    "### -----------------------------------------------"
   ]
  },
  {
   "cell_type": "code",
   "execution_count": null,
   "metadata": {},
   "outputs": [],
   "source": [
    "X_two_signals, y_two_signals = get_data(is_one_signal=False)\n",
    "mean_argmin =  int(np.argmin(X_two_signals, axis=1).mean())\n",
    "\n",
    "X_two_signals_train, X_two_signals_test, y_two_signals_train, y_two_signals_test = train_test_split(X_two_signals,\\\n",
    "                                                                                    y_two_signals, test_size=0.2, shuffle=False)"
   ]
  },
  {
   "cell_type": "code",
   "execution_count": null,
   "metadata": {},
   "outputs": [],
   "source": [
    "X_one_signal, y_one_signal = get_data(is_one_signal=True)"
   ]
  },
  {
   "cell_type": "code",
   "execution_count": null,
   "metadata": {},
   "outputs": [],
   "source": [
    "X_one_signal_train, X_one_signal_test, y_one_signal_train, y_one_signal_test = train_test_split(X_one_signal,\\\n",
    "                                                                                    y_one_signal, test_size=0.2, shuffle=False)"
   ]
  },
  {
   "cell_type": "code",
   "execution_count": null,
   "metadata": {},
   "outputs": [],
   "source": [
    "X_one_signal_test.shape"
   ]
  },
  {
   "cell_type": "code",
   "execution_count": null,
   "metadata": {},
   "outputs": [],
   "source": [
    "X_two_signals_test.shape"
   ]
  },
  {
   "cell_type": "code",
   "execution_count": null,
   "metadata": {},
   "outputs": [],
   "source": [
    "for i in range(len(X_two_signals_test)):\n",
    "    cur_argmin = np.argmin(X_two_signals_test[i])\n",
    "    X_two_signals_test[i] = signal_cyclic_shift(X_two_signals_test[i], mean_argmin - cur_argmin)\n",
    "    y_two_signals_test[i] += mean_argmin - cur_argmin"
   ]
  },
  {
   "cell_type": "code",
   "execution_count": null,
   "metadata": {},
   "outputs": [],
   "source": [
    "plt.hist(y_one_signal_test)"
   ]
  },
  {
   "cell_type": "code",
   "execution_count": null,
   "metadata": {},
   "outputs": [],
   "source": [
    "plt.hist(y_two_signals_test)"
   ]
  },
  {
   "cell_type": "code",
   "execution_count": null,
   "metadata": {
    "scrolled": true
   },
   "outputs": [],
   "source": [
    "X_two_signals_test[0]"
   ]
  },
  {
   "cell_type": "code",
   "execution_count": null,
   "metadata": {},
   "outputs": [],
   "source": [
    "X_one_signal_test[0]"
   ]
  },
  {
   "cell_type": "markdown",
   "metadata": {},
   "source": [
    "### --------------------------------------------"
   ]
  },
  {
   "cell_type": "code",
   "execution_count": null,
   "metadata": {},
   "outputs": [],
   "source": [
    "FONTSIZE=15"
   ]
  },
  {
   "cell_type": "code",
   "execution_count": null,
   "metadata": {},
   "outputs": [],
   "source": [
    "plt.rcParams.update(\n",
    "    {\n",
    "        'text.usetex': False,\n",
    "        'font.family': 'stixgeneral',\n",
    "        'mathtext.fontset': 'stix',\n",
    "    }\n",
    ")"
   ]
  },
  {
   "cell_type": "code",
   "execution_count": null,
   "metadata": {},
   "outputs": [],
   "source": [
    "plt.title(\"One signal\", weight='bold', fontsize=FONTSIZE)\n",
    "plt.plot(X_one_signal[0])\n",
    "plt.show()"
   ]
  },
  {
   "cell_type": "code",
   "execution_count": null,
   "metadata": {},
   "outputs": [],
   "source": [
    "tau = 40\n",
    "alpha = 0.5\n",
    "multiple_signal = generate_multi_signal(X_two_signals, y_two_signals, tau, alpha)['multi_impulse']\n",
    "plt.title(\"Multiple signal, tau = %d, alpha = %0.1f\" %(tau, alpha), weight='bold', fontsize=FONTSIZE)\n",
    "plt.plot(multiple_signal)\n",
    "plt.show()"
   ]
  },
  {
   "cell_type": "code",
   "execution_count": null,
   "metadata": {},
   "outputs": [],
   "source": [
    "plt.title(\"Mu\")"
   ]
  }
 ],
 "metadata": {
  "kernelspec": {
   "display_name": "Python 3",
   "language": "python",
   "name": "python3"
  },
  "language_info": {
   "codemirror_mode": {
    "name": "ipython",
    "version": 3
   },
   "file_extension": ".py",
   "mimetype": "text/x-python",
   "name": "python",
   "nbconvert_exporter": "python",
   "pygments_lexer": "ipython3",
   "version": "3.6.9"
  }
 },
 "nbformat": 4,
 "nbformat_minor": 2
}
