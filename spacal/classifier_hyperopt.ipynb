{
 "cells": [
  {
   "cell_type": "code",
   "execution_count": 1,
   "metadata": {},
   "outputs": [],
   "source": [
    "import matplotlib.pyplot as plt\n",
    "import numpy as np\n",
    "from sklearn.model_selection import train_test_split\n",
    "from sklearn.metrics import accuracy_score\n",
    "from sklearn.model_selection import cross_validate\n",
    "from sklearn.utils import shuffle\n",
    "import tqdm\n",
    "import random"
   ]
  },
  {
   "cell_type": "markdown",
   "metadata": {},
   "source": [
    "### Preprocessing data"
   ]
  },
  {
   "cell_type": "code",
   "execution_count": 2,
   "metadata": {},
   "outputs": [],
   "source": [
    "from common import get_data, get_freq_data, signal_cyclic_shift, generate_multi_signal"
   ]
  },
  {
   "cell_type": "code",
   "execution_count": 3,
   "metadata": {},
   "outputs": [],
   "source": [
    "X_origin, y_origin = get_data(data_path='./data/na62_11_pulses.txt')"
   ]
  },
  {
   "cell_type": "code",
   "execution_count": 4,
   "metadata": {},
   "outputs": [],
   "source": [
    "def prepare_data(X_origin, y_origin, alpha_range, data_size=1000, to_print=False):\n",
    "    pos_size = int(data_size/2)\n",
    "    neg_size = data_size - pos_size\n",
    "    \n",
    "    X = []\n",
    "    y = []\n",
    "    for i in range(data_size):\n",
    "        alpha = random.choice(alpha_range)\n",
    "        \n",
    "        if i < pos_size:\n",
    "            X.append(random.choice(X_origin))\n",
    "#             X.append(generate_multi_signal(X_origin, y_origin, tau, alpha)['first_impulse'])\n",
    "\n",
    "            y.append(1)\n",
    "        else:\n",
    "            X.append(generate_multi_signal(X_origin, y_origin, alpha)['multi_impulse'])\n",
    "            y.append(0)\n",
    "   \n",
    "    X = np.array(X)\n",
    "    y = np.array(y)\n",
    "   \n",
    "    if to_print:\n",
    "#         print(\"X positive shape:\", X_positive.shape)\n",
    "#         print(\"y positive shape:\", y_positive.shape)\n",
    "#         print(\"X negative shape:\", X_negative.shape)\n",
    "#         print(\"y negative shape:\", y_negative.shape)\n",
    "        print(\"X shape:\", X.shape)\n",
    "        print(\"y shape:\", y.shape)\n",
    "    \n",
    "    X, y = shuffle(X, y)\n",
    "\n",
    "    return X, y"
   ]
  },
  {
   "cell_type": "code",
   "execution_count": 5,
   "metadata": {},
   "outputs": [
    {
     "name": "stdout",
     "output_type": "stream",
     "text": [
      "X shape: (5000, 1024)\n",
      "y shape: (5000,)\n"
     ]
    }
   ],
   "source": [
    "alpha_range = np.array([np.around(10**i, decimals=4) for i in np.arange(-3, 3.1, 0.1)])\n",
    "# tau_range = np.arange(-25, 25, 1)\n",
    "X, y = prepare_data(X_origin, y_origin, alpha_range, data_size=5000, to_print=True)"
   ]
  },
  {
   "cell_type": "code",
   "execution_count": 6,
   "metadata": {},
   "outputs": [
    {
     "data": {
      "text/plain": [
       "5000"
      ]
     },
     "execution_count": 6,
     "metadata": {},
     "output_type": "execute_result"
    }
   ],
   "source": [
    "len(X)"
   ]
  },
  {
   "cell_type": "code",
   "execution_count": 7,
   "metadata": {
    "scrolled": true
   },
   "outputs": [
    {
     "data": {
      "image/png": "[encoded data removed]",
      "text/plain": [
       "<Figure size 432x288 with 1 Axes>"
      ]
     },
     "metadata": {
      "needs_background": "light"
     },
     "output_type": "display_data"
    }
   ],
   "source": [
    "import random\n",
    "i = random.choice(range(len(X)))\n",
    "plt.title(str(y[i]))\n",
    "plt.plot(X[i])\n",
    "plt.show()"
   ]
  },
  {
   "cell_type": "markdown",
   "metadata": {},
   "source": [
    "### Models"
   ]
  },
  {
   "cell_type": "code",
   "execution_count": 8,
   "metadata": {},
   "outputs": [],
   "source": [
    "from sklearn.neighbors import KNeighborsClassifier\n",
    "from sklearn.tree import DecisionTreeClassifier\n",
    "from sklearn.ensemble import RandomForestClassifier\n",
    "from sklearn.naive_bayes import GaussianNB\n",
    "from sklearn.svm import SVC\n",
    "from sklearn.linear_model import PassiveAggressiveClassifier\n",
    "from sklearn.neural_network import MLPClassifier"
   ]
  },
  {
   "cell_type": "code",
   "execution_count": 9,
   "metadata": {},
   "outputs": [],
   "source": [
    "freq_values = [1, 5, 10, 15, 25, 50, 60, 75, 85, 100]"
   ]
  },
  {
   "cell_type": "code",
   "execution_count": 10,
   "metadata": {},
   "outputs": [],
   "source": [
    "def print_results(iter_num=200):\n",
    "    global X_freq\n",
    "    for freq in freq_values:\n",
    "        X_freq = get_freq_data(X, freq=freq)\n",
    "\n",
    "        best = fmin(\n",
    "            fn=f,  # \"Loss\" function to minimize\n",
    "            space=space,  # Hyperparameter space\n",
    "            algo=tpe.suggest,  # Tree-structured Parzen Estimator (TPE)\n",
    "            max_evals=iter_num  # Perform 100 trials\n",
    "        )\n",
    "\n",
    "        print('-----------------------------------------------------')\n",
    "        print(\"Freq:\", freq)\n",
    "        print(\"X_freq shape:\", X_freq.shape)\n",
    "        print(\"Found minimum after %d trials:\" %(iter_num))\n",
    "        print(best)\n",
    "        print('-----------------------------------------------------')"
   ]
  },
  {
   "cell_type": "markdown",
   "metadata": {},
   "source": [
    "### Hyperopt"
   ]
  },
  {
   "cell_type": "code",
   "execution_count": 11,
   "metadata": {},
   "outputs": [],
   "source": [
    "from hyperopt.pyll import scope as ho_scope\n",
    "from hyperopt import fmin, tpe, hp"
   ]
  },
  {
   "cell_type": "markdown",
   "metadata": {},
   "source": [
    "###### KNeighborsClassifier"
   ]
  },
  {
   "cell_type": "code",
   "execution_count": 12,
   "metadata": {},
   "outputs": [
    {
     "name": "stdout",
     "output_type": "stream",
     "text": [
      "100%|██████████| 50/50 [09:51<00:00, 11.82s/it, best loss: -0.6958]\n",
      "-----------------------------------------------------\n",
      "Freq: 1\n",
      "X_freq shape: (5000, 1024)\n",
      "Found minimum after 50 trials:\n",
      "{'algorithm': 1, 'leaf_size': 4.0, 'n_neighbors': 2.0, 'p': 0, 'weights': 1}\n",
      "-----------------------------------------------------\n",
      "100%|██████████| 50/50 [01:19<00:00,  1.59s/it, best loss: -0.7001999999999999]\n",
      "-----------------------------------------------------\n",
      "Freq: 5\n",
      "X_freq shape: (5000, 205)\n",
      "Found minimum after 50 trials:\n",
      "{'algorithm': 0, 'leaf_size': 46.0, 'n_neighbors': 2.0, 'p': 1, 'weights': 1}\n",
      "-----------------------------------------------------\n",
      "100%|██████████| 50/50 [00:57<00:00,  1.15s/it, best loss: -0.6975999999999999]\n",
      "-----------------------------------------------------\n",
      "Freq: 10\n",
      "X_freq shape: (5000, 103)\n",
      "Found minimum after 50 trials:\n",
      "{'algorithm': 2, 'leaf_size': 16.0, 'n_neighbors': 2.0, 'p': 0, 'weights': 1}\n",
      "-----------------------------------------------------\n",
      "100%|██████████| 50/50 [00:30<00:00,  1.64it/s, best loss: -0.7013999999999999]\n",
      "-----------------------------------------------------\n",
      "Freq: 15\n",
      "X_freq shape: (5000, 68)\n",
      "Found minimum after 50 trials:\n",
      "{'algorithm': 3, 'leaf_size': 16.0, 'n_neighbors': 2.0, 'p': 1, 'weights': 1}\n",
      "-----------------------------------------------------\n",
      "100%|██████████| 50/50 [00:24<00:00,  2.01it/s, best loss: -0.6975999999999999]\n",
      "-----------------------------------------------------\n",
      "Freq: 25\n",
      "X_freq shape: (5000, 41)\n",
      "Found minimum after 50 trials:\n",
      "{'algorithm': 0, 'leaf_size': 24.0, 'n_neighbors': 2.0, 'p': 1, 'weights': 1}\n",
      "-----------------------------------------------------\n",
      "100%|██████████| 50/50 [00:15<00:00,  3.23it/s, best loss: -0.6954]            \n",
      "-----------------------------------------------------\n",
      "Freq: 50\n",
      "X_freq shape: (5000, 20)\n",
      "Found minimum after 50 trials:\n",
      "{'algorithm': 2, 'leaf_size': 32.0, 'n_neighbors': 2.0, 'p': 0, 'weights': 1}\n",
      "-----------------------------------------------------\n",
      "100%|██████████| 50/50 [00:14<00:00,  3.50it/s, best loss: -0.6976]            \n",
      "-----------------------------------------------------\n",
      "Freq: 60\n",
      "X_freq shape: (5000, 17)\n",
      "Found minimum after 50 trials:\n",
      "{'algorithm': 0, 'leaf_size': 30.0, 'n_neighbors': 2.0, 'p': 1, 'weights': 1}\n",
      "-----------------------------------------------------\n",
      "100%|██████████| 50/50 [00:16<00:00,  2.99it/s, best loss: -0.694]\n",
      "-----------------------------------------------------\n",
      "Freq: 75\n",
      "X_freq shape: (5000, 14)\n",
      "Found minimum after 50 trials:\n",
      "{'algorithm': 2, 'leaf_size': 4.0, 'n_neighbors': 2.0, 'p': 0, 'weights': 1}\n",
      "-----------------------------------------------------\n",
      "100%|██████████| 50/50 [00:16<00:00,  3.10it/s, best loss: -0.6923999999999999]\n",
      "-----------------------------------------------------\n",
      "Freq: 85\n",
      "X_freq shape: (5000, 13)\n",
      "Found minimum after 50 trials:\n",
      "{'algorithm': 3, 'leaf_size': 40.0, 'n_neighbors': 2.0, 'p': 0, 'weights': 1}\n",
      "-----------------------------------------------------\n",
      "100%|██████████| 50/50 [00:11<00:00,  4.36it/s, best loss: -0.6878]\n",
      "-----------------------------------------------------\n",
      "Freq: 100\n",
      "X_freq shape: (5000, 10)\n",
      "Found minimum after 50 trials:\n",
      "{'algorithm': 2, 'leaf_size': 44.0, 'n_neighbors': 2.0, 'p': 1, 'weights': 1}\n",
      "-----------------------------------------------------\n"
     ]
    }
   ],
   "source": [
    "def f(space):\n",
    "        model = KNeighborsClassifier(n_neighbors=space['n_neighbors'], weights=space['weights'],\\\n",
    "                                     algorithm=space['algorithm'], leaf_size=space['leaf_size'], p=space['p'])\n",
    "        scores = cross_validate(model, X_freq, y, scoring='accuracy', cv=5)\n",
    "        return -scores['test_score'].mean()\n",
    "\n",
    "space = {\n",
    "        'n_neighbors': ho_scope.int(hp.quniform('n_neighbors', low=2, high=10, q=1)),\n",
    "        'weights':  hp.choice('weights', ['uniform', 'distance']),\n",
    "        'algorithm': hp.choice('algorithm', ['auto', 'ball_tree', 'kd_tree', 'brute']),\n",
    "        'leaf_size': ho_scope.int(hp.quniform('leaf_size', low=4, high=60, q=2)),\n",
    "        'p': hp.choice('p', [1, 2])\n",
    "}\n",
    "    \n",
    "global X_freq\n",
    "print_results(iter_num=50)"
   ]
  },
  {
   "cell_type": "markdown",
   "metadata": {},
   "source": [
    "##### DecisionTreeClassifier"
   ]
  },
  {
   "cell_type": "code",
   "execution_count": 13,
   "metadata": {},
   "outputs": [
    {
     "name": "stdout",
     "output_type": "stream",
     "text": [
      "100%|██████████| 200/200 [01:16<00:00,  2.63it/s, best loss: -0.6450000000000001]\n",
      "-----------------------------------------------------\n",
      "Freq: 1\n",
      "X_freq shape: (5000, 1024)\n",
      "Found minimum after 200 trials:\n",
      "{'criterion': 0, 'max_depth': 15, 'max_features': 0, 'min_samples_leaf': 5.0, 'min_samples_split': 2.0, 'min_weight_fraction_leaf': 0.00045911552145954185}\n",
      "-----------------------------------------------------\n",
      "100%|██████████| 200/200 [00:37<00:00,  5.37it/s, best loss: -0.6597999999999999]\n",
      "-----------------------------------------------------\n",
      "Freq: 5\n",
      "X_freq shape: (5000, 205)\n",
      "Found minimum after 200 trials:\n",
      "{'criterion': 1, 'max_depth': 17, 'max_features': 1, 'min_samples_leaf': 2.0, 'min_samples_split': 4.0, 'min_weight_fraction_leaf': 5.454801579346524e-06}\n",
      "-----------------------------------------------------\n",
      "100%|██████████| 200/200 [00:23<00:00,  8.41it/s, best loss: -0.6512]            \n",
      "-----------------------------------------------------\n",
      "Freq: 10\n",
      "X_freq shape: (5000, 103)\n",
      "Found minimum after 200 trials:\n",
      "{'criterion': 0, 'max_depth': 14, 'max_features': 1, 'min_samples_leaf': 1.0, 'min_samples_split': 3.0, 'min_weight_fraction_leaf': 0.00037795707059883944}\n",
      "-----------------------------------------------------\n",
      "100%|██████████| 200/200 [00:18<00:00, 10.72it/s, best loss: -0.6254]            \n",
      "-----------------------------------------------------\n",
      "Freq: 15\n",
      "X_freq shape: (5000, 68)\n",
      "Found minimum after 200 trials:\n",
      "{'criterion': 0, 'max_depth': 16, 'max_features': 0, 'min_samples_leaf': 6.0, 'min_samples_split': 6.0, 'min_weight_fraction_leaf': 0.00042745275677683937}\n",
      "-----------------------------------------------------\n",
      "100%|██████████| 200/200 [00:18<00:00, 10.80it/s, best loss: -0.6225999999999999]\n",
      "-----------------------------------------------------\n",
      "Freq: 25\n",
      "X_freq shape: (5000, 41)\n",
      "Found minimum after 200 trials:\n",
      "{'criterion': 0, 'max_depth': 16, 'max_features': 0, 'min_samples_leaf': 2.0, 'min_samples_split': 10.0, 'min_weight_fraction_leaf': 0.0003118381525699004}\n",
      "-----------------------------------------------------\n",
      "100%|██████████| 200/200 [00:12<00:00, 15.61it/s, best loss: -0.6198]            \n",
      "-----------------------------------------------------\n",
      "Freq: 50\n",
      "X_freq shape: (5000, 20)\n",
      "Found minimum after 200 trials:\n",
      "{'criterion': 0, 'max_depth': 18, 'max_features': 1, 'min_samples_leaf': 3.0, 'min_samples_split': 9.0, 'min_weight_fraction_leaf': 0.0010225143274879}\n",
      "-----------------------------------------------------\n",
      "100%|██████████| 200/200 [00:14<00:00, 13.75it/s, best loss: -0.6081999999999999]\n",
      "-----------------------------------------------------\n",
      "Freq: 60\n",
      "X_freq shape: (5000, 17)\n",
      "Found minimum after 200 trials:\n",
      "{'criterion': 1, 'max_depth': 15, 'max_features': 0, 'min_samples_leaf': 7.0, 'min_samples_split': 4.0, 'min_weight_fraction_leaf': 0.00012953720918826555}\n",
      "-----------------------------------------------------\n",
      "100%|██████████| 200/200 [00:11<00:00, 17.91it/s, best loss: -0.6079999999999999]\n",
      "-----------------------------------------------------\n",
      "Freq: 75\n",
      "X_freq shape: (5000, 14)\n",
      "Found minimum after 200 trials:\n",
      "{'criterion': 0, 'max_depth': 17, 'max_features': 0, 'min_samples_leaf': 6.0, 'min_samples_split': 6.0, 'min_weight_fraction_leaf': 0.00030919414116664683}\n",
      "-----------------------------------------------------\n",
      "100%|██████████| 200/200 [00:11<00:00, 17.67it/s, best loss: -0.5821999999999999]\n",
      "-----------------------------------------------------\n",
      "Freq: 85\n",
      "X_freq shape: (5000, 13)\n",
      "Found minimum after 200 trials:\n",
      "{'criterion': 0, 'max_depth': 14, 'max_features': 2, 'min_samples_leaf': 10.0, 'min_samples_split': 6.0, 'min_weight_fraction_leaf': 0.0022760976050155146}\n",
      "-----------------------------------------------------\n",
      "100%|██████████| 200/200 [00:10<00:00, 18.63it/s, best loss: -0.5868]            \n",
      "-----------------------------------------------------\n",
      "Freq: 100\n",
      "X_freq shape: (5000, 10)\n",
      "Found minimum after 200 trials:\n",
      "{'criterion': 0, 'max_depth': 16, 'max_features': 1, 'min_samples_leaf': 6.0, 'min_samples_split': 6.0, 'min_weight_fraction_leaf': 0.00010063746161595856}\n",
      "-----------------------------------------------------\n"
     ]
    }
   ],
   "source": [
    "def f(space):\n",
    "    model = DecisionTreeClassifier(max_depth=space['max_depth'], max_features=space['max_features'],\\\n",
    "                                  criterion=space['criterion'], min_samples_split=space['min_samples_split'],\\\n",
    "                                  min_samples_leaf=space['min_samples_leaf'], min_weight_fraction_leaf = space['min_weight_fraction_leaf'])\n",
    "    scores = cross_validate(model, X_freq, y, scoring='accuracy', cv=5)\n",
    "    return -scores['test_score'].mean()\n",
    "    \n",
    "space = {\n",
    "    'max_depth': hp.choice('max_depth', range(1,20)),\n",
    "    'max_features': hp.choice('max_features', ['auto', 'sqrt', 'log2']),\n",
    "    'criterion': hp.choice('criterion', [\"gini\", \"entropy\"]),\n",
    "    'min_samples_split': ho_scope.int(hp.quniform('min_samples_split', low=2, high=10, q=1)),\n",
    "    'min_samples_leaf':  ho_scope.int(hp.quniform('min_samples_leaf', low=1, high=10, q=1)),\n",
    "    'min_weight_fraction_leaf': hp.uniform('min_weight_fraction_leaf', 0, 0.5),\n",
    "}\n",
    "\n",
    "global X_freq\n",
    "print_results()"
   ]
  },
  {
   "cell_type": "markdown",
   "metadata": {},
   "source": [
    "##### RandomForest"
   ]
  },
  {
   "cell_type": "code",
   "execution_count": 14,
   "metadata": {},
   "outputs": [],
   "source": [
    "import warnings\n",
    "warnings.filterwarnings(\"ignore\")"
   ]
  },
  {
   "cell_type": "code",
   "execution_count": 15,
   "metadata": {},
   "outputs": [
    {
     "name": "stdout",
     "output_type": "stream",
     "text": [
      "100%|██████████| 200/200 [07:07<00:00,  2.14s/it, best loss: -0.6722]\n",
      "-----------------------------------------------------\n",
      "Freq: 1\n",
      "X_freq shape: (5000, 1024)\n",
      "Found minimum after 200 trials:\n",
      "{'criterion': 1, 'max_depth': 12, 'max_features': 0, 'min_samples_leaf': 1.0, 'min_samples_split': 4.0, 'min_weight_fraction_leaf': 0.000513048398091933}\n",
      "-----------------------------------------------------\n",
      "100%|██████████| 200/200 [03:40<00:00,  1.10s/it, best loss: -0.6432]\n",
      "-----------------------------------------------------\n",
      "Freq: 5\n",
      "X_freq shape: (5000, 205)\n",
      "Found minimum after 200 trials:\n",
      "{'criterion': 1, 'max_depth': 15, 'max_features': 0, 'min_samples_leaf': 10.0, 'min_samples_split': 6.0, 'min_weight_fraction_leaf': 0.0034239897961710008}\n",
      "-----------------------------------------------------\n",
      "100%|██████████| 200/200 [02:49<00:00,  1.18it/s, best loss: -0.6442]           \n",
      "-----------------------------------------------------\n",
      "Freq: 10\n",
      "X_freq shape: (5000, 103)\n",
      "Found minimum after 200 trials:\n",
      "{'criterion': 0, 'max_depth': 15, 'max_features': 2, 'min_samples_leaf': 3.0, 'min_samples_split': 6.0, 'min_weight_fraction_leaf': 0.0032388819462540464}\n",
      "-----------------------------------------------------\n",
      "100%|██████████| 200/200 [02:37<00:00,  1.27it/s, best loss: -0.6764]          \n",
      "-----------------------------------------------------\n",
      "Freq: 15\n",
      "X_freq shape: (5000, 68)\n",
      "Found minimum after 200 trials:\n",
      "{'criterion': 1, 'max_depth': 17, 'max_features': 1, 'min_samples_leaf': 1.0, 'min_samples_split': 7.0, 'min_weight_fraction_leaf': 0.00018684980545158013}\n",
      "-----------------------------------------------------\n",
      "100%|██████████| 200/200 [02:05<00:00,  1.59it/s, best loss: -0.6582000000000001]\n",
      "-----------------------------------------------------\n",
      "Freq: 25\n",
      "X_freq shape: (5000, 41)\n",
      "Found minimum after 200 trials:\n",
      "{'criterion': 1, 'max_depth': 15, 'max_features': 0, 'min_samples_leaf': 3.0, 'min_samples_split': 5.0, 'min_weight_fraction_leaf': 0.0005481253030319486}\n",
      "-----------------------------------------------------\n",
      "100%|██████████| 200/200 [01:20<00:00,  2.49it/s, best loss: -0.643]            \n",
      "-----------------------------------------------------\n",
      "Freq: 50\n",
      "X_freq shape: (5000, 20)\n",
      "Found minimum after 200 trials:\n",
      "{'criterion': 0, 'max_depth': 14, 'max_features': 2, 'min_samples_leaf': 2.0, 'min_samples_split': 9.0, 'min_weight_fraction_leaf': 0.0007338422314390955}\n",
      "-----------------------------------------------------\n",
      "100%|██████████| 200/200 [01:23<00:00,  2.39it/s, best loss: -0.6442]          \n",
      "-----------------------------------------------------\n",
      "Freq: 60\n",
      "X_freq shape: (5000, 17)\n",
      "Found minimum after 200 trials:\n",
      "{'criterion': 1, 'max_depth': 16, 'max_features': 0, 'min_samples_leaf': 7.0, 'min_samples_split': 6.0, 'min_weight_fraction_leaf': 0.0008455882956013214}\n",
      "-----------------------------------------------------\n",
      "100%|██████████| 200/200 [01:15<00:00,  2.65it/s, best loss: -0.6214]          \n",
      "-----------------------------------------------------\n",
      "Freq: 75\n",
      "X_freq shape: (5000, 14)\n",
      "Found minimum after 200 trials:\n",
      "{'criterion': 1, 'max_depth': 13, 'max_features': 1, 'min_samples_leaf': 7.0, 'min_samples_split': 3.0, 'min_weight_fraction_leaf': 7.033911640358381e-05}\n",
      "-----------------------------------------------------\n",
      "100%|██████████| 200/200 [01:15<00:00,  2.63it/s, best loss: -0.6128]\n",
      "-----------------------------------------------------\n",
      "Freq: 85\n",
      "X_freq shape: (5000, 13)\n",
      "Found minimum after 200 trials:\n",
      "{'criterion': 1, 'max_depth': 15, 'max_features': 2, 'min_samples_leaf': 5.0, 'min_samples_split': 4.0, 'min_weight_fraction_leaf': 0.0008146861611537492}\n",
      "-----------------------------------------------------\n",
      "100%|██████████| 200/200 [01:26<00:00,  2.31it/s, best loss: -0.6447999999999999]\n",
      "-----------------------------------------------------\n",
      "Freq: 100\n",
      "X_freq shape: (5000, 10)\n",
      "Found minimum after 200 trials:\n",
      "{'criterion': 1, 'max_depth': 15, 'max_features': 2, 'min_samples_leaf': 1.0, 'min_samples_split': 3.0, 'min_weight_fraction_leaf': 0.000248125489734908}\n",
      "-----------------------------------------------------\n"
     ]
    }
   ],
   "source": [
    "def f(space):\n",
    "    model = RandomForestClassifier(max_depth=space['max_depth'], max_features=space['max_features'],\\\n",
    "                                  criterion=space['criterion'], min_samples_split=space['min_samples_split'],\\\n",
    "                                  min_samples_leaf=space['min_samples_leaf'], min_weight_fraction_leaf = space['min_weight_fraction_leaf'],\\\n",
    "                                  verbose=0)\n",
    "    scores = cross_validate(model, X_freq, y, scoring='accuracy', cv=5)\n",
    "    return -scores['test_score'].mean()\n",
    "    \n",
    "space = {\n",
    "    'max_depth': hp.choice('max_depth', range(1,20)),\n",
    "    'max_features': hp.choice('max_features', ['auto', 'sqrt', 'log2']),\n",
    "    'criterion': hp.choice('criterion', [\"gini\", \"entropy\"]),\n",
    "    'min_samples_split': ho_scope.int(hp.quniform('min_samples_split', low=2, high=10, q=1)),\n",
    "    'min_samples_leaf':  ho_scope.int(hp.quniform('min_samples_leaf', low=1, high=10, q=1)),\n",
    "    'min_weight_fraction_leaf': hp.uniform('min_weight_fraction_leaf', 0, 0.5),\n",
    "}\n",
    "\n",
    "global X_freq\n",
    "print_results()"
   ]
  },
  {
   "cell_type": "markdown",
   "metadata": {},
   "source": [
    "##### GaussianNB"
   ]
  },
  {
   "cell_type": "code",
   "execution_count": 16,
   "metadata": {},
   "outputs": [
    {
     "name": "stdout",
     "output_type": "stream",
     "text": [
      "100%|██████████| 200/200 [01:52<00:00,  1.78it/s, best loss: -0.5418000000000001]\n",
      "-----------------------------------------------------\n",
      "Freq: 1\n",
      "X_freq shape: (5000, 1024)\n",
      "Found minimum after 200 trials:\n",
      "{'var_smoothing': 4.8338942708731355e-08}\n",
      "-----------------------------------------------------\n",
      "100%|██████████| 200/200 [00:16<00:00, 12.09it/s, best loss: -0.5384]\n",
      "-----------------------------------------------------\n",
      "Freq: 5\n",
      "X_freq shape: (5000, 205)\n",
      "Found minimum after 200 trials:\n",
      "{'var_smoothing': 5.736813402126445e-08}\n",
      "-----------------------------------------------------\n",
      "100%|██████████| 200/200 [00:09<00:00, 21.82it/s, best loss: -0.5406000000000001]\n",
      "-----------------------------------------------------\n",
      "Freq: 10\n",
      "X_freq shape: (5000, 103)\n",
      "Found minimum after 200 trials:\n",
      "{'var_smoothing': 1.4250274367036234e-09}\n",
      "-----------------------------------------------------\n",
      "100%|██████████| 200/200 [00:07<00:00, 27.53it/s, best loss: -0.542]\n",
      "-----------------------------------------------------\n",
      "Freq: 15\n",
      "X_freq shape: (5000, 68)\n",
      "Found minimum after 200 trials:\n",
      "{'var_smoothing': 1.3011412302755199e-08}\n",
      "-----------------------------------------------------\n",
      "100%|██████████| 200/200 [00:05<00:00, 35.79it/s, best loss: -0.542]           \n",
      "-----------------------------------------------------\n",
      "Freq: 25\n",
      "X_freq shape: (5000, 41)\n",
      "Found minimum after 200 trials:\n",
      "{'var_smoothing': 8.468821292100098e-08}\n",
      "-----------------------------------------------------\n",
      "100%|██████████| 200/200 [00:04<00:00, 43.62it/s, best loss: -0.5452]           \n",
      "-----------------------------------------------------\n",
      "Freq: 50\n",
      "X_freq shape: (5000, 20)\n",
      "Found minimum after 200 trials:\n",
      "{'var_smoothing': 8.488524927904856e-08}\n",
      "-----------------------------------------------------\n",
      "100%|██████████| 200/200 [00:04<00:00, 46.49it/s, best loss: -0.541]\n",
      "-----------------------------------------------------\n",
      "Freq: 60\n",
      "X_freq shape: (5000, 17)\n",
      "Found minimum after 200 trials:\n",
      "{'var_smoothing': 2.720883932194419e-10}\n",
      "-----------------------------------------------------\n",
      "100%|██████████| 200/200 [00:04<00:00, 49.53it/s, best loss: -0.5444000000000001]\n",
      "-----------------------------------------------------\n",
      "Freq: 75\n",
      "X_freq shape: (5000, 14)\n",
      "Found minimum after 200 trials:\n",
      "{'var_smoothing': 3.930143869050912e-10}\n",
      "-----------------------------------------------------\n",
      "100%|██████████| 200/200 [00:04<00:00, 47.56it/s, best loss: -0.5392]\n",
      "-----------------------------------------------------\n",
      "Freq: 85\n",
      "X_freq shape: (5000, 13)\n",
      "Found minimum after 200 trials:\n",
      "{'var_smoothing': 4.764383488047532e-09}\n",
      "-----------------------------------------------------\n",
      "100%|██████████| 200/200 [00:04<00:00, 49.44it/s, best loss: -0.5412]\n",
      "-----------------------------------------------------\n",
      "Freq: 100\n",
      "X_freq shape: (5000, 10)\n",
      "Found minimum after 200 trials:\n",
      "{'var_smoothing': 2.916099934457147e-09}\n",
      "-----------------------------------------------------\n"
     ]
    }
   ],
   "source": [
    "def f(space):\n",
    "    model = GaussianNB(var_smoothing=space['var_smoothing'])\n",
    "    scores = cross_validate(model, X_freq, y, scoring='accuracy', cv=5)\n",
    "    return -scores['test_score'].mean()\n",
    "    \n",
    "space = {\n",
    "    'var_smoothing': hp.loguniform('var_smoothing', low=np.log(1e-10), high=np.log(1e-7))\n",
    "}\n",
    "\n",
    "global X_freq\n",
    "print_results()"
   ]
  },
  {
   "cell_type": "markdown",
   "metadata": {},
   "source": [
    "##### SVC"
   ]
  },
  {
   "cell_type": "code",
   "execution_count": null,
   "metadata": {},
   "outputs": [
    {
     "name": "stdout",
     "output_type": "stream",
     "text": [
      " 62%|██████▏   | 31/50 [2:20:06<2:50:48, 539.42s/it, best loss: -0.6972]         "
     ]
    }
   ],
   "source": [
    "def f(space):\n",
    "    model = SVC(C=space['C'], kernel=space['kernel'], degree=space['degree'], gamma=space['gamma'],\\\n",
    "               shrinking=space['shrinking'])\n",
    "    scores = cross_validate(model, X_freq, y, scoring='accuracy', cv=5)\n",
    "    return -scores['test_score'].mean()\n",
    "    \n",
    "space = {\n",
    "    'C': hp.loguniform('C', low=np.log(0.01), high=np.log(1)),\n",
    "    'kernel': hp.choice('kernel', ['linear', 'poly', 'rbf', 'sigmoid']),\n",
    "    'degree':  ho_scope.int(hp.quniform('degree', low=2, high=5, q=1)),\n",
    "    'gamma':  hp.loguniform('gamma', low=np.log(0.001), high=np.log(100)),\n",
    "    'shrinking': hp.choice('shrinking', [True, False])\n",
    "}\n",
    "\n",
    "global X_freq\n",
    "print_results(iter_num=50)"
   ]
  },
  {
   "cell_type": "markdown",
   "metadata": {},
   "source": [
    "##### PassiveAggressiveClassifier"
   ]
  },
  {
   "cell_type": "code",
   "execution_count": 13,
   "metadata": {},
   "outputs": [
    {
     "name": "stdout",
     "output_type": "stream",
     "text": [
      "100%|██████████| 200/200 [02:20<00:00,  1.42it/s, best loss: -0.504]             \n",
      "-----------------------------------------------------\n",
      "Freq: 1\n",
      "X_freq shape: (5000, 1024)\n",
      "Found minimum after 200 trials:\n",
      "{'C': 0.04927225867676801, 'fit_intercept': 0}\n",
      "-----------------------------------------------------\n",
      "100%|██████████| 200/200 [00:32<00:00,  6.24it/s, best loss: -0.5130000000000001]\n",
      "-----------------------------------------------------\n",
      "Freq: 5\n",
      "X_freq shape: (5000, 205)\n",
      "Found minimum after 200 trials:\n",
      "{'C': 0.019999891521113793, 'fit_intercept': 1}\n",
      "-----------------------------------------------------\n",
      "100%|██████████| 200/200 [00:19<00:00, 10.26it/s, best loss: -0.5182]           \n",
      "-----------------------------------------------------\n",
      "Freq: 10\n",
      "X_freq shape: (5000, 103)\n",
      "Found minimum after 200 trials:\n",
      "{'C': 0.045743072376309535, 'fit_intercept': 0}\n",
      "-----------------------------------------------------\n",
      "100%|██████████| 200/200 [00:15<00:00, 13.20it/s, best loss: -0.5274]\n",
      "-----------------------------------------------------\n",
      "Freq: 15\n",
      "X_freq shape: (5000, 68)\n",
      "Found minimum after 200 trials:\n",
      "{'C': 0.08111116564315238, 'fit_intercept': 0}\n",
      "-----------------------------------------------------\n",
      "100%|██████████| 200/200 [00:11<00:00, 17.09it/s, best loss: -0.523]\n",
      "-----------------------------------------------------\n",
      "Freq: 25\n",
      "X_freq shape: (5000, 41)\n",
      "Found minimum after 200 trials:\n",
      "{'C': 0.1247906026184183, 'fit_intercept': 0}\n",
      "-----------------------------------------------------\n",
      "100%|██████████| 200/200 [00:08<00:00, 24.40it/s, best loss: -0.5354]           \n",
      "-----------------------------------------------------\n",
      "Freq: 50\n",
      "X_freq shape: (5000, 20)\n",
      "Found minimum after 200 trials:\n",
      "{'C': 0.28831278821774, 'fit_intercept': 0}\n",
      "-----------------------------------------------------\n",
      "100%|██████████| 200/200 [00:07<00:00, 26.18it/s, best loss: -0.5222]           \n",
      "-----------------------------------------------------\n",
      "Freq: 60\n",
      "X_freq shape: (5000, 17)\n",
      "Found minimum after 200 trials:\n",
      "{'C': 0.26691935525331534, 'fit_intercept': 0}\n",
      "-----------------------------------------------------\n",
      "100%|██████████| 200/200 [00:07<00:00, 27.30it/s, best loss: -0.5232]           \n",
      "-----------------------------------------------------\n",
      "Freq: 75\n",
      "X_freq shape: (5000, 14)\n",
      "Found minimum after 200 trials:\n",
      "{'C': 0.3726165563847307, 'fit_intercept': 0}\n",
      "-----------------------------------------------------\n",
      "100%|██████████| 200/200 [00:06<00:00, 28.81it/s, best loss: -0.52]             \n",
      "-----------------------------------------------------\n",
      "Freq: 85\n",
      "X_freq shape: (5000, 13)\n",
      "Found minimum after 200 trials:\n",
      "{'C': 0.14780753918477524, 'fit_intercept': 0}\n",
      "-----------------------------------------------------\n",
      "100%|██████████| 200/200 [00:06<00:00, 30.72it/s, best loss: -0.5186]            \n",
      "-----------------------------------------------------\n",
      "Freq: 100\n",
      "X_freq shape: (5000, 10)\n",
      "Found minimum after 200 trials:\n",
      "{'C': 0.136523092599478, 'fit_intercept': 0}\n",
      "-----------------------------------------------------\n"
     ]
    }
   ],
   "source": [
    "def f(space):\n",
    "    model = PassiveAggressiveClassifier(C=space['C'], fit_intercept=space['fit_intercept'])\n",
    "    scores = cross_validate(model, X_freq, y, scoring='accuracy', cv=5)\n",
    "    return -scores['test_score'].mean()\n",
    "    \n",
    "space = {\n",
    "    'C': hp.loguniform('C', low=np.log(0.01), high=np.log(1)),\n",
    "    'fit_intercept': hp.choice('fit_intercept', [True, False]),\n",
    "}\n",
    "\n",
    "global X_freq\n",
    "print_results()"
   ]
  },
  {
   "cell_type": "markdown",
   "metadata": {},
   "source": [
    "#####  MLPClassifier"
   ]
  },
  {
   "cell_type": "code",
   "execution_count": 12,
   "metadata": {},
   "outputs": [
    {
     "name": "stdout",
     "output_type": "stream",
     "text": [
      "100%|██████████| 5/5 [09:40<00:00, 116.03s/it, best loss: -0.5022]\n",
      "-----------------------------------------------------\n",
      "Freq: 1\n",
      "X_freq shape: (5000, 1024)\n",
      "Found minimum after 5 trials:\n",
      "{'activation': 2, 'first_size': 80.0, 'learning_rate': 1, 'learning_rate_init': 0.0012757746198528675, 'max_iter': 450.0, 'second_size': 20.0}\n",
      "-----------------------------------------------------\n",
      "100%|██████████| 5/5 [04:32<00:00, 54.47s/it, best loss: -0.5296000000000001]\n",
      "-----------------------------------------------------\n",
      "Freq: 5\n",
      "X_freq shape: (5000, 205)\n",
      "Found minimum after 5 trials:\n",
      "{'activation': 1, 'first_size': 80.0, 'learning_rate': 1, 'learning_rate_init': 0.0010713389885314152, 'max_iter': 425.0, 'second_size': 15.0}\n",
      "-----------------------------------------------------\n",
      "100%|██████████| 5/5 [13:40<00:00, 164.12s/it, best loss: -0.6326]\n",
      "-----------------------------------------------------\n",
      "Freq: 10\n",
      "X_freq shape: (5000, 103)\n",
      "Found minimum after 5 trials:\n",
      "{'activation': 3, 'first_size': 80.0, 'learning_rate': 0, 'learning_rate_init': 0.0003183036747357121, 'max_iter': 350.0, 'second_size': 20.0}\n",
      "-----------------------------------------------------\n",
      "100%|██████████| 5/5 [13:10<00:00, 158.03s/it, best loss: -0.607]             \n",
      "-----------------------------------------------------\n",
      "Freq: 15\n",
      "X_freq shape: (5000, 68)\n",
      "Found minimum after 5 trials:\n",
      "{'activation': 3, 'first_size': 90.0, 'learning_rate': 1, 'learning_rate_init': 0.0003842101980832621, 'max_iter': 325.0, 'second_size': 30.0}\n",
      "-----------------------------------------------------\n",
      "100%|██████████| 5/5 [11:56<00:00, 143.24s/it, best loss: -0.5926]\n",
      "-----------------------------------------------------\n",
      "Freq: 25\n",
      "X_freq shape: (5000, 41)\n",
      "Found minimum after 5 trials:\n",
      "{'activation': 3, 'first_size': 90.0, 'learning_rate': 2, 'learning_rate_init': 0.0009480748924257245, 'max_iter': 350.0, 'second_size': 20.0}\n",
      "-----------------------------------------------------\n",
      "100%|██████████| 5/5 [03:22<00:00, 40.50s/it, best loss: -0.5466]            \n",
      "-----------------------------------------------------\n",
      "Freq: 50\n",
      "X_freq shape: (5000, 20)\n",
      "Found minimum after 5 trials:\n",
      "{'activation': 3, 'first_size': 70.0, 'learning_rate': 0, 'learning_rate_init': 7.410354046647282e-05, 'max_iter': 475.0, 'second_size': 15.0}\n",
      "-----------------------------------------------------\n",
      "100%|██████████| 5/5 [01:29<00:00, 17.94s/it, best loss: -0.5359999999999999]\n",
      "-----------------------------------------------------\n",
      "Freq: 60\n",
      "X_freq shape: (5000, 17)\n",
      "Found minimum after 5 trials:\n",
      "{'activation': 2, 'first_size': 50.0, 'learning_rate': 1, 'learning_rate_init': 0.0022946164514118703, 'max_iter': 475.0, 'second_size': 25.0}\n",
      "-----------------------------------------------------\n",
      "100%|██████████| 5/5 [01:13<00:00, 14.80s/it, best loss: -0.5156]\n",
      "-----------------------------------------------------\n",
      "Freq: 75\n",
      "X_freq shape: (5000, 14)\n",
      "Found minimum after 5 trials:\n",
      "{'activation': 3, 'first_size': 60.0, 'learning_rate': 1, 'learning_rate_init': 1.4230372748309872e-05, 'max_iter': 350.0, 'second_size': 20.0}\n",
      "-----------------------------------------------------\n",
      "100%|██████████| 5/5 [01:03<00:00, 12.63s/it, best loss: -0.5065999999999999]\n",
      "-----------------------------------------------------\n",
      "Freq: 85\n",
      "X_freq shape: (5000, 13)\n",
      "Found minimum after 5 trials:\n",
      "{'activation': 2, 'first_size': 80.0, 'learning_rate': 2, 'learning_rate_init': 0.0007837670257598938, 'max_iter': 350.0, 'second_size': 15.0}\n",
      "-----------------------------------------------------\n",
      "100%|██████████| 5/5 [01:10<00:00, 14.17s/it, best loss: -0.5234]            \n",
      "-----------------------------------------------------\n",
      "Freq: 100\n",
      "X_freq shape: (5000, 10)\n",
      "Found minimum after 5 trials:\n",
      "{'activation': 0, 'first_size': 60.0, 'learning_rate': 1, 'learning_rate_init': 1.7157133977872967e-05, 'max_iter': 325.0, 'second_size': 35.0}\n",
      "-----------------------------------------------------\n"
     ]
    }
   ],
   "source": [
    "def f(space):\n",
    "    model = MLPClassifier(hidden_layer_sizes=(space['first_size'], space['second_size']), \n",
    "                          activation=space['activation'], batch_size=16,\n",
    "                         max_iter=space['max_iter'], learning_rate=space['learning_rate'],\\\n",
    "                         learning_rate_init=space['learning_rate_init'])\n",
    "    scores = cross_validate(model, X_freq, y, scoring='accuracy', cv=5)\n",
    "    return -scores['test_score'].mean()\n",
    "    \n",
    "space = {\n",
    "    'first_size':  ho_scope.int(hp.quniform('first_size', low=50, high=100, q=10)),\n",
    "    'second_size':  ho_scope.int(hp.quniform('second_size', low=10, high=40, q=5)),\n",
    "    'activation': hp.choice('activation', ['identity', 'logistic', 'tanh', 'relu']),\n",
    "    'learning_rate': hp.choice('learning_rate', ['constant', 'invscaling', 'adaptive']),\n",
    "    'learning_rate_init': hp.loguniform('learning_rate_init', low=np.log(0.00001), high=np.log(0.1)),\n",
    "    'max_iter': ho_scope.int(hp.quniform('max_iter', low=300, high=500, q=25))\n",
    "}\n",
    "\n",
    "global X_freq\n",
    "print_results(iter_num=5)"
   ]
  }
 ],
 "metadata": {
  "kernelspec": {
   "display_name": "Python [conda env:.conda-impulse_processing] *",
   "language": "python",
   "name": "conda-env-.conda-impulse_processing-py"
  },
  "language_info": {
   "codemirror_mode": {
    "name": "ipython",
    "version": 3
   },
   "file_extension": ".py",
   "mimetype": "text/x-python",
   "name": "python",
   "nbconvert_exporter": "python",
   "pygments_lexer": "ipython3",
   "version": "3.6.9"
  }
 },
 "nbformat": 4,
 "nbformat_minor": 2
}
