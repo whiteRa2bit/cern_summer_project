{
 "cells": [
  {
   "cell_type": "code",
   "execution_count": 1,
   "metadata": {},
   "outputs": [],
   "source": [
    "import matplotlib.pyplot as plt\n",
    "import numpy as np\n",
    "from sklearn.model_selection import train_test_split\n",
    "from sklearn.linear_model import LinearRegression\n",
    "from sklearn.metrics import r2_score, mean_absolute_error, mean_squared_error\n",
    "from sklearn.model_selection import cross_validate\n",
    "import tqdm\n",
    "import random"
   ]
  },
  {
   "cell_type": "code",
   "execution_count": 2,
   "metadata": {},
   "outputs": [],
   "source": [
    "from hyperopt.pyll import scope as ho_scope\n",
    "from hyperopt import fmin, tpe, hp"
   ]
  },
  {
   "cell_type": "markdown",
   "metadata": {},
   "source": [
    "### Prepare data"
   ]
  },
  {
   "cell_type": "code",
   "execution_count": 3,
   "metadata": {},
   "outputs": [],
   "source": [
    "from common import get_data, get_freq_data, signal_cyclic_shift, generate_multi_signal"
   ]
  },
  {
   "cell_type": "code",
   "execution_count": 4,
   "metadata": {},
   "outputs": [],
   "source": [
    "X_origin, y_origin = get_data()"
   ]
  },
  {
   "cell_type": "code",
   "execution_count": 5,
   "metadata": {},
   "outputs": [],
   "source": [
    "from sklearn.utils import shuffle\n",
    "\n",
    "def prepare_data(X_origin, y_origin, tau_range, alpha_range, data_size=1000, to_print=False):    \n",
    "    X = []\n",
    "    y = []\n",
    "    alpha_values = []\n",
    "    tau_values = []\n",
    "    for i in range(data_size):\n",
    "        alpha = random.choice(alpha_range)\n",
    "        tau = random.choice(tau_range)\n",
    "        signal = generate_multi_signal(X_origin, y_origin, tau, alpha)\n",
    "        \n",
    "        \n",
    "        X.append(signal['multi_impulse'])\n",
    "        y.append(signal['multi_ref_time']) ### We have alpha >= 1 so second_ref_time always will be close to 167,\n",
    "                                           ### so we will predict first_ref_time\n",
    "        \n",
    "        alpha_values.append(alpha)\n",
    "        tau_values.append(tau)\n",
    "   \n",
    "    X = np.array(X)\n",
    "    y = np.array(y)\n",
    "    \n",
    "    if to_print:\n",
    "        print(\"X shape:\", X.shape)\n",
    "        print(\"y shape:\", y.shape)\n",
    "    \n",
    "    X, y = shuffle(X, y)\n",
    "\n",
    "#     plt.scatter(alpha_values, tau_values)\n",
    "#     plt.show()\n",
    "    \n",
    "    return X, y"
   ]
  },
  {
   "cell_type": "code",
   "execution_count": 6,
   "metadata": {},
   "outputs": [],
   "source": [
    "# alpha_range = np.array([np.around(10**i, decimals=4) for i in np.arange(0, 3.1, 0.01)])\n",
    "alpha_range = np.array([np.around(10**i, decimals=4) for i in np.arange(-3, 3.1, 0.1)])\n",
    "tau_range = np.arange(-25, 25, 1)"
   ]
  },
  {
   "cell_type": "code",
   "execution_count": 7,
   "metadata": {
<<<<<<< HEAD
    "scrolled": true
=======
    "scrolled": false
>>>>>>> e4dcd5c0b4b6e0d33a5d5dfd4c0fa7cb64088575
   },
   "outputs": [
    {
     "name": "stdout",
     "output_type": "stream",
     "text": [
<<<<<<< HEAD
      "X shape: (500, 1024)\n",
      "y shape: (500,)\n"
=======
      "X shape: (5000, 1024)\n",
      "y shape: (5000,)\n"
>>>>>>> e4dcd5c0b4b6e0d33a5d5dfd4c0fa7cb64088575
     ]
    }
   ],
   "source": [
<<<<<<< HEAD
    "X, y = prepare_data(X_origin, y_origin, tau_range, alpha_range, data_size=500, to_print=True)"
=======
    "X, y = prepare_data(X_origin, y_origin, tau_range, alpha_range, data_size=5000, to_print=True)"
>>>>>>> e4dcd5c0b4b6e0d33a5d5dfd4c0fa7cb64088575
   ]
  },
  {
   "cell_type": "markdown",
   "metadata": {},
   "source": [
    "### Hyperopt"
   ]
  },
  {
   "cell_type": "code",
   "execution_count": 8,
   "metadata": {},
   "outputs": [],
   "source": [
    "from sklearn.pipeline import Pipeline\n",
    "from sklearn.linear_model import HuberRegressor\n",
    "from sklearn import linear_model\n",
    "from sklearn import tree\n",
    "from sklearn import svm\n",
    "from sklearn.linear_model import PassiveAggressiveRegressor\n",
    "import xgboost as xgb"
   ]
  },
  {
   "cell_type": "code",
   "execution_count": 9,
   "metadata": {},
   "outputs": [],
   "source": [
<<<<<<< HEAD
    "freq_values = [1, 5, 10, 15, 25, 50, 60, 75, 85, 100]"
=======
    "freq_values = [5, 10, 15, 25, 50, 60, 75, 85, 100]"
>>>>>>> e4dcd5c0b4b6e0d33a5d5dfd4c0fa7cb64088575
   ]
  },
  {
   "cell_type": "code",
   "execution_count": 10,
   "metadata": {},
   "outputs": [],
   "source": [
    "def print_results(iter_num=200):\n",
    "    global X_freq\n",
    "    for freq in freq_values:\n",
    "        X_freq = get_freq_data(X, freq=freq)\n",
    "\n",
    "        best = fmin(\n",
    "            fn=f,  # \"Loss\" function to minimize\n",
    "            space=space,  # Hyperparameter space\n",
    "            algo=tpe.suggest,  # Tree-structured Parzen Estimator (TPE)\n",
    "            max_evals=iter_num  # Perform 100 trials\n",
    "        )\n",
    "\n",
    "        print('-----------------------------------------------------')\n",
    "        print(\"Freq:\", freq)\n",
    "        print(\"X_freq shape:\", X_freq.shape)\n",
    "        print(\"Found minimum after %d trials:\" %(iter_num))\n",
    "        print(best)\n",
    "        print('-----------------------------------------------------')"
   ]
  },
  {
   "cell_type": "markdown",
   "metadata": {},
   "source": [
    "##### Huber"
   ]
  },
  {
   "cell_type": "code",
<<<<<<< HEAD
   "execution_count": 11,
=======
   "execution_count": null,
>>>>>>> e4dcd5c0b4b6e0d33a5d5dfd4c0fa7cb64088575
   "metadata": {},
   "outputs": [
    {
     "name": "stdout",
     "output_type": "stream",
     "text": [
<<<<<<< HEAD
      "100%|██████████| 200/200 [29:28<00:00,  8.84s/it, best loss: 1.3375741616160242]\n",
      "-----------------------------------------------------\n",
      "Freq: 1\n",
      "X_freq shape: (500, 1024)\n",
      "Found minimum after 200 trials:\n",
      "{'alpha': 0.008521818681809356, 'epsilon': 1.1017943218278217, 'max_iter': 400.0}\n",
      "-----------------------------------------------------\n",
      "100%|██████████| 200/200 [11:04<00:00,  3.32s/it, best loss: 1.3311372796408172]\n",
      "-----------------------------------------------------\n",
      "Freq: 5\n",
      "X_freq shape: (500, 204)\n",
      "Found minimum after 200 trials:\n",
      "{'alpha': 0.009951128294276784, 'epsilon': 1.114980018642794, 'max_iter': 350.0}\n",
      "-----------------------------------------------------\n",
      "  2%|▎         | 5/200 [00:15<10:04,  3.10s/it, best loss: 1.3523292756790046]"
     ]
    },
    {
     "name": "stderr",
     "output_type": "stream",
     "text": [
      "/home/pfackanov/.conda/envs/impulse_processing/lib/python3.6/site-packages/sklearn/linear_model/huber.py:85: RuntimeWarning: invalid value encountered in double_scalars\n",
      "  squared_loss = weighted_loss / sigma\n",
      "\n",
      "/home/pfackanov/.conda/envs/impulse_processing/lib/python3.6/site-packages/sklearn/linear_model/huber.py:95: RuntimeWarning: divide by zero encountered in double_scalars\n",
      "  2. / sigma * safe_sparse_dot(weighted_non_outliers, X_non_outliers))\n",
      "\n",
      "/home/pfackanov/.conda/envs/impulse_processing/lib/python3.6/site-packages/sklearn/linear_model/huber.py:95: RuntimeWarning: invalid value encountered in multiply\n",
      "  2. / sigma * safe_sparse_dot(weighted_non_outliers, X_non_outliers))\n",
      "\n",
      "/home/pfackanov/.conda/envs/impulse_processing/lib/python3.6/site-packages/sklearn/linear_model/huber.py:116: RuntimeWarning: invalid value encountered in double_scalars\n",
      "  grad[-2] = -2. * np.sum(weighted_non_outliers) / sigma\n",
      "\n"
     ]
    },
    {
     "name": "stdout",
     "output_type": "stream",
     "text": [
      "  4%|▍         | 8/200 [00:21<07:45,  2.43s/it, best loss: 1.3523292756790046]"
     ]
    },
    {
     "name": "stderr",
     "output_type": "stream",
     "text": [
      "/home/pfackanov/.conda/envs/impulse_processing/lib/python3.6/site-packages/sklearn/linear_model/huber.py:85: RuntimeWarning: invalid value encountered in double_scalars\n",
      "  squared_loss = weighted_loss / sigma\n",
      "\n",
      "/home/pfackanov/.conda/envs/impulse_processing/lib/python3.6/site-packages/sklearn/linear_model/huber.py:95: RuntimeWarning: divide by zero encountered in double_scalars\n",
      "  2. / sigma * safe_sparse_dot(weighted_non_outliers, X_non_outliers))\n",
      "\n",
      "/home/pfackanov/.conda/envs/impulse_processing/lib/python3.6/site-packages/sklearn/linear_model/huber.py:95: RuntimeWarning: invalid value encountered in multiply\n",
      "  2. / sigma * safe_sparse_dot(weighted_non_outliers, X_non_outliers))\n",
      "\n",
      "/home/pfackanov/.conda/envs/impulse_processing/lib/python3.6/site-packages/sklearn/linear_model/huber.py:116: RuntimeWarning: invalid value encountered in double_scalars\n",
      "  grad[-2] = -2. * np.sum(weighted_non_outliers) / sigma\n",
      "\n"
     ]
    },
    {
     "name": "stdout",
     "output_type": "stream",
     "text": [
      "  8%|▊         | 15/200 [00:36<06:42,  2.17s/it, best loss: 1.3498172631818997]"
     ]
    },
    {
     "name": "stderr",
     "output_type": "stream",
     "text": [
      "/home/pfackanov/.conda/envs/impulse_processing/lib/python3.6/site-packages/sklearn/linear_model/huber.py:85: RuntimeWarning: invalid value encountered in double_scalars\n",
      "  squared_loss = weighted_loss / sigma\n",
      "\n",
      "/home/pfackanov/.conda/envs/impulse_processing/lib/python3.6/site-packages/sklearn/linear_model/huber.py:95: RuntimeWarning: divide by zero encountered in double_scalars\n",
      "  2. / sigma * safe_sparse_dot(weighted_non_outliers, X_non_outliers))\n",
      "\n",
      "/home/pfackanov/.conda/envs/impulse_processing/lib/python3.6/site-packages/sklearn/linear_model/huber.py:95: RuntimeWarning: invalid value encountered in multiply\n",
      "  2. / sigma * safe_sparse_dot(weighted_non_outliers, X_non_outliers))\n",
      "\n",
      "/home/pfackanov/.conda/envs/impulse_processing/lib/python3.6/site-packages/sklearn/linear_model/huber.py:116: RuntimeWarning: invalid value encountered in double_scalars\n",
      "  grad[-2] = -2. * np.sum(weighted_non_outliers) / sigma\n",
      "\n"
     ]
    },
    {
     "name": "stdout",
     "output_type": "stream",
     "text": [
      " 20%|██        | 40/200 [02:09<11:02,  4.14s/it, best loss: 1.3386365484657816]"
     ]
    },
    {
     "name": "stderr",
     "output_type": "stream",
     "text": [
      "/home/pfackanov/.conda/envs/impulse_processing/lib/python3.6/site-packages/sklearn/linear_model/huber.py:85: RuntimeWarning: invalid value encountered in double_scalars\n",
      "  squared_loss = weighted_loss / sigma\n",
      "\n",
      "/home/pfackanov/.conda/envs/impulse_processing/lib/python3.6/site-packages/sklearn/linear_model/huber.py:95: RuntimeWarning: divide by zero encountered in double_scalars\n",
      "  2. / sigma * safe_sparse_dot(weighted_non_outliers, X_non_outliers))\n",
      "\n",
      "/home/pfackanov/.conda/envs/impulse_processing/lib/python3.6/site-packages/sklearn/linear_model/huber.py:95: RuntimeWarning: invalid value encountered in multiply\n",
      "  2. / sigma * safe_sparse_dot(weighted_non_outliers, X_non_outliers))\n",
      "\n",
      "/home/pfackanov/.conda/envs/impulse_processing/lib/python3.6/site-packages/sklearn/linear_model/huber.py:116: RuntimeWarning: invalid value encountered in double_scalars\n",
      "  grad[-2] = -2. * np.sum(weighted_non_outliers) / sigma\n",
      "\n"
     ]
    },
    {
     "name": "stdout",
     "output_type": "stream",
     "text": [
      " 22%|██▏       | 44/200 [02:23<09:40,  3.72s/it, best loss: 1.3386365484657816]"
     ]
    },
    {
     "name": "stderr",
     "output_type": "stream",
     "text": [
      "/home/pfackanov/.conda/envs/impulse_processing/lib/python3.6/site-packages/sklearn/linear_model/huber.py:85: RuntimeWarning: invalid value encountered in double_scalars\n",
      "  squared_loss = weighted_loss / sigma\n",
      "\n",
      "/home/pfackanov/.conda/envs/impulse_processing/lib/python3.6/site-packages/sklearn/linear_model/huber.py:95: RuntimeWarning: divide by zero encountered in double_scalars\n",
      "  2. / sigma * safe_sparse_dot(weighted_non_outliers, X_non_outliers))\n",
      "\n",
      "/home/pfackanov/.conda/envs/impulse_processing/lib/python3.6/site-packages/sklearn/linear_model/huber.py:95: RuntimeWarning: invalid value encountered in multiply\n",
      "  2. / sigma * safe_sparse_dot(weighted_non_outliers, X_non_outliers))\n",
      "\n",
      "/home/pfackanov/.conda/envs/impulse_processing/lib/python3.6/site-packages/sklearn/linear_model/huber.py:116: RuntimeWarning: invalid value encountered in double_scalars\n",
      "  grad[-2] = -2. * np.sum(weighted_non_outliers) / sigma\n",
      "\n",
      "/home/pfackanov/.conda/envs/impulse_processing/lib/python3.6/site-packages/sklearn/linear_model/huber.py:85: RuntimeWarning: invalid value encountered in double_scalars\n",
      "  squared_loss = weighted_loss / sigma\n",
      "\n",
      "/home/pfackanov/.conda/envs/impulse_processing/lib/python3.6/site-packages/sklearn/linear_model/huber.py:95: RuntimeWarning: divide by zero encountered in double_scalars\n",
      "  2. / sigma * safe_sparse_dot(weighted_non_outliers, X_non_outliers))\n",
      "\n",
      "/home/pfackanov/.conda/envs/impulse_processing/lib/python3.6/site-packages/sklearn/linear_model/huber.py:95: RuntimeWarning: invalid value encountered in multiply\n",
      "  2. / sigma * safe_sparse_dot(weighted_non_outliers, X_non_outliers))\n",
      "\n",
      "/home/pfackanov/.conda/envs/impulse_processing/lib/python3.6/site-packages/sklearn/linear_model/huber.py:116: RuntimeWarning: invalid value encountered in double_scalars\n",
      "  grad[-2] = -2. * np.sum(weighted_non_outliers) / sigma\n",
      "\n",
      "/home/pfackanov/.conda/envs/impulse_processing/lib/python3.6/site-packages/sklearn/linear_model/huber.py:85: RuntimeWarning: invalid value encountered in double_scalars\n",
      "  squared_loss = weighted_loss / sigma\n",
      "\n",
      "/home/pfackanov/.conda/envs/impulse_processing/lib/python3.6/site-packages/sklearn/linear_model/huber.py:95: RuntimeWarning: divide by zero encountered in double_scalars\n",
      "  2. / sigma * safe_sparse_dot(weighted_non_outliers, X_non_outliers))\n",
      "\n",
      "/home/pfackanov/.conda/envs/impulse_processing/lib/python3.6/site-packages/sklearn/linear_model/huber.py:95: RuntimeWarning: invalid value encountered in multiply\n",
      "  2. / sigma * safe_sparse_dot(weighted_non_outliers, X_non_outliers))\n",
      "\n",
      "/home/pfackanov/.conda/envs/impulse_processing/lib/python3.6/site-packages/sklearn/linear_model/huber.py:116: RuntimeWarning: invalid value encountered in double_scalars\n",
      "  grad[-2] = -2. * np.sum(weighted_non_outliers) / sigma\n",
      "\n",
      "/home/pfackanov/.conda/envs/impulse_processing/lib/python3.6/site-packages/sklearn/linear_model/huber.py:85: RuntimeWarning: invalid value encountered in double_scalars\n",
      "  squared_loss = weighted_loss / sigma\n",
      "\n",
      "/home/pfackanov/.conda/envs/impulse_processing/lib/python3.6/site-packages/sklearn/linear_model/huber.py:95: RuntimeWarning: divide by zero encountered in double_scalars\n",
      "  2. / sigma * safe_sparse_dot(weighted_non_outliers, X_non_outliers))\n",
      "\n",
      "/home/pfackanov/.conda/envs/impulse_processing/lib/python3.6/site-packages/sklearn/linear_model/huber.py:95: RuntimeWarning: invalid value encountered in multiply\n",
      "  2. / sigma * safe_sparse_dot(weighted_non_outliers, X_non_outliers))\n",
      "\n",
      "/home/pfackanov/.conda/envs/impulse_processing/lib/python3.6/site-packages/sklearn/linear_model/huber.py:116: RuntimeWarning: invalid value encountered in double_scalars\n",
      "  grad[-2] = -2. * np.sum(weighted_non_outliers) / sigma\n",
      "\n",
      "/home/pfackanov/.conda/envs/impulse_processing/lib/python3.6/site-packages/sklearn/linear_model/huber.py:85: RuntimeWarning: invalid value encountered in double_scalars\n",
      "  squared_loss = weighted_loss / sigma\n",
      "\n",
      "/home/pfackanov/.conda/envs/impulse_processing/lib/python3.6/site-packages/sklearn/linear_model/huber.py:95: RuntimeWarning: divide by zero encountered in double_scalars\n",
      "  2. / sigma * safe_sparse_dot(weighted_non_outliers, X_non_outliers))\n",
      "\n",
      "/home/pfackanov/.conda/envs/impulse_processing/lib/python3.6/site-packages/sklearn/linear_model/huber.py:95: RuntimeWarning: invalid value encountered in multiply\n",
      "  2. / sigma * safe_sparse_dot(weighted_non_outliers, X_non_outliers))\n",
      "\n",
      "/home/pfackanov/.conda/envs/impulse_processing/lib/python3.6/site-packages/sklearn/linear_model/huber.py:116: RuntimeWarning: invalid value encountered in double_scalars\n",
      "  grad[-2] = -2. * np.sum(weighted_non_outliers) / sigma\n",
      "\n"
     ]
    },
    {
     "name": "stdout",
     "output_type": "stream",
     "text": [
      " 30%|███       | 61/200 [03:12<08:17,  3.58s/it, best loss: 1.3386365484657816]"
     ]
    },
    {
     "name": "stderr",
     "output_type": "stream",
     "text": [
      "/home/pfackanov/.conda/envs/impulse_processing/lib/python3.6/site-packages/sklearn/linear_model/huber.py:85: RuntimeWarning: invalid value encountered in double_scalars\n",
      "  squared_loss = weighted_loss / sigma\n",
      "\n",
      "/home/pfackanov/.conda/envs/impulse_processing/lib/python3.6/site-packages/sklearn/linear_model/huber.py:95: RuntimeWarning: divide by zero encountered in double_scalars\n",
      "  2. / sigma * safe_sparse_dot(weighted_non_outliers, X_non_outliers))\n",
      "\n",
      "/home/pfackanov/.conda/envs/impulse_processing/lib/python3.6/site-packages/sklearn/linear_model/huber.py:95: RuntimeWarning: invalid value encountered in multiply\n",
      "  2. / sigma * safe_sparse_dot(weighted_non_outliers, X_non_outliers))\n",
      "\n",
      "/home/pfackanov/.conda/envs/impulse_processing/lib/python3.6/site-packages/sklearn/linear_model/huber.py:116: RuntimeWarning: invalid value encountered in double_scalars\n",
      "  grad[-2] = -2. * np.sum(weighted_non_outliers) / sigma\n",
      "\n",
      "/home/pfackanov/.conda/envs/impulse_processing/lib/python3.6/site-packages/sklearn/linear_model/huber.py:85: RuntimeWarning: invalid value encountered in double_scalars\n",
      "  squared_loss = weighted_loss / sigma\n",
      "\n",
      "/home/pfackanov/.conda/envs/impulse_processing/lib/python3.6/site-packages/sklearn/linear_model/huber.py:95: RuntimeWarning: divide by zero encountered in double_scalars\n",
      "  2. / sigma * safe_sparse_dot(weighted_non_outliers, X_non_outliers))\n",
      "\n",
      "/home/pfackanov/.conda/envs/impulse_processing/lib/python3.6/site-packages/sklearn/linear_model/huber.py:95: RuntimeWarning: invalid value encountered in multiply\n",
      "  2. / sigma * safe_sparse_dot(weighted_non_outliers, X_non_outliers))\n",
      "\n",
      "/home/pfackanov/.conda/envs/impulse_processing/lib/python3.6/site-packages/sklearn/linear_model/huber.py:116: RuntimeWarning: invalid value encountered in double_scalars\n",
      "  grad[-2] = -2. * np.sum(weighted_non_outliers) / sigma\n",
      "\n"
     ]
    },
    {
     "name": "stdout",
     "output_type": "stream",
     "text": [
      " 39%|███▉      | 78/200 [04:15<08:28,  4.17s/it, best loss: 1.337078089900487] "
     ]
    },
    {
     "name": "stderr",
     "output_type": "stream",
     "text": [
      "/home/pfackanov/.conda/envs/impulse_processing/lib/python3.6/site-packages/sklearn/linear_model/huber.py:85: RuntimeWarning: invalid value encountered in double_scalars\n",
      "  squared_loss = weighted_loss / sigma\n",
      "\n",
      "/home/pfackanov/.conda/envs/impulse_processing/lib/python3.6/site-packages/sklearn/linear_model/huber.py:95: RuntimeWarning: divide by zero encountered in double_scalars\n",
      "  2. / sigma * safe_sparse_dot(weighted_non_outliers, X_non_outliers))\n",
      "\n",
      "/home/pfackanov/.conda/envs/impulse_processing/lib/python3.6/site-packages/sklearn/linear_model/huber.py:95: RuntimeWarning: invalid value encountered in multiply\n",
      "  2. / sigma * safe_sparse_dot(weighted_non_outliers, X_non_outliers))\n",
      "\n",
      "/home/pfackanov/.conda/envs/impulse_processing/lib/python3.6/site-packages/sklearn/linear_model/huber.py:116: RuntimeWarning: invalid value encountered in double_scalars\n",
      "  grad[-2] = -2. * np.sum(weighted_non_outliers) / sigma\n",
      "\n"
     ]
    },
    {
     "name": "stdout",
     "output_type": "stream",
     "text": [
      " 48%|████▊     | 96/200 [05:24<06:28,  3.73s/it, best loss: 1.337078089900487]"
     ]
    },
    {
     "name": "stderr",
     "output_type": "stream",
     "text": [
      "/home/pfackanov/.conda/envs/impulse_processing/lib/python3.6/site-packages/sklearn/linear_model/huber.py:85: RuntimeWarning: invalid value encountered in double_scalars\n",
      "  squared_loss = weighted_loss / sigma\n",
      "\n",
      "/home/pfackanov/.conda/envs/impulse_processing/lib/python3.6/site-packages/sklearn/linear_model/huber.py:95: RuntimeWarning: divide by zero encountered in double_scalars\n",
      "  2. / sigma * safe_sparse_dot(weighted_non_outliers, X_non_outliers))\n",
      "\n",
      "/home/pfackanov/.conda/envs/impulse_processing/lib/python3.6/site-packages/sklearn/linear_model/huber.py:95: RuntimeWarning: invalid value encountered in multiply\n",
      "  2. / sigma * safe_sparse_dot(weighted_non_outliers, X_non_outliers))\n",
      "\n",
      "/home/pfackanov/.conda/envs/impulse_processing/lib/python3.6/site-packages/sklearn/linear_model/huber.py:116: RuntimeWarning: invalid value encountered in double_scalars\n",
      "  grad[-2] = -2. * np.sum(weighted_non_outliers) / sigma\n",
      "\n",
      "/home/pfackanov/.conda/envs/impulse_processing/lib/python3.6/site-packages/sklearn/linear_model/huber.py:85: RuntimeWarning: invalid value encountered in double_scalars\n",
      "  squared_loss = weighted_loss / sigma\n",
      "\n",
      "/home/pfackanov/.conda/envs/impulse_processing/lib/python3.6/site-packages/sklearn/linear_model/huber.py:95: RuntimeWarning: divide by zero encountered in double_scalars\n",
      "  2. / sigma * safe_sparse_dot(weighted_non_outliers, X_non_outliers))\n",
      "\n",
      "/home/pfackanov/.conda/envs/impulse_processing/lib/python3.6/site-packages/sklearn/linear_model/huber.py:95: RuntimeWarning: invalid value encountered in multiply\n",
      "  2. / sigma * safe_sparse_dot(weighted_non_outliers, X_non_outliers))\n",
      "\n",
      "/home/pfackanov/.conda/envs/impulse_processing/lib/python3.6/site-packages/sklearn/linear_model/huber.py:116: RuntimeWarning: invalid value encountered in double_scalars\n",
      "  grad[-2] = -2. * np.sum(weighted_non_outliers) / sigma\n",
      "\n",
      "/home/pfackanov/.conda/envs/impulse_processing/lib/python3.6/site-packages/sklearn/linear_model/huber.py:85: RuntimeWarning: invalid value encountered in double_scalars\n",
      "  squared_loss = weighted_loss / sigma\n",
      "\n",
      "/home/pfackanov/.conda/envs/impulse_processing/lib/python3.6/site-packages/sklearn/linear_model/huber.py:95: RuntimeWarning: divide by zero encountered in double_scalars\n",
      "  2. / sigma * safe_sparse_dot(weighted_non_outliers, X_non_outliers))\n",
      "\n",
      "/home/pfackanov/.conda/envs/impulse_processing/lib/python3.6/site-packages/sklearn/linear_model/huber.py:95: RuntimeWarning: invalid value encountered in multiply\n",
      "  2. / sigma * safe_sparse_dot(weighted_non_outliers, X_non_outliers))\n",
      "\n",
      "/home/pfackanov/.conda/envs/impulse_processing/lib/python3.6/site-packages/sklearn/linear_model/huber.py:116: RuntimeWarning: invalid value encountered in double_scalars\n",
      "  grad[-2] = -2. * np.sum(weighted_non_outliers) / sigma\n",
      "\n",
      "/home/pfackanov/.conda/envs/impulse_processing/lib/python3.6/site-packages/sklearn/linear_model/huber.py:85: RuntimeWarning: invalid value encountered in double_scalars\n",
      "  squared_loss = weighted_loss / sigma\n",
      "\n",
      "/home/pfackanov/.conda/envs/impulse_processing/lib/python3.6/site-packages/sklearn/linear_model/huber.py:95: RuntimeWarning: divide by zero encountered in double_scalars\n",
      "  2. / sigma * safe_sparse_dot(weighted_non_outliers, X_non_outliers))\n",
      "\n",
      "/home/pfackanov/.conda/envs/impulse_processing/lib/python3.6/site-packages/sklearn/linear_model/huber.py:95: RuntimeWarning: invalid value encountered in multiply\n",
      "  2. / sigma * safe_sparse_dot(weighted_non_outliers, X_non_outliers))\n",
      "\n",
      "/home/pfackanov/.conda/envs/impulse_processing/lib/python3.6/site-packages/sklearn/linear_model/huber.py:116: RuntimeWarning: invalid value encountered in double_scalars\n",
      "  grad[-2] = -2. * np.sum(weighted_non_outliers) / sigma\n",
      "\n",
      "/home/pfackanov/.conda/envs/impulse_processing/lib/python3.6/site-packages/sklearn/linear_model/huber.py:85: RuntimeWarning: invalid value encountered in double_scalars\n",
      "  squared_loss = weighted_loss / sigma\n",
      "\n",
      "/home/pfackanov/.conda/envs/impulse_processing/lib/python3.6/site-packages/sklearn/linear_model/huber.py:95: RuntimeWarning: divide by zero encountered in double_scalars\n",
      "  2. / sigma * safe_sparse_dot(weighted_non_outliers, X_non_outliers))\n",
      "\n",
      "/home/pfackanov/.conda/envs/impulse_processing/lib/python3.6/site-packages/sklearn/linear_model/huber.py:95: RuntimeWarning: invalid value encountered in multiply\n",
      "  2. / sigma * safe_sparse_dot(weighted_non_outliers, X_non_outliers))\n",
      "\n",
      "/home/pfackanov/.conda/envs/impulse_processing/lib/python3.6/site-packages/sklearn/linear_model/huber.py:116: RuntimeWarning: invalid value encountered in double_scalars\n",
      "  grad[-2] = -2. * np.sum(weighted_non_outliers) / sigma\n",
      "\n"
     ]
    },
    {
     "name": "stdout",
     "output_type": "stream",
     "text": [
      " 50%|█████     | 101/200 [05:46<06:56,  4.21s/it, best loss: 1.337078089900487]"
     ]
    },
    {
     "name": "stderr",
     "output_type": "stream",
     "text": [
      "/home/pfackanov/.conda/envs/impulse_processing/lib/python3.6/site-packages/sklearn/linear_model/huber.py:85: RuntimeWarning: invalid value encountered in double_scalars\n",
      "  squared_loss = weighted_loss / sigma\n",
      "\n",
      "/home/pfackanov/.conda/envs/impulse_processing/lib/python3.6/site-packages/sklearn/linear_model/huber.py:95: RuntimeWarning: divide by zero encountered in double_scalars\n",
      "  2. / sigma * safe_sparse_dot(weighted_non_outliers, X_non_outliers))\n",
      "\n",
      "/home/pfackanov/.conda/envs/impulse_processing/lib/python3.6/site-packages/sklearn/linear_model/huber.py:95: RuntimeWarning: invalid value encountered in multiply\n",
      "  2. / sigma * safe_sparse_dot(weighted_non_outliers, X_non_outliers))\n",
      "\n",
      "/home/pfackanov/.conda/envs/impulse_processing/lib/python3.6/site-packages/sklearn/linear_model/huber.py:116: RuntimeWarning: invalid value encountered in double_scalars\n",
      "  grad[-2] = -2. * np.sum(weighted_non_outliers) / sigma\n",
      "\n",
      "/home/pfackanov/.conda/envs/impulse_processing/lib/python3.6/site-packages/sklearn/linear_model/huber.py:85: RuntimeWarning: invalid value encountered in double_scalars\n",
      "  squared_loss = weighted_loss / sigma\n",
      "\n",
      "/home/pfackanov/.conda/envs/impulse_processing/lib/python3.6/site-packages/sklearn/linear_model/huber.py:95: RuntimeWarning: divide by zero encountered in double_scalars\n",
      "  2. / sigma * safe_sparse_dot(weighted_non_outliers, X_non_outliers))\n",
      "\n",
      "/home/pfackanov/.conda/envs/impulse_processing/lib/python3.6/site-packages/sklearn/linear_model/huber.py:95: RuntimeWarning: invalid value encountered in multiply\n",
      "  2. / sigma * safe_sparse_dot(weighted_non_outliers, X_non_outliers))\n",
      "\n",
      "/home/pfackanov/.conda/envs/impulse_processing/lib/python3.6/site-packages/sklearn/linear_model/huber.py:116: RuntimeWarning: invalid value encountered in double_scalars\n",
      "  grad[-2] = -2. * np.sum(weighted_non_outliers) / sigma\n",
      "\n",
      "/home/pfackanov/.conda/envs/impulse_processing/lib/python3.6/site-packages/sklearn/linear_model/huber.py:85: RuntimeWarning: invalid value encountered in double_scalars\n",
      "  squared_loss = weighted_loss / sigma\n",
      "\n",
      "/home/pfackanov/.conda/envs/impulse_processing/lib/python3.6/site-packages/sklearn/linear_model/huber.py:95: RuntimeWarning: divide by zero encountered in double_scalars\n",
      "  2. / sigma * safe_sparse_dot(weighted_non_outliers, X_non_outliers))\n",
      "\n",
      "/home/pfackanov/.conda/envs/impulse_processing/lib/python3.6/site-packages/sklearn/linear_model/huber.py:95: RuntimeWarning: invalid value encountered in multiply\n",
      "  2. / sigma * safe_sparse_dot(weighted_non_outliers, X_non_outliers))\n",
      "\n",
      "/home/pfackanov/.conda/envs/impulse_processing/lib/python3.6/site-packages/sklearn/linear_model/huber.py:116: RuntimeWarning: invalid value encountered in double_scalars\n",
      "  grad[-2] = -2. * np.sum(weighted_non_outliers) / sigma\n",
      "\n",
      "/home/pfackanov/.conda/envs/impulse_processing/lib/python3.6/site-packages/sklearn/linear_model/huber.py:85: RuntimeWarning: invalid value encountered in double_scalars\n",
      "  squared_loss = weighted_loss / sigma\n",
      "\n",
      "/home/pfackanov/.conda/envs/impulse_processing/lib/python3.6/site-packages/sklearn/linear_model/huber.py:95: RuntimeWarning: divide by zero encountered in double_scalars\n",
      "  2. / sigma * safe_sparse_dot(weighted_non_outliers, X_non_outliers))\n",
      "\n",
      "/home/pfackanov/.conda/envs/impulse_processing/lib/python3.6/site-packages/sklearn/linear_model/huber.py:95: RuntimeWarning: invalid value encountered in multiply\n",
      "  2. / sigma * safe_sparse_dot(weighted_non_outliers, X_non_outliers))\n",
      "\n",
      "/home/pfackanov/.conda/envs/impulse_processing/lib/python3.6/site-packages/sklearn/linear_model/huber.py:116: RuntimeWarning: invalid value encountered in double_scalars\n",
      "  grad[-2] = -2. * np.sum(weighted_non_outliers) / sigma\n",
      "\n"
     ]
    },
    {
     "name": "stdout",
     "output_type": "stream",
     "text": [
      " 66%|██████▌   | 131/200 [07:31<04:00,  3.48s/it, best loss: 1.3363725162147386]"
     ]
    },
    {
     "name": "stderr",
     "output_type": "stream",
     "text": [
      "/home/pfackanov/.conda/envs/impulse_processing/lib/python3.6/site-packages/sklearn/linear_model/huber.py:85: RuntimeWarning: invalid value encountered in double_scalars\n",
      "  squared_loss = weighted_loss / sigma\n",
      "\n",
      "/home/pfackanov/.conda/envs/impulse_processing/lib/python3.6/site-packages/sklearn/linear_model/huber.py:95: RuntimeWarning: divide by zero encountered in double_scalars\n",
      "  2. / sigma * safe_sparse_dot(weighted_non_outliers, X_non_outliers))\n",
      "\n",
      "/home/pfackanov/.conda/envs/impulse_processing/lib/python3.6/site-packages/sklearn/linear_model/huber.py:95: RuntimeWarning: invalid value encountered in multiply\n",
      "  2. / sigma * safe_sparse_dot(weighted_non_outliers, X_non_outliers))\n",
      "\n",
      "/home/pfackanov/.conda/envs/impulse_processing/lib/python3.6/site-packages/sklearn/linear_model/huber.py:116: RuntimeWarning: invalid value encountered in double_scalars\n",
      "  grad[-2] = -2. * np.sum(weighted_non_outliers) / sigma\n",
      "\n"
     ]
    },
    {
     "name": "stdout",
     "output_type": "stream",
     "text": [
      " 92%|█████████▏| 183/200 [11:17<01:15,  4.46s/it, best loss: 1.3363725162147386]"
     ]
    },
    {
     "name": "stderr",
     "output_type": "stream",
     "text": [
      "/home/pfackanov/.conda/envs/impulse_processing/lib/python3.6/site-packages/sklearn/linear_model/huber.py:85: RuntimeWarning: invalid value encountered in double_scalars\n",
      "  squared_loss = weighted_loss / sigma\n",
      "\n",
      "/home/pfackanov/.conda/envs/impulse_processing/lib/python3.6/site-packages/sklearn/linear_model/huber.py:95: RuntimeWarning: divide by zero encountered in double_scalars\n",
      "  2. / sigma * safe_sparse_dot(weighted_non_outliers, X_non_outliers))\n",
      "\n",
      "/home/pfackanov/.conda/envs/impulse_processing/lib/python3.6/site-packages/sklearn/linear_model/huber.py:95: RuntimeWarning: invalid value encountered in multiply\n",
      "  2. / sigma * safe_sparse_dot(weighted_non_outliers, X_non_outliers))\n",
      "\n",
      "/home/pfackanov/.conda/envs/impulse_processing/lib/python3.6/site-packages/sklearn/linear_model/huber.py:116: RuntimeWarning: invalid value encountered in double_scalars\n",
      "  grad[-2] = -2. * np.sum(weighted_non_outliers) / sigma\n",
      "\n",
      "/home/pfackanov/.conda/envs/impulse_processing/lib/python3.6/site-packages/sklearn/linear_model/huber.py:85: RuntimeWarning: invalid value encountered in double_scalars\n",
      "  squared_loss = weighted_loss / sigma\n",
      "\n",
      "/home/pfackanov/.conda/envs/impulse_processing/lib/python3.6/site-packages/sklearn/linear_model/huber.py:95: RuntimeWarning: divide by zero encountered in double_scalars\n",
      "  2. / sigma * safe_sparse_dot(weighted_non_outliers, X_non_outliers))\n",
      "\n",
      "/home/pfackanov/.conda/envs/impulse_processing/lib/python3.6/site-packages/sklearn/linear_model/huber.py:95: RuntimeWarning: invalid value encountered in multiply\n",
      "  2. / sigma * safe_sparse_dot(weighted_non_outliers, X_non_outliers))\n",
      "\n",
      "/home/pfackanov/.conda/envs/impulse_processing/lib/python3.6/site-packages/sklearn/linear_model/huber.py:116: RuntimeWarning: invalid value encountered in double_scalars\n",
      "  grad[-2] = -2. * np.sum(weighted_non_outliers) / sigma\n",
      "\n",
      "/home/pfackanov/.conda/envs/impulse_processing/lib/python3.6/site-packages/sklearn/linear_model/huber.py:85: RuntimeWarning: invalid value encountered in double_scalars\n",
      "  squared_loss = weighted_loss / sigma\n",
      "\n",
      "/home/pfackanov/.conda/envs/impulse_processing/lib/python3.6/site-packages/sklearn/linear_model/huber.py:95: RuntimeWarning: divide by zero encountered in double_scalars\n",
      "  2. / sigma * safe_sparse_dot(weighted_non_outliers, X_non_outliers))\n",
      "\n",
      "/home/pfackanov/.conda/envs/impulse_processing/lib/python3.6/site-packages/sklearn/linear_model/huber.py:95: RuntimeWarning: invalid value encountered in multiply\n",
      "  2. / sigma * safe_sparse_dot(weighted_non_outliers, X_non_outliers))\n",
      "\n",
      "/home/pfackanov/.conda/envs/impulse_processing/lib/python3.6/site-packages/sklearn/linear_model/huber.py:116: RuntimeWarning: invalid value encountered in double_scalars\n",
      "  grad[-2] = -2. * np.sum(weighted_non_outliers) / sigma\n",
      "\n",
      "/home/pfackanov/.conda/envs/impulse_processing/lib/python3.6/site-packages/sklearn/linear_model/huber.py:85: RuntimeWarning: invalid value encountered in double_scalars\n",
      "  squared_loss = weighted_loss / sigma\n",
      "\n",
      "/home/pfackanov/.conda/envs/impulse_processing/lib/python3.6/site-packages/sklearn/linear_model/huber.py:95: RuntimeWarning: divide by zero encountered in double_scalars\n",
      "  2. / sigma * safe_sparse_dot(weighted_non_outliers, X_non_outliers))\n",
      "\n",
      "/home/pfackanov/.conda/envs/impulse_processing/lib/python3.6/site-packages/sklearn/linear_model/huber.py:95: RuntimeWarning: invalid value encountered in multiply\n",
      "  2. / sigma * safe_sparse_dot(weighted_non_outliers, X_non_outliers))\n",
      "\n",
      "/home/pfackanov/.conda/envs/impulse_processing/lib/python3.6/site-packages/sklearn/linear_model/huber.py:116: RuntimeWarning: invalid value encountered in double_scalars\n",
      "  grad[-2] = -2. * np.sum(weighted_non_outliers) / sigma\n",
      "\n"
     ]
    },
    {
     "name": "stdout",
     "output_type": "stream",
     "text": [
      " 98%|█████████▊| 195/200 [12:08<00:21,  4.39s/it, best loss: 1.3363725162147386]"
     ]
    },
    {
     "name": "stderr",
     "output_type": "stream",
     "text": [
      "/home/pfackanov/.conda/envs/impulse_processing/lib/python3.6/site-packages/sklearn/linear_model/huber.py:85: RuntimeWarning: invalid value encountered in double_scalars\n",
      "  squared_loss = weighted_loss / sigma\n",
      "\n",
      "/home/pfackanov/.conda/envs/impulse_processing/lib/python3.6/site-packages/sklearn/linear_model/huber.py:95: RuntimeWarning: divide by zero encountered in double_scalars\n",
      "  2. / sigma * safe_sparse_dot(weighted_non_outliers, X_non_outliers))\n",
      "\n",
      "/home/pfackanov/.conda/envs/impulse_processing/lib/python3.6/site-packages/sklearn/linear_model/huber.py:95: RuntimeWarning: invalid value encountered in multiply\n",
      "  2. / sigma * safe_sparse_dot(weighted_non_outliers, X_non_outliers))\n",
      "\n",
      "/home/pfackanov/.conda/envs/impulse_processing/lib/python3.6/site-packages/sklearn/linear_model/huber.py:116: RuntimeWarning: invalid value encountered in double_scalars\n",
      "  grad[-2] = -2. * np.sum(weighted_non_outliers) / sigma\n",
      "\n"
     ]
    },
    {
     "name": "stdout",
     "output_type": "stream",
     "text": [
      "100%|██████████| 200/200 [12:31<00:00,  3.76s/it, best loss: 1.3363725162147386]\n",
      "-----------------------------------------------------\n",
      "Freq: 10\n",
      "X_freq shape: (500, 102)\n",
      "Found minimum after 200 trials:\n",
      "{'alpha': 0.00976324059175273, 'epsilon': 1.1001799965073853, 'max_iter': 420.0}\n",
      "-----------------------------------------------------\n",
      " 18%|█▊        | 36/200 [01:52<08:31,  3.12s/it, best loss: 1.335877257222488] "
     ]
    },
    {
     "name": "stderr",
     "output_type": "stream",
     "text": [
      "/home/pfackanov/.conda/envs/impulse_processing/lib/python3.6/site-packages/sklearn/linear_model/huber.py:85: RuntimeWarning: invalid value encountered in double_scalars\n",
      "  squared_loss = weighted_loss / sigma\n",
      "\n",
      "/home/pfackanov/.conda/envs/impulse_processing/lib/python3.6/site-packages/sklearn/linear_model/huber.py:95: RuntimeWarning: divide by zero encountered in double_scalars\n",
      "  2. / sigma * safe_sparse_dot(weighted_non_outliers, X_non_outliers))\n",
      "\n",
      "/home/pfackanov/.conda/envs/impulse_processing/lib/python3.6/site-packages/sklearn/linear_model/huber.py:95: RuntimeWarning: invalid value encountered in multiply\n",
      "  2. / sigma * safe_sparse_dot(weighted_non_outliers, X_non_outliers))\n",
      "\n",
      "/home/pfackanov/.conda/envs/impulse_processing/lib/python3.6/site-packages/sklearn/linear_model/huber.py:116: RuntimeWarning: invalid value encountered in double_scalars\n",
      "  grad[-2] = -2. * np.sum(weighted_non_outliers) / sigma\n",
      "\n",
      "/home/pfackanov/.conda/envs/impulse_processing/lib/python3.6/site-packages/sklearn/linear_model/huber.py:85: RuntimeWarning: invalid value encountered in double_scalars\n",
      "  squared_loss = weighted_loss / sigma\n",
      "\n",
      "/home/pfackanov/.conda/envs/impulse_processing/lib/python3.6/site-packages/sklearn/linear_model/huber.py:95: RuntimeWarning: divide by zero encountered in double_scalars\n",
      "  2. / sigma * safe_sparse_dot(weighted_non_outliers, X_non_outliers))\n",
      "\n",
      "/home/pfackanov/.conda/envs/impulse_processing/lib/python3.6/site-packages/sklearn/linear_model/huber.py:95: RuntimeWarning: invalid value encountered in multiply\n",
      "  2. / sigma * safe_sparse_dot(weighted_non_outliers, X_non_outliers))\n",
      "\n",
      "/home/pfackanov/.conda/envs/impulse_processing/lib/python3.6/site-packages/sklearn/linear_model/huber.py:116: RuntimeWarning: invalid value encountered in double_scalars\n",
      "  grad[-2] = -2. * np.sum(weighted_non_outliers) / sigma\n",
      "\n",
      "/home/pfackanov/.conda/envs/impulse_processing/lib/python3.6/site-packages/sklearn/linear_model/huber.py:85: RuntimeWarning: invalid value encountered in double_scalars\n",
      "  squared_loss = weighted_loss / sigma\n",
      "\n",
      "/home/pfackanov/.conda/envs/impulse_processing/lib/python3.6/site-packages/sklearn/linear_model/huber.py:95: RuntimeWarning: divide by zero encountered in double_scalars\n",
      "  2. / sigma * safe_sparse_dot(weighted_non_outliers, X_non_outliers))\n",
      "\n",
      "/home/pfackanov/.conda/envs/impulse_processing/lib/python3.6/site-packages/sklearn/linear_model/huber.py:95: RuntimeWarning: invalid value encountered in multiply\n",
      "  2. / sigma * safe_sparse_dot(weighted_non_outliers, X_non_outliers))\n",
      "\n",
      "/home/pfackanov/.conda/envs/impulse_processing/lib/python3.6/site-packages/sklearn/linear_model/huber.py:116: RuntimeWarning: invalid value encountered in double_scalars\n",
      "  grad[-2] = -2. * np.sum(weighted_non_outliers) / sigma\n",
      "\n"
     ]
    },
    {
     "name": "stdout",
     "output_type": "stream",
     "text": [
      " 40%|███▉      | 79/200 [03:34<04:35,  2.28s/it, best loss: 1.335877257222488]"
     ]
    },
    {
     "name": "stderr",
     "output_type": "stream",
     "text": [
      "/home/pfackanov/.conda/envs/impulse_processing/lib/python3.6/site-packages/sklearn/linear_model/huber.py:85: RuntimeWarning: invalid value encountered in double_scalars\n",
      "  squared_loss = weighted_loss / sigma\n",
      "\n",
      "/home/pfackanov/.conda/envs/impulse_processing/lib/python3.6/site-packages/sklearn/linear_model/huber.py:95: RuntimeWarning: divide by zero encountered in double_scalars\n",
      "  2. / sigma * safe_sparse_dot(weighted_non_outliers, X_non_outliers))\n",
      "\n",
      "/home/pfackanov/.conda/envs/impulse_processing/lib/python3.6/site-packages/sklearn/linear_model/huber.py:95: RuntimeWarning: invalid value encountered in multiply\n",
      "  2. / sigma * safe_sparse_dot(weighted_non_outliers, X_non_outliers))\n",
      "\n",
      "/home/pfackanov/.conda/envs/impulse_processing/lib/python3.6/site-packages/sklearn/linear_model/huber.py:116: RuntimeWarning: invalid value encountered in double_scalars\n",
      "  grad[-2] = -2. * np.sum(weighted_non_outliers) / sigma\n",
      "\n"
     ]
    },
    {
     "name": "stdout",
     "output_type": "stream",
     "text": [
      " 48%|████▊     | 96/200 [04:18<05:16,  3.04s/it, best loss: 1.335877257222488]"
     ]
    },
    {
     "name": "stderr",
     "output_type": "stream",
     "text": [
      "/home/pfackanov/.conda/envs/impulse_processing/lib/python3.6/site-packages/sklearn/linear_model/huber.py:85: RuntimeWarning: invalid value encountered in double_scalars\n",
      "  squared_loss = weighted_loss / sigma\n",
      "\n",
      "/home/pfackanov/.conda/envs/impulse_processing/lib/python3.6/site-packages/sklearn/linear_model/huber.py:95: RuntimeWarning: divide by zero encountered in double_scalars\n",
      "  2. / sigma * safe_sparse_dot(weighted_non_outliers, X_non_outliers))\n",
      "\n",
      "/home/pfackanov/.conda/envs/impulse_processing/lib/python3.6/site-packages/sklearn/linear_model/huber.py:95: RuntimeWarning: invalid value encountered in multiply\n",
      "  2. / sigma * safe_sparse_dot(weighted_non_outliers, X_non_outliers))\n",
      "\n",
      "/home/pfackanov/.conda/envs/impulse_processing/lib/python3.6/site-packages/sklearn/linear_model/huber.py:116: RuntimeWarning: invalid value encountered in double_scalars\n",
      "  grad[-2] = -2. * np.sum(weighted_non_outliers) / sigma\n",
      "\n",
      "/home/pfackanov/.conda/envs/impulse_processing/lib/python3.6/site-packages/sklearn/linear_model/huber.py:85: RuntimeWarning: invalid value encountered in double_scalars\n",
      "  squared_loss = weighted_loss / sigma\n",
      "\n",
      "/home/pfackanov/.conda/envs/impulse_processing/lib/python3.6/site-packages/sklearn/linear_model/huber.py:95: RuntimeWarning: divide by zero encountered in double_scalars\n",
      "  2. / sigma * safe_sparse_dot(weighted_non_outliers, X_non_outliers))\n",
      "\n",
      "/home/pfackanov/.conda/envs/impulse_processing/lib/python3.6/site-packages/sklearn/linear_model/huber.py:95: RuntimeWarning: invalid value encountered in multiply\n",
      "  2. / sigma * safe_sparse_dot(weighted_non_outliers, X_non_outliers))\n",
      "\n",
      "/home/pfackanov/.conda/envs/impulse_processing/lib/python3.6/site-packages/sklearn/linear_model/huber.py:116: RuntimeWarning: invalid value encountered in double_scalars\n",
      "  grad[-2] = -2. * np.sum(weighted_non_outliers) / sigma\n",
      "\n"
     ]
    },
    {
     "name": "stdout",
     "output_type": "stream",
     "text": [
      " 50%|████▉     | 99/200 [04:27<05:19,  3.16s/it, best loss: 1.335877257222488]"
     ]
    },
    {
     "name": "stderr",
     "output_type": "stream",
     "text": [
      "/home/pfackanov/.conda/envs/impulse_processing/lib/python3.6/site-packages/sklearn/linear_model/huber.py:85: RuntimeWarning: invalid value encountered in double_scalars\n",
      "  squared_loss = weighted_loss / sigma\n",
      "\n",
      "/home/pfackanov/.conda/envs/impulse_processing/lib/python3.6/site-packages/sklearn/linear_model/huber.py:95: RuntimeWarning: divide by zero encountered in double_scalars\n",
      "  2. / sigma * safe_sparse_dot(weighted_non_outliers, X_non_outliers))\n",
      "\n",
      "/home/pfackanov/.conda/envs/impulse_processing/lib/python3.6/site-packages/sklearn/linear_model/huber.py:95: RuntimeWarning: invalid value encountered in multiply\n",
      "  2. / sigma * safe_sparse_dot(weighted_non_outliers, X_non_outliers))\n",
      "\n",
      "/home/pfackanov/.conda/envs/impulse_processing/lib/python3.6/site-packages/sklearn/linear_model/huber.py:116: RuntimeWarning: invalid value encountered in double_scalars\n",
      "  grad[-2] = -2. * np.sum(weighted_non_outliers) / sigma\n",
      "\n"
     ]
    },
    {
     "name": "stdout",
     "output_type": "stream",
     "text": [
      " 72%|███████▏  | 144/200 [06:36<02:51,  3.07s/it, best loss: 1.335877257222488]"
     ]
    },
    {
     "name": "stderr",
     "output_type": "stream",
     "text": [
      "/home/pfackanov/.conda/envs/impulse_processing/lib/python3.6/site-packages/sklearn/linear_model/huber.py:85: RuntimeWarning: invalid value encountered in double_scalars\n",
      "  squared_loss = weighted_loss / sigma\n",
      "\n",
      "/home/pfackanov/.conda/envs/impulse_processing/lib/python3.6/site-packages/sklearn/linear_model/huber.py:95: RuntimeWarning: divide by zero encountered in double_scalars\n",
      "  2. / sigma * safe_sparse_dot(weighted_non_outliers, X_non_outliers))\n",
      "\n",
      "/home/pfackanov/.conda/envs/impulse_processing/lib/python3.6/site-packages/sklearn/linear_model/huber.py:95: RuntimeWarning: invalid value encountered in multiply\n",
      "  2. / sigma * safe_sparse_dot(weighted_non_outliers, X_non_outliers))\n",
      "\n",
      "/home/pfackanov/.conda/envs/impulse_processing/lib/python3.6/site-packages/sklearn/linear_model/huber.py:116: RuntimeWarning: invalid value encountered in double_scalars\n",
      "  grad[-2] = -2. * np.sum(weighted_non_outliers) / sigma\n",
      "\n",
      "/home/pfackanov/.conda/envs/impulse_processing/lib/python3.6/site-packages/sklearn/linear_model/huber.py:85: RuntimeWarning: invalid value encountered in double_scalars\n",
      "  squared_loss = weighted_loss / sigma\n",
      "\n",
      "/home/pfackanov/.conda/envs/impulse_processing/lib/python3.6/site-packages/sklearn/linear_model/huber.py:95: RuntimeWarning: divide by zero encountered in double_scalars\n",
      "  2. / sigma * safe_sparse_dot(weighted_non_outliers, X_non_outliers))\n",
      "\n",
      "/home/pfackanov/.conda/envs/impulse_processing/lib/python3.6/site-packages/sklearn/linear_model/huber.py:95: RuntimeWarning: invalid value encountered in multiply\n",
      "  2. / sigma * safe_sparse_dot(weighted_non_outliers, X_non_outliers))\n",
      "\n",
      "/home/pfackanov/.conda/envs/impulse_processing/lib/python3.6/site-packages/sklearn/linear_model/huber.py:116: RuntimeWarning: invalid value encountered in double_scalars\n",
      "  grad[-2] = -2. * np.sum(weighted_non_outliers) / sigma\n",
      "\n",
      "/home/pfackanov/.conda/envs/impulse_processing/lib/python3.6/site-packages/sklearn/linear_model/huber.py:85: RuntimeWarning: invalid value encountered in double_scalars\n",
      "  squared_loss = weighted_loss / sigma\n",
      "\n",
      "/home/pfackanov/.conda/envs/impulse_processing/lib/python3.6/site-packages/sklearn/linear_model/huber.py:95: RuntimeWarning: divide by zero encountered in double_scalars\n",
      "  2. / sigma * safe_sparse_dot(weighted_non_outliers, X_non_outliers))\n",
      "\n",
      "/home/pfackanov/.conda/envs/impulse_processing/lib/python3.6/site-packages/sklearn/linear_model/huber.py:95: RuntimeWarning: invalid value encountered in multiply\n",
      "  2. / sigma * safe_sparse_dot(weighted_non_outliers, X_non_outliers))\n",
      "\n",
      "/home/pfackanov/.conda/envs/impulse_processing/lib/python3.6/site-packages/sklearn/linear_model/huber.py:116: RuntimeWarning: invalid value encountered in double_scalars\n",
      "  grad[-2] = -2. * np.sum(weighted_non_outliers) / sigma\n",
      "\n",
      "/home/pfackanov/.conda/envs/impulse_processing/lib/python3.6/site-packages/sklearn/linear_model/huber.py:85: RuntimeWarning: invalid value encountered in double_scalars\n",
      "  squared_loss = weighted_loss / sigma\n",
      "\n",
      "/home/pfackanov/.conda/envs/impulse_processing/lib/python3.6/site-packages/sklearn/linear_model/huber.py:95: RuntimeWarning: divide by zero encountered in double_scalars\n",
      "  2. / sigma * safe_sparse_dot(weighted_non_outliers, X_non_outliers))\n",
      "\n",
      "/home/pfackanov/.conda/envs/impulse_processing/lib/python3.6/site-packages/sklearn/linear_model/huber.py:95: RuntimeWarning: invalid value encountered in multiply\n",
      "  2. / sigma * safe_sparse_dot(weighted_non_outliers, X_non_outliers))\n",
      "\n",
      "/home/pfackanov/.conda/envs/impulse_processing/lib/python3.6/site-packages/sklearn/linear_model/huber.py:116: RuntimeWarning: invalid value encountered in double_scalars\n",
      "  grad[-2] = -2. * np.sum(weighted_non_outliers) / sigma\n",
      "\n"
     ]
    },
    {
     "name": "stdout",
     "output_type": "stream",
     "text": [
      " 96%|█████████▌| 191/200 [08:18<00:20,  2.26s/it, best loss: 1.335877257222488]"
     ]
    },
    {
     "name": "stderr",
     "output_type": "stream",
     "text": [
      "/home/pfackanov/.conda/envs/impulse_processing/lib/python3.6/site-packages/sklearn/linear_model/huber.py:85: RuntimeWarning: invalid value encountered in double_scalars\n",
      "  squared_loss = weighted_loss / sigma\n",
      "\n",
      "/home/pfackanov/.conda/envs/impulse_processing/lib/python3.6/site-packages/sklearn/linear_model/huber.py:95: RuntimeWarning: divide by zero encountered in double_scalars\n",
      "  2. / sigma * safe_sparse_dot(weighted_non_outliers, X_non_outliers))\n",
      "\n",
      "/home/pfackanov/.conda/envs/impulse_processing/lib/python3.6/site-packages/sklearn/linear_model/huber.py:95: RuntimeWarning: invalid value encountered in multiply\n",
      "  2. / sigma * safe_sparse_dot(weighted_non_outliers, X_non_outliers))\n",
      "\n",
      "/home/pfackanov/.conda/envs/impulse_processing/lib/python3.6/site-packages/sklearn/linear_model/huber.py:116: RuntimeWarning: invalid value encountered in double_scalars\n",
      "  grad[-2] = -2. * np.sum(weighted_non_outliers) / sigma\n",
      "\n"
     ]
    },
    {
     "name": "stdout",
     "output_type": "stream",
     "text": [
      "100%|██████████| 200/200 [08:31<00:00,  2.56s/it, best loss: 1.335877257222488]\n",
      "-----------------------------------------------------\n",
      "Freq: 15\n",
      "X_freq shape: (500, 68)\n",
      "Found minimum after 200 trials:\n",
      "{'alpha': 0.008839147025044878, 'epsilon': 1.120133774136269, 'max_iter': 300.0}\n",
      "-----------------------------------------------------\n",
      " 15%|█▌        | 30/200 [00:58<06:55,  2.44s/it, best loss: 1.3511084331822776]"
     ]
    },
    {
     "name": "stderr",
     "output_type": "stream",
     "text": [
      "/home/pfackanov/.conda/envs/impulse_processing/lib/python3.6/site-packages/sklearn/linear_model/huber.py:85: RuntimeWarning: invalid value encountered in double_scalars\n",
      "  squared_loss = weighted_loss / sigma\n",
      "\n",
      "/home/pfackanov/.conda/envs/impulse_processing/lib/python3.6/site-packages/sklearn/linear_model/huber.py:95: RuntimeWarning: divide by zero encountered in double_scalars\n",
      "  2. / sigma * safe_sparse_dot(weighted_non_outliers, X_non_outliers))\n",
      "\n",
      "/home/pfackanov/.conda/envs/impulse_processing/lib/python3.6/site-packages/sklearn/linear_model/huber.py:95: RuntimeWarning: invalid value encountered in multiply\n",
      "  2. / sigma * safe_sparse_dot(weighted_non_outliers, X_non_outliers))\n",
      "\n",
      "/home/pfackanov/.conda/envs/impulse_processing/lib/python3.6/site-packages/sklearn/linear_model/huber.py:116: RuntimeWarning: invalid value encountered in double_scalars\n",
      "  grad[-2] = -2. * np.sum(weighted_non_outliers) / sigma\n",
      "\n"
     ]
    },
    {
     "name": "stdout",
     "output_type": "stream",
     "text": [
      "\r",
      " 16%|█▌        | 31/200 [00:59<05:40,  2.01s/it, best loss: 1.3511084331822776]"
     ]
    },
    {
     "name": "stderr",
     "output_type": "stream",
     "text": [
      "/home/pfackanov/.conda/envs/impulse_processing/lib/python3.6/site-packages/sklearn/linear_model/huber.py:85: RuntimeWarning: invalid value encountered in double_scalars\n",
      "  squared_loss = weighted_loss / sigma\n",
      "\n",
      "/home/pfackanov/.conda/envs/impulse_processing/lib/python3.6/site-packages/sklearn/linear_model/huber.py:95: RuntimeWarning: divide by zero encountered in double_scalars\n",
      "  2. / sigma * safe_sparse_dot(weighted_non_outliers, X_non_outliers))\n",
      "\n",
      "/home/pfackanov/.conda/envs/impulse_processing/lib/python3.6/site-packages/sklearn/linear_model/huber.py:95: RuntimeWarning: invalid value encountered in multiply\n",
      "  2. / sigma * safe_sparse_dot(weighted_non_outliers, X_non_outliers))\n",
      "\n",
      "/home/pfackanov/.conda/envs/impulse_processing/lib/python3.6/site-packages/sklearn/linear_model/huber.py:116: RuntimeWarning: invalid value encountered in double_scalars\n",
      "  grad[-2] = -2. * np.sum(weighted_non_outliers) / sigma\n",
      "\n"
     ]
    },
    {
     "name": "stdout",
     "output_type": "stream",
     "text": [
      " 31%|███       | 62/200 [02:04<05:57,  2.59s/it, best loss: 1.350797809974442] "
     ]
    },
    {
     "name": "stderr",
     "output_type": "stream",
     "text": [
      "/home/pfackanov/.conda/envs/impulse_processing/lib/python3.6/site-packages/sklearn/linear_model/huber.py:85: RuntimeWarning: invalid value encountered in double_scalars\n",
      "  squared_loss = weighted_loss / sigma\n",
      "\n",
      "/home/pfackanov/.conda/envs/impulse_processing/lib/python3.6/site-packages/sklearn/linear_model/huber.py:95: RuntimeWarning: divide by zero encountered in double_scalars\n",
      "  2. / sigma * safe_sparse_dot(weighted_non_outliers, X_non_outliers))\n",
      "\n",
      "/home/pfackanov/.conda/envs/impulse_processing/lib/python3.6/site-packages/sklearn/linear_model/huber.py:95: RuntimeWarning: invalid value encountered in multiply\n",
      "  2. / sigma * safe_sparse_dot(weighted_non_outliers, X_non_outliers))\n",
      "\n",
      "/home/pfackanov/.conda/envs/impulse_processing/lib/python3.6/site-packages/sklearn/linear_model/huber.py:116: RuntimeWarning: invalid value encountered in double_scalars\n",
      "  grad[-2] = -2. * np.sum(weighted_non_outliers) / sigma\n",
      "\n"
     ]
    },
    {
     "name": "stdout",
     "output_type": "stream",
     "text": [
      "100%|██████████| 200/200 [07:29<00:00,  2.25s/it, best loss: 1.3482230570125369]\n",
      "-----------------------------------------------------\n",
      "Freq: 25\n",
      "X_freq shape: (500, 41)\n",
      "Found minimum after 200 trials:\n",
      "{'alpha': 0.008611556887710951, 'epsilon': 1.172760621314016, 'max_iter': 400.0}\n",
      "-----------------------------------------------------\n",
      " 18%|█▊        | 36/200 [00:19<01:41,  1.62it/s, best loss: 1.5438954389577209]"
     ]
    },
    {
     "name": "stderr",
     "output_type": "stream",
     "text": [
      "/home/pfackanov/.conda/envs/impulse_processing/lib/python3.6/site-packages/sklearn/linear_model/huber.py:85: RuntimeWarning: invalid value encountered in double_scalars\n",
      "  squared_loss = weighted_loss / sigma\n",
      "\n",
      "/home/pfackanov/.conda/envs/impulse_processing/lib/python3.6/site-packages/sklearn/linear_model/huber.py:95: RuntimeWarning: divide by zero encountered in double_scalars\n",
      "  2. / sigma * safe_sparse_dot(weighted_non_outliers, X_non_outliers))\n",
      "\n",
      "/home/pfackanov/.conda/envs/impulse_processing/lib/python3.6/site-packages/sklearn/linear_model/huber.py:95: RuntimeWarning: invalid value encountered in multiply\n",
      "  2. / sigma * safe_sparse_dot(weighted_non_outliers, X_non_outliers))\n",
      "\n",
      "/home/pfackanov/.conda/envs/impulse_processing/lib/python3.6/site-packages/sklearn/linear_model/huber.py:116: RuntimeWarning: invalid value encountered in double_scalars\n",
      "  grad[-2] = -2. * np.sum(weighted_non_outliers) / sigma\n",
      "\n",
      "/home/pfackanov/.conda/envs/impulse_processing/lib/python3.6/site-packages/sklearn/linear_model/huber.py:85: RuntimeWarning: invalid value encountered in double_scalars\n",
      "  squared_loss = weighted_loss / sigma\n",
      "\n",
      "/home/pfackanov/.conda/envs/impulse_processing/lib/python3.6/site-packages/sklearn/linear_model/huber.py:95: RuntimeWarning: divide by zero encountered in double_scalars\n",
      "  2. / sigma * safe_sparse_dot(weighted_non_outliers, X_non_outliers))\n",
      "\n",
      "/home/pfackanov/.conda/envs/impulse_processing/lib/python3.6/site-packages/sklearn/linear_model/huber.py:95: RuntimeWarning: invalid value encountered in multiply\n",
      "  2. / sigma * safe_sparse_dot(weighted_non_outliers, X_non_outliers))\n",
      "\n",
      "/home/pfackanov/.conda/envs/impulse_processing/lib/python3.6/site-packages/sklearn/linear_model/huber.py:116: RuntimeWarning: invalid value encountered in double_scalars\n",
      "  grad[-2] = -2. * np.sum(weighted_non_outliers) / sigma\n",
      "\n",
      "/home/pfackanov/.conda/envs/impulse_processing/lib/python3.6/site-packages/sklearn/linear_model/huber.py:85: RuntimeWarning: invalid value encountered in double_scalars\n",
      "  squared_loss = weighted_loss / sigma\n",
      "\n",
      "/home/pfackanov/.conda/envs/impulse_processing/lib/python3.6/site-packages/sklearn/linear_model/huber.py:95: RuntimeWarning: divide by zero encountered in double_scalars\n",
      "  2. / sigma * safe_sparse_dot(weighted_non_outliers, X_non_outliers))\n",
      "\n",
      "/home/pfackanov/.conda/envs/impulse_processing/lib/python3.6/site-packages/sklearn/linear_model/huber.py:95: RuntimeWarning: invalid value encountered in multiply\n",
      "  2. / sigma * safe_sparse_dot(weighted_non_outliers, X_non_outliers))\n",
      "\n",
      "/home/pfackanov/.conda/envs/impulse_processing/lib/python3.6/site-packages/sklearn/linear_model/huber.py:116: RuntimeWarning: invalid value encountered in double_scalars\n",
      "  grad[-2] = -2. * np.sum(weighted_non_outliers) / sigma\n",
      "\n"
     ]
    },
    {
     "name": "stdout",
     "output_type": "stream",
     "text": [
      " 21%|██        | 42/200 [00:22<01:17,  2.04it/s, best loss: 1.5438954389577209]"
     ]
    },
    {
     "name": "stderr",
     "output_type": "stream",
     "text": [
      "/home/pfackanov/.conda/envs/impulse_processing/lib/python3.6/site-packages/sklearn/linear_model/huber.py:85: RuntimeWarning: invalid value encountered in double_scalars\n",
      "  squared_loss = weighted_loss / sigma\n",
      "\n",
      "/home/pfackanov/.conda/envs/impulse_processing/lib/python3.6/site-packages/sklearn/linear_model/huber.py:95: RuntimeWarning: divide by zero encountered in double_scalars\n",
      "  2. / sigma * safe_sparse_dot(weighted_non_outliers, X_non_outliers))\n",
      "\n",
      "/home/pfackanov/.conda/envs/impulse_processing/lib/python3.6/site-packages/sklearn/linear_model/huber.py:95: RuntimeWarning: invalid value encountered in multiply\n",
      "  2. / sigma * safe_sparse_dot(weighted_non_outliers, X_non_outliers))\n",
      "\n",
      "/home/pfackanov/.conda/envs/impulse_processing/lib/python3.6/site-packages/sklearn/linear_model/huber.py:116: RuntimeWarning: invalid value encountered in double_scalars\n",
      "  grad[-2] = -2. * np.sum(weighted_non_outliers) / sigma\n",
      "\n",
      "/home/pfackanov/.conda/envs/impulse_processing/lib/python3.6/site-packages/sklearn/linear_model/huber.py:85: RuntimeWarning: invalid value encountered in double_scalars\n",
      "  squared_loss = weighted_loss / sigma\n",
      "\n",
      "/home/pfackanov/.conda/envs/impulse_processing/lib/python3.6/site-packages/sklearn/linear_model/huber.py:95: RuntimeWarning: divide by zero encountered in double_scalars\n",
      "  2. / sigma * safe_sparse_dot(weighted_non_outliers, X_non_outliers))\n",
      "\n",
      "/home/pfackanov/.conda/envs/impulse_processing/lib/python3.6/site-packages/sklearn/linear_model/huber.py:95: RuntimeWarning: invalid value encountered in multiply\n",
      "  2. / sigma * safe_sparse_dot(weighted_non_outliers, X_non_outliers))\n",
      "\n",
      "/home/pfackanov/.conda/envs/impulse_processing/lib/python3.6/site-packages/sklearn/linear_model/huber.py:116: RuntimeWarning: invalid value encountered in double_scalars\n",
      "  grad[-2] = -2. * np.sum(weighted_non_outliers) / sigma\n",
      "\n",
      "/home/pfackanov/.conda/envs/impulse_processing/lib/python3.6/site-packages/sklearn/linear_model/huber.py:85: RuntimeWarning: invalid value encountered in double_scalars\n",
      "  squared_loss = weighted_loss / sigma\n",
      "\n",
      "/home/pfackanov/.conda/envs/impulse_processing/lib/python3.6/site-packages/sklearn/linear_model/huber.py:95: RuntimeWarning: divide by zero encountered in double_scalars\n",
      "  2. / sigma * safe_sparse_dot(weighted_non_outliers, X_non_outliers))\n",
      "\n",
      "/home/pfackanov/.conda/envs/impulse_processing/lib/python3.6/site-packages/sklearn/linear_model/huber.py:95: RuntimeWarning: invalid value encountered in multiply\n",
      "  2. / sigma * safe_sparse_dot(weighted_non_outliers, X_non_outliers))\n",
      "\n",
      "/home/pfackanov/.conda/envs/impulse_processing/lib/python3.6/site-packages/sklearn/linear_model/huber.py:116: RuntimeWarning: invalid value encountered in double_scalars\n",
      "  grad[-2] = -2. * np.sum(weighted_non_outliers) / sigma\n",
      "\n"
     ]
    },
    {
     "name": "stdout",
     "output_type": "stream",
     "text": [
      "\r",
      " 22%|██▏       | 43/200 [00:22<01:11,  2.20it/s, best loss: 1.5438954389577209]"
     ]
    },
    {
     "name": "stderr",
     "output_type": "stream",
     "text": [
      "/home/pfackanov/.conda/envs/impulse_processing/lib/python3.6/site-packages/sklearn/linear_model/huber.py:85: RuntimeWarning: invalid value encountered in double_scalars\n",
      "  squared_loss = weighted_loss / sigma\n",
      "\n",
      "/home/pfackanov/.conda/envs/impulse_processing/lib/python3.6/site-packages/sklearn/linear_model/huber.py:95: RuntimeWarning: divide by zero encountered in double_scalars\n",
      "  2. / sigma * safe_sparse_dot(weighted_non_outliers, X_non_outliers))\n",
      "\n",
      "/home/pfackanov/.conda/envs/impulse_processing/lib/python3.6/site-packages/sklearn/linear_model/huber.py:95: RuntimeWarning: invalid value encountered in multiply\n",
      "  2. / sigma * safe_sparse_dot(weighted_non_outliers, X_non_outliers))\n",
      "\n",
      "/home/pfackanov/.conda/envs/impulse_processing/lib/python3.6/site-packages/sklearn/linear_model/huber.py:116: RuntimeWarning: invalid value encountered in double_scalars\n",
      "  grad[-2] = -2. * np.sum(weighted_non_outliers) / sigma\n",
      "\n",
      "/home/pfackanov/.conda/envs/impulse_processing/lib/python3.6/site-packages/sklearn/linear_model/huber.py:85: RuntimeWarning: invalid value encountered in double_scalars\n",
      "  squared_loss = weighted_loss / sigma\n",
      "\n",
      "/home/pfackanov/.conda/envs/impulse_processing/lib/python3.6/site-packages/sklearn/linear_model/huber.py:95: RuntimeWarning: divide by zero encountered in double_scalars\n",
      "  2. / sigma * safe_sparse_dot(weighted_non_outliers, X_non_outliers))\n",
      "\n",
      "/home/pfackanov/.conda/envs/impulse_processing/lib/python3.6/site-packages/sklearn/linear_model/huber.py:95: RuntimeWarning: invalid value encountered in multiply\n",
      "  2. / sigma * safe_sparse_dot(weighted_non_outliers, X_non_outliers))\n",
      "\n",
      "/home/pfackanov/.conda/envs/impulse_processing/lib/python3.6/site-packages/sklearn/linear_model/huber.py:116: RuntimeWarning: invalid value encountered in double_scalars\n",
      "  grad[-2] = -2. * np.sum(weighted_non_outliers) / sigma\n",
      "\n"
     ]
    },
    {
     "name": "stdout",
     "output_type": "stream",
     "text": [
      " 23%|██▎       | 46/200 [00:24<01:06,  2.33it/s, best loss: 1.5438954389577209]"
     ]
    },
    {
     "name": "stderr",
     "output_type": "stream",
     "text": [
      "/home/pfackanov/.conda/envs/impulse_processing/lib/python3.6/site-packages/sklearn/linear_model/huber.py:85: RuntimeWarning: invalid value encountered in double_scalars\n",
      "  squared_loss = weighted_loss / sigma\n",
      "\n",
      "/home/pfackanov/.conda/envs/impulse_processing/lib/python3.6/site-packages/sklearn/linear_model/huber.py:95: RuntimeWarning: divide by zero encountered in double_scalars\n",
      "  2. / sigma * safe_sparse_dot(weighted_non_outliers, X_non_outliers))\n",
      "\n",
      "/home/pfackanov/.conda/envs/impulse_processing/lib/python3.6/site-packages/sklearn/linear_model/huber.py:95: RuntimeWarning: invalid value encountered in multiply\n",
      "  2. / sigma * safe_sparse_dot(weighted_non_outliers, X_non_outliers))\n",
      "\n",
      "/home/pfackanov/.conda/envs/impulse_processing/lib/python3.6/site-packages/sklearn/linear_model/huber.py:116: RuntimeWarning: invalid value encountered in double_scalars\n",
      "  grad[-2] = -2. * np.sum(weighted_non_outliers) / sigma\n",
      "\n",
      "/home/pfackanov/.conda/envs/impulse_processing/lib/python3.6/site-packages/sklearn/linear_model/huber.py:85: RuntimeWarning: invalid value encountered in double_scalars\n",
      "  squared_loss = weighted_loss / sigma\n",
      "\n",
      "/home/pfackanov/.conda/envs/impulse_processing/lib/python3.6/site-packages/sklearn/linear_model/huber.py:95: RuntimeWarning: divide by zero encountered in double_scalars\n",
      "  2. / sigma * safe_sparse_dot(weighted_non_outliers, X_non_outliers))\n",
      "\n",
      "/home/pfackanov/.conda/envs/impulse_processing/lib/python3.6/site-packages/sklearn/linear_model/huber.py:95: RuntimeWarning: invalid value encountered in multiply\n",
      "  2. / sigma * safe_sparse_dot(weighted_non_outliers, X_non_outliers))\n",
      "\n",
      "/home/pfackanov/.conda/envs/impulse_processing/lib/python3.6/site-packages/sklearn/linear_model/huber.py:116: RuntimeWarning: invalid value encountered in double_scalars\n",
      "  grad[-2] = -2. * np.sum(weighted_non_outliers) / sigma\n",
      "\n",
      "/home/pfackanov/.conda/envs/impulse_processing/lib/python3.6/site-packages/sklearn/linear_model/huber.py:85: RuntimeWarning: invalid value encountered in double_scalars\n",
      "  squared_loss = weighted_loss / sigma\n",
      "\n",
      "/home/pfackanov/.conda/envs/impulse_processing/lib/python3.6/site-packages/sklearn/linear_model/huber.py:95: RuntimeWarning: divide by zero encountered in double_scalars\n",
      "  2. / sigma * safe_sparse_dot(weighted_non_outliers, X_non_outliers))\n",
      "\n",
      "/home/pfackanov/.conda/envs/impulse_processing/lib/python3.6/site-packages/sklearn/linear_model/huber.py:95: RuntimeWarning: invalid value encountered in multiply\n",
      "  2. / sigma * safe_sparse_dot(weighted_non_outliers, X_non_outliers))\n",
      "\n",
      "/home/pfackanov/.conda/envs/impulse_processing/lib/python3.6/site-packages/sklearn/linear_model/huber.py:116: RuntimeWarning: invalid value encountered in double_scalars\n",
      "  grad[-2] = -2. * np.sum(weighted_non_outliers) / sigma\n",
      "\n",
      "/home/pfackanov/.conda/envs/impulse_processing/lib/python3.6/site-packages/sklearn/linear_model/huber.py:85: RuntimeWarning: invalid value encountered in double_scalars\n",
      "  squared_loss = weighted_loss / sigma\n",
      "\n",
      "/home/pfackanov/.conda/envs/impulse_processing/lib/python3.6/site-packages/sklearn/linear_model/huber.py:95: RuntimeWarning: divide by zero encountered in double_scalars\n",
      "  2. / sigma * safe_sparse_dot(weighted_non_outliers, X_non_outliers))\n",
      "\n",
      "/home/pfackanov/.conda/envs/impulse_processing/lib/python3.6/site-packages/sklearn/linear_model/huber.py:95: RuntimeWarning: invalid value encountered in multiply\n",
      "  2. / sigma * safe_sparse_dot(weighted_non_outliers, X_non_outliers))\n",
      "\n",
      "/home/pfackanov/.conda/envs/impulse_processing/lib/python3.6/site-packages/sklearn/linear_model/huber.py:116: RuntimeWarning: invalid value encountered in double_scalars\n",
      "  grad[-2] = -2. * np.sum(weighted_non_outliers) / sigma\n",
      "\n",
      "/home/pfackanov/.conda/envs/impulse_processing/lib/python3.6/site-packages/sklearn/linear_model/huber.py:85: RuntimeWarning: invalid value encountered in double_scalars\n",
      "  squared_loss = weighted_loss / sigma\n",
      "\n",
      "/home/pfackanov/.conda/envs/impulse_processing/lib/python3.6/site-packages/sklearn/linear_model/huber.py:95: RuntimeWarning: divide by zero encountered in double_scalars\n",
      "  2. / sigma * safe_sparse_dot(weighted_non_outliers, X_non_outliers))\n",
      "\n",
      "/home/pfackanov/.conda/envs/impulse_processing/lib/python3.6/site-packages/sklearn/linear_model/huber.py:95: RuntimeWarning: invalid value encountered in multiply\n",
      "  2. / sigma * safe_sparse_dot(weighted_non_outliers, X_non_outliers))\n",
      "\n",
      "/home/pfackanov/.conda/envs/impulse_processing/lib/python3.6/site-packages/sklearn/linear_model/huber.py:116: RuntimeWarning: invalid value encountered in double_scalars\n",
      "  grad[-2] = -2. * np.sum(weighted_non_outliers) / sigma\n",
      "\n"
     ]
    },
    {
     "name": "stdout",
     "output_type": "stream",
     "text": [
      " 30%|██▉       | 59/200 [00:31<01:37,  1.45it/s, best loss: 1.5438954389577209]"
     ]
    },
    {
     "name": "stderr",
     "output_type": "stream",
     "text": [
      "/home/pfackanov/.conda/envs/impulse_processing/lib/python3.6/site-packages/sklearn/linear_model/huber.py:85: RuntimeWarning: invalid value encountered in double_scalars\n",
      "  squared_loss = weighted_loss / sigma\n",
      "\n",
      "/home/pfackanov/.conda/envs/impulse_processing/lib/python3.6/site-packages/sklearn/linear_model/huber.py:95: RuntimeWarning: divide by zero encountered in double_scalars\n",
      "  2. / sigma * safe_sparse_dot(weighted_non_outliers, X_non_outliers))\n",
      "\n",
      "/home/pfackanov/.conda/envs/impulse_processing/lib/python3.6/site-packages/sklearn/linear_model/huber.py:95: RuntimeWarning: invalid value encountered in multiply\n",
      "  2. / sigma * safe_sparse_dot(weighted_non_outliers, X_non_outliers))\n",
      "\n",
      "/home/pfackanov/.conda/envs/impulse_processing/lib/python3.6/site-packages/sklearn/linear_model/huber.py:116: RuntimeWarning: invalid value encountered in double_scalars\n",
      "  grad[-2] = -2. * np.sum(weighted_non_outliers) / sigma\n",
      "\n"
     ]
    },
    {
     "name": "stdout",
     "output_type": "stream",
     "text": [
      " 30%|███       | 61/200 [00:32<01:10,  1.96it/s, best loss: 1.5438954389577209]"
     ]
    },
    {
     "name": "stderr",
     "output_type": "stream",
     "text": [
      "/home/pfackanov/.conda/envs/impulse_processing/lib/python3.6/site-packages/sklearn/linear_model/huber.py:85: RuntimeWarning: invalid value encountered in double_scalars\n",
      "  squared_loss = weighted_loss / sigma\n",
      "\n",
      "/home/pfackanov/.conda/envs/impulse_processing/lib/python3.6/site-packages/sklearn/linear_model/huber.py:95: RuntimeWarning: divide by zero encountered in double_scalars\n",
      "  2. / sigma * safe_sparse_dot(weighted_non_outliers, X_non_outliers))\n",
      "\n",
      "/home/pfackanov/.conda/envs/impulse_processing/lib/python3.6/site-packages/sklearn/linear_model/huber.py:95: RuntimeWarning: invalid value encountered in multiply\n",
      "  2. / sigma * safe_sparse_dot(weighted_non_outliers, X_non_outliers))\n",
      "\n",
      "/home/pfackanov/.conda/envs/impulse_processing/lib/python3.6/site-packages/sklearn/linear_model/huber.py:116: RuntimeWarning: invalid value encountered in double_scalars\n",
      "  grad[-2] = -2. * np.sum(weighted_non_outliers) / sigma\n",
      "\n",
      "/home/pfackanov/.conda/envs/impulse_processing/lib/python3.6/site-packages/sklearn/linear_model/huber.py:85: RuntimeWarning: invalid value encountered in double_scalars\n",
      "  squared_loss = weighted_loss / sigma\n",
      "\n",
      "/home/pfackanov/.conda/envs/impulse_processing/lib/python3.6/site-packages/sklearn/linear_model/huber.py:95: RuntimeWarning: divide by zero encountered in double_scalars\n",
      "  2. / sigma * safe_sparse_dot(weighted_non_outliers, X_non_outliers))\n",
      "\n",
      "/home/pfackanov/.conda/envs/impulse_processing/lib/python3.6/site-packages/sklearn/linear_model/huber.py:95: RuntimeWarning: invalid value encountered in multiply\n",
      "  2. / sigma * safe_sparse_dot(weighted_non_outliers, X_non_outliers))\n",
      "\n",
      "/home/pfackanov/.conda/envs/impulse_processing/lib/python3.6/site-packages/sklearn/linear_model/huber.py:116: RuntimeWarning: invalid value encountered in double_scalars\n",
      "  grad[-2] = -2. * np.sum(weighted_non_outliers) / sigma\n",
      "\n",
      "/home/pfackanov/.conda/envs/impulse_processing/lib/python3.6/site-packages/sklearn/linear_model/huber.py:85: RuntimeWarning: invalid value encountered in double_scalars\n",
      "  squared_loss = weighted_loss / sigma\n",
      "\n",
      "/home/pfackanov/.conda/envs/impulse_processing/lib/python3.6/site-packages/sklearn/linear_model/huber.py:95: RuntimeWarning: divide by zero encountered in double_scalars\n",
      "  2. / sigma * safe_sparse_dot(weighted_non_outliers, X_non_outliers))\n",
      "\n",
      "/home/pfackanov/.conda/envs/impulse_processing/lib/python3.6/site-packages/sklearn/linear_model/huber.py:95: RuntimeWarning: invalid value encountered in multiply\n",
      "  2. / sigma * safe_sparse_dot(weighted_non_outliers, X_non_outliers))\n",
      "\n",
      "/home/pfackanov/.conda/envs/impulse_processing/lib/python3.6/site-packages/sklearn/linear_model/huber.py:116: RuntimeWarning: invalid value encountered in double_scalars\n",
      "  grad[-2] = -2. * np.sum(weighted_non_outliers) / sigma\n",
      "\n"
     ]
    },
    {
     "name": "stdout",
     "output_type": "stream",
     "text": [
      "\r",
      " 31%|███       | 62/200 [00:32<01:11,  1.94it/s, best loss: 1.5438954389577209]"
     ]
    },
    {
     "name": "stderr",
     "output_type": "stream",
     "text": [
      "/home/pfackanov/.conda/envs/impulse_processing/lib/python3.6/site-packages/sklearn/linear_model/huber.py:85: RuntimeWarning: invalid value encountered in double_scalars\n",
      "  squared_loss = weighted_loss / sigma\n",
      "\n",
      "/home/pfackanov/.conda/envs/impulse_processing/lib/python3.6/site-packages/sklearn/linear_model/huber.py:95: RuntimeWarning: divide by zero encountered in double_scalars\n",
      "  2. / sigma * safe_sparse_dot(weighted_non_outliers, X_non_outliers))\n",
      "\n",
      "/home/pfackanov/.conda/envs/impulse_processing/lib/python3.6/site-packages/sklearn/linear_model/huber.py:95: RuntimeWarning: invalid value encountered in multiply\n",
      "  2. / sigma * safe_sparse_dot(weighted_non_outliers, X_non_outliers))\n",
      "\n",
      "/home/pfackanov/.conda/envs/impulse_processing/lib/python3.6/site-packages/sklearn/linear_model/huber.py:116: RuntimeWarning: invalid value encountered in double_scalars\n",
      "  grad[-2] = -2. * np.sum(weighted_non_outliers) / sigma\n",
      "\n",
      "/home/pfackanov/.conda/envs/impulse_processing/lib/python3.6/site-packages/sklearn/linear_model/huber.py:85: RuntimeWarning: invalid value encountered in double_scalars\n",
      "  squared_loss = weighted_loss / sigma\n",
      "\n",
      "/home/pfackanov/.conda/envs/impulse_processing/lib/python3.6/site-packages/sklearn/linear_model/huber.py:95: RuntimeWarning: divide by zero encountered in double_scalars\n",
      "  2. / sigma * safe_sparse_dot(weighted_non_outliers, X_non_outliers))\n",
      "\n",
      "/home/pfackanov/.conda/envs/impulse_processing/lib/python3.6/site-packages/sklearn/linear_model/huber.py:95: RuntimeWarning: invalid value encountered in multiply\n",
      "  2. / sigma * safe_sparse_dot(weighted_non_outliers, X_non_outliers))\n",
      "\n",
      "/home/pfackanov/.conda/envs/impulse_processing/lib/python3.6/site-packages/sklearn/linear_model/huber.py:116: RuntimeWarning: invalid value encountered in double_scalars\n",
      "  grad[-2] = -2. * np.sum(weighted_non_outliers) / sigma\n",
      "\n"
     ]
    },
    {
     "name": "stdout",
     "output_type": "stream",
     "text": [
      " 48%|████▊     | 96/200 [00:54<01:31,  1.13it/s, best loss: 1.5438954389577209]"
     ]
    },
    {
     "name": "stderr",
     "output_type": "stream",
     "text": [
      "/home/pfackanov/.conda/envs/impulse_processing/lib/python3.6/site-packages/sklearn/linear_model/huber.py:85: RuntimeWarning: invalid value encountered in double_scalars\n",
      "  squared_loss = weighted_loss / sigma\n",
      "\n",
      "/home/pfackanov/.conda/envs/impulse_processing/lib/python3.6/site-packages/sklearn/linear_model/huber.py:95: RuntimeWarning: divide by zero encountered in double_scalars\n",
      "  2. / sigma * safe_sparse_dot(weighted_non_outliers, X_non_outliers))\n",
      "\n",
      "/home/pfackanov/.conda/envs/impulse_processing/lib/python3.6/site-packages/sklearn/linear_model/huber.py:95: RuntimeWarning: invalid value encountered in multiply\n",
      "  2. / sigma * safe_sparse_dot(weighted_non_outliers, X_non_outliers))\n",
      "\n",
      "/home/pfackanov/.conda/envs/impulse_processing/lib/python3.6/site-packages/sklearn/linear_model/huber.py:116: RuntimeWarning: invalid value encountered in double_scalars\n",
      "  grad[-2] = -2. * np.sum(weighted_non_outliers) / sigma\n",
      "\n"
     ]
    },
    {
     "name": "stdout",
     "output_type": "stream",
     "text": [
      " 68%|██████▊   | 135/200 [01:23<00:38,  1.70it/s, best loss: 1.5438954389577209]"
     ]
    },
    {
     "name": "stderr",
     "output_type": "stream",
     "text": [
      "/home/pfackanov/.conda/envs/impulse_processing/lib/python3.6/site-packages/sklearn/linear_model/huber.py:85: RuntimeWarning: invalid value encountered in double_scalars\n",
      "  squared_loss = weighted_loss / sigma\n",
      "\n",
      "/home/pfackanov/.conda/envs/impulse_processing/lib/python3.6/site-packages/sklearn/linear_model/huber.py:95: RuntimeWarning: divide by zero encountered in double_scalars\n",
      "  2. / sigma * safe_sparse_dot(weighted_non_outliers, X_non_outliers))\n",
      "\n",
      "/home/pfackanov/.conda/envs/impulse_processing/lib/python3.6/site-packages/sklearn/linear_model/huber.py:95: RuntimeWarning: invalid value encountered in multiply\n",
      "  2. / sigma * safe_sparse_dot(weighted_non_outliers, X_non_outliers))\n",
      "\n",
      "/home/pfackanov/.conda/envs/impulse_processing/lib/python3.6/site-packages/sklearn/linear_model/huber.py:116: RuntimeWarning: invalid value encountered in double_scalars\n",
      "  grad[-2] = -2. * np.sum(weighted_non_outliers) / sigma\n",
      "\n"
     ]
    },
    {
     "name": "stdout",
     "output_type": "stream",
     "text": [
      " 78%|███████▊  | 155/200 [01:36<00:25,  1.76it/s, best loss: 1.5436088199325417]"
     ]
    },
    {
     "name": "stderr",
     "output_type": "stream",
     "text": [
      "/home/pfackanov/.conda/envs/impulse_processing/lib/python3.6/site-packages/sklearn/linear_model/huber.py:85: RuntimeWarning: invalid value encountered in double_scalars\n",
      "  squared_loss = weighted_loss / sigma\n",
      "\n",
      "/home/pfackanov/.conda/envs/impulse_processing/lib/python3.6/site-packages/sklearn/linear_model/huber.py:95: RuntimeWarning: divide by zero encountered in double_scalars\n",
      "  2. / sigma * safe_sparse_dot(weighted_non_outliers, X_non_outliers))\n",
      "\n",
      "/home/pfackanov/.conda/envs/impulse_processing/lib/python3.6/site-packages/sklearn/linear_model/huber.py:95: RuntimeWarning: invalid value encountered in multiply\n",
      "  2. / sigma * safe_sparse_dot(weighted_non_outliers, X_non_outliers))\n",
      "\n",
      "/home/pfackanov/.conda/envs/impulse_processing/lib/python3.6/site-packages/sklearn/linear_model/huber.py:116: RuntimeWarning: invalid value encountered in double_scalars\n",
      "  grad[-2] = -2. * np.sum(weighted_non_outliers) / sigma\n",
      "\n",
      "/home/pfackanov/.conda/envs/impulse_processing/lib/python3.6/site-packages/sklearn/linear_model/huber.py:85: RuntimeWarning: invalid value encountered in double_scalars\n",
      "  squared_loss = weighted_loss / sigma\n",
      "\n",
      "/home/pfackanov/.conda/envs/impulse_processing/lib/python3.6/site-packages/sklearn/linear_model/huber.py:95: RuntimeWarning: divide by zero encountered in double_scalars\n",
      "  2. / sigma * safe_sparse_dot(weighted_non_outliers, X_non_outliers))\n",
      "\n",
      "/home/pfackanov/.conda/envs/impulse_processing/lib/python3.6/site-packages/sklearn/linear_model/huber.py:95: RuntimeWarning: invalid value encountered in multiply\n",
      "  2. / sigma * safe_sparse_dot(weighted_non_outliers, X_non_outliers))\n",
      "\n",
      "/home/pfackanov/.conda/envs/impulse_processing/lib/python3.6/site-packages/sklearn/linear_model/huber.py:116: RuntimeWarning: invalid value encountered in double_scalars\n",
      "  grad[-2] = -2. * np.sum(weighted_non_outliers) / sigma\n",
      "\n",
      "/home/pfackanov/.conda/envs/impulse_processing/lib/python3.6/site-packages/sklearn/linear_model/huber.py:85: RuntimeWarning: invalid value encountered in double_scalars\n",
      "  squared_loss = weighted_loss / sigma\n",
      "\n",
      "/home/pfackanov/.conda/envs/impulse_processing/lib/python3.6/site-packages/sklearn/linear_model/huber.py:95: RuntimeWarning: divide by zero encountered in double_scalars\n",
      "  2. / sigma * safe_sparse_dot(weighted_non_outliers, X_non_outliers))\n",
      "\n",
      "/home/pfackanov/.conda/envs/impulse_processing/lib/python3.6/site-packages/sklearn/linear_model/huber.py:95: RuntimeWarning: invalid value encountered in multiply\n",
      "  2. / sigma * safe_sparse_dot(weighted_non_outliers, X_non_outliers))\n",
      "\n",
      "/home/pfackanov/.conda/envs/impulse_processing/lib/python3.6/site-packages/sklearn/linear_model/huber.py:116: RuntimeWarning: invalid value encountered in double_scalars\n",
      "  grad[-2] = -2. * np.sum(weighted_non_outliers) / sigma\n",
      "\n"
     ]
    },
    {
     "name": "stdout",
     "output_type": "stream",
     "text": [
      "\r",
      " 78%|███████▊  | 156/200 [01:37<00:23,  1.89it/s, best loss: 1.5436088199325417]"
     ]
    },
    {
     "name": "stderr",
     "output_type": "stream",
     "text": [
      "/home/pfackanov/.conda/envs/impulse_processing/lib/python3.6/site-packages/sklearn/linear_model/huber.py:85: RuntimeWarning: invalid value encountered in double_scalars\n",
      "  squared_loss = weighted_loss / sigma\n",
      "\n",
      "/home/pfackanov/.conda/envs/impulse_processing/lib/python3.6/site-packages/sklearn/linear_model/huber.py:95: RuntimeWarning: divide by zero encountered in double_scalars\n",
      "  2. / sigma * safe_sparse_dot(weighted_non_outliers, X_non_outliers))\n",
      "\n",
      "/home/pfackanov/.conda/envs/impulse_processing/lib/python3.6/site-packages/sklearn/linear_model/huber.py:95: RuntimeWarning: invalid value encountered in multiply\n",
      "  2. / sigma * safe_sparse_dot(weighted_non_outliers, X_non_outliers))\n",
      "\n",
      "/home/pfackanov/.conda/envs/impulse_processing/lib/python3.6/site-packages/sklearn/linear_model/huber.py:116: RuntimeWarning: invalid value encountered in double_scalars\n",
      "  grad[-2] = -2. * np.sum(weighted_non_outliers) / sigma\n",
      "\n",
      "/home/pfackanov/.conda/envs/impulse_processing/lib/python3.6/site-packages/sklearn/linear_model/huber.py:85: RuntimeWarning: invalid value encountered in double_scalars\n",
      "  squared_loss = weighted_loss / sigma\n",
      "\n",
      "/home/pfackanov/.conda/envs/impulse_processing/lib/python3.6/site-packages/sklearn/linear_model/huber.py:95: RuntimeWarning: divide by zero encountered in double_scalars\n",
      "  2. / sigma * safe_sparse_dot(weighted_non_outliers, X_non_outliers))\n",
      "\n",
      "/home/pfackanov/.conda/envs/impulse_processing/lib/python3.6/site-packages/sklearn/linear_model/huber.py:95: RuntimeWarning: invalid value encountered in multiply\n",
      "  2. / sigma * safe_sparse_dot(weighted_non_outliers, X_non_outliers))\n",
      "\n",
      "/home/pfackanov/.conda/envs/impulse_processing/lib/python3.6/site-packages/sklearn/linear_model/huber.py:116: RuntimeWarning: invalid value encountered in double_scalars\n",
      "  grad[-2] = -2. * np.sum(weighted_non_outliers) / sigma\n",
      "\n"
     ]
    },
    {
     "name": "stdout",
     "output_type": "stream",
     "text": [
      " 88%|████████▊ | 175/200 [01:50<00:19,  1.31it/s, best loss: 1.5436088199325417]"
     ]
    },
    {
     "name": "stderr",
     "output_type": "stream",
     "text": [
      "/home/pfackanov/.conda/envs/impulse_processing/lib/python3.6/site-packages/sklearn/linear_model/huber.py:85: RuntimeWarning: invalid value encountered in double_scalars\n",
      "  squared_loss = weighted_loss / sigma\n",
      "\n",
      "/home/pfackanov/.conda/envs/impulse_processing/lib/python3.6/site-packages/sklearn/linear_model/huber.py:95: RuntimeWarning: divide by zero encountered in double_scalars\n",
      "  2. / sigma * safe_sparse_dot(weighted_non_outliers, X_non_outliers))\n",
      "\n",
      "/home/pfackanov/.conda/envs/impulse_processing/lib/python3.6/site-packages/sklearn/linear_model/huber.py:95: RuntimeWarning: invalid value encountered in multiply\n",
      "  2. / sigma * safe_sparse_dot(weighted_non_outliers, X_non_outliers))\n",
      "\n",
      "/home/pfackanov/.conda/envs/impulse_processing/lib/python3.6/site-packages/sklearn/linear_model/huber.py:116: RuntimeWarning: invalid value encountered in double_scalars\n",
      "  grad[-2] = -2. * np.sum(weighted_non_outliers) / sigma\n",
      "\n",
      "/home/pfackanov/.conda/envs/impulse_processing/lib/python3.6/site-packages/sklearn/linear_model/huber.py:85: RuntimeWarning: invalid value encountered in double_scalars\n",
      "  squared_loss = weighted_loss / sigma\n",
      "\n",
      "/home/pfackanov/.conda/envs/impulse_processing/lib/python3.6/site-packages/sklearn/linear_model/huber.py:95: RuntimeWarning: divide by zero encountered in double_scalars\n",
      "  2. / sigma * safe_sparse_dot(weighted_non_outliers, X_non_outliers))\n",
      "\n",
      "/home/pfackanov/.conda/envs/impulse_processing/lib/python3.6/site-packages/sklearn/linear_model/huber.py:95: RuntimeWarning: invalid value encountered in multiply\n",
      "  2. / sigma * safe_sparse_dot(weighted_non_outliers, X_non_outliers))\n",
      "\n",
      "/home/pfackanov/.conda/envs/impulse_processing/lib/python3.6/site-packages/sklearn/linear_model/huber.py:116: RuntimeWarning: invalid value encountered in double_scalars\n",
      "  grad[-2] = -2. * np.sum(weighted_non_outliers) / sigma\n",
      "\n"
     ]
    },
    {
     "name": "stdout",
     "output_type": "stream",
     "text": [
      "\r",
      " 88%|████████▊ | 176/200 [01:50<00:17,  1.35it/s, best loss: 1.5436088199325417]"
     ]
    },
    {
     "name": "stderr",
     "output_type": "stream",
     "text": [
      "/home/pfackanov/.conda/envs/impulse_processing/lib/python3.6/site-packages/sklearn/linear_model/huber.py:85: RuntimeWarning: invalid value encountered in double_scalars\n",
      "  squared_loss = weighted_loss / sigma\n",
      "\n",
      "/home/pfackanov/.conda/envs/impulse_processing/lib/python3.6/site-packages/sklearn/linear_model/huber.py:95: RuntimeWarning: divide by zero encountered in double_scalars\n",
      "  2. / sigma * safe_sparse_dot(weighted_non_outliers, X_non_outliers))\n",
      "\n",
      "/home/pfackanov/.conda/envs/impulse_processing/lib/python3.6/site-packages/sklearn/linear_model/huber.py:95: RuntimeWarning: invalid value encountered in multiply\n",
      "  2. / sigma * safe_sparse_dot(weighted_non_outliers, X_non_outliers))\n",
      "\n",
      "/home/pfackanov/.conda/envs/impulse_processing/lib/python3.6/site-packages/sklearn/linear_model/huber.py:116: RuntimeWarning: invalid value encountered in double_scalars\n",
      "  grad[-2] = -2. * np.sum(weighted_non_outliers) / sigma\n",
      "\n"
     ]
    },
    {
     "name": "stdout",
     "output_type": "stream",
     "text": [
      " 96%|█████████▌| 192/200 [02:01<00:05,  1.47it/s, best loss: 1.5436088199325417]"
     ]
    },
    {
     "name": "stderr",
     "output_type": "stream",
     "text": [
      "/home/pfackanov/.conda/envs/impulse_processing/lib/python3.6/site-packages/sklearn/linear_model/huber.py:85: RuntimeWarning: invalid value encountered in double_scalars\n",
      "  squared_loss = weighted_loss / sigma\n",
      "\n",
      "/home/pfackanov/.conda/envs/impulse_processing/lib/python3.6/site-packages/sklearn/linear_model/huber.py:95: RuntimeWarning: divide by zero encountered in double_scalars\n",
      "  2. / sigma * safe_sparse_dot(weighted_non_outliers, X_non_outliers))\n",
      "\n",
      "/home/pfackanov/.conda/envs/impulse_processing/lib/python3.6/site-packages/sklearn/linear_model/huber.py:95: RuntimeWarning: invalid value encountered in multiply\n",
      "  2. / sigma * safe_sparse_dot(weighted_non_outliers, X_non_outliers))\n",
      "\n",
      "/home/pfackanov/.conda/envs/impulse_processing/lib/python3.6/site-packages/sklearn/linear_model/huber.py:116: RuntimeWarning: invalid value encountered in double_scalars\n",
      "  grad[-2] = -2. * np.sum(weighted_non_outliers) / sigma\n",
      "\n",
      "/home/pfackanov/.conda/envs/impulse_processing/lib/python3.6/site-packages/sklearn/linear_model/huber.py:85: RuntimeWarning: invalid value encountered in double_scalars\n",
      "  squared_loss = weighted_loss / sigma\n",
      "\n",
      "/home/pfackanov/.conda/envs/impulse_processing/lib/python3.6/site-packages/sklearn/linear_model/huber.py:95: RuntimeWarning: divide by zero encountered in double_scalars\n",
      "  2. / sigma * safe_sparse_dot(weighted_non_outliers, X_non_outliers))\n",
      "\n",
      "/home/pfackanov/.conda/envs/impulse_processing/lib/python3.6/site-packages/sklearn/linear_model/huber.py:95: RuntimeWarning: invalid value encountered in multiply\n",
      "  2. / sigma * safe_sparse_dot(weighted_non_outliers, X_non_outliers))\n",
      "\n",
      "/home/pfackanov/.conda/envs/impulse_processing/lib/python3.6/site-packages/sklearn/linear_model/huber.py:116: RuntimeWarning: invalid value encountered in double_scalars\n",
      "  grad[-2] = -2. * np.sum(weighted_non_outliers) / sigma\n",
      "\n"
     ]
    },
    {
     "name": "stdout",
     "output_type": "stream",
     "text": [
      "100%|██████████| 200/200 [02:07<00:00,  1.57it/s, best loss: 1.5436088199325417]\n",
      "-----------------------------------------------------\n",
      "Freq: 50\n",
      "X_freq shape: (500, 20)\n",
      "Found minimum after 200 trials:\n",
      "{'alpha': 0.0006008361377046837, 'epsilon': 1.3523615421624653, 'max_iter': 280.0}\n",
      "-----------------------------------------------------\n",
      " 10%|█         | 20/200 [00:09<01:07,  2.67it/s, best loss: 1.6480417901862119]"
     ]
    },
    {
     "name": "stderr",
     "output_type": "stream",
     "text": [
      "/home/pfackanov/.conda/envs/impulse_processing/lib/python3.6/site-packages/sklearn/linear_model/huber.py:85: RuntimeWarning: invalid value encountered in double_scalars\n",
      "  squared_loss = weighted_loss / sigma\n",
      "\n",
      "/home/pfackanov/.conda/envs/impulse_processing/lib/python3.6/site-packages/sklearn/linear_model/huber.py:95: RuntimeWarning: divide by zero encountered in double_scalars\n",
      "  2. / sigma * safe_sparse_dot(weighted_non_outliers, X_non_outliers))\n",
      "\n",
      "/home/pfackanov/.conda/envs/impulse_processing/lib/python3.6/site-packages/sklearn/linear_model/huber.py:95: RuntimeWarning: invalid value encountered in multiply\n",
      "  2. / sigma * safe_sparse_dot(weighted_non_outliers, X_non_outliers))\n",
      "\n",
      "/home/pfackanov/.conda/envs/impulse_processing/lib/python3.6/site-packages/sklearn/linear_model/huber.py:116: RuntimeWarning: invalid value encountered in double_scalars\n",
      "  grad[-2] = -2. * np.sum(weighted_non_outliers) / sigma\n",
      "\n",
      "/home/pfackanov/.conda/envs/impulse_processing/lib/python3.6/site-packages/sklearn/linear_model/huber.py:85: RuntimeWarning: invalid value encountered in double_scalars\n",
      "  squared_loss = weighted_loss / sigma\n",
      "\n",
      "/home/pfackanov/.conda/envs/impulse_processing/lib/python3.6/site-packages/sklearn/linear_model/huber.py:95: RuntimeWarning: divide by zero encountered in double_scalars\n",
      "  2. / sigma * safe_sparse_dot(weighted_non_outliers, X_non_outliers))\n",
      "\n",
      "/home/pfackanov/.conda/envs/impulse_processing/lib/python3.6/site-packages/sklearn/linear_model/huber.py:95: RuntimeWarning: invalid value encountered in multiply\n",
      "  2. / sigma * safe_sparse_dot(weighted_non_outliers, X_non_outliers))\n",
      "\n",
      "/home/pfackanov/.conda/envs/impulse_processing/lib/python3.6/site-packages/sklearn/linear_model/huber.py:116: RuntimeWarning: invalid value encountered in double_scalars\n",
      "  grad[-2] = -2. * np.sum(weighted_non_outliers) / sigma\n",
      "\n",
      "/home/pfackanov/.conda/envs/impulse_processing/lib/python3.6/site-packages/sklearn/linear_model/huber.py:85: RuntimeWarning: invalid value encountered in double_scalars\n",
      "  squared_loss = weighted_loss / sigma\n",
      "\n",
      "/home/pfackanov/.conda/envs/impulse_processing/lib/python3.6/site-packages/sklearn/linear_model/huber.py:95: RuntimeWarning: divide by zero encountered in double_scalars\n",
      "  2. / sigma * safe_sparse_dot(weighted_non_outliers, X_non_outliers))\n",
      "\n",
      "/home/pfackanov/.conda/envs/impulse_processing/lib/python3.6/site-packages/sklearn/linear_model/huber.py:95: RuntimeWarning: invalid value encountered in multiply\n",
      "  2. / sigma * safe_sparse_dot(weighted_non_outliers, X_non_outliers))\n",
      "\n",
      "/home/pfackanov/.conda/envs/impulse_processing/lib/python3.6/site-packages/sklearn/linear_model/huber.py:116: RuntimeWarning: invalid value encountered in double_scalars\n",
      "  grad[-2] = -2. * np.sum(weighted_non_outliers) / sigma\n",
      "\n"
     ]
    },
    {
     "name": "stdout",
     "output_type": "stream",
     "text": [
      "\r",
      " 10%|█         | 21/200 [00:09<01:06,  2.70it/s, best loss: 1.6480417901862119]"
     ]
    },
    {
     "name": "stderr",
     "output_type": "stream",
     "text": [
      "/home/pfackanov/.conda/envs/impulse_processing/lib/python3.6/site-packages/sklearn/linear_model/huber.py:85: RuntimeWarning: invalid value encountered in double_scalars\n",
      "  squared_loss = weighted_loss / sigma\n",
      "\n",
      "/home/pfackanov/.conda/envs/impulse_processing/lib/python3.6/site-packages/sklearn/linear_model/huber.py:95: RuntimeWarning: divide by zero encountered in double_scalars\n",
      "  2. / sigma * safe_sparse_dot(weighted_non_outliers, X_non_outliers))\n",
      "\n",
      "/home/pfackanov/.conda/envs/impulse_processing/lib/python3.6/site-packages/sklearn/linear_model/huber.py:95: RuntimeWarning: invalid value encountered in multiply\n",
      "  2. / sigma * safe_sparse_dot(weighted_non_outliers, X_non_outliers))\n",
      "\n",
      "/home/pfackanov/.conda/envs/impulse_processing/lib/python3.6/site-packages/sklearn/linear_model/huber.py:116: RuntimeWarning: invalid value encountered in double_scalars\n",
      "  grad[-2] = -2. * np.sum(weighted_non_outliers) / sigma\n",
      "\n",
      "/home/pfackanov/.conda/envs/impulse_processing/lib/python3.6/site-packages/sklearn/linear_model/huber.py:85: RuntimeWarning: invalid value encountered in double_scalars\n",
      "  squared_loss = weighted_loss / sigma\n",
      "\n",
      "/home/pfackanov/.conda/envs/impulse_processing/lib/python3.6/site-packages/sklearn/linear_model/huber.py:95: RuntimeWarning: divide by zero encountered in double_scalars\n",
      "  2. / sigma * safe_sparse_dot(weighted_non_outliers, X_non_outliers))\n",
      "\n",
      "/home/pfackanov/.conda/envs/impulse_processing/lib/python3.6/site-packages/sklearn/linear_model/huber.py:95: RuntimeWarning: invalid value encountered in multiply\n",
      "  2. / sigma * safe_sparse_dot(weighted_non_outliers, X_non_outliers))\n",
      "\n",
      "/home/pfackanov/.conda/envs/impulse_processing/lib/python3.6/site-packages/sklearn/linear_model/huber.py:116: RuntimeWarning: invalid value encountered in double_scalars\n",
      "  grad[-2] = -2. * np.sum(weighted_non_outliers) / sigma\n",
      "\n"
     ]
    },
    {
     "name": "stdout",
     "output_type": "stream",
     "text": [
      " 14%|█▎        | 27/200 [00:11<01:01,  2.81it/s, best loss: 1.6480327231031577]"
     ]
    },
    {
     "name": "stderr",
     "output_type": "stream",
     "text": [
      "/home/pfackanov/.conda/envs/impulse_processing/lib/python3.6/site-packages/sklearn/linear_model/huber.py:85: RuntimeWarning: invalid value encountered in double_scalars\n",
      "  squared_loss = weighted_loss / sigma\n",
      "\n",
      "/home/pfackanov/.conda/envs/impulse_processing/lib/python3.6/site-packages/sklearn/linear_model/huber.py:95: RuntimeWarning: divide by zero encountered in double_scalars\n",
      "  2. / sigma * safe_sparse_dot(weighted_non_outliers, X_non_outliers))\n",
      "\n",
      "/home/pfackanov/.conda/envs/impulse_processing/lib/python3.6/site-packages/sklearn/linear_model/huber.py:95: RuntimeWarning: invalid value encountered in multiply\n",
      "  2. / sigma * safe_sparse_dot(weighted_non_outliers, X_non_outliers))\n",
      "\n",
      "/home/pfackanov/.conda/envs/impulse_processing/lib/python3.6/site-packages/sklearn/linear_model/huber.py:116: RuntimeWarning: invalid value encountered in double_scalars\n",
      "  grad[-2] = -2. * np.sum(weighted_non_outliers) / sigma\n",
      "\n",
      "/home/pfackanov/.conda/envs/impulse_processing/lib/python3.6/site-packages/sklearn/linear_model/huber.py:85: RuntimeWarning: invalid value encountered in double_scalars\n",
      "  squared_loss = weighted_loss / sigma\n",
      "\n",
      "/home/pfackanov/.conda/envs/impulse_processing/lib/python3.6/site-packages/sklearn/linear_model/huber.py:95: RuntimeWarning: divide by zero encountered in double_scalars\n",
      "  2. / sigma * safe_sparse_dot(weighted_non_outliers, X_non_outliers))\n",
      "\n",
      "/home/pfackanov/.conda/envs/impulse_processing/lib/python3.6/site-packages/sklearn/linear_model/huber.py:95: RuntimeWarning: invalid value encountered in multiply\n",
      "  2. / sigma * safe_sparse_dot(weighted_non_outliers, X_non_outliers))\n",
      "\n",
      "/home/pfackanov/.conda/envs/impulse_processing/lib/python3.6/site-packages/sklearn/linear_model/huber.py:116: RuntimeWarning: invalid value encountered in double_scalars\n",
      "  grad[-2] = -2. * np.sum(weighted_non_outliers) / sigma\n",
      "\n",
      "/home/pfackanov/.conda/envs/impulse_processing/lib/python3.6/site-packages/sklearn/linear_model/huber.py:85: RuntimeWarning: invalid value encountered in double_scalars\n",
      "  squared_loss = weighted_loss / sigma\n",
      "\n",
      "/home/pfackanov/.conda/envs/impulse_processing/lib/python3.6/site-packages/sklearn/linear_model/huber.py:95: RuntimeWarning: divide by zero encountered in double_scalars\n",
      "  2. / sigma * safe_sparse_dot(weighted_non_outliers, X_non_outliers))\n",
      "\n",
      "/home/pfackanov/.conda/envs/impulse_processing/lib/python3.6/site-packages/sklearn/linear_model/huber.py:95: RuntimeWarning: invalid value encountered in multiply\n",
      "  2. / sigma * safe_sparse_dot(weighted_non_outliers, X_non_outliers))\n",
      "\n",
      "/home/pfackanov/.conda/envs/impulse_processing/lib/python3.6/site-packages/sklearn/linear_model/huber.py:116: RuntimeWarning: invalid value encountered in double_scalars\n",
      "  grad[-2] = -2. * np.sum(weighted_non_outliers) / sigma\n",
      "\n"
     ]
    },
    {
     "name": "stdout",
     "output_type": "stream",
     "text": [
      "\r",
      " 14%|█▍        | 28/200 [00:11<01:06,  2.60it/s, best loss: 1.6480327231031577]"
     ]
    },
    {
     "name": "stderr",
     "output_type": "stream",
     "text": [
      "/home/pfackanov/.conda/envs/impulse_processing/lib/python3.6/site-packages/sklearn/linear_model/huber.py:85: RuntimeWarning: invalid value encountered in double_scalars\n",
      "  squared_loss = weighted_loss / sigma\n",
      "\n",
      "/home/pfackanov/.conda/envs/impulse_processing/lib/python3.6/site-packages/sklearn/linear_model/huber.py:95: RuntimeWarning: divide by zero encountered in double_scalars\n",
      "  2. / sigma * safe_sparse_dot(weighted_non_outliers, X_non_outliers))\n",
      "\n",
      "/home/pfackanov/.conda/envs/impulse_processing/lib/python3.6/site-packages/sklearn/linear_model/huber.py:95: RuntimeWarning: invalid value encountered in multiply\n",
      "  2. / sigma * safe_sparse_dot(weighted_non_outliers, X_non_outliers))\n",
      "\n",
      "/home/pfackanov/.conda/envs/impulse_processing/lib/python3.6/site-packages/sklearn/linear_model/huber.py:116: RuntimeWarning: invalid value encountered in double_scalars\n",
      "  grad[-2] = -2. * np.sum(weighted_non_outliers) / sigma\n",
      "\n",
      "/home/pfackanov/.conda/envs/impulse_processing/lib/python3.6/site-packages/sklearn/linear_model/huber.py:85: RuntimeWarning: invalid value encountered in double_scalars\n",
      "  squared_loss = weighted_loss / sigma\n",
      "\n",
      "/home/pfackanov/.conda/envs/impulse_processing/lib/python3.6/site-packages/sklearn/linear_model/huber.py:95: RuntimeWarning: divide by zero encountered in double_scalars\n",
      "  2. / sigma * safe_sparse_dot(weighted_non_outliers, X_non_outliers))\n",
      "\n",
      "/home/pfackanov/.conda/envs/impulse_processing/lib/python3.6/site-packages/sklearn/linear_model/huber.py:95: RuntimeWarning: invalid value encountered in multiply\n",
      "  2. / sigma * safe_sparse_dot(weighted_non_outliers, X_non_outliers))\n",
      "\n",
      "/home/pfackanov/.conda/envs/impulse_processing/lib/python3.6/site-packages/sklearn/linear_model/huber.py:116: RuntimeWarning: invalid value encountered in double_scalars\n",
      "  grad[-2] = -2. * np.sum(weighted_non_outliers) / sigma\n",
      "\n"
     ]
    },
    {
     "name": "stdout",
     "output_type": "stream",
     "text": [
      " 24%|██▎       | 47/200 [00:19<01:07,  2.28it/s, best loss: 1.6479529289615207]"
     ]
    },
    {
     "name": "stderr",
     "output_type": "stream",
     "text": [
      "/home/pfackanov/.conda/envs/impulse_processing/lib/python3.6/site-packages/sklearn/linear_model/huber.py:85: RuntimeWarning: invalid value encountered in double_scalars\n",
      "  squared_loss = weighted_loss / sigma\n",
      "\n",
      "/home/pfackanov/.conda/envs/impulse_processing/lib/python3.6/site-packages/sklearn/linear_model/huber.py:95: RuntimeWarning: divide by zero encountered in double_scalars\n",
      "  2. / sigma * safe_sparse_dot(weighted_non_outliers, X_non_outliers))\n",
      "\n",
      "/home/pfackanov/.conda/envs/impulse_processing/lib/python3.6/site-packages/sklearn/linear_model/huber.py:95: RuntimeWarning: invalid value encountered in multiply\n",
      "  2. / sigma * safe_sparse_dot(weighted_non_outliers, X_non_outliers))\n",
      "\n",
      "/home/pfackanov/.conda/envs/impulse_processing/lib/python3.6/site-packages/sklearn/linear_model/huber.py:116: RuntimeWarning: invalid value encountered in double_scalars\n",
      "  grad[-2] = -2. * np.sum(weighted_non_outliers) / sigma\n",
      "\n"
     ]
    },
    {
     "name": "stdout",
     "output_type": "stream",
     "text": [
      "\r",
      " 24%|██▍       | 48/200 [00:20<00:58,  2.60it/s, best loss: 1.6479529289615207]"
     ]
    },
    {
     "name": "stderr",
     "output_type": "stream",
     "text": [
      "/home/pfackanov/.conda/envs/impulse_processing/lib/python3.6/site-packages/sklearn/linear_model/huber.py:85: RuntimeWarning: invalid value encountered in double_scalars\n",
      "  squared_loss = weighted_loss / sigma\n",
      "\n",
      "/home/pfackanov/.conda/envs/impulse_processing/lib/python3.6/site-packages/sklearn/linear_model/huber.py:95: RuntimeWarning: divide by zero encountered in double_scalars\n",
      "  2. / sigma * safe_sparse_dot(weighted_non_outliers, X_non_outliers))\n",
      "\n",
      "/home/pfackanov/.conda/envs/impulse_processing/lib/python3.6/site-packages/sklearn/linear_model/huber.py:95: RuntimeWarning: invalid value encountered in multiply\n",
      "  2. / sigma * safe_sparse_dot(weighted_non_outliers, X_non_outliers))\n",
      "\n",
      "/home/pfackanov/.conda/envs/impulse_processing/lib/python3.6/site-packages/sklearn/linear_model/huber.py:116: RuntimeWarning: invalid value encountered in double_scalars\n",
      "  grad[-2] = -2. * np.sum(weighted_non_outliers) / sigma\n",
      "\n",
      "/home/pfackanov/.conda/envs/impulse_processing/lib/python3.6/site-packages/sklearn/linear_model/huber.py:85: RuntimeWarning: invalid value encountered in double_scalars\n",
      "  squared_loss = weighted_loss / sigma\n",
      "\n",
      "/home/pfackanov/.conda/envs/impulse_processing/lib/python3.6/site-packages/sklearn/linear_model/huber.py:95: RuntimeWarning: divide by zero encountered in double_scalars\n",
      "  2. / sigma * safe_sparse_dot(weighted_non_outliers, X_non_outliers))\n",
      "\n",
      "/home/pfackanov/.conda/envs/impulse_processing/lib/python3.6/site-packages/sklearn/linear_model/huber.py:95: RuntimeWarning: invalid value encountered in multiply\n",
      "  2. / sigma * safe_sparse_dot(weighted_non_outliers, X_non_outliers))\n",
      "\n",
      "/home/pfackanov/.conda/envs/impulse_processing/lib/python3.6/site-packages/sklearn/linear_model/huber.py:116: RuntimeWarning: invalid value encountered in double_scalars\n",
      "  grad[-2] = -2. * np.sum(weighted_non_outliers) / sigma\n",
      "\n",
      "/home/pfackanov/.conda/envs/impulse_processing/lib/python3.6/site-packages/sklearn/linear_model/huber.py:85: RuntimeWarning: invalid value encountered in double_scalars\n",
      "  squared_loss = weighted_loss / sigma\n",
      "\n",
      "/home/pfackanov/.conda/envs/impulse_processing/lib/python3.6/site-packages/sklearn/linear_model/huber.py:95: RuntimeWarning: divide by zero encountered in double_scalars\n",
      "  2. / sigma * safe_sparse_dot(weighted_non_outliers, X_non_outliers))\n",
      "\n",
      "/home/pfackanov/.conda/envs/impulse_processing/lib/python3.6/site-packages/sklearn/linear_model/huber.py:95: RuntimeWarning: invalid value encountered in multiply\n",
      "  2. / sigma * safe_sparse_dot(weighted_non_outliers, X_non_outliers))\n",
      "\n",
      "/home/pfackanov/.conda/envs/impulse_processing/lib/python3.6/site-packages/sklearn/linear_model/huber.py:116: RuntimeWarning: invalid value encountered in double_scalars\n",
      "  grad[-2] = -2. * np.sum(weighted_non_outliers) / sigma\n",
      "\n",
      "/home/pfackanov/.conda/envs/impulse_processing/lib/python3.6/site-packages/sklearn/linear_model/huber.py:85: RuntimeWarning: invalid value encountered in double_scalars\n",
      "  squared_loss = weighted_loss / sigma\n",
      "\n",
      "/home/pfackanov/.conda/envs/impulse_processing/lib/python3.6/site-packages/sklearn/linear_model/huber.py:95: RuntimeWarning: divide by zero encountered in double_scalars\n",
      "  2. / sigma * safe_sparse_dot(weighted_non_outliers, X_non_outliers))\n",
      "\n",
      "/home/pfackanov/.conda/envs/impulse_processing/lib/python3.6/site-packages/sklearn/linear_model/huber.py:95: RuntimeWarning: invalid value encountered in multiply\n",
      "  2. / sigma * safe_sparse_dot(weighted_non_outliers, X_non_outliers))\n",
      "\n",
      "/home/pfackanov/.conda/envs/impulse_processing/lib/python3.6/site-packages/sklearn/linear_model/huber.py:116: RuntimeWarning: invalid value encountered in double_scalars\n",
      "  grad[-2] = -2. * np.sum(weighted_non_outliers) / sigma\n",
      "\n"
     ]
    },
    {
     "name": "stdout",
     "output_type": "stream",
     "text": [
      " 56%|█████▌    | 111/200 [00:41<00:19,  4.56it/s, best loss: 1.6478555083812623]"
     ]
    },
    {
     "name": "stderr",
     "output_type": "stream",
     "text": [
      "/home/pfackanov/.conda/envs/impulse_processing/lib/python3.6/site-packages/sklearn/linear_model/huber.py:85: RuntimeWarning: invalid value encountered in double_scalars\n",
      "  squared_loss = weighted_loss / sigma\n",
      "\n",
      "/home/pfackanov/.conda/envs/impulse_processing/lib/python3.6/site-packages/sklearn/linear_model/huber.py:95: RuntimeWarning: divide by zero encountered in double_scalars\n",
      "  2. / sigma * safe_sparse_dot(weighted_non_outliers, X_non_outliers))\n",
      "\n",
      "/home/pfackanov/.conda/envs/impulse_processing/lib/python3.6/site-packages/sklearn/linear_model/huber.py:95: RuntimeWarning: invalid value encountered in multiply\n",
      "  2. / sigma * safe_sparse_dot(weighted_non_outliers, X_non_outliers))\n",
      "\n",
      "/home/pfackanov/.conda/envs/impulse_processing/lib/python3.6/site-packages/sklearn/linear_model/huber.py:116: RuntimeWarning: invalid value encountered in double_scalars\n",
      "  grad[-2] = -2. * np.sum(weighted_non_outliers) / sigma\n",
      "\n",
      "/home/pfackanov/.conda/envs/impulse_processing/lib/python3.6/site-packages/sklearn/linear_model/huber.py:85: RuntimeWarning: invalid value encountered in double_scalars\n",
      "  squared_loss = weighted_loss / sigma\n",
      "\n",
      "/home/pfackanov/.conda/envs/impulse_processing/lib/python3.6/site-packages/sklearn/linear_model/huber.py:95: RuntimeWarning: divide by zero encountered in double_scalars\n",
      "  2. / sigma * safe_sparse_dot(weighted_non_outliers, X_non_outliers))\n",
      "\n",
      "/home/pfackanov/.conda/envs/impulse_processing/lib/python3.6/site-packages/sklearn/linear_model/huber.py:95: RuntimeWarning: invalid value encountered in multiply\n",
      "  2. / sigma * safe_sparse_dot(weighted_non_outliers, X_non_outliers))\n",
      "\n",
      "/home/pfackanov/.conda/envs/impulse_processing/lib/python3.6/site-packages/sklearn/linear_model/huber.py:116: RuntimeWarning: invalid value encountered in double_scalars\n",
      "  grad[-2] = -2. * np.sum(weighted_non_outliers) / sigma\n",
      "\n",
      "/home/pfackanov/.conda/envs/impulse_processing/lib/python3.6/site-packages/sklearn/linear_model/huber.py:85: RuntimeWarning: invalid value encountered in double_scalars\n",
      "  squared_loss = weighted_loss / sigma\n",
      "\n",
      "/home/pfackanov/.conda/envs/impulse_processing/lib/python3.6/site-packages/sklearn/linear_model/huber.py:95: RuntimeWarning: divide by zero encountered in double_scalars\n",
      "  2. / sigma * safe_sparse_dot(weighted_non_outliers, X_non_outliers))\n",
      "\n",
      "/home/pfackanov/.conda/envs/impulse_processing/lib/python3.6/site-packages/sklearn/linear_model/huber.py:95: RuntimeWarning: invalid value encountered in multiply\n",
      "  2. / sigma * safe_sparse_dot(weighted_non_outliers, X_non_outliers))\n",
      "\n",
      "/home/pfackanov/.conda/envs/impulse_processing/lib/python3.6/site-packages/sklearn/linear_model/huber.py:116: RuntimeWarning: invalid value encountered in double_scalars\n",
      "  grad[-2] = -2. * np.sum(weighted_non_outliers) / sigma\n",
      "\n",
      "/home/pfackanov/.conda/envs/impulse_processing/lib/python3.6/site-packages/sklearn/linear_model/huber.py:85: RuntimeWarning: invalid value encountered in double_scalars\n",
      "  squared_loss = weighted_loss / sigma\n",
      "\n",
      "/home/pfackanov/.conda/envs/impulse_processing/lib/python3.6/site-packages/sklearn/linear_model/huber.py:95: RuntimeWarning: divide by zero encountered in double_scalars\n",
      "  2. / sigma * safe_sparse_dot(weighted_non_outliers, X_non_outliers))\n",
      "\n",
      "/home/pfackanov/.conda/envs/impulse_processing/lib/python3.6/site-packages/sklearn/linear_model/huber.py:95: RuntimeWarning: invalid value encountered in multiply\n",
      "  2. / sigma * safe_sparse_dot(weighted_non_outliers, X_non_outliers))\n",
      "\n",
      "/home/pfackanov/.conda/envs/impulse_processing/lib/python3.6/site-packages/sklearn/linear_model/huber.py:116: RuntimeWarning: invalid value encountered in double_scalars\n",
      "  grad[-2] = -2. * np.sum(weighted_non_outliers) / sigma\n",
      "\n"
     ]
    },
    {
     "name": "stdout",
     "output_type": "stream",
     "text": [
      " 58%|█████▊    | 117/200 [00:44<00:38,  2.13it/s, best loss: 1.6478555083812623]"
     ]
    },
    {
     "name": "stderr",
     "output_type": "stream",
     "text": [
      "/home/pfackanov/.conda/envs/impulse_processing/lib/python3.6/site-packages/sklearn/linear_model/huber.py:85: RuntimeWarning: invalid value encountered in double_scalars\n",
      "  squared_loss = weighted_loss / sigma\n",
      "\n",
      "/home/pfackanov/.conda/envs/impulse_processing/lib/python3.6/site-packages/sklearn/linear_model/huber.py:95: RuntimeWarning: divide by zero encountered in double_scalars\n",
      "  2. / sigma * safe_sparse_dot(weighted_non_outliers, X_non_outliers))\n",
      "\n",
      "/home/pfackanov/.conda/envs/impulse_processing/lib/python3.6/site-packages/sklearn/linear_model/huber.py:95: RuntimeWarning: invalid value encountered in multiply\n",
      "  2. / sigma * safe_sparse_dot(weighted_non_outliers, X_non_outliers))\n",
      "\n",
      "/home/pfackanov/.conda/envs/impulse_processing/lib/python3.6/site-packages/sklearn/linear_model/huber.py:116: RuntimeWarning: invalid value encountered in double_scalars\n",
      "  grad[-2] = -2. * np.sum(weighted_non_outliers) / sigma\n",
      "\n"
     ]
    },
    {
     "name": "stdout",
     "output_type": "stream",
     "text": [
      " 68%|██████▊   | 137/200 [00:52<00:27,  2.26it/s, best loss: 1.6478555083812623]"
     ]
    },
    {
     "name": "stderr",
     "output_type": "stream",
     "text": [
      "/home/pfackanov/.conda/envs/impulse_processing/lib/python3.6/site-packages/sklearn/linear_model/huber.py:85: RuntimeWarning: invalid value encountered in double_scalars\n",
      "  squared_loss = weighted_loss / sigma\n",
      "\n",
      "/home/pfackanov/.conda/envs/impulse_processing/lib/python3.6/site-packages/sklearn/linear_model/huber.py:95: RuntimeWarning: divide by zero encountered in double_scalars\n",
      "  2. / sigma * safe_sparse_dot(weighted_non_outliers, X_non_outliers))\n",
      "\n",
      "/home/pfackanov/.conda/envs/impulse_processing/lib/python3.6/site-packages/sklearn/linear_model/huber.py:95: RuntimeWarning: invalid value encountered in multiply\n",
      "  2. / sigma * safe_sparse_dot(weighted_non_outliers, X_non_outliers))\n",
      "\n",
      "/home/pfackanov/.conda/envs/impulse_processing/lib/python3.6/site-packages/sklearn/linear_model/huber.py:116: RuntimeWarning: invalid value encountered in double_scalars\n",
      "  grad[-2] = -2. * np.sum(weighted_non_outliers) / sigma\n",
      "\n",
      "/home/pfackanov/.conda/envs/impulse_processing/lib/python3.6/site-packages/sklearn/linear_model/huber.py:85: RuntimeWarning: invalid value encountered in double_scalars\n",
      "  squared_loss = weighted_loss / sigma\n",
      "\n",
      "/home/pfackanov/.conda/envs/impulse_processing/lib/python3.6/site-packages/sklearn/linear_model/huber.py:95: RuntimeWarning: divide by zero encountered in double_scalars\n",
      "  2. / sigma * safe_sparse_dot(weighted_non_outliers, X_non_outliers))\n",
      "\n",
      "/home/pfackanov/.conda/envs/impulse_processing/lib/python3.6/site-packages/sklearn/linear_model/huber.py:95: RuntimeWarning: invalid value encountered in multiply\n",
      "  2. / sigma * safe_sparse_dot(weighted_non_outliers, X_non_outliers))\n",
      "\n",
      "/home/pfackanov/.conda/envs/impulse_processing/lib/python3.6/site-packages/sklearn/linear_model/huber.py:116: RuntimeWarning: invalid value encountered in double_scalars\n",
      "  grad[-2] = -2. * np.sum(weighted_non_outliers) / sigma\n",
      "\n"
     ]
    },
    {
     "name": "stdout",
     "output_type": "stream",
     "text": [
      "\r",
      " 69%|██████▉   | 138/200 [00:52<00:28,  2.20it/s, best loss: 1.6478555083812623]"
     ]
    },
    {
     "name": "stderr",
     "output_type": "stream",
     "text": [
      "/home/pfackanov/.conda/envs/impulse_processing/lib/python3.6/site-packages/sklearn/linear_model/huber.py:85: RuntimeWarning: invalid value encountered in double_scalars\n",
      "  squared_loss = weighted_loss / sigma\n",
      "\n",
      "/home/pfackanov/.conda/envs/impulse_processing/lib/python3.6/site-packages/sklearn/linear_model/huber.py:95: RuntimeWarning: divide by zero encountered in double_scalars\n",
      "  2. / sigma * safe_sparse_dot(weighted_non_outliers, X_non_outliers))\n",
      "\n",
      "/home/pfackanov/.conda/envs/impulse_processing/lib/python3.6/site-packages/sklearn/linear_model/huber.py:95: RuntimeWarning: invalid value encountered in multiply\n",
      "  2. / sigma * safe_sparse_dot(weighted_non_outliers, X_non_outliers))\n",
      "\n",
      "/home/pfackanov/.conda/envs/impulse_processing/lib/python3.6/site-packages/sklearn/linear_model/huber.py:116: RuntimeWarning: invalid value encountered in double_scalars\n",
      "  grad[-2] = -2. * np.sum(weighted_non_outliers) / sigma\n",
      "\n"
     ]
    },
    {
     "name": "stdout",
     "output_type": "stream",
     "text": [
      " 89%|████████▉ | 178/200 [01:07<00:08,  2.75it/s, best loss: 1.6478555083812623]"
     ]
    },
    {
     "name": "stderr",
     "output_type": "stream",
     "text": [
      "/home/pfackanov/.conda/envs/impulse_processing/lib/python3.6/site-packages/sklearn/linear_model/huber.py:85: RuntimeWarning: invalid value encountered in double_scalars\n",
      "  squared_loss = weighted_loss / sigma\n",
      "\n",
      "/home/pfackanov/.conda/envs/impulse_processing/lib/python3.6/site-packages/sklearn/linear_model/huber.py:95: RuntimeWarning: divide by zero encountered in double_scalars\n",
      "  2. / sigma * safe_sparse_dot(weighted_non_outliers, X_non_outliers))\n",
      "\n",
      "/home/pfackanov/.conda/envs/impulse_processing/lib/python3.6/site-packages/sklearn/linear_model/huber.py:95: RuntimeWarning: invalid value encountered in multiply\n",
      "  2. / sigma * safe_sparse_dot(weighted_non_outliers, X_non_outliers))\n",
      "\n",
      "/home/pfackanov/.conda/envs/impulse_processing/lib/python3.6/site-packages/sklearn/linear_model/huber.py:116: RuntimeWarning: invalid value encountered in double_scalars\n",
      "  grad[-2] = -2. * np.sum(weighted_non_outliers) / sigma\n",
      "\n",
      "/home/pfackanov/.conda/envs/impulse_processing/lib/python3.6/site-packages/sklearn/linear_model/huber.py:85: RuntimeWarning: invalid value encountered in double_scalars\n",
      "  squared_loss = weighted_loss / sigma\n",
      "\n",
      "/home/pfackanov/.conda/envs/impulse_processing/lib/python3.6/site-packages/sklearn/linear_model/huber.py:95: RuntimeWarning: divide by zero encountered in double_scalars\n",
      "  2. / sigma * safe_sparse_dot(weighted_non_outliers, X_non_outliers))\n",
      "\n",
      "/home/pfackanov/.conda/envs/impulse_processing/lib/python3.6/site-packages/sklearn/linear_model/huber.py:95: RuntimeWarning: invalid value encountered in multiply\n",
      "  2. / sigma * safe_sparse_dot(weighted_non_outliers, X_non_outliers))\n",
      "\n",
      "/home/pfackanov/.conda/envs/impulse_processing/lib/python3.6/site-packages/sklearn/linear_model/huber.py:116: RuntimeWarning: invalid value encountered in double_scalars\n",
      "  grad[-2] = -2. * np.sum(weighted_non_outliers) / sigma\n",
      "\n",
      "/home/pfackanov/.conda/envs/impulse_processing/lib/python3.6/site-packages/sklearn/linear_model/huber.py:85: RuntimeWarning: invalid value encountered in double_scalars\n",
      "  squared_loss = weighted_loss / sigma\n",
      "\n",
      "/home/pfackanov/.conda/envs/impulse_processing/lib/python3.6/site-packages/sklearn/linear_model/huber.py:95: RuntimeWarning: divide by zero encountered in double_scalars\n",
      "  2. / sigma * safe_sparse_dot(weighted_non_outliers, X_non_outliers))\n",
      "\n",
      "/home/pfackanov/.conda/envs/impulse_processing/lib/python3.6/site-packages/sklearn/linear_model/huber.py:95: RuntimeWarning: invalid value encountered in multiply\n",
      "  2. / sigma * safe_sparse_dot(weighted_non_outliers, X_non_outliers))\n",
      "\n",
      "/home/pfackanov/.conda/envs/impulse_processing/lib/python3.6/site-packages/sklearn/linear_model/huber.py:116: RuntimeWarning: invalid value encountered in double_scalars\n",
      "  grad[-2] = -2. * np.sum(weighted_non_outliers) / sigma\n",
      "\n"
     ]
    },
    {
     "name": "stdout",
     "output_type": "stream",
     "text": [
      "\r",
      " 90%|████████▉ | 179/200 [01:08<00:08,  2.54it/s, best loss: 1.6478555083812623]"
     ]
    },
    {
     "name": "stderr",
     "output_type": "stream",
     "text": [
      "/home/pfackanov/.conda/envs/impulse_processing/lib/python3.6/site-packages/sklearn/linear_model/huber.py:85: RuntimeWarning: invalid value encountered in double_scalars\n",
      "  squared_loss = weighted_loss / sigma\n",
      "\n",
      "/home/pfackanov/.conda/envs/impulse_processing/lib/python3.6/site-packages/sklearn/linear_model/huber.py:95: RuntimeWarning: divide by zero encountered in double_scalars\n",
      "  2. / sigma * safe_sparse_dot(weighted_non_outliers, X_non_outliers))\n",
      "\n",
      "/home/pfackanov/.conda/envs/impulse_processing/lib/python3.6/site-packages/sklearn/linear_model/huber.py:95: RuntimeWarning: invalid value encountered in multiply\n",
      "  2. / sigma * safe_sparse_dot(weighted_non_outliers, X_non_outliers))\n",
      "\n",
      "/home/pfackanov/.conda/envs/impulse_processing/lib/python3.6/site-packages/sklearn/linear_model/huber.py:116: RuntimeWarning: invalid value encountered in double_scalars\n",
      "  grad[-2] = -2. * np.sum(weighted_non_outliers) / sigma\n",
      "\n"
     ]
    },
    {
     "name": "stdout",
     "output_type": "stream",
     "text": [
      "100%|██████████| 200/200 [01:15<00:00,  2.65it/s, best loss: 1.6478555083812623]\n",
      "-----------------------------------------------------\n",
      "Freq: 60\n",
      "X_freq shape: (500, 17)\n",
      "Found minimum after 200 trials:\n",
      "{'alpha': 0.002699395586307494, 'epsilon': 1.3812460571064258, 'max_iter': 110.0}\n",
      "-----------------------------------------------------\n",
      "  4%|▍         | 9/200 [00:02<00:54,  3.51it/s, best loss: 1.7466162949816646]"
     ]
    },
    {
     "name": "stderr",
     "output_type": "stream",
     "text": [
      "/home/pfackanov/.conda/envs/impulse_processing/lib/python3.6/site-packages/sklearn/linear_model/huber.py:85: RuntimeWarning: invalid value encountered in double_scalars\n",
      "  squared_loss = weighted_loss / sigma\n",
      "\n",
      "/home/pfackanov/.conda/envs/impulse_processing/lib/python3.6/site-packages/sklearn/linear_model/huber.py:95: RuntimeWarning: divide by zero encountered in double_scalars\n",
      "  2. / sigma * safe_sparse_dot(weighted_non_outliers, X_non_outliers))\n",
      "\n",
      "/home/pfackanov/.conda/envs/impulse_processing/lib/python3.6/site-packages/sklearn/linear_model/huber.py:95: RuntimeWarning: invalid value encountered in multiply\n",
      "  2. / sigma * safe_sparse_dot(weighted_non_outliers, X_non_outliers))\n",
      "\n",
      "/home/pfackanov/.conda/envs/impulse_processing/lib/python3.6/site-packages/sklearn/linear_model/huber.py:116: RuntimeWarning: invalid value encountered in double_scalars\n",
      "  grad[-2] = -2. * np.sum(weighted_non_outliers) / sigma\n",
      "\n",
      "/home/pfackanov/.conda/envs/impulse_processing/lib/python3.6/site-packages/sklearn/linear_model/huber.py:85: RuntimeWarning: invalid value encountered in double_scalars\n",
      "  squared_loss = weighted_loss / sigma\n",
      "\n",
      "/home/pfackanov/.conda/envs/impulse_processing/lib/python3.6/site-packages/sklearn/linear_model/huber.py:95: RuntimeWarning: divide by zero encountered in double_scalars\n",
      "  2. / sigma * safe_sparse_dot(weighted_non_outliers, X_non_outliers))\n",
      "\n",
      "/home/pfackanov/.conda/envs/impulse_processing/lib/python3.6/site-packages/sklearn/linear_model/huber.py:95: RuntimeWarning: invalid value encountered in multiply\n",
      "  2. / sigma * safe_sparse_dot(weighted_non_outliers, X_non_outliers))\n",
      "\n",
      "/home/pfackanov/.conda/envs/impulse_processing/lib/python3.6/site-packages/sklearn/linear_model/huber.py:116: RuntimeWarning: invalid value encountered in double_scalars\n",
      "  grad[-2] = -2. * np.sum(weighted_non_outliers) / sigma\n",
      "\n"
     ]
    },
    {
     "name": "stdout",
     "output_type": "stream",
     "text": [
      " 52%|█████▏    | 103/200 [00:39<00:35,  2.77it/s, best loss: 1.7336924327446088]"
     ]
    },
    {
     "name": "stderr",
     "output_type": "stream",
     "text": [
      "/home/pfackanov/.conda/envs/impulse_processing/lib/python3.6/site-packages/sklearn/linear_model/huber.py:85: RuntimeWarning: invalid value encountered in double_scalars\n",
      "  squared_loss = weighted_loss / sigma\n",
      "\n",
      "/home/pfackanov/.conda/envs/impulse_processing/lib/python3.6/site-packages/sklearn/linear_model/huber.py:95: RuntimeWarning: divide by zero encountered in double_scalars\n",
      "  2. / sigma * safe_sparse_dot(weighted_non_outliers, X_non_outliers))\n",
      "\n",
      "/home/pfackanov/.conda/envs/impulse_processing/lib/python3.6/site-packages/sklearn/linear_model/huber.py:95: RuntimeWarning: invalid value encountered in multiply\n",
      "  2. / sigma * safe_sparse_dot(weighted_non_outliers, X_non_outliers))\n",
      "\n",
      "/home/pfackanov/.conda/envs/impulse_processing/lib/python3.6/site-packages/sklearn/linear_model/huber.py:116: RuntimeWarning: invalid value encountered in double_scalars\n",
      "  grad[-2] = -2. * np.sum(weighted_non_outliers) / sigma\n",
      "\n"
     ]
    },
    {
     "name": "stdout",
     "output_type": "stream",
     "text": [
      " 66%|██████▋   | 133/200 [00:51<00:30,  2.16it/s, best loss: 1.733670569243807] "
     ]
    },
    {
     "name": "stderr",
     "output_type": "stream",
     "text": [
      "/home/pfackanov/.conda/envs/impulse_processing/lib/python3.6/site-packages/sklearn/linear_model/huber.py:85: RuntimeWarning: invalid value encountered in double_scalars\n",
      "  squared_loss = weighted_loss / sigma\n",
      "\n",
      "/home/pfackanov/.conda/envs/impulse_processing/lib/python3.6/site-packages/sklearn/linear_model/huber.py:95: RuntimeWarning: divide by zero encountered in double_scalars\n",
      "  2. / sigma * safe_sparse_dot(weighted_non_outliers, X_non_outliers))\n",
      "\n",
      "/home/pfackanov/.conda/envs/impulse_processing/lib/python3.6/site-packages/sklearn/linear_model/huber.py:95: RuntimeWarning: invalid value encountered in multiply\n",
      "  2. / sigma * safe_sparse_dot(weighted_non_outliers, X_non_outliers))\n",
      "\n",
      "/home/pfackanov/.conda/envs/impulse_processing/lib/python3.6/site-packages/sklearn/linear_model/huber.py:116: RuntimeWarning: invalid value encountered in double_scalars\n",
      "  grad[-2] = -2. * np.sum(weighted_non_outliers) / sigma\n",
      "\n",
      "/home/pfackanov/.conda/envs/impulse_processing/lib/python3.6/site-packages/sklearn/linear_model/huber.py:85: RuntimeWarning: invalid value encountered in double_scalars\n",
      "  squared_loss = weighted_loss / sigma\n",
      "\n",
      "/home/pfackanov/.conda/envs/impulse_processing/lib/python3.6/site-packages/sklearn/linear_model/huber.py:95: RuntimeWarning: divide by zero encountered in double_scalars\n",
      "  2. / sigma * safe_sparse_dot(weighted_non_outliers, X_non_outliers))\n",
      "\n",
      "/home/pfackanov/.conda/envs/impulse_processing/lib/python3.6/site-packages/sklearn/linear_model/huber.py:95: RuntimeWarning: invalid value encountered in multiply\n",
      "  2. / sigma * safe_sparse_dot(weighted_non_outliers, X_non_outliers))\n",
      "\n",
      "/home/pfackanov/.conda/envs/impulse_processing/lib/python3.6/site-packages/sklearn/linear_model/huber.py:116: RuntimeWarning: invalid value encountered in double_scalars\n",
      "  grad[-2] = -2. * np.sum(weighted_non_outliers) / sigma\n",
      "\n",
      "/home/pfackanov/.conda/envs/impulse_processing/lib/python3.6/site-packages/sklearn/linear_model/huber.py:85: RuntimeWarning: invalid value encountered in double_scalars\n",
      "  squared_loss = weighted_loss / sigma\n",
      "\n",
      "/home/pfackanov/.conda/envs/impulse_processing/lib/python3.6/site-packages/sklearn/linear_model/huber.py:95: RuntimeWarning: divide by zero encountered in double_scalars\n",
      "  2. / sigma * safe_sparse_dot(weighted_non_outliers, X_non_outliers))\n",
      "\n",
      "/home/pfackanov/.conda/envs/impulse_processing/lib/python3.6/site-packages/sklearn/linear_model/huber.py:95: RuntimeWarning: invalid value encountered in multiply\n",
      "  2. / sigma * safe_sparse_dot(weighted_non_outliers, X_non_outliers))\n",
      "\n",
      "/home/pfackanov/.conda/envs/impulse_processing/lib/python3.6/site-packages/sklearn/linear_model/huber.py:116: RuntimeWarning: invalid value encountered in double_scalars\n",
      "  grad[-2] = -2. * np.sum(weighted_non_outliers) / sigma\n",
      "\n",
      "/home/pfackanov/.conda/envs/impulse_processing/lib/python3.6/site-packages/sklearn/linear_model/huber.py:85: RuntimeWarning: invalid value encountered in double_scalars\n",
      "  squared_loss = weighted_loss / sigma\n",
      "\n",
      "/home/pfackanov/.conda/envs/impulse_processing/lib/python3.6/site-packages/sklearn/linear_model/huber.py:95: RuntimeWarning: divide by zero encountered in double_scalars\n",
      "  2. / sigma * safe_sparse_dot(weighted_non_outliers, X_non_outliers))\n",
      "\n",
      "/home/pfackanov/.conda/envs/impulse_processing/lib/python3.6/site-packages/sklearn/linear_model/huber.py:95: RuntimeWarning: invalid value encountered in multiply\n",
      "  2. / sigma * safe_sparse_dot(weighted_non_outliers, X_non_outliers))\n",
      "\n",
      "/home/pfackanov/.conda/envs/impulse_processing/lib/python3.6/site-packages/sklearn/linear_model/huber.py:116: RuntimeWarning: invalid value encountered in double_scalars\n",
      "  grad[-2] = -2. * np.sum(weighted_non_outliers) / sigma\n",
      "\n"
     ]
    },
    {
     "name": "stdout",
     "output_type": "stream",
     "text": [
      "\r",
      " 67%|██████▋   | 134/200 [00:52<00:32,  2.01it/s, best loss: 1.733670569243807]"
     ]
    },
    {
     "name": "stderr",
     "output_type": "stream",
     "text": [
      "/home/pfackanov/.conda/envs/impulse_processing/lib/python3.6/site-packages/sklearn/linear_model/huber.py:85: RuntimeWarning: invalid value encountered in double_scalars\n",
      "  squared_loss = weighted_loss / sigma\n",
      "\n",
      "/home/pfackanov/.conda/envs/impulse_processing/lib/python3.6/site-packages/sklearn/linear_model/huber.py:95: RuntimeWarning: divide by zero encountered in double_scalars\n",
      "  2. / sigma * safe_sparse_dot(weighted_non_outliers, X_non_outliers))\n",
      "\n",
      "/home/pfackanov/.conda/envs/impulse_processing/lib/python3.6/site-packages/sklearn/linear_model/huber.py:95: RuntimeWarning: invalid value encountered in multiply\n",
      "  2. / sigma * safe_sparse_dot(weighted_non_outliers, X_non_outliers))\n",
      "\n",
      "/home/pfackanov/.conda/envs/impulse_processing/lib/python3.6/site-packages/sklearn/linear_model/huber.py:116: RuntimeWarning: invalid value encountered in double_scalars\n",
      "  grad[-2] = -2. * np.sum(weighted_non_outliers) / sigma\n",
      "\n"
     ]
    },
    {
     "name": "stdout",
     "output_type": "stream",
     "text": [
      " 93%|█████████▎| 186/200 [01:11<00:06,  2.32it/s, best loss: 1.7329093454647968]"
     ]
    },
    {
     "name": "stderr",
     "output_type": "stream",
     "text": [
      "/home/pfackanov/.conda/envs/impulse_processing/lib/python3.6/site-packages/sklearn/linear_model/huber.py:85: RuntimeWarning: invalid value encountered in double_scalars\n",
      "  squared_loss = weighted_loss / sigma\n",
      "\n",
      "/home/pfackanov/.conda/envs/impulse_processing/lib/python3.6/site-packages/sklearn/linear_model/huber.py:95: RuntimeWarning: divide by zero encountered in double_scalars\n",
      "  2. / sigma * safe_sparse_dot(weighted_non_outliers, X_non_outliers))\n",
      "\n",
      "/home/pfackanov/.conda/envs/impulse_processing/lib/python3.6/site-packages/sklearn/linear_model/huber.py:95: RuntimeWarning: invalid value encountered in multiply\n",
      "  2. / sigma * safe_sparse_dot(weighted_non_outliers, X_non_outliers))\n",
      "\n",
      "/home/pfackanov/.conda/envs/impulse_processing/lib/python3.6/site-packages/sklearn/linear_model/huber.py:116: RuntimeWarning: invalid value encountered in double_scalars\n",
      "  grad[-2] = -2. * np.sum(weighted_non_outliers) / sigma\n",
      "\n"
     ]
    },
    {
     "name": "stdout",
     "output_type": "stream",
     "text": [
      "100%|██████████| 200/200 [01:17<00:00,  2.59it/s, best loss: 1.7329093454647968]\n",
      "-----------------------------------------------------\n",
      "Freq: 75\n",
      "X_freq shape: (500, 14)\n",
      "Found minimum after 200 trials:\n",
      "{'alpha': 0.0006827238392386151, 'epsilon': 1.1521777357634182, 'max_iter': 100.0}\n",
      "-----------------------------------------------------\n",
      "  2%|▎         | 5/200 [00:01<00:52,  3.70it/s, best loss: 1.763099677577403] "
     ]
    },
    {
     "name": "stderr",
     "output_type": "stream",
     "text": [
      "/home/pfackanov/.conda/envs/impulse_processing/lib/python3.6/site-packages/sklearn/linear_model/huber.py:85: RuntimeWarning: invalid value encountered in double_scalars\n",
      "  squared_loss = weighted_loss / sigma\n",
      "\n",
      "/home/pfackanov/.conda/envs/impulse_processing/lib/python3.6/site-packages/sklearn/linear_model/huber.py:95: RuntimeWarning: divide by zero encountered in double_scalars\n",
      "  2. / sigma * safe_sparse_dot(weighted_non_outliers, X_non_outliers))\n",
      "\n",
      "/home/pfackanov/.conda/envs/impulse_processing/lib/python3.6/site-packages/sklearn/linear_model/huber.py:95: RuntimeWarning: invalid value encountered in multiply\n",
      "  2. / sigma * safe_sparse_dot(weighted_non_outliers, X_non_outliers))\n",
      "\n",
      "/home/pfackanov/.conda/envs/impulse_processing/lib/python3.6/site-packages/sklearn/linear_model/huber.py:116: RuntimeWarning: invalid value encountered in double_scalars\n",
      "  grad[-2] = -2. * np.sum(weighted_non_outliers) / sigma\n",
      "\n"
     ]
    },
    {
     "name": "stdout",
     "output_type": "stream",
     "text": [
      " 30%|██▉       | 59/200 [00:17<00:40,  3.44it/s, best loss: 1.7587717481186018]"
     ]
    },
    {
     "name": "stderr",
     "output_type": "stream",
     "text": [
      "/home/pfackanov/.conda/envs/impulse_processing/lib/python3.6/site-packages/sklearn/linear_model/huber.py:85: RuntimeWarning: invalid value encountered in double_scalars\n",
      "  squared_loss = weighted_loss / sigma\n",
      "\n",
      "/home/pfackanov/.conda/envs/impulse_processing/lib/python3.6/site-packages/sklearn/linear_model/huber.py:95: RuntimeWarning: divide by zero encountered in double_scalars\n",
      "  2. / sigma * safe_sparse_dot(weighted_non_outliers, X_non_outliers))\n",
      "\n",
      "/home/pfackanov/.conda/envs/impulse_processing/lib/python3.6/site-packages/sklearn/linear_model/huber.py:95: RuntimeWarning: invalid value encountered in multiply\n",
      "  2. / sigma * safe_sparse_dot(weighted_non_outliers, X_non_outliers))\n",
      "\n",
      "/home/pfackanov/.conda/envs/impulse_processing/lib/python3.6/site-packages/sklearn/linear_model/huber.py:116: RuntimeWarning: invalid value encountered in double_scalars\n",
      "  grad[-2] = -2. * np.sum(weighted_non_outliers) / sigma\n",
      "\n",
      "/home/pfackanov/.conda/envs/impulse_processing/lib/python3.6/site-packages/sklearn/linear_model/huber.py:85: RuntimeWarning: invalid value encountered in double_scalars\n",
      "  squared_loss = weighted_loss / sigma\n",
      "\n",
      "/home/pfackanov/.conda/envs/impulse_processing/lib/python3.6/site-packages/sklearn/linear_model/huber.py:95: RuntimeWarning: divide by zero encountered in double_scalars\n",
      "  2. / sigma * safe_sparse_dot(weighted_non_outliers, X_non_outliers))\n",
      "\n",
      "/home/pfackanov/.conda/envs/impulse_processing/lib/python3.6/site-packages/sklearn/linear_model/huber.py:95: RuntimeWarning: invalid value encountered in multiply\n",
      "  2. / sigma * safe_sparse_dot(weighted_non_outliers, X_non_outliers))\n",
      "\n",
      "/home/pfackanov/.conda/envs/impulse_processing/lib/python3.6/site-packages/sklearn/linear_model/huber.py:116: RuntimeWarning: invalid value encountered in double_scalars\n",
      "  grad[-2] = -2. * np.sum(weighted_non_outliers) / sigma\n",
      "\n"
     ]
    },
    {
     "name": "stdout",
     "output_type": "stream",
     "text": [
      "\r",
      " 30%|███       | 60/200 [00:17<00:42,  3.26it/s, best loss: 1.7587717481186018]"
     ]
    },
    {
     "name": "stderr",
     "output_type": "stream",
     "text": [
      "/home/pfackanov/.conda/envs/impulse_processing/lib/python3.6/site-packages/sklearn/linear_model/huber.py:85: RuntimeWarning: invalid value encountered in double_scalars\n",
      "  squared_loss = weighted_loss / sigma\n",
      "\n",
      "/home/pfackanov/.conda/envs/impulse_processing/lib/python3.6/site-packages/sklearn/linear_model/huber.py:95: RuntimeWarning: divide by zero encountered in double_scalars\n",
      "  2. / sigma * safe_sparse_dot(weighted_non_outliers, X_non_outliers))\n",
      "\n",
      "/home/pfackanov/.conda/envs/impulse_processing/lib/python3.6/site-packages/sklearn/linear_model/huber.py:95: RuntimeWarning: invalid value encountered in multiply\n",
      "  2. / sigma * safe_sparse_dot(weighted_non_outliers, X_non_outliers))\n",
      "\n",
      "/home/pfackanov/.conda/envs/impulse_processing/lib/python3.6/site-packages/sklearn/linear_model/huber.py:116: RuntimeWarning: invalid value encountered in double_scalars\n",
      "  grad[-2] = -2. * np.sum(weighted_non_outliers) / sigma\n",
      "\n"
     ]
    },
    {
     "name": "stdout",
     "output_type": "stream",
     "text": [
      " 64%|██████▍   | 128/200 [00:39<00:22,  3.22it/s, best loss: 1.7584388960362343]"
     ]
    },
    {
     "name": "stderr",
     "output_type": "stream",
     "text": [
      "/home/pfackanov/.conda/envs/impulse_processing/lib/python3.6/site-packages/sklearn/linear_model/huber.py:85: RuntimeWarning: invalid value encountered in double_scalars\n",
      "  squared_loss = weighted_loss / sigma\n",
      "\n",
      "/home/pfackanov/.conda/envs/impulse_processing/lib/python3.6/site-packages/sklearn/linear_model/huber.py:95: RuntimeWarning: divide by zero encountered in double_scalars\n",
      "  2. / sigma * safe_sparse_dot(weighted_non_outliers, X_non_outliers))\n",
      "\n",
      "/home/pfackanov/.conda/envs/impulse_processing/lib/python3.6/site-packages/sklearn/linear_model/huber.py:95: RuntimeWarning: invalid value encountered in multiply\n",
      "  2. / sigma * safe_sparse_dot(weighted_non_outliers, X_non_outliers))\n",
      "\n",
      "/home/pfackanov/.conda/envs/impulse_processing/lib/python3.6/site-packages/sklearn/linear_model/huber.py:116: RuntimeWarning: invalid value encountered in double_scalars\n",
      "  grad[-2] = -2. * np.sum(weighted_non_outliers) / sigma\n",
      "\n",
      "/home/pfackanov/.conda/envs/impulse_processing/lib/python3.6/site-packages/sklearn/linear_model/huber.py:85: RuntimeWarning: invalid value encountered in double_scalars\n",
      "  squared_loss = weighted_loss / sigma\n",
      "\n",
      "/home/pfackanov/.conda/envs/impulse_processing/lib/python3.6/site-packages/sklearn/linear_model/huber.py:95: RuntimeWarning: divide by zero encountered in double_scalars\n",
      "  2. / sigma * safe_sparse_dot(weighted_non_outliers, X_non_outliers))\n",
      "\n",
      "/home/pfackanov/.conda/envs/impulse_processing/lib/python3.6/site-packages/sklearn/linear_model/huber.py:95: RuntimeWarning: invalid value encountered in multiply\n",
      "  2. / sigma * safe_sparse_dot(weighted_non_outliers, X_non_outliers))\n",
      "\n",
      "/home/pfackanov/.conda/envs/impulse_processing/lib/python3.6/site-packages/sklearn/linear_model/huber.py:116: RuntimeWarning: invalid value encountered in double_scalars\n",
      "  grad[-2] = -2. * np.sum(weighted_non_outliers) / sigma\n",
      "\n"
     ]
    },
    {
     "name": "stdout",
     "output_type": "stream",
     "text": [
      "100%|█████████▉| 199/200 [01:03<00:00,  3.23it/s, best loss: 1.7582257857925214]"
     ]
    },
    {
     "name": "stderr",
     "output_type": "stream",
     "text": [
      "/home/pfackanov/.conda/envs/impulse_processing/lib/python3.6/site-packages/sklearn/linear_model/huber.py:85: RuntimeWarning: invalid value encountered in double_scalars\n",
      "  squared_loss = weighted_loss / sigma\n",
      "\n",
      "/home/pfackanov/.conda/envs/impulse_processing/lib/python3.6/site-packages/sklearn/linear_model/huber.py:95: RuntimeWarning: divide by zero encountered in double_scalars\n",
      "  2. / sigma * safe_sparse_dot(weighted_non_outliers, X_non_outliers))\n",
      "\n",
      "/home/pfackanov/.conda/envs/impulse_processing/lib/python3.6/site-packages/sklearn/linear_model/huber.py:95: RuntimeWarning: invalid value encountered in multiply\n",
      "  2. / sigma * safe_sparse_dot(weighted_non_outliers, X_non_outliers))\n",
      "\n",
      "/home/pfackanov/.conda/envs/impulse_processing/lib/python3.6/site-packages/sklearn/linear_model/huber.py:116: RuntimeWarning: invalid value encountered in double_scalars\n",
      "  grad[-2] = -2. * np.sum(weighted_non_outliers) / sigma\n",
      "\n",
      "/home/pfackanov/.conda/envs/impulse_processing/lib/python3.6/site-packages/sklearn/linear_model/huber.py:85: RuntimeWarning: invalid value encountered in double_scalars\n",
      "  squared_loss = weighted_loss / sigma\n",
      "\n",
      "/home/pfackanov/.conda/envs/impulse_processing/lib/python3.6/site-packages/sklearn/linear_model/huber.py:95: RuntimeWarning: divide by zero encountered in double_scalars\n",
      "  2. / sigma * safe_sparse_dot(weighted_non_outliers, X_non_outliers))\n",
      "\n",
      "/home/pfackanov/.conda/envs/impulse_processing/lib/python3.6/site-packages/sklearn/linear_model/huber.py:95: RuntimeWarning: invalid value encountered in multiply\n",
      "  2. / sigma * safe_sparse_dot(weighted_non_outliers, X_non_outliers))\n",
      "\n",
      "/home/pfackanov/.conda/envs/impulse_processing/lib/python3.6/site-packages/sklearn/linear_model/huber.py:116: RuntimeWarning: invalid value encountered in double_scalars\n",
      "  grad[-2] = -2. * np.sum(weighted_non_outliers) / sigma\n",
      "\n",
      "/home/pfackanov/.conda/envs/impulse_processing/lib/python3.6/site-packages/sklearn/linear_model/huber.py:85: RuntimeWarning: invalid value encountered in double_scalars\n",
      "  squared_loss = weighted_loss / sigma\n",
      "\n",
      "/home/pfackanov/.conda/envs/impulse_processing/lib/python3.6/site-packages/sklearn/linear_model/huber.py:95: RuntimeWarning: divide by zero encountered in double_scalars\n",
      "  2. / sigma * safe_sparse_dot(weighted_non_outliers, X_non_outliers))\n",
      "\n",
      "/home/pfackanov/.conda/envs/impulse_processing/lib/python3.6/site-packages/sklearn/linear_model/huber.py:95: RuntimeWarning: invalid value encountered in multiply\n",
      "  2. / sigma * safe_sparse_dot(weighted_non_outliers, X_non_outliers))\n",
      "\n",
      "/home/pfackanov/.conda/envs/impulse_processing/lib/python3.6/site-packages/sklearn/linear_model/huber.py:116: RuntimeWarning: invalid value encountered in double_scalars\n",
      "  grad[-2] = -2. * np.sum(weighted_non_outliers) / sigma\n",
      "\n"
     ]
    },
    {
     "name": "stdout",
     "output_type": "stream",
     "text": [
      "100%|██████████| 200/200 [01:03<00:00,  3.15it/s, best loss: 1.7582257857925214]\n",
      "-----------------------------------------------------\n",
      "Freq: 85\n",
      "X_freq shape: (500, 12)\n",
      "Found minimum after 200 trials:\n",
      "{'alpha': 0.0002756646818240474, 'epsilon': 1.1005956309623552, 'max_iter': 420.0}\n",
      "-----------------------------------------------------\n",
      " 13%|█▎        | 26/200 [00:07<00:57,  3.02it/s, best loss: 1.914014723262404] "
     ]
    },
    {
     "name": "stderr",
     "output_type": "stream",
     "text": [
      "/home/pfackanov/.conda/envs/impulse_processing/lib/python3.6/site-packages/sklearn/linear_model/huber.py:85: RuntimeWarning: invalid value encountered in double_scalars\n",
      "  squared_loss = weighted_loss / sigma\n",
      "\n",
      "/home/pfackanov/.conda/envs/impulse_processing/lib/python3.6/site-packages/sklearn/linear_model/huber.py:95: RuntimeWarning: divide by zero encountered in double_scalars\n",
      "  2. / sigma * safe_sparse_dot(weighted_non_outliers, X_non_outliers))\n",
      "\n",
      "/home/pfackanov/.conda/envs/impulse_processing/lib/python3.6/site-packages/sklearn/linear_model/huber.py:95: RuntimeWarning: invalid value encountered in multiply\n",
      "  2. / sigma * safe_sparse_dot(weighted_non_outliers, X_non_outliers))\n",
      "\n",
      "/home/pfackanov/.conda/envs/impulse_processing/lib/python3.6/site-packages/sklearn/linear_model/huber.py:116: RuntimeWarning: invalid value encountered in double_scalars\n",
      "  grad[-2] = -2. * np.sum(weighted_non_outliers) / sigma\n",
      "\n",
      "/home/pfackanov/.conda/envs/impulse_processing/lib/python3.6/site-packages/sklearn/linear_model/huber.py:85: RuntimeWarning: invalid value encountered in double_scalars\n",
      "  squared_loss = weighted_loss / sigma\n",
      "\n",
      "/home/pfackanov/.conda/envs/impulse_processing/lib/python3.6/site-packages/sklearn/linear_model/huber.py:95: RuntimeWarning: divide by zero encountered in double_scalars\n",
      "  2. / sigma * safe_sparse_dot(weighted_non_outliers, X_non_outliers))\n",
      "\n",
      "/home/pfackanov/.conda/envs/impulse_processing/lib/python3.6/site-packages/sklearn/linear_model/huber.py:95: RuntimeWarning: invalid value encountered in multiply\n",
      "  2. / sigma * safe_sparse_dot(weighted_non_outliers, X_non_outliers))\n",
      "\n",
      "/home/pfackanov/.conda/envs/impulse_processing/lib/python3.6/site-packages/sklearn/linear_model/huber.py:116: RuntimeWarning: invalid value encountered in double_scalars\n",
      "  grad[-2] = -2. * np.sum(weighted_non_outliers) / sigma\n",
      "\n"
     ]
    },
    {
     "name": "stdout",
     "output_type": "stream",
     "text": [
      " 57%|█████▊    | 115/200 [00:36<00:33,  2.56it/s, best loss: 1.9133894883599072]"
     ]
    },
    {
     "name": "stderr",
     "output_type": "stream",
     "text": [
      "/home/pfackanov/.conda/envs/impulse_processing/lib/python3.6/site-packages/sklearn/linear_model/huber.py:85: RuntimeWarning: invalid value encountered in double_scalars\n",
      "  squared_loss = weighted_loss / sigma\n",
      "\n",
      "/home/pfackanov/.conda/envs/impulse_processing/lib/python3.6/site-packages/sklearn/linear_model/huber.py:95: RuntimeWarning: divide by zero encountered in double_scalars\n",
      "  2. / sigma * safe_sparse_dot(weighted_non_outliers, X_non_outliers))\n",
      "\n",
      "/home/pfackanov/.conda/envs/impulse_processing/lib/python3.6/site-packages/sklearn/linear_model/huber.py:95: RuntimeWarning: invalid value encountered in multiply\n",
      "  2. / sigma * safe_sparse_dot(weighted_non_outliers, X_non_outliers))\n",
      "\n",
      "/home/pfackanov/.conda/envs/impulse_processing/lib/python3.6/site-packages/sklearn/linear_model/huber.py:116: RuntimeWarning: invalid value encountered in double_scalars\n",
      "  grad[-2] = -2. * np.sum(weighted_non_outliers) / sigma\n",
      "\n",
      "/home/pfackanov/.conda/envs/impulse_processing/lib/python3.6/site-packages/sklearn/linear_model/huber.py:85: RuntimeWarning: invalid value encountered in double_scalars\n",
      "  squared_loss = weighted_loss / sigma\n",
      "\n",
      "/home/pfackanov/.conda/envs/impulse_processing/lib/python3.6/site-packages/sklearn/linear_model/huber.py:95: RuntimeWarning: divide by zero encountered in double_scalars\n",
      "  2. / sigma * safe_sparse_dot(weighted_non_outliers, X_non_outliers))\n",
      "\n",
      "/home/pfackanov/.conda/envs/impulse_processing/lib/python3.6/site-packages/sklearn/linear_model/huber.py:95: RuntimeWarning: invalid value encountered in multiply\n",
      "  2. / sigma * safe_sparse_dot(weighted_non_outliers, X_non_outliers))\n",
      "\n",
      "/home/pfackanov/.conda/envs/impulse_processing/lib/python3.6/site-packages/sklearn/linear_model/huber.py:116: RuntimeWarning: invalid value encountered in double_scalars\n",
      "  grad[-2] = -2. * np.sum(weighted_non_outliers) / sigma\n",
      "\n",
      "/home/pfackanov/.conda/envs/impulse_processing/lib/python3.6/site-packages/sklearn/linear_model/huber.py:85: RuntimeWarning: invalid value encountered in double_scalars\n",
      "  squared_loss = weighted_loss / sigma\n",
      "\n",
      "/home/pfackanov/.conda/envs/impulse_processing/lib/python3.6/site-packages/sklearn/linear_model/huber.py:95: RuntimeWarning: divide by zero encountered in double_scalars\n",
      "  2. / sigma * safe_sparse_dot(weighted_non_outliers, X_non_outliers))\n",
      "\n",
      "/home/pfackanov/.conda/envs/impulse_processing/lib/python3.6/site-packages/sklearn/linear_model/huber.py:95: RuntimeWarning: invalid value encountered in multiply\n",
      "  2. / sigma * safe_sparse_dot(weighted_non_outliers, X_non_outliers))\n",
      "\n",
      "/home/pfackanov/.conda/envs/impulse_processing/lib/python3.6/site-packages/sklearn/linear_model/huber.py:116: RuntimeWarning: invalid value encountered in double_scalars\n",
      "  grad[-2] = -2. * np.sum(weighted_non_outliers) / sigma\n",
      "\n"
     ]
    },
    {
     "name": "stdout",
     "output_type": "stream",
     "text": [
      " 91%|█████████ | 182/200 [00:58<00:07,  2.38it/s, best loss: 1.9130226322104567]"
     ]
    },
    {
     "name": "stderr",
     "output_type": "stream",
     "text": [
      "/home/pfackanov/.conda/envs/impulse_processing/lib/python3.6/site-packages/sklearn/linear_model/huber.py:85: RuntimeWarning: invalid value encountered in double_scalars\n",
      "  squared_loss = weighted_loss / sigma\n",
      "\n",
      "/home/pfackanov/.conda/envs/impulse_processing/lib/python3.6/site-packages/sklearn/linear_model/huber.py:95: RuntimeWarning: divide by zero encountered in double_scalars\n",
      "  2. / sigma * safe_sparse_dot(weighted_non_outliers, X_non_outliers))\n",
      "\n",
      "/home/pfackanov/.conda/envs/impulse_processing/lib/python3.6/site-packages/sklearn/linear_model/huber.py:95: RuntimeWarning: invalid value encountered in multiply\n",
      "  2. / sigma * safe_sparse_dot(weighted_non_outliers, X_non_outliers))\n",
      "\n",
      "/home/pfackanov/.conda/envs/impulse_processing/lib/python3.6/site-packages/sklearn/linear_model/huber.py:116: RuntimeWarning: invalid value encountered in double_scalars\n",
      "  grad[-2] = -2. * np.sum(weighted_non_outliers) / sigma\n",
      "\n"
     ]
    },
    {
     "name": "stdout",
     "output_type": "stream",
     "text": [
      " 94%|█████████▎| 187/200 [01:00<00:05,  2.59it/s, best loss: 1.9130226322104567]"
     ]
    },
    {
     "name": "stderr",
     "output_type": "stream",
     "text": [
      "/home/pfackanov/.conda/envs/impulse_processing/lib/python3.6/site-packages/sklearn/linear_model/huber.py:85: RuntimeWarning: invalid value encountered in double_scalars\n",
      "  squared_loss = weighted_loss / sigma\n",
      "\n",
      "/home/pfackanov/.conda/envs/impulse_processing/lib/python3.6/site-packages/sklearn/linear_model/huber.py:95: RuntimeWarning: divide by zero encountered in double_scalars\n",
      "  2. / sigma * safe_sparse_dot(weighted_non_outliers, X_non_outliers))\n",
      "\n",
      "/home/pfackanov/.conda/envs/impulse_processing/lib/python3.6/site-packages/sklearn/linear_model/huber.py:95: RuntimeWarning: invalid value encountered in multiply\n",
      "  2. / sigma * safe_sparse_dot(weighted_non_outliers, X_non_outliers))\n",
      "\n",
      "/home/pfackanov/.conda/envs/impulse_processing/lib/python3.6/site-packages/sklearn/linear_model/huber.py:116: RuntimeWarning: invalid value encountered in double_scalars\n",
      "  grad[-2] = -2. * np.sum(weighted_non_outliers) / sigma\n",
      "\n",
      "/home/pfackanov/.conda/envs/impulse_processing/lib/python3.6/site-packages/sklearn/linear_model/huber.py:85: RuntimeWarning: invalid value encountered in double_scalars\n",
      "  squared_loss = weighted_loss / sigma\n",
      "\n",
      "/home/pfackanov/.conda/envs/impulse_processing/lib/python3.6/site-packages/sklearn/linear_model/huber.py:95: RuntimeWarning: divide by zero encountered in double_scalars\n",
      "  2. / sigma * safe_sparse_dot(weighted_non_outliers, X_non_outliers))\n",
      "\n",
      "/home/pfackanov/.conda/envs/impulse_processing/lib/python3.6/site-packages/sklearn/linear_model/huber.py:95: RuntimeWarning: invalid value encountered in multiply\n",
      "  2. / sigma * safe_sparse_dot(weighted_non_outliers, X_non_outliers))\n",
      "\n",
      "/home/pfackanov/.conda/envs/impulse_processing/lib/python3.6/site-packages/sklearn/linear_model/huber.py:116: RuntimeWarning: invalid value encountered in double_scalars\n",
      "  grad[-2] = -2. * np.sum(weighted_non_outliers) / sigma\n",
      "\n"
     ]
    },
    {
     "name": "stdout",
     "output_type": "stream",
     "text": [
      "\r",
      " 94%|█████████▍| 188/200 [01:00<00:04,  2.44it/s, best loss: 1.9130226322104567]"
     ]
    },
    {
     "name": "stderr",
     "output_type": "stream",
     "text": [
      "/home/pfackanov/.conda/envs/impulse_processing/lib/python3.6/site-packages/sklearn/linear_model/huber.py:85: RuntimeWarning: invalid value encountered in double_scalars\n",
      "  squared_loss = weighted_loss / sigma\n",
      "\n",
      "/home/pfackanov/.conda/envs/impulse_processing/lib/python3.6/site-packages/sklearn/linear_model/huber.py:95: RuntimeWarning: divide by zero encountered in double_scalars\n",
      "  2. / sigma * safe_sparse_dot(weighted_non_outliers, X_non_outliers))\n",
      "\n",
      "/home/pfackanov/.conda/envs/impulse_processing/lib/python3.6/site-packages/sklearn/linear_model/huber.py:95: RuntimeWarning: invalid value encountered in multiply\n",
      "  2. / sigma * safe_sparse_dot(weighted_non_outliers, X_non_outliers))\n",
      "\n",
      "/home/pfackanov/.conda/envs/impulse_processing/lib/python3.6/site-packages/sklearn/linear_model/huber.py:116: RuntimeWarning: invalid value encountered in double_scalars\n",
      "  grad[-2] = -2. * np.sum(weighted_non_outliers) / sigma\n",
      "\n"
     ]
    },
    {
     "name": "stdout",
     "output_type": "stream",
     "text": [
      "100%|██████████| 200/200 [01:05<00:00,  3.04it/s, best loss: 1.912110799951423] \n",
      "-----------------------------------------------------\n",
      "Freq: 100\n",
      "X_freq shape: (500, 10)\n",
      "Found minimum after 200 trials:\n",
      "{'alpha': 0.0001165401939350695, 'epsilon': 1.1296479888812037, 'max_iter': 290.0}\n",
      "-----------------------------------------------------\n"
=======
      " 39%|███▉      | 78/200 [10:45<23:51, 11.74s/it, best loss: 1.3385056354274958]"
>>>>>>> e4dcd5c0b4b6e0d33a5d5dfd4c0fa7cb64088575
     ]
    }
   ],
   "source": [
    "def f(space):\n",
    "    huber_reg = HuberRegressor(epsilon=space['epsilon'], max_iter=space['max_iter'], alpha=space['alpha'])\n",
    "    scores = cross_validate(huber_reg, X_freq, y, scoring='neg_mean_absolute_error', cv=5)\n",
    "    return -scores['test_score'].mean()\n",
    "    \n",
    "space = {\n",
    "    'epsilon':  hp.loguniform('epsilon', low=np.log(1.1), high=np.log(10)),\n",
    "    'max_iter': ho_scope.int(hp.quniform('max_iter', low=100, high=500, q=10)),\n",
    "    'alpha':  hp.loguniform('alpha', low=np.log(0.0001), high=np.log(0.01)),\n",
    "}\n",
    "\n",
    "global X_freq\n",
    "print_results()"
   ]
  },
  {
   "cell_type": "markdown",
   "metadata": {},
   "source": [
    "#### Ridge"
   ]
  },
  {
   "cell_type": "code",
<<<<<<< HEAD
   "execution_count": 12,
   "metadata": {},
   "outputs": [
    {
     "name": "stdout",
     "output_type": "stream",
     "text": [
      "100%|██████████| 200/200 [14:19<00:00,  4.30s/it, best loss: 1.3414790668766101] \n",
      "-----------------------------------------------------\n",
      "Freq: 1\n",
      "X_freq shape: (500, 1024)\n",
      "Found minimum after 200 trials:\n",
      "{'alpha': 0.21493468375041191, 'max_iter': 4500.0, 'solver': 4}\n",
      "-----------------------------------------------------\n",
      "100%|██████████| 200/200 [02:25<00:00,  1.38it/s, best loss: 1.3433630325376416]\n",
      "-----------------------------------------------------\n",
      "Freq: 5\n",
      "X_freq shape: (500, 204)\n",
      "Found minimum after 200 trials:\n",
      "{'alpha': 0.056427609832135656, 'max_iter': 3400.0, 'solver': 1}\n",
      "-----------------------------------------------------\n",
      "100%|██████████| 200/200 [01:01<00:00,  3.25it/s, best loss: 1.3501068586636094]\n",
      "-----------------------------------------------------\n",
      "Freq: 10\n",
      "X_freq shape: (500, 102)\n",
      "Found minimum after 200 trials:\n",
      "{'alpha': 0.02552469379722657, 'max_iter': 4300.0, 'solver': 0}\n",
      "-----------------------------------------------------\n",
      "100%|██████████| 200/200 [00:48<00:00,  4.10it/s, best loss: 1.364419254771862] \n",
      "-----------------------------------------------------\n",
      "Freq: 15\n",
      "X_freq shape: (500, 68)\n",
      "Found minimum after 200 trials:\n",
      "{'alpha': 0.039181654571728244, 'max_iter': 3200.0, 'solver': 2}\n",
      "-----------------------------------------------------\n",
      "100%|██████████| 200/200 [00:26<00:00,  7.67it/s, best loss: 1.3632300856638535]\n",
      "-----------------------------------------------------\n",
      "Freq: 25\n",
      "X_freq shape: (500, 41)\n",
      "Found minimum after 200 trials:\n",
      "{'alpha': 0.02011634599626755, 'max_iter': 1600.0, 'solver': 1}\n",
      "-----------------------------------------------------\n",
      "100%|██████████| 200/200 [00:12<00:00, 15.52it/s, best loss: 1.60380270111424]  \n",
      "-----------------------------------------------------\n",
      "Freq: 50\n",
      "X_freq shape: (500, 20)\n",
      "Found minimum after 200 trials:\n",
      "{'alpha': 0.003999967624070713, 'max_iter': 3700.0, 'solver': 0}\n",
      "-----------------------------------------------------\n",
      "100%|██████████| 200/200 [00:10<00:00, 19.34it/s, best loss: 1.705241732729369] \n",
      "-----------------------------------------------------\n",
      "Freq: 60\n",
      "X_freq shape: (500, 17)\n",
      "Found minimum after 200 trials:\n",
      "{'alpha': 0.008765237249854913, 'max_iter': 3000.0, 'solver': 3}\n",
      "-----------------------------------------------------\n",
      "100%|██████████| 200/200 [00:09<00:00, 20.34it/s, best loss: 1.790539801094352]\n",
      "-----------------------------------------------------\n",
      "Freq: 75\n",
      "X_freq shape: (500, 14)\n",
      "Found minimum after 200 trials:\n",
      "{'alpha': 0.004078780308093151, 'max_iter': 4300.0, 'solver': 0}\n",
      "-----------------------------------------------------\n",
      "100%|██████████| 200/200 [00:10<00:00, 19.01it/s, best loss: 1.8136623673363825]\n",
      "-----------------------------------------------------\n",
      "Freq: 85\n",
      "X_freq shape: (500, 12)\n",
      "Found minimum after 200 trials:\n",
      "{'alpha': 0.0019980090247127785, 'max_iter': 1300.0, 'solver': 3}\n",
      "-----------------------------------------------------\n",
      "100%|██████████| 200/200 [00:09<00:00, 21.79it/s, best loss: 1.980655869039666] \n",
      "-----------------------------------------------------\n",
      "Freq: 100\n",
      "X_freq shape: (500, 10)\n",
      "Found minimum after 200 trials:\n",
      "{'alpha': 0.0013582771169918365, 'max_iter': 2300.0, 'solver': 0}\n",
      "-----------------------------------------------------\n"
     ]
    }
   ],
=======
   "execution_count": null,
   "metadata": {},
   "outputs": [],
>>>>>>> e4dcd5c0b4b6e0d33a5d5dfd4c0fa7cb64088575
   "source": [
    "def f(space):\n",
    "    ridge_reg = linear_model.Ridge(solver=space['solver'], max_iter=space['max_iter'], alpha=space['alpha'])\n",
    "    scores = cross_validate(ridge_reg, X_freq, y, scoring='neg_mean_absolute_error', cv=5)\n",
    "    return -scores['test_score'].mean()\n",
    "    \n",
    "space = {\n",
    "    'solver': hp.choice('solver', ['auto', 'svd', 'cholesky', 'lsqr', 'sparse_cg', 'sag', 'saga']),\n",
    "    'max_iter': ho_scope.int(hp.quniform('max_iter', low=1000, high=5000, q=100)),\n",
    "    'alpha':  hp.loguniform('alpha', low=np.log(0.0001), high=np.log(1)),\n",
    "}\n",
    "\n",
    "print_results()"
   ]
  },
  {
   "cell_type": "markdown",
   "metadata": {},
   "source": [
    "#### Lasso"
   ]
  },
  {
   "cell_type": "code",
<<<<<<< HEAD
   "execution_count": 13,
=======
   "execution_count": null,
>>>>>>> e4dcd5c0b4b6e0d33a5d5dfd4c0fa7cb64088575
   "metadata": {},
   "outputs": [],
   "source": [
    "import warnings\n",
    "warnings.filterwarnings(\"ignore\")"
   ]
  },
  {
   "cell_type": "code",
<<<<<<< HEAD
   "execution_count": 14,
   "metadata": {},
   "outputs": [
    {
     "name": "stdout",
     "output_type": "stream",
     "text": [
      "100%|██████████| 200/200 [17:25<00:00,  5.23s/it, best loss: 1.339676881139102] \n",
      "-----------------------------------------------------\n",
      "Freq: 1\n",
      "X_freq shape: (500, 1024)\n",
      "Found minimum after 200 trials:\n",
      "{'alpha': 0.0021653661252813874, 'max_iter': 4800.0, 'normalize': 1}\n",
      "-----------------------------------------------------\n",
      "100%|██████████| 200/200 [03:32<00:00,  1.06s/it, best loss: 1.3418937075664903]\n",
      "-----------------------------------------------------\n",
      "Freq: 5\n",
      "X_freq shape: (500, 204)\n",
      "Found minimum after 200 trials:\n",
      "{'alpha': 0.002446261274749988, 'max_iter': 1900.0, 'normalize': 1}\n",
      "-----------------------------------------------------\n",
      "100%|██████████| 200/200 [01:31<00:00,  2.19it/s, best loss: 1.3447766464977984]\n",
      "-----------------------------------------------------\n",
      "Freq: 10\n",
      "X_freq shape: (500, 102)\n",
      "Found minimum after 200 trials:\n",
      "{'alpha': 0.0019596764640942925, 'max_iter': 1000.0, 'normalize': 1}\n",
      "-----------------------------------------------------\n",
      "100%|██████████| 200/200 [00:50<00:00,  3.96it/s, best loss: 1.355533352305259]\n",
      "-----------------------------------------------------\n",
      "Freq: 15\n",
      "X_freq shape: (500, 68)\n",
      "Found minimum after 200 trials:\n",
      "{'alpha': 0.002776052128297406, 'max_iter': 4900.0, 'normalize': 1}\n",
      "-----------------------------------------------------\n",
      "100%|██████████| 200/200 [00:24<00:00,  8.15it/s, best loss: 1.3659647802076518]\n",
      "-----------------------------------------------------\n",
      "Freq: 25\n",
      "X_freq shape: (500, 41)\n",
      "Found minimum after 200 trials:\n",
      "{'alpha': 0.0013917676540526236, 'max_iter': 3600.0, 'normalize': 1}\n",
      "-----------------------------------------------------\n",
      "100%|██████████| 200/200 [00:07<00:00, 28.28it/s, best loss: 1.6023618408116629]\n",
      "-----------------------------------------------------\n",
      "Freq: 50\n",
      "X_freq shape: (500, 20)\n",
      "Found minimum after 200 trials:\n",
      "{'alpha': 0.0004546988212523742, 'max_iter': 5000.0, 'normalize': 1}\n",
      "-----------------------------------------------------\n",
      "100%|██████████| 200/200 [00:05<00:00, 35.66it/s, best loss: 1.7075519587766927]\n",
      "-----------------------------------------------------\n",
      "Freq: 60\n",
      "X_freq shape: (500, 17)\n",
      "Found minimum after 200 trials:\n",
      "{'alpha': 0.0011293594654022577, 'max_iter': 1600.0, 'normalize': 1}\n",
      "-----------------------------------------------------\n",
      "100%|██████████| 200/200 [00:07<00:00, 27.06it/s, best loss: 1.7949521235167716]\n",
      "-----------------------------------------------------\n",
      "Freq: 75\n",
      "X_freq shape: (500, 14)\n",
      "Found minimum after 200 trials:\n",
      "{'alpha': 0.00035988118627308213, 'max_iter': 3200.0, 'normalize': 1}\n",
      "-----------------------------------------------------\n",
      "100%|██████████| 200/200 [00:08<00:00, 23.54it/s, best loss: 1.8244729443487664]\n",
      "-----------------------------------------------------\n",
      "Freq: 85\n",
      "X_freq shape: (500, 12)\n",
      "Found minimum after 200 trials:\n",
      "{'alpha': 0.0006056185278757309, 'max_iter': 2600.0, 'normalize': 1}\n",
      "-----------------------------------------------------\n",
      "100%|██████████| 200/200 [00:07<00:00, 27.85it/s, best loss: 1.9837567181248925]\n",
      "-----------------------------------------------------\n",
      "Freq: 100\n",
      "X_freq shape: (500, 10)\n",
      "Found minimum after 200 trials:\n",
      "{'alpha': 0.00023848231104017228, 'max_iter': 3900.0, 'normalize': 1}\n",
      "-----------------------------------------------------\n"
     ]
    }
   ],
=======
   "execution_count": null,
   "metadata": {},
   "outputs": [],
>>>>>>> e4dcd5c0b4b6e0d33a5d5dfd4c0fa7cb64088575
   "source": [
    "def f(space):\n",
    "    lasso_reg = linear_model.Lasso(max_iter=space['max_iter'], alpha=space['alpha'], normalize=space['normalize'])\n",
    "    scores = cross_validate(lasso_reg, X_freq, y, scoring='neg_mean_absolute_error', cv=5)\n",
    "    return -scores['test_score'].mean()\n",
    "    \n",
    "space = {\n",
    "    'normalize': hp.choice('normalize', [True, False]),\n",
    "    'max_iter': ho_scope.int(hp.quniform('max_iter', low=1000, high=5000, q=100)),\n",
    "    'alpha':  hp.loguniform('alpha', low=np.log(0.0001), high=np.log(1)),\n",
    "}\n",
    "\n",
    "print_results()"
   ]
  },
  {
   "cell_type": "markdown",
   "metadata": {},
   "source": [
    "#### Decision tree"
   ]
  },
  {
   "cell_type": "code",
<<<<<<< HEAD
   "execution_count": 15,
   "metadata": {},
   "outputs": [
    {
     "name": "stdout",
     "output_type": "stream",
     "text": [
      "100%|██████████| 200/200 [01:57<00:00,  1.70it/s, best loss: 1.8673281463320919]\n",
      "-----------------------------------------------------\n",
      "Freq: 1\n",
      "X_freq shape: (500, 1024)\n",
      "Found minimum after 200 trials:\n",
      "{'max_features': 0, 'max_iter': 32.0, 'min_samples_leaf': 4.0, 'min_samples_split': 2.0, 'min_weight_fraction_leaf': 0.03713565978765977}\n",
      "-----------------------------------------------------\n",
      "100%|██████████| 200/200 [00:32<00:00,  6.24it/s, best loss: 1.7880425616174336]\n",
      "-----------------------------------------------------\n",
      "Freq: 5\n",
      "X_freq shape: (500, 204)\n",
      "Found minimum after 200 trials:\n",
      "{'max_features': 0, 'max_iter': 26.0, 'min_samples_leaf': 2.0, 'min_samples_split': 6.0, 'min_weight_fraction_leaf': 0.0522185406210047}\n",
      "-----------------------------------------------------\n",
      "100%|██████████| 200/200 [00:23<00:00,  8.68it/s, best loss: 1.7596738474293165]\n",
      "-----------------------------------------------------\n",
      "Freq: 10\n",
      "X_freq shape: (500, 102)\n",
      "Found minimum after 200 trials:\n",
      "{'max_features': 0, 'max_iter': 74.0, 'min_samples_leaf': 9.0, 'min_samples_split': 4.0, 'min_weight_fraction_leaf': 0.04277318003960781}\n",
      "-----------------------------------------------------\n",
      "100%|██████████| 200/200 [00:20<00:00,  9.79it/s, best loss: 1.7797962215466487]\n",
      "-----------------------------------------------------\n",
      "Freq: 15\n",
      "X_freq shape: (500, 68)\n",
      "Found minimum after 200 trials:\n",
      "{'max_features': 0, 'max_iter': 60.0, 'min_samples_leaf': 4.0, 'min_samples_split': 7.0, 'min_weight_fraction_leaf': 0.04048081891507013}\n",
      "-----------------------------------------------------\n",
      "100%|██████████| 200/200 [00:18<00:00, 10.78it/s, best loss: 1.9023982628482625]\n",
      "-----------------------------------------------------\n",
      "Freq: 25\n",
      "X_freq shape: (500, 41)\n",
      "Found minimum after 200 trials:\n",
      "{'max_features': 0, 'max_iter': 26.0, 'min_samples_leaf': 7.0, 'min_samples_split': 3.0, 'min_weight_fraction_leaf': 0.014459443399118494}\n",
      "-----------------------------------------------------\n",
      "100%|██████████| 200/200 [00:14<00:00, 13.80it/s, best loss: 1.9988686870319223]\n",
      "-----------------------------------------------------\n",
      "Freq: 50\n",
      "X_freq shape: (500, 20)\n",
      "Found minimum after 200 trials:\n",
      "{'max_features': 0, 'max_iter': 20.0, 'min_samples_leaf': 9.0, 'min_samples_split': 9.0, 'min_weight_fraction_leaf': 0.019142299390368073}\n",
      "-----------------------------------------------------\n",
      "100%|██████████| 200/200 [00:14<00:00, 13.55it/s, best loss: 2.019846469395479]\n",
      "-----------------------------------------------------\n",
      "Freq: 60\n",
      "X_freq shape: (500, 17)\n",
      "Found minimum after 200 trials:\n",
      "{'max_features': 0, 'max_iter': 50.0, 'min_samples_leaf': 5.0, 'min_samples_split': 10.0, 'min_weight_fraction_leaf': 0.03983502675003312}\n",
      "-----------------------------------------------------\n",
      "100%|██████████| 200/200 [00:13<00:00, 15.05it/s, best loss: 2.0526446443618993]\n",
      "-----------------------------------------------------\n",
      "Freq: 75\n",
      "X_freq shape: (500, 14)\n",
      "Found minimum after 200 trials:\n",
      "{'max_features': 0, 'max_iter': 38.0, 'min_samples_leaf': 5.0, 'min_samples_split': 5.0, 'min_weight_fraction_leaf': 0.03857287369671536}\n",
      "-----------------------------------------------------\n",
      "100%|██████████| 200/200 [00:13<00:00, 14.79it/s, best loss: 2.0725136515445337]\n",
      "-----------------------------------------------------\n",
      "Freq: 85\n",
      "X_freq shape: (500, 12)\n",
      "Found minimum after 200 trials:\n",
      "{'max_features': 0, 'max_iter': 24.0, 'min_samples_leaf': 6.0, 'min_samples_split': 8.0, 'min_weight_fraction_leaf': 0.02159723586765766}\n",
      "-----------------------------------------------------\n",
      "100%|██████████| 200/200 [00:13<00:00, 14.99it/s, best loss: 2.073020658701748]\n",
      "-----------------------------------------------------\n",
      "Freq: 100\n",
      "X_freq shape: (500, 10)\n",
      "Found minimum after 200 trials:\n",
      "{'max_features': 0, 'max_iter': 96.0, 'min_samples_leaf': 7.0, 'min_samples_split': 8.0, 'min_weight_fraction_leaf': 0.03756481547514703}\n",
      "-----------------------------------------------------\n"
     ]
    }
   ],
=======
   "execution_count": null,
   "metadata": {},
   "outputs": [],
>>>>>>> e4dcd5c0b4b6e0d33a5d5dfd4c0fa7cb64088575
   "source": [
    "def f(space):\n",
    "    dt_reg = tree.DecisionTreeRegressor(max_depth=space['max_depth'], min_samples_split=space['min_samples_split'],\n",
    "                                       min_samples_leaf=space['min_samples_leaf'], min_weight_fraction_leaf=\n",
    "                                        space['min_weight_fraction_leaf'], max_features=space['max_features'])\n",
    "    scores = cross_validate(dt_reg, X_freq, y, scoring='neg_mean_absolute_error', cv=5)\n",
    "    return -scores['test_score'].mean()\n",
    "    \n",
    "space = {\n",
    "    'max_depth':  ho_scope.int(hp.quniform('max_iter', low=4, high=100, q=2)),\n",
    "    'min_samples_split': ho_scope.int(hp.quniform('min_samples_split', low=2, high=10, q=1)),\n",
    "    'min_samples_leaf':  ho_scope.int(hp.quniform('min_samples_leaf', low=1, high=10, q=1)),\n",
    "    'min_weight_fraction_leaf': hp.uniform('min_weight_fraction_leaf', 0, 0.5),\n",
    "    'max_features': hp.choice('max_features', ['auto', 'sqrt', 'log2'])\n",
    "}\n",
    "\n",
    "print_results()"
   ]
  },
  {
   "cell_type": "markdown",
   "metadata": {},
   "source": [
    "#### Passive aggresive"
   ]
  },
  {
   "cell_type": "code",
<<<<<<< HEAD
   "execution_count": 16,
   "metadata": {},
   "outputs": [
    {
     "name": "stdout",
     "output_type": "stream",
     "text": [
      "100%|██████████| 200/200 [00:47<00:00,  4.22it/s, best loss: 2.1770152667232585]\n",
      "-----------------------------------------------------\n",
      "Freq: 1\n",
      "X_freq shape: (500, 1024)\n",
      "Found minimum after 200 trials:\n",
      "{'c': 0.028410970669765504, 'max_iter': 4600.0, 'tol': 2.4813499383874833e-05, 'verbose': 66.0}\n",
      "-----------------------------------------------------\n",
      "100%|██████████| 200/200 [00:21<00:00,  9.20it/s, best loss: 2.087147679886737]\n",
      "-----------------------------------------------------\n",
      "Freq: 5\n",
      "X_freq shape: (500, 204)\n",
      "Found minimum after 200 trials:\n",
      "{'c': 0.5708322725977252, 'max_iter': 4400.0, 'tol': 0.00018425260680593846, 'verbose': 28.0}\n",
      "-----------------------------------------------------\n",
      "100%|██████████| 200/200 [00:18<00:00, 10.73it/s, best loss: 2.0542778328057483]\n",
      "-----------------------------------------------------\n",
      "Freq: 10\n",
      "X_freq shape: (500, 102)\n",
      "Found minimum after 200 trials:\n",
      "{'c': 1.471380312592148, 'max_iter': 3900.0, 'tol': 4.230089966077013e-05, 'verbose': 60.0}\n",
      "-----------------------------------------------------\n",
      "100%|██████████| 200/200 [00:08<00:00, 23.82it/s, best loss: 1.9673362678463537]\n",
      "-----------------------------------------------------\n",
      "Freq: 15\n",
      "X_freq shape: (500, 68)\n",
      "Found minimum after 200 trials:\n",
      "{'c': 0.293909705222158, 'max_iter': 3500.0, 'tol': 8.173009174626251e-06, 'verbose': 6.0}\n",
      "-----------------------------------------------------\n",
      "100%|██████████| 200/200 [00:10<00:00, 18.66it/s, best loss: 1.997859357576963] \n",
      "-----------------------------------------------------\n",
      "Freq: 25\n",
      "X_freq shape: (500, 41)\n",
      "Found minimum after 200 trials:\n",
      "{'c': 5.338662931233398, 'max_iter': 3300.0, 'tol': 5.239841606562846e-05, 'verbose': 44.0}\n",
      "-----------------------------------------------------\n",
      "100%|██████████| 200/200 [00:10<00:00, 19.00it/s, best loss: 1.857690330203281]\n",
      "-----------------------------------------------------\n",
      "Freq: 50\n",
      "X_freq shape: (500, 20)\n",
      "Found minimum after 200 trials:\n",
      "{'c': 0.7723260480552988, 'max_iter': 1000.0, 'tol': 2.3578996850958095e-06, 'verbose': 68.0}\n",
      "-----------------------------------------------------\n",
      "100%|██████████| 200/200 [00:11<00:00, 18.12it/s, best loss: 1.708810127889843]\n",
      "-----------------------------------------------------\n",
      "Freq: 60\n",
      "X_freq shape: (500, 17)\n",
      "Found minimum after 200 trials:\n",
      "{'c': 2.4563202074427237, 'max_iter': 4600.0, 'tol': 1.9878136300805998e-05, 'verbose': 64.0}\n",
      "-----------------------------------------------------\n",
      "100%|██████████| 200/200 [00:11<00:00, 17.36it/s, best loss: 1.7981897731188077]\n",
      "-----------------------------------------------------\n",
      "Freq: 75\n",
      "X_freq shape: (500, 14)\n",
      "Found minimum after 200 trials:\n",
      "{'c': 1.2240327578802985, 'max_iter': 1800.0, 'tol': 1.043766134504058e-05, 'verbose': 30.0}\n",
      "-----------------------------------------------------\n",
      "100%|██████████| 200/200 [00:11<00:00, 17.44it/s, best loss: 2.0315899793716015]\n",
      "-----------------------------------------------------\n",
      "Freq: 85\n",
      "X_freq shape: (500, 12)\n",
      "Found minimum after 200 trials:\n",
      "{'c': 2.2866239128148944, 'max_iter': 1600.0, 'tol': 3.99715279112991e-06, 'verbose': 90.0}\n",
      "-----------------------------------------------------\n",
      "100%|██████████| 200/200 [00:11<00:00, 18.04it/s, best loss: 2.6821593803467705]\n",
      "-----------------------------------------------------\n",
      "Freq: 100\n",
      "X_freq shape: (500, 10)\n",
      "Found minimum after 200 trials:\n",
      "{'c': 3.478264251327599, 'max_iter': 2800.0, 'tol': 4.487748592559903e-05, 'verbose': 82.0}\n",
      "-----------------------------------------------------\n"
     ]
    }
   ],
   "source": [
    "def f(space):\n",
    "    pa_reg = PassiveAggressiveRegressor(max_iter=space['max_iter'], tol=space['max_iter'], \n",
=======
   "execution_count": null,
   "metadata": {},
   "outputs": [],
   "source": [
    "def f(space):\n",
    "    pa_reg = PassiveAggressiveRegressor(max_iter=space['max_iter'], tol=space['tol'], \n",
>>>>>>> e4dcd5c0b4b6e0d33a5d5dfd4c0fa7cb64088575
    "                                       C = space['C'])\n",
    "    scores = cross_validate(pa_reg, X_freq, y, scoring='neg_mean_absolute_error', cv=5)\n",
    "    return -scores['test_score'].mean()\n",
    "    \n",
    "space = {\n",
    "    'max_iter': ho_scope.int(hp.quniform('max_iter', low=1000, high=5000, q=100)),\n",
    "    'tol': hp.loguniform('tol', low=np.log(0.000001), high=np.log(0.001)),\n",
    "    'verbose': ho_scope.int(hp.quniform('verbose', low=1, high=100, q=2)),\n",
    "    'C':  hp.loguniform('c', low=np.log(0.0001), high=np.log(10)),\n",
    "}\n",
    "\n",
    "print_results()"
   ]
  },
  {
   "cell_type": "markdown",
   "metadata": {},
   "source": [
    "#### Xgboost"
   ]
  },
  {
   "cell_type": "code",
<<<<<<< HEAD
   "execution_count": 17,
   "metadata": {},
   "outputs": [
    {
     "name": "stdout",
     "output_type": "stream",
     "text": [
      "100%|██████████| 100/100 [1:14:30<00:00, 44.70s/it, best loss: 1.5246787719726562]\n",
      "-----------------------------------------------------\n",
      "Freq: 1\n",
      "X_freq shape: (500, 1024)\n",
      "Found minimum after 100 trials:\n",
      "{'alpha': 0.10417511914808981, 'booster': 0, 'eta': 0.06757179020317643, 'gamma': 0.0024196980848338193, 'lambda': 0.004157390327595943, 'max_depth': 12.0}\n",
      "-----------------------------------------------------\n",
      "100%|██████████| 100/100 [13:05<00:00,  7.85s/it, best loss: 1.4490741271972656]\n",
      "-----------------------------------------------------\n",
      "Freq: 5\n",
      "X_freq shape: (500, 204)\n",
      "Found minimum after 100 trials:\n",
      "{'alpha': 0.29454782831272514, 'booster': 0, 'eta': 0.007960917625240696, 'gamma': 4.81409308900451, 'lambda': 0.001375489664045739, 'max_depth': 26.0}\n",
      "-----------------------------------------------------\n",
      "100%|██████████| 100/100 [07:00<00:00,  4.20s/it, best loss: 1.4606397399902342]\n",
      "-----------------------------------------------------\n",
      "Freq: 10\n",
      "X_freq shape: (500, 102)\n",
      "Found minimum after 100 trials:\n",
      "{'alpha': 0.0015623516284415826, 'booster': 0, 'eta': 0.9444359930320146, 'gamma': 0.030668059305527504, 'lambda': 0.003415616589666687, 'max_depth': 30.0}\n",
      "-----------------------------------------------------\n",
      "100%|██████████| 100/100 [05:01<00:00,  3.02s/it, best loss: 1.454159423828125]\n",
      "-----------------------------------------------------\n",
      "Freq: 15\n",
      "X_freq shape: (500, 68)\n",
      "Found minimum after 100 trials:\n",
      "{'alpha': 0.4342880805142227, 'booster': 2, 'eta': 0.024337652515902277, 'gamma': 0.00446481874094959, 'lambda': 0.0021512072873025334, 'max_depth': 40.0}\n",
      "-----------------------------------------------------\n",
      "100%|██████████| 100/100 [03:56<00:00,  2.37s/it, best loss: 1.5094794006347656]\n",
      "-----------------------------------------------------\n",
      "Freq: 25\n",
      "X_freq shape: (500, 41)\n",
      "Found minimum after 100 trials:\n",
      "{'alpha': 9.15054536765338, 'booster': 2, 'eta': 0.5382579500497542, 'gamma': 23.085675415021583, 'lambda': 0.0018868595138513463, 'max_depth': 50.0}\n",
      "-----------------------------------------------------\n",
      "100%|██████████| 100/100 [02:16<00:00,  1.36s/it, best loss: 1.6756166381835935]\n",
      "-----------------------------------------------------\n",
      "Freq: 50\n",
      "X_freq shape: (500, 20)\n",
      "Found minimum after 100 trials:\n",
      "{'alpha': 3.0585528396588257, 'booster': 2, 'eta': 0.0067124140526924865, 'gamma': 20.32415312998241, 'lambda': 0.00930288833917932, 'max_depth': 44.0}\n",
      "-----------------------------------------------------\n",
      "100%|██████████| 100/100 [02:05<00:00,  1.26s/it, best loss: 1.7463451232910157]\n",
      "-----------------------------------------------------\n",
      "Freq: 60\n",
      "X_freq shape: (500, 17)\n",
      "Found minimum after 100 trials:\n",
      "{'alpha': 0.005215713913516934, 'booster': 0, 'eta': 0.0072424908648032384, 'gamma': 5.144045095817847, 'lambda': 0.0019011623907949724, 'max_depth': 18.0}\n",
      "-----------------------------------------------------\n",
      "100%|██████████| 100/100 [01:46<00:00,  1.07s/it, best loss: 1.8525615539550777]\n",
      "-----------------------------------------------------\n",
      "Freq: 75\n",
      "X_freq shape: (500, 14)\n",
      "Found minimum after 100 trials:\n",
      "{'alpha': 0.33717685062943287, 'booster': 2, 'eta': 0.28198072551859804, 'gamma': 19.39847954087283, 'lambda': 0.07758371782565626, 'max_depth': 18.0}\n",
      "-----------------------------------------------------\n",
      "100%|██████████| 100/100 [01:31<00:00,  1.09it/s, best loss: 1.8663193054199219]\n",
      "-----------------------------------------------------\n",
      "Freq: 85\n",
      "X_freq shape: (500, 12)\n",
      "Found minimum after 100 trials:\n",
      "{'alpha': 0.345465275629932, 'booster': 2, 'eta': 0.9789518687880933, 'gamma': 21.888888138833746, 'lambda': 0.003228997556798839, 'max_depth': 14.0}\n",
      "-----------------------------------------------------\n",
      "100%|██████████| 100/100 [01:42<00:00,  1.02s/it, best loss: 1.9382871093749998]\n",
      "-----------------------------------------------------\n",
      "Freq: 100\n",
      "X_freq shape: (500, 10)\n",
      "Found minimum after 100 trials:\n",
      "{'alpha': 2.7661292799910115, 'booster': 2, 'eta': 0.00563267173735677, 'gamma': 26.238231633312786, 'lambda': 0.008503824189929211, 'max_depth': 42.0}\n",
      "-----------------------------------------------------\n"
     ]
    }
   ],
=======
   "execution_count": null,
   "metadata": {},
   "outputs": [],
>>>>>>> e4dcd5c0b4b6e0d33a5d5dfd4c0fa7cb64088575
   "source": [
    "def f(space):\n",
    "    xgb_reg = xgb.XGBRegressor(objective=\"reg:linear\", booster=space['booster'], eta=space['eta'], \n",
    "                               gamma=space['gamma'], max_depth=space['max_depth'], reg_lambda=space['lambda'],\n",
    "                               alpha=space['alpha'], verbosity=0)\n",
    "    scores = cross_validate(xgb_reg, X_freq, y, scoring='neg_mean_absolute_error', cv=5)\n",
    "    return -scores['test_score'].mean()\n",
    "    \n",
    "space = {\n",
    "    'booster': hp.choice('booster', ['gbtree', 'gblinear', 'dart']),\n",
    "    'eta': hp.loguniform('eta', low=np.log(0.001), high=np.log(1)),\n",
    "    'gamma': hp.loguniform('gamma', low=np.log(0.001), high=np.log(100)),\n",
    "    'max_depth': ho_scope.int(hp.quniform('max_depth', low=5, high=50, q=2)),\n",
    "    'lambda': hp.loguniform('lambda', low=np.log(0.001), high=np.log(10)),\n",
    "    'alpha':  hp.loguniform('alpha', low=np.log(0.001), high=np.log(10)),\n",
    "}\n",
    "\n",
    "print_results(iter_num=100)"
   ]
  }
 ],
 "metadata": {
  "kernelspec": {
   "display_name": "Python [conda env:.conda-impulse_processing] *",
   "language": "python",
   "name": "conda-env-.conda-impulse_processing-py"
  },
  "language_info": {
   "codemirror_mode": {
    "name": "ipython",
    "version": 3
   },
   "file_extension": ".py",
   "mimetype": "text/x-python",
   "name": "python",
   "nbconvert_exporter": "python",
   "pygments_lexer": "ipython3",
   "version": "3.6.9"
  }
 },
 "nbformat": 4,
 "nbformat_minor": 2
}
