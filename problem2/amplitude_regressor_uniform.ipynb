{
 "cells": [
  {
   "cell_type": "code",
   "execution_count": 1,
   "metadata": {},
   "outputs": [],
   "source": [
    "import matplotlib.pyplot as plt\n",
    "import numpy as np\n",
    "from sklearn.model_selection import train_test_split\n",
    "from sklearn.linear_model import LinearRegression\n",
    "from sklearn.metrics import r2_score, mean_absolute_error, mean_squared_error\n",
    "from sklearn.model_selection import cross_validate\n",
    "import tqdm"
   ]
  },
  {
   "cell_type": "code",
   "execution_count": 2,
   "metadata": {},
   "outputs": [],
   "source": [
    "def get_data():\n",
    "    file = open('./data/shashlik_61_pulses.txt', 'r')\n",
    "    data = file.readlines()\n",
    "    data = np.array([list(map(float, experiment.split())) for experiment in data])\n",
    "   \n",
    "    X = data[:, 2:]\n",
    "    y_baseline = data[:, 1]\n",
    "    y = data[:, 0]\n",
    "    \n",
    "    \n",
    "    X = np.array([experiment - np.max(experiment) for experiment in X])\n",
    "    X = np.array([experiment/-np.min(experiment) for experiment in X])\n",
    "\n",
    "    y = np.round(y)\n",
    "    y = y.astype(int)\n",
    "    \n",
    "    ## Let's shift each signal so that reference time matches for each signal\n",
    "    mean_ref_time = int(y.mean())\n",
    "    X = np.array([signal_cyclic_shift(signal, mean_ref_time - y[i]) for i, signal in enumerate(X, 0)])\n",
    "\n",
    "    return X, y\n",
    "\n",
    "def get_freq_data(X, freq=1, start_point=384):\n",
    "    X_freq = np.concatenate([X[:, start_point::-freq][:, ::-1], X[:, start_point + freq::freq]], axis=1)\n",
    "    return X_freq\n",
    "\n",
    "def signal_cyclic_shift(signal, tau):\n",
    "    signal_start = signal[:-tau]\n",
    "    \n",
    "    new_signal = np.concatenate([signal[-tau:], signal_start])\n",
    "    \n",
    "    return new_signal"
   ]
  },
  {
   "cell_type": "code",
   "execution_count": 3,
   "metadata": {},
   "outputs": [],
   "source": [
    "X_origin, y_origin = get_data()\n",
    "\n",
    "mean_argmin =  int(np.argmin(X_origin, axis=1).mean())"
   ]
  },
  {
   "cell_type": "code",
   "execution_count": 4,
   "metadata": {},
   "outputs": [],
   "source": [
    "import random\n",
    "\n",
    "def generate_multi_signal(X_origin, tau, alpha, to_plot=False):\n",
    "    first_idx, second_idx = np.random.choice(X_origin.shape[0], 2, replace=False)\n",
    "    first_impulse = X_origin[first_idx]\n",
    "    second_impulse = X_origin[second_idx]\n",
    "    \n",
    "    \n",
    "#     ### Randomly choose what signal to shift\n",
    "#     if random.choice([True, False]):\n",
    "#         first_impulse = signal_cyclic_shift(first_impulse, tau)\n",
    "#     else:\n",
    "#         second_impulse = signal_cyclic_shift(second_impulse, tau)\n",
    "    \n",
    "    second_impulse = signal_cyclic_shift(second_impulse, tau)\n",
    "\n",
    "    multi_impulse = first_impulse + second_impulse*alpha\n",
    "    multi_impulse /= -np.min(multi_impulse)\n",
    "    \n",
    "    first_impulse_shifted = signal_cyclic_shift(first_impulse, mean_argmin - np.argmin(first_impulse))\n",
    "    second_impulse_shifted = signal_cyclic_shift(second_impulse, mean_argmin - np.argmin(second_impulse))\n",
    "    multi_impulse_shifted = signal_cyclic_shift(multi_impulse, mean_argmin - np.argmin(multi_impulse))\n",
    "\n",
    "    if to_plot:\n",
    "        plt.plot(first_impulse)\n",
    "        plt.plot(second_impulse)\n",
    "        plt.plot(multi_impulse_shifted)\n",
    "        plt.legend(['First signal', 'Second signal', 'Sum of signals'])\n",
    "        plt.show()\n",
    "        \n",
    "    return {'first': first_impulse_shifted,\\\n",
    "            'second': second_impulse_shifted,\\\n",
    "            'multi': multi_impulse_shifted}"
   ]
  },
  {
   "cell_type": "code",
   "execution_count": 5,
   "metadata": {},
   "outputs": [],
   "source": [
    "from sklearn.utils import shuffle\n",
    "\n",
    "def prepare_data(X_origin, tau_range, alpha_range, data_size=1000, to_print=False):    \n",
    "    X = []\n",
    "    y = []\n",
    "    alpha_values = []\n",
    "    tau_values = []\n",
    "    for i in range(data_size):\n",
    "        alpha = random.choice(alpha_range)\n",
    "        tau = random.choice(tau_range)\n",
    "        signal = generate_multi_signal(X_origin, tau, alpha)['multi']\n",
    "        \n",
    "        X.append(signal)\n",
    "        y.append(np.log10(alpha))\n",
    "        \n",
    "        alpha_values.append(alpha)\n",
    "        tau_values.append(tau)\n",
    "   \n",
    "    X = np.array(X)\n",
    "    y = np.array(y)\n",
    "    \n",
    "    if to_print:\n",
    "        print(\"X shape:\", X.shape)\n",
    "        print(\"y shape:\", y.shape)\n",
    "    \n",
    "    X, y = shuffle(X, y)\n",
    "\n",
    "#     plt.scatter(alpha_values, tau_values)\n",
    "#     plt.show()\n",
    "    \n",
    "    return X, y"
   ]
  },
  {
   "cell_type": "code",
   "execution_count": 6,
   "metadata": {},
   "outputs": [],
   "source": [
    "# alpha_range = np.array([np.around(10**i, decimals=4) for i in np.arange(0, 3.1, 0.01)])\n",
    "\n",
    "alpha_range = np.arange(1, 1000, 0.1)\n",
    "tau_range = np.arange(-100, 101, 1)"
   ]
  },
  {
   "cell_type": "code",
   "execution_count": 7,
   "metadata": {
    "scrolled": false
   },
   "outputs": [
    {
     "name": "stdout",
     "output_type": "stream",
     "text": [
      "X shape: (7848, 1024)\n",
      "y shape: (7848,)\n"
     ]
    }
   ],
   "source": [
    "X, y = prepare_data(X_origin, tau_range, alpha_range, data_size=len(X_origin), to_print=True)\n",
    "X = get_freq_data(X, freq=1)"
   ]
  },
  {
   "cell_type": "code",
   "execution_count": 8,
   "metadata": {},
   "outputs": [],
   "source": [
    "from sklearn.preprocessing import normalize"
   ]
  },
  {
   "cell_type": "code",
   "execution_count": 9,
   "metadata": {},
   "outputs": [
    {
     "data": {
      "image/png": "[encoded data removed]",
      "text/plain": [
       "<Figure size 432x288 with 1 Axes>"
      ]
     },
     "metadata": {
      "needs_background": "light"
     },
     "output_type": "display_data"
    }
   ],
   "source": [
    "plt.title(\"Alpha distribution\")\n",
    "plt.hist(alpha_range)\n",
    "plt.show()"
   ]
  },
  {
   "cell_type": "code",
   "execution_count": 10,
   "metadata": {
    "scrolled": false
   },
   "outputs": [
    {
     "data": {
      "image/png": "[encoded data removed]",
      "text/plain": [
       "<Figure size 432x288 with 1 Axes>"
      ]
     },
     "metadata": {
      "needs_background": "light"
     },
     "output_type": "display_data"
    }
   ],
   "source": [
    "plt.title(\"Target distribution\")\n",
    "plt.hist(y)\n",
    "plt.show()"
   ]
  },
  {
   "cell_type": "code",
   "execution_count": 11,
   "metadata": {},
   "outputs": [],
   "source": [
    "from sklearn.pipeline import Pipeline\n",
    "from sklearn.linear_model import HuberRegressor\n",
    "from sklearn import linear_model\n",
    "from sklearn import tree\n",
    "from sklearn import svm\n",
    "from sklearn.linear_model import PassiveAggressiveRegressor\n",
    "import xgboost as xgb\n",
    "from catboost import CatBoostRegressor"
   ]
  },
  {
   "cell_type": "code",
   "execution_count": 12,
   "metadata": {},
   "outputs": [],
   "source": [
    "def print_scores():\n",
    "    for model in models:    \n",
    "        model_name = type(model).__name__\n",
    "        print(\"Regressor:\", model_name)\n",
    "    #         stregr = StackingRegressor(regressors=models, meta_regressor=model)\n",
    "        scoring = ['r2', 'neg_mean_squared_error', 'neg_mean_absolute_error']\n",
    "        scores = cross_validate(model, X, y, scoring=scoring, cv=5)\n",
    "\n",
    "        r2_score_mean = scores['test_r2'].mean()\n",
    "        r2_score_std = scores['test_r2'].std()\n",
    "        mse_score_mean = -scores['test_neg_mean_squared_error'].mean()\n",
    "        mse_score_std = scores['test_neg_mean_squared_error'].std()\n",
    "        mae_score_mean = -scores['test_neg_mean_absolute_error'].mean()\n",
    "        mae_score_std = scores['test_neg_mean_absolute_error'].std()\n",
    "        rmse_score_mean = np.sqrt(-scores['test_neg_mean_squared_error']).mean()\n",
    "        rmse_score_std = np.sqrt(-scores['test_neg_mean_squared_error']).std()\n",
    "\n",
    "        cur_scores = [(r2_score_mean, r2_score_std), (mse_score_mean, mse_score_std),\\\n",
    "                          (mae_score_mean, mae_score_std), (rmse_score_mean, rmse_score_std)]\n",
    "    #         print('!!!!!!!!')\n",
    "    #         print(\"TEST\")\n",
    "    #         print(models_scores[type(models[0]).__name__]['r2'])\n",
    "    #         print('!!!!!!!!')\n",
    "        print(\"95% confidence interval:\")\n",
    "        for i, metric in enumerate(['r2', 'mse', 'mae', 'rmse'], 0):\n",
    "    #         models_scores[model_name][metric].append(cur_scores[i])\n",
    "            print(metric, \"score: %0.5f (+/- %0.5f)\" % (cur_scores[i][0], 2*cur_scores[i][1]))\n",
    "        print('----------------------------------')\n",
    "    print('____________________________________________________________')\n",
    "    print()"
   ]
  },
  {
   "cell_type": "code",
   "execution_count": 13,
   "metadata": {},
   "outputs": [],
   "source": [
    "import warnings\n",
    "warnings.filterwarnings(\"ignore\")"
   ]
  },
  {
   "cell_type": "code",
   "execution_count": 14,
   "metadata": {},
   "outputs": [],
   "source": [
    "def get_models():\n",
    "    huber_reg = HuberRegressor(epsilon= 4.927, alpha= 0.00759)\n",
    "    ridge_reg = linear_model.Ridge(solver='saga', max_iter=5000, alpha= 1)\n",
    "    lasso_reg = linear_model.Lasso(max_iter=5000, alpha=0.0001, normalize=False)\n",
    "    dt_reg = tree.DecisionTreeRegressor(min_samples_split=9, min_samples_leaf=6, min_weight_fraction_leaf=0.03, \n",
    "                                                                                                 max_features='auto')\n",
    "\n",
    "    pa_reg = PassiveAggressiveRegressor(C=0.00611, max_iter=2800, tol=5.719679731382862e-05)\n",
    "    xgb_reg = xgb.XGBRegressor(objective=\"reg:linear\", alpha= 0.01, booster='gbtree', eta= 0.323, gamma=0.189, \n",
    "                               reg_lambda=0.48, max_depth=6, verbosity=0)\n",
    "    return [huber_reg, ridge_reg, lasso_reg, dt_reg,  pa_reg, xgb_reg]"
   ]
  },
  {
   "cell_type": "code",
   "execution_count": 15,
   "metadata": {},
   "outputs": [],
   "source": [
    "models = get_models()"
   ]
  },
  {
   "cell_type": "code",
   "execution_count": 16,
   "metadata": {
    "scrolled": false
   },
   "outputs": [
    {
     "name": "stdout",
     "output_type": "stream",
     "text": [
      "Regressor: HuberRegressor\n",
      "95% confidence interval:\n",
      "r2 score: 0.14019 (+/- 0.15536)\n",
      "mse score: 0.14796 (+/- 0.02964)\n",
      "mae score: 0.28215 (+/- 0.00864)\n",
      "rmse score: 0.38418 (+/- 0.03824)\n",
      "----------------------------------\n",
      "Regressor: Ridge\n",
      "95% confidence interval:\n",
      "r2 score: 0.19380 (+/- 0.08051)\n",
      "mse score: 0.13871 (+/- 0.01723)\n",
      "mae score: 0.28370 (+/- 0.00701)\n",
      "rmse score: 0.37226 (+/- 0.02311)\n",
      "----------------------------------\n",
      "Regressor: Lasso\n",
      "95% confidence interval:\n",
      "r2 score: 0.19161 (+/- 0.07659)\n",
      "mse score: 0.13906 (+/- 0.01588)\n",
      "mae score: 0.28576 (+/- 0.00725)\n",
      "rmse score: 0.37276 (+/- 0.02136)\n",
      "----------------------------------\n",
      "Regressor: DecisionTreeRegressor\n",
      "95% confidence interval:\n",
      "r2 score: 0.24909 (+/- 0.03277)\n",
      "mse score: 0.12914 (+/- 0.00779)\n",
      "mae score: 0.26751 (+/- 0.00425)\n",
      "rmse score: 0.35932 (+/- 0.01079)\n",
      "----------------------------------\n",
      "Regressor: PassiveAggressiveRegressor\n",
      "95% confidence interval:\n",
      "r2 score: -0.12813 (+/- 0.48409)\n",
      "mse score: 0.19407 (+/- 0.08520)\n",
      "mae score: 0.32479 (+/- 0.09722)\n",
      "rmse score: 0.43783 (+/- 0.09738)\n",
      "----------------------------------\n",
      "Regressor: XGBRegressor\n",
      "95% confidence interval:\n",
      "r2 score: 0.62780 (+/- 0.01918)\n",
      "mse score: 0.06407 (+/- 0.00688)\n",
      "mae score: 0.17441 (+/- 0.00532)\n",
      "rmse score: 0.25303 (+/- 0.01370)\n",
      "----------------------------------\n",
      "____________________________________________________________\n",
      "\n"
     ]
    }
   ],
   "source": [
    "print_scores()"
   ]
  },
  {
   "cell_type": "markdown",
   "metadata": {},
   "source": [
    "### Stacking"
   ]
  },
  {
   "cell_type": "code",
   "execution_count": null,
   "metadata": {},
   "outputs": [],
   "source": [
    "from mlxtend.regressor import StackingRegressor\n"
   ]
  },
  {
   "cell_type": "code",
   "execution_count": null,
   "metadata": {
    "scrolled": true
   },
   "outputs": [],
   "source": [
    "for i in range(len(models)):\n",
    "    models = get_models()\n",
    "    print(\"Metaregressor:\", type(models[i]).__name__)\n",
    "\n",
    "    stregr = StackingRegressor(regressors=models, meta_regressor=models[i])\n",
    "    scoring = ['r2', 'neg_mean_squared_error', 'neg_mean_absolute_error']\n",
    "    scores = cross_validate(stregr, X, y, scoring=scoring, cv=5)\n",
    "\n",
    "    r2_score_mean = scores['test_r2'].mean()\n",
    "    r2_score_std = scores['test_r2'].std()\n",
    "    mse_score_mean = -scores['test_neg_mean_squared_error'].mean()\n",
    "    mse_score_std = scores['test_neg_mean_squared_error'].std()\n",
    "    mae_score_mean = -scores['test_neg_mean_absolute_error'].mean()\n",
    "    mae_score_std = scores['test_neg_mean_absolute_error'].std()\n",
    "    rmse_score_mean = np.sqrt(-scores['test_neg_mean_squared_error']).mean()\n",
    "    rmse_score_std = np.sqrt(-scores['test_neg_mean_squared_error']).std()\n",
    "\n",
    "    cur_scores = [(r2_score_mean, r2_score_std), (mse_score_mean, mse_score_std),\\\n",
    "                      (mae_score_mean, mae_score_std), (rmse_score_mean, rmse_score_std)]\n",
    "    #         print('!!!!!!!!')\n",
    "    #         print(\"TEST\")\n",
    "    #         print(models_scores[type(models[0]).__name__]['r2'])\n",
    "    #         print('!!!!!!!!')\n",
    "    print(\"95% confindence interval:\")\n",
    "    for i, metric in enumerate(['r2', 'mse', 'mae', 'rmse'], 0):\n",
    "    #         models_scores[model_name][metric].append(cur_scores[i])\n",
    "        print(metric, \"score: %0.5f (+/- %0.5f)\" % (cur_scores[i][0], 2*cur_scores[i][1]))\n",
    "    print('--------------------------------------------------------')"
   ]
  },
  {
   "cell_type": "markdown",
   "metadata": {},
   "source": [
    "### Freq exp"
   ]
  },
  {
   "cell_type": "code",
   "execution_count": 17,
   "metadata": {},
   "outputs": [],
   "source": [
    "alpha_values = np.array(range(1, 1000, 5))\n",
    "tau_values = range(-25, 30, 5)\n",
    "freq_values = [1, 25, 50, 60, 75, 85, 100]\n",
    "# alpha_values = np.around(np.arange(0, 100, 2), decimals=2)"
   ]
  },
  {
   "cell_type": "code",
   "execution_count": 18,
   "metadata": {},
   "outputs": [],
   "source": [
    "def calculate_scores(X_origin, alpha_values, tau_values, data_size=100, freq=1):\n",
    "    scores_dict = {}\n",
    "    \n",
    "    X, y = prepare_data(X_origin, tau_values, alpha_values, to_print=False, data_size=len(X_origin))\n",
    "    model = get_models()[-1]\n",
    "    X_freq = get_freq_data(X, freq=freq)\n",
    "    model.fit(X_freq, y)\n",
    "\n",
    "    \n",
    "    for tau in tqdm.tqdm(tau_values):\n",
    "        scores_dict[tau] = dict(zip(alpha_values, np.zeros(len(alpha_values))))\n",
    "        for alpha in alpha_values:\n",
    "            X_cur, y_cur = prepare_data(X_origin, [tau], [alpha], data_size=data_size)\n",
    "            X_cur = get_freq_data(X_cur, freq=freq)\n",
    "            \n",
    "            y_pred = model.predict(X_cur)\n",
    "            scores_dict[tau][alpha] = mean_absolute_error(y_pred, y_cur)\n",
    "    return scores_dict"
   ]
  },
  {
   "cell_type": "code",
   "execution_count": 19,
   "metadata": {},
   "outputs": [],
   "source": [
    "def dict_to_arrays(scores_dict):\n",
    "    x, y, z = [], [], []\n",
    "    for tau, alpha_dict in scores_dict.items():\n",
    "        for alpha, score in alpha_dict.items():\n",
    "            x.append(tau)\n",
    "            y.append(alpha)\n",
    "            z.append(score)\n",
    "            \n",
    "    return [x, y, z]"
   ]
  },
  {
   "cell_type": "code",
   "execution_count": 20,
   "metadata": {},
   "outputs": [],
   "source": [
    "from mpl_toolkits.mplot3d import Axes3D\n",
    "import matplotlib\n",
    "# matplotlib.use('Qt4Agg')\n",
    "\n",
    "def plot_score_3d(scores_dict):\n",
    "    x, y, z = dict_to_arrays(scores_dict)\n",
    "    alpha_values = list(scores_dict[list(scores_dict.keys())[0]].keys())\n",
    "    \n",
    "    fig1 = matplotlib.pyplot.figure(figsize=(7, 5))\n",
    "    ax1 = Axes3D(fig1)\n",
    "\n",
    "    ax1.set_yticks(np.log10(alpha_values[::10]))\n",
    "    ax1.set_yticklabels(alpha_values[::10])\n",
    "\n",
    "    ax1.set_xlabel(r\"${\\tau}$\", fontsize=15)\n",
    "    ax1.set_ylabel(r\"${\\alpha}$\", fontsize=15)\n",
    "    ax1.set_zlabel('Accuracy', fontsize=15)\n",
    "\n",
    "#     ax1.view_init(30, 150)\n",
    "    ax1.plot(10*x, np.log10(10*y), 10*z, 'ro', color='b', linewidth=3)\n",
    "\n",
    "    for angle in range(0, 180):\n",
    "        ax1.view_init(30, angle)\n",
    "        plt.draw()\n",
    "        plt.pause(.001)\n",
    "\n",
    "    plt.show()"
   ]
  },
  {
   "cell_type": "code",
   "execution_count": 28,
   "metadata": {},
   "outputs": [],
   "source": [
    "from mpl_toolkits.axes_grid1 import make_axes_locatable\n",
    "\n",
    "VMIN = 0\n",
    "VMAX = 1.5\n",
    "STEP = 0.25\n",
    "ORIGIN_FREQ = 5000\n",
    "\n",
    "def plot_color_map(scores_dict, alpha_values, tau_values, alpha_freq=20, tau_freq=2, freq=1):\n",
    "    _, _, z = dict_to_arrays(scores_dict)\n",
    "    z = np.array(z)\n",
    "    Z = z.reshape((len(tau_values), len(alpha_values)))\n",
    "\n",
    "    plt.figure(figsize=(5, 5))\n",
    "    ax = plt.gca()\n",
    "\n",
    "    plt.title(\"MAE log(alpha), frequency = \" + str(int(ORIGIN_FREQ/freq)) + ' [MHZ]')\n",
    "    plt.xlabel(\"Two signals ratio\", fontsize=12)\n",
    "    plt.ylabel(\"Delta t [ns]\", fontsize=12)\n",
    "    plt.xticks([alpha_freq*i for i in range(len(alpha_values[::alpha_freq]))], alpha_values[::alpha_freq])\n",
    "    plt.yticks([tau_freq*i for i in range(len(tau_values[::tau_freq]))], [0.2*el for el in tau_values[::tau_freq]])\n",
    "\n",
    "#     im = ax.imshow(Z, interpolation='bilinear', cmap='spring', aspect='auto')\n",
    "    im = ax.imshow(Z, interpolation='bilinear', cmap='spring', aspect='auto', vmin=VMIN, vmax=VMAX)\n",
    "    \n",
    "    divider = make_axes_locatable(ax)\n",
    "    cax = divider.append_axes(\"right\", size=\"5%\", pad=0.5)\n",
    "\n",
    "#     plt.colorbar(im, cax=cax)\n",
    "    cbar = plt.colorbar(im, cax=cax)\n",
    "    cbar.set_ticks(np.arange(VMIN, VMAX, STEP))\n",
    "    cbar.set_ticklabels(np.round(np.arange(VMIN, VMAX, STEP), decimals=1))\n",
    "    plt.show()"
   ]
  },
  {
   "cell_type": "code",
   "execution_count": 22,
   "metadata": {},
   "outputs": [],
   "source": [
    "import pickle\n",
    "\n",
    "def save_obj(obj, name ):\n",
    "    with open('./data/'+ name + '.pkl', 'wb') as f:\n",
    "        pickle.dump(obj, f, pickle.HIGHEST_PROTOCOL)\n",
    "\n",
    "def load_obj(name ):\n",
    "    with open('./data/' + name + '.pkl', 'rb') as f:\n",
    "        return pickle.load(f)"
   ]
  },
  {
   "cell_type": "code",
   "execution_count": 29,
   "metadata": {
    "scrolled": false
   },
   "outputs": [
    {
     "name": "stderr",
     "output_type": "stream",
     "text": [
      "\n",
      "\n",
      "  0%|          | 0/11 [00:00<?, ?it/s]\u001b[A\u001b[A\n",
      "\n",
      "  9%|▉         | 1/11 [01:01<10:17, 61.79s/it]\u001b[A\u001b[A\n",
      "\n",
      " 18%|█▊        | 2/11 [02:25<10:53, 72.58s/it]\u001b[A\u001b[A\n",
      "\n",
      " 27%|██▋       | 3/11 [03:58<10:36, 79.61s/it]\u001b[A\u001b[A\n",
      "\n",
      " 36%|███▋      | 4/11 [05:21<09:22, 80.36s/it]\u001b[A\u001b[A\n",
      "\n",
      " 45%|████▌     | 5/11 [07:00<08:24, 84.06s/it]\u001b[A\u001b[A\n",
      "\n",
      " 55%|█████▍    | 6/11 [08:02<06:41, 80.38s/it]\u001b[A\u001b[A\n",
      "\n",
      " 64%|██████▎   | 7/11 [09:26<05:23, 80.92s/it]\u001b[A\u001b[A\n",
      "\n",
      " 73%|███████▎  | 8/11 [11:06<04:10, 83.35s/it]\u001b[A\u001b[A\n",
      "\n",
      " 82%|████████▏ | 9/11 [12:46<02:50, 85.14s/it]\u001b[A\u001b[A\n",
      "\n",
      " 91%|█████████ | 10/11 [14:06<01:24, 84.62s/it]\u001b[A\u001b[A\n",
      "\n",
      "100%|██████████| 11/11 [15:20<00:00, 83.66s/it]\u001b[A\u001b[A\n",
      "\n",
      "\u001b[A\u001b[A"
     ]
    },
    {
     "data": {
      "image/png": "[encoded data removed]",
      "text/plain": [
       "<Figure size 360x360 with 2 Axes>"
      ]
     },
     "metadata": {
      "needs_background": "light"
     },
     "output_type": "display_data"
    },
    {
     "name": "stderr",
     "output_type": "stream",
     "text": [
      "\n",
      "\n",
      "  0%|          | 0/11 [00:00<?, ?it/s]\u001b[A\u001b[A\n",
      "\n",
      "  9%|▉         | 1/11 [01:24<14:04, 84.49s/it]\u001b[A\u001b[A\n",
      "\n",
      " 18%|█▊        | 2/11 [02:58<13:24, 89.43s/it]\u001b[A\u001b[A\n",
      "\n",
      " 27%|██▋       | 3/11 [04:12<11:14, 84.26s/it]\u001b[A\u001b[A\n",
      "\n",
      " 36%|███▋      | 4/11 [05:11<09:04, 77.83s/it]\u001b[A\u001b[A\n",
      "\n",
      " 45%|████▌     | 5/11 [06:10<07:24, 74.01s/it]\u001b[A\u001b[A\n",
      "\n",
      " 55%|█████▍    | 6/11 [07:08<05:56, 71.39s/it]\u001b[A\u001b[A\n",
      "\n",
      " 64%|██████▎   | 7/11 [08:07<04:38, 69.59s/it]\u001b[A\u001b[A\n",
      "\n",
      " 73%|███████▎  | 8/11 [09:05<03:24, 68.15s/it]\u001b[A\u001b[A\n",
      "\n",
      " 82%|████████▏ | 9/11 [10:03<02:14, 67.06s/it]\u001b[A\u001b[A\n",
      "\n",
      " 91%|█████████ | 10/11 [11:01<01:06, 66.15s/it]\u001b[A\u001b[A\n",
      "\n",
      "100%|██████████| 11/11 [11:59<00:00, 65.45s/it]\u001b[A\u001b[A\n",
      "\n",
      "\u001b[A\u001b[A"
     ]
    },
    {
     "data": {
      "image/png": "[encoded data removed]",
      "text/plain": [
       "<Figure size 360x360 with 2 Axes>"
      ]
     },
     "metadata": {
      "needs_background": "light"
     },
     "output_type": "display_data"
    },
    {
     "name": "stderr",
     "output_type": "stream",
     "text": [
      "\n",
      "\n",
      "  0%|          | 0/11 [00:00<?, ?it/s]\u001b[A\u001b[A\n",
      "\n",
      "  9%|▉         | 1/11 [00:57<09:39, 57.94s/it]\u001b[A\u001b[A\n",
      "\n",
      " 18%|█▊        | 2/11 [01:56<08:43, 58.13s/it]\u001b[A\u001b[A\n",
      "\n",
      " 27%|██▋       | 3/11 [02:54<07:44, 58.12s/it]\u001b[A\u001b[A\n",
      "\n",
      " 36%|███▋      | 4/11 [03:52<06:47, 58.21s/it]\u001b[A\u001b[A\n",
      "\n",
      " 45%|████▌     | 5/11 [04:50<05:49, 58.19s/it]\u001b[A\u001b[A\n",
      "\n",
      " 55%|█████▍    | 6/11 [05:49<04:51, 58.31s/it]\u001b[A\u001b[A\n",
      "\n",
      " 64%|██████▎   | 7/11 [06:47<03:52, 58.25s/it]\u001b[A\u001b[A\n",
      "\n",
      " 73%|███████▎  | 8/11 [07:45<02:54, 58.24s/it]\u001b[A\u001b[A\n",
      "\n",
      " 82%|████████▏ | 9/11 [08:43<01:56, 58.21s/it]\u001b[A\u001b[A\n",
      "\n",
      " 91%|█████████ | 10/11 [09:42<00:58, 58.20s/it]\u001b[A\u001b[A\n",
      "\n",
      "100%|██████████| 11/11 [10:40<00:00, 58.19s/it]\u001b[A\u001b[A\n",
      "\n",
      "\u001b[A\u001b[A"
     ]
    },
    {
     "data": {
      "image/png": "[encoded data removed]",
      "text/plain": [
       "<Figure size 360x360 with 2 Axes>"
      ]
     },
     "metadata": {
      "needs_background": "light"
     },
     "output_type": "display_data"
    },
    {
     "name": "stderr",
     "output_type": "stream",
     "text": [
      "\n",
      "\n",
      "  0%|          | 0/11 [00:00<?, ?it/s]\u001b[A\u001b[A\n",
      "\n",
      "  9%|▉         | 1/11 [00:58<09:42, 58.23s/it]\u001b[A\u001b[A\n",
      "\n",
      " 18%|█▊        | 2/11 [01:56<08:42, 58.03s/it]\u001b[A\u001b[A\n",
      "\n",
      " 27%|██▋       | 3/11 [02:54<07:45, 58.14s/it]\u001b[A\u001b[A\n",
      "\n",
      " 36%|███▋      | 4/11 [03:52<06:46, 58.12s/it]\u001b[A\u001b[A\n",
      "\n",
      " 45%|████▌     | 5/11 [04:50<05:49, 58.19s/it]\u001b[A\u001b[A\n",
      "\n",
      " 55%|█████▍    | 6/11 [05:49<04:50, 58.19s/it]\u001b[A\u001b[A\n",
      "\n",
      " 64%|██████▎   | 7/11 [06:47<03:52, 58.20s/it]\u001b[A\u001b[A\n",
      "\n",
      " 73%|███████▎  | 8/11 [07:37<02:51, 57.17s/it]\u001b[A\u001b[A\n",
      "\n",
      " 82%|████████▏ | 9/11 [08:26<01:52, 56.29s/it]\u001b[A\u001b[A\n",
      "\n",
      " 91%|█████████ | 10/11 [09:15<00:55, 55.57s/it]\u001b[A\u001b[A\n",
      "\n",
      "100%|██████████| 11/11 [10:04<00:00, 54.95s/it]\u001b[A\u001b[A\n",
      "\n",
      "\u001b[A\u001b[A"
     ]
    },
    {
     "data": {
      "image/png": "[encoded data removed]",
      "text/plain": [
       "<Figure size 360x360 with 2 Axes>"
      ]
     },
     "metadata": {
      "needs_background": "light"
     },
     "output_type": "display_data"
    },
    {
     "name": "stderr",
     "output_type": "stream",
     "text": [
      "\n",
      "\n",
      "  0%|          | 0/11 [00:00<?, ?it/s]\u001b[A\u001b[A\n",
      "\n",
      "  9%|▉         | 1/11 [00:49<08:11, 49.11s/it]\u001b[A\u001b[A\n",
      "\n",
      " 18%|█▊        | 2/11 [01:38<07:21, 49.04s/it]\u001b[A\u001b[A\n",
      "\n",
      " 27%|██▋       | 3/11 [02:26<06:30, 48.76s/it]\u001b[A\u001b[A\n",
      "\n",
      " 36%|███▋      | 4/11 [03:14<05:40, 48.64s/it]\u001b[A\u001b[A\n",
      "\n",
      " 45%|████▌     | 5/11 [04:02<04:51, 48.57s/it]\u001b[A\u001b[A\n",
      "\n",
      " 55%|█████▍    | 6/11 [04:51<04:02, 48.60s/it]\u001b[A\u001b[A\n",
      "\n",
      " 64%|██████▎   | 7/11 [05:40<03:14, 48.60s/it]\u001b[A\u001b[A\n",
      "\n",
      " 73%|███████▎  | 8/11 [06:29<02:25, 48.63s/it]\u001b[A\u001b[A\n",
      "\n",
      " 82%|████████▏ | 9/11 [07:17<01:37, 48.65s/it]\u001b[A\u001b[A\n",
      "\n",
      " 91%|█████████ | 10/11 [08:06<00:48, 48.66s/it]\u001b[A\u001b[A\n",
      "\n",
      "100%|██████████| 11/11 [08:54<00:00, 48.59s/it]\u001b[A\u001b[A\n",
      "\n",
      "\u001b[A\u001b[A"
     ]
    },
    {
     "data": {
      "image/png": "[encoded data removed]",
      "text/plain": [
       "<Figure size 360x360 with 2 Axes>"
      ]
     },
     "metadata": {
      "needs_background": "light"
     },
     "output_type": "display_data"
    },
    {
     "name": "stderr",
     "output_type": "stream",
     "text": [
      "\n",
      "\n",
      "  0%|          | 0/11 [00:00<?, ?it/s]\u001b[A\u001b[A\n",
      "\n",
      "  9%|▉         | 1/11 [00:48<08:06, 48.61s/it]\u001b[A\u001b[A\n",
      "\n",
      " 18%|█▊        | 2/11 [01:36<07:14, 48.30s/it]\u001b[A\u001b[A\n",
      "\n",
      " 27%|██▋       | 3/11 [02:24<06:25, 48.21s/it]\u001b[A\u001b[A\n",
      "\n",
      " 36%|███▋      | 4/11 [03:12<05:37, 48.24s/it]\u001b[A\u001b[A\n",
      "\n",
      " 45%|████▌     | 5/11 [04:01<04:49, 48.24s/it]\u001b[A\u001b[A\n",
      "\n",
      " 55%|█████▍    | 6/11 [04:49<04:01, 48.21s/it]\u001b[A\u001b[A\n",
      "\n",
      " 64%|██████▎   | 7/11 [05:37<03:12, 48.18s/it]\u001b[A\u001b[A\n",
      "\n",
      " 73%|███████▎  | 8/11 [06:26<02:24, 48.27s/it]\u001b[A\u001b[A\n",
      "\n",
      " 82%|████████▏ | 9/11 [07:27<01:39, 49.69s/it]\u001b[A\u001b[A\n",
      "\n",
      " 91%|█████████ | 10/11 [08:30<00:51, 51.05s/it]\u001b[A\u001b[A"
     ]
    },
    {
     "ename": "KeyboardInterrupt",
     "evalue": "",
     "output_type": "error",
     "traceback": [
      "\u001b[0;31m---------------------------------------------------------------------------\u001b[0m",
      "\u001b[0;31mKeyboardInterrupt\u001b[0m                         Traceback (most recent call last)",
      "\u001b[0;32m<ipython-input-29-428cf48895bf>\u001b[0m in \u001b[0;36m<module>\u001b[0;34m\u001b[0m\n\u001b[1;32m      1\u001b[0m \u001b[0;32mfor\u001b[0m \u001b[0mfreq\u001b[0m \u001b[0;32min\u001b[0m \u001b[0mfreq_values\u001b[0m\u001b[0;34m:\u001b[0m\u001b[0;34m\u001b[0m\u001b[0;34m\u001b[0m\u001b[0m\n\u001b[1;32m      2\u001b[0m     \u001b[0mX_origin\u001b[0m\u001b[0;34m,\u001b[0m \u001b[0my_origin\u001b[0m \u001b[0;34m=\u001b[0m \u001b[0mget_data\u001b[0m\u001b[0;34m(\u001b[0m\u001b[0;34m)\u001b[0m\u001b[0;34m\u001b[0m\u001b[0;34m\u001b[0m\u001b[0m\n\u001b[0;32m----> 3\u001b[0;31m     \u001b[0mscores_dict\u001b[0m \u001b[0;34m=\u001b[0m \u001b[0mcalculate_scores\u001b[0m\u001b[0;34m(\u001b[0m\u001b[0mX_origin\u001b[0m\u001b[0;34m,\u001b[0m \u001b[0malpha_values\u001b[0m\u001b[0;34m,\u001b[0m \u001b[0mtau_values\u001b[0m\u001b[0;34m,\u001b[0m \u001b[0mdata_size\u001b[0m\u001b[0;34m=\u001b[0m\u001b[0;36m1000\u001b[0m\u001b[0;34m,\u001b[0m \u001b[0mfreq\u001b[0m\u001b[0;34m=\u001b[0m\u001b[0mfreq\u001b[0m\u001b[0;34m)\u001b[0m\u001b[0;34m\u001b[0m\u001b[0;34m\u001b[0m\u001b[0m\n\u001b[0m\u001b[1;32m      4\u001b[0m     \u001b[0mplot_color_map\u001b[0m\u001b[0;34m(\u001b[0m\u001b[0mscores_dict\u001b[0m\u001b[0;34m,\u001b[0m \u001b[0malpha_values\u001b[0m\u001b[0;34m,\u001b[0m \u001b[0mtau_values\u001b[0m\u001b[0;34m,\u001b[0m \u001b[0mfreq\u001b[0m\u001b[0;34m=\u001b[0m\u001b[0mfreq\u001b[0m\u001b[0;34m)\u001b[0m\u001b[0;34m\u001b[0m\u001b[0;34m\u001b[0m\u001b[0m\n\u001b[1;32m      5\u001b[0m     \u001b[0msave_obj\u001b[0m\u001b[0;34m(\u001b[0m\u001b[0mscores_dict\u001b[0m\u001b[0;34m,\u001b[0m \u001b[0;34m'scores_freq='\u001b[0m \u001b[0;34m+\u001b[0m \u001b[0mstr\u001b[0m\u001b[0;34m(\u001b[0m\u001b[0mfreq\u001b[0m\u001b[0;34m)\u001b[0m\u001b[0;34m)\u001b[0m\u001b[0;34m\u001b[0m\u001b[0;34m\u001b[0m\u001b[0m\n",
      "\u001b[0;32m<ipython-input-18-e5ceacdf27f0>\u001b[0m in \u001b[0;36mcalculate_scores\u001b[0;34m(X_origin, alpha_values, tau_values, data_size, freq)\u001b[0m\n\u001b[1;32m     11\u001b[0m         \u001b[0mscores_dict\u001b[0m\u001b[0;34m[\u001b[0m\u001b[0mtau\u001b[0m\u001b[0;34m]\u001b[0m \u001b[0;34m=\u001b[0m \u001b[0mdict\u001b[0m\u001b[0;34m(\u001b[0m\u001b[0mzip\u001b[0m\u001b[0;34m(\u001b[0m\u001b[0malpha_values\u001b[0m\u001b[0;34m,\u001b[0m \u001b[0mnp\u001b[0m\u001b[0;34m.\u001b[0m\u001b[0mzeros\u001b[0m\u001b[0;34m(\u001b[0m\u001b[0mlen\u001b[0m\u001b[0;34m(\u001b[0m\u001b[0malpha_values\u001b[0m\u001b[0;34m)\u001b[0m\u001b[0;34m)\u001b[0m\u001b[0;34m)\u001b[0m\u001b[0;34m)\u001b[0m\u001b[0;34m\u001b[0m\u001b[0;34m\u001b[0m\u001b[0m\n\u001b[1;32m     12\u001b[0m         \u001b[0;32mfor\u001b[0m \u001b[0malpha\u001b[0m \u001b[0;32min\u001b[0m \u001b[0malpha_values\u001b[0m\u001b[0;34m:\u001b[0m\u001b[0;34m\u001b[0m\u001b[0;34m\u001b[0m\u001b[0m\n\u001b[0;32m---> 13\u001b[0;31m             \u001b[0mX_cur\u001b[0m\u001b[0;34m,\u001b[0m \u001b[0my_cur\u001b[0m \u001b[0;34m=\u001b[0m \u001b[0mprepare_data\u001b[0m\u001b[0;34m(\u001b[0m\u001b[0mX_origin\u001b[0m\u001b[0;34m,\u001b[0m \u001b[0;34m[\u001b[0m\u001b[0mtau\u001b[0m\u001b[0;34m]\u001b[0m\u001b[0;34m,\u001b[0m \u001b[0;34m[\u001b[0m\u001b[0malpha\u001b[0m\u001b[0;34m]\u001b[0m\u001b[0;34m,\u001b[0m \u001b[0mdata_size\u001b[0m\u001b[0;34m=\u001b[0m\u001b[0mdata_size\u001b[0m\u001b[0;34m)\u001b[0m\u001b[0;34m\u001b[0m\u001b[0;34m\u001b[0m\u001b[0m\n\u001b[0m\u001b[1;32m     14\u001b[0m             \u001b[0mX_cur\u001b[0m \u001b[0;34m=\u001b[0m \u001b[0mget_freq_data\u001b[0m\u001b[0;34m(\u001b[0m\u001b[0mX_cur\u001b[0m\u001b[0;34m,\u001b[0m \u001b[0mfreq\u001b[0m\u001b[0;34m=\u001b[0m\u001b[0mfreq\u001b[0m\u001b[0;34m)\u001b[0m\u001b[0;34m\u001b[0m\u001b[0;34m\u001b[0m\u001b[0m\n\u001b[1;32m     15\u001b[0m \u001b[0;34m\u001b[0m\u001b[0m\n",
      "\u001b[0;32m<ipython-input-5-a020a01db1f3>\u001b[0m in \u001b[0;36mprepare_data\u001b[0;34m(X_origin, tau_range, alpha_range, data_size, to_print)\u001b[0m\n\u001b[1;32m      9\u001b[0m         \u001b[0malpha\u001b[0m \u001b[0;34m=\u001b[0m \u001b[0mrandom\u001b[0m\u001b[0;34m.\u001b[0m\u001b[0mchoice\u001b[0m\u001b[0;34m(\u001b[0m\u001b[0malpha_range\u001b[0m\u001b[0;34m)\u001b[0m\u001b[0;34m\u001b[0m\u001b[0;34m\u001b[0m\u001b[0m\n\u001b[1;32m     10\u001b[0m         \u001b[0mtau\u001b[0m \u001b[0;34m=\u001b[0m \u001b[0mrandom\u001b[0m\u001b[0;34m.\u001b[0m\u001b[0mchoice\u001b[0m\u001b[0;34m(\u001b[0m\u001b[0mtau_range\u001b[0m\u001b[0;34m)\u001b[0m\u001b[0;34m\u001b[0m\u001b[0;34m\u001b[0m\u001b[0m\n\u001b[0;32m---> 11\u001b[0;31m         \u001b[0msignal\u001b[0m \u001b[0;34m=\u001b[0m \u001b[0mgenerate_multi_signal\u001b[0m\u001b[0;34m(\u001b[0m\u001b[0mX_origin\u001b[0m\u001b[0;34m,\u001b[0m \u001b[0mtau\u001b[0m\u001b[0;34m,\u001b[0m \u001b[0malpha\u001b[0m\u001b[0;34m)\u001b[0m\u001b[0;34m[\u001b[0m\u001b[0;34m'multi'\u001b[0m\u001b[0;34m]\u001b[0m\u001b[0;34m\u001b[0m\u001b[0;34m\u001b[0m\u001b[0m\n\u001b[0m\u001b[1;32m     12\u001b[0m \u001b[0;34m\u001b[0m\u001b[0m\n\u001b[1;32m     13\u001b[0m         \u001b[0mX\u001b[0m\u001b[0;34m.\u001b[0m\u001b[0mappend\u001b[0m\u001b[0;34m(\u001b[0m\u001b[0msignal\u001b[0m\u001b[0;34m)\u001b[0m\u001b[0;34m\u001b[0m\u001b[0;34m\u001b[0m\u001b[0m\n",
      "\u001b[0;32m<ipython-input-4-d14c8edd221e>\u001b[0m in \u001b[0;36mgenerate_multi_signal\u001b[0;34m(X_origin, tau, alpha, to_plot)\u001b[0m\n\u001b[1;32m      2\u001b[0m \u001b[0;34m\u001b[0m\u001b[0m\n\u001b[1;32m      3\u001b[0m \u001b[0;32mdef\u001b[0m \u001b[0mgenerate_multi_signal\u001b[0m\u001b[0;34m(\u001b[0m\u001b[0mX_origin\u001b[0m\u001b[0;34m,\u001b[0m \u001b[0mtau\u001b[0m\u001b[0;34m,\u001b[0m \u001b[0malpha\u001b[0m\u001b[0;34m,\u001b[0m \u001b[0mto_plot\u001b[0m\u001b[0;34m=\u001b[0m\u001b[0;32mFalse\u001b[0m\u001b[0;34m)\u001b[0m\u001b[0;34m:\u001b[0m\u001b[0;34m\u001b[0m\u001b[0;34m\u001b[0m\u001b[0m\n\u001b[0;32m----> 4\u001b[0;31m     \u001b[0mfirst_idx\u001b[0m\u001b[0;34m,\u001b[0m \u001b[0msecond_idx\u001b[0m \u001b[0;34m=\u001b[0m \u001b[0mnp\u001b[0m\u001b[0;34m.\u001b[0m\u001b[0mrandom\u001b[0m\u001b[0;34m.\u001b[0m\u001b[0mchoice\u001b[0m\u001b[0;34m(\u001b[0m\u001b[0mX_origin\u001b[0m\u001b[0;34m.\u001b[0m\u001b[0mshape\u001b[0m\u001b[0;34m[\u001b[0m\u001b[0;36m0\u001b[0m\u001b[0;34m]\u001b[0m\u001b[0;34m,\u001b[0m \u001b[0;36m2\u001b[0m\u001b[0;34m,\u001b[0m \u001b[0mreplace\u001b[0m\u001b[0;34m=\u001b[0m\u001b[0;32mFalse\u001b[0m\u001b[0;34m)\u001b[0m\u001b[0;34m\u001b[0m\u001b[0;34m\u001b[0m\u001b[0m\n\u001b[0m\u001b[1;32m      5\u001b[0m     \u001b[0mfirst_impulse\u001b[0m \u001b[0;34m=\u001b[0m \u001b[0mX_origin\u001b[0m\u001b[0;34m[\u001b[0m\u001b[0mfirst_idx\u001b[0m\u001b[0;34m]\u001b[0m\u001b[0;34m\u001b[0m\u001b[0;34m\u001b[0m\u001b[0m\n\u001b[1;32m      6\u001b[0m     \u001b[0msecond_impulse\u001b[0m \u001b[0;34m=\u001b[0m \u001b[0mX_origin\u001b[0m\u001b[0;34m[\u001b[0m\u001b[0msecond_idx\u001b[0m\u001b[0;34m]\u001b[0m\u001b[0;34m\u001b[0m\u001b[0;34m\u001b[0m\u001b[0m\n",
      "\u001b[0;31mKeyboardInterrupt\u001b[0m: "
     ]
    }
   ],
   "source": [
    "for freq in freq_values:\n",
    "    X_origin, y_origin = get_data()\n",
    "    scores_dict = calculate_scores(X_origin, alpha_values, tau_values, data_size=1000, freq=freq)\n",
    "    plot_color_map(scores_dict, alpha_values, tau_values, freq=freq)\n",
    "    save_obj(scores_dict, 'scores_freq=' + str(freq))\n",
    "#     plot_score_3d(scores_dict)"
   ]
  },
  {
   "cell_type": "markdown",
   "metadata": {},
   "source": [
    "### -----------------------------"
   ]
  },
  {
   "cell_type": "code",
   "execution_count": null,
   "metadata": {
    "scrolled": true
   },
   "outputs": [],
   "source": [
    "model = StackingRegressor(regressors=models, meta_regressor=models[0])\n",
    "model.fit(X, y)"
   ]
  },
  {
   "cell_type": "code",
   "execution_count": null,
   "metadata": {},
   "outputs": [],
   "source": [
    "alpha_scores = []\n",
    "alpha_test_range = np.arange(1, 1002, 1)"
   ]
  },
  {
   "cell_type": "code",
   "execution_count": null,
   "metadata": {},
   "outputs": [],
   "source": [
    "for alpha in alpha_test_range:\n",
    "    X_cur, y_cur = prepare_data(X_origin, tau_range, [alpha], data_size=1000, to_print=False)\n",
    "    y_pred = model.predict(X_cur)\n",
    "    alpha_scores.append(mean_absolute_error(y_pred, y_cur))"
   ]
  },
  {
   "cell_type": "code",
   "execution_count": null,
   "metadata": {},
   "outputs": [],
   "source": [
    "plt.title(\"Alpha train log distribution\")\n",
    "plt.ylabel(\"MAE\")\n",
    "plt.xlabel(\"Alpha\")\n",
    "plt.plot(alpha_scores)\n",
    "plt.show()"
   ]
  }
 ],
 "metadata": {
  "kernelspec": {
   "display_name": "Python 3",
   "language": "python",
   "name": "python3"
  },
  "language_info": {
   "codemirror_mode": {
    "name": "ipython",
    "version": 3
   },
   "file_extension": ".py",
   "mimetype": "text/x-python",
   "name": "python",
   "nbconvert_exporter": "python",
   "pygments_lexer": "ipython3",
   "version": "3.7.4"
  }
 },
 "nbformat": 4,
 "nbformat_minor": 2
}
