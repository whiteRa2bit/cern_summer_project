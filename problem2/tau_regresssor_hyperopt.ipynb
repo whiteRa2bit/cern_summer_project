{
 "cells": [
  {
   "cell_type": "code",
   "execution_count": 1,
   "metadata": {},
   "outputs": [],
   "source": [
    "import matplotlib.pyplot as plt\n",
    "import numpy as np\n",
    "from sklearn.model_selection import train_test_split\n",
    "from sklearn.linear_model import LinearRegression\n",
    "from sklearn.metrics import r2_score, mean_absolute_error, mean_squared_error\n",
    "from sklearn.model_selection import cross_validate\n",
    "import tqdm\n",
    "import random"
   ]
  },
  {
   "cell_type": "code",
   "execution_count": 2,
   "metadata": {},
   "outputs": [],
   "source": [
    "from hyperopt.pyll import scope as ho_scope\n",
    "from hyperopt import fmin, tpe, hp"
   ]
  },
  {
   "cell_type": "markdown",
   "metadata": {},
   "source": [
    "### Prepare data"
   ]
  },
  {
   "cell_type": "code",
   "execution_count": 3,
   "metadata": {},
   "outputs": [],
   "source": [
    "from common import get_data, get_freq_data, signal_cyclic_shift, generate_multi_signal"
   ]
  },
  {
   "cell_type": "code",
   "execution_count": 4,
   "metadata": {},
   "outputs": [],
   "source": [
    "X_origin, y_origin = get_data()"
   ]
  },
  {
   "cell_type": "code",
   "execution_count": 5,
   "metadata": {},
   "outputs": [],
   "source": [
    "from sklearn.utils import shuffle\n",
    "\n",
    "def prepare_data(X_origin, y_origin, tau_range, alpha_range, data_size=1000, to_print=False):    \n",
    "    X = []\n",
    "    y = []\n",
    "    alpha_values = []\n",
    "    tau_values = []\n",
    "    for i in range(data_size):\n",
    "        alpha = random.choice(alpha_range)\n",
    "        tau = random.choice(tau_range)\n",
    "        signal = generate_multi_signal(X_origin, y_origin, tau, alpha)['multi_impulse']\n",
    "        \n",
    "        X.append(signal)\n",
    "        y.append(tau)\n",
    "        \n",
    "        alpha_values.append(alpha)\n",
    "        tau_values.append(tau)\n",
    "   \n",
    "    X = np.array(X)\n",
    "    y = np.array(y)\n",
    "    \n",
    "    if to_print:\n",
    "        print(\"X shape:\", X.shape)\n",
    "        print(\"y shape:\", y.shape)\n",
    "    \n",
    "    X, y = shuffle(X, y)\n",
    "\n",
    "#     plt.scatter(alpha_values, tau_values)\n",
    "#     plt.show()\n",
    "    \n",
    "    return X, y"
   ]
  },
  {
   "cell_type": "code",
   "execution_count": 6,
   "metadata": {},
   "outputs": [],
   "source": [
    "# alpha_range = np.array([np.around(10**i, decimals=4) for i in np.arange(0, 3.1, 0.01)])\n",
    "\n",
    "alpha_range = np.arange(1, 100, 0.1)\n",
    "tau_range = np.arange(-25, 25, 1)"
   ]
  },
  {
   "cell_type": "code",
   "execution_count": 7,
   "metadata": {},
   "outputs": [
    {
     "name": "stdout",
     "output_type": "stream",
     "text": [
      "X shape: (500, 1024)\n",
      "y shape: (500,)\n"
     ]
    }
   ],
   "source": [
    "X, y = prepare_data(X_origin, y_origin, tau_range, alpha_range, data_size=500, to_print=True)"
   ]
  },
  {
   "cell_type": "markdown",
   "metadata": {},
   "source": [
    "### Hyperopt"
   ]
  },
  {
   "cell_type": "code",
   "execution_count": 8,
   "metadata": {},
   "outputs": [],
   "source": [
    "from sklearn.pipeline import Pipeline\n",
    "from sklearn.linear_model import HuberRegressor\n",
    "from sklearn import linear_model\n",
    "from sklearn import tree\n",
    "from sklearn import svm\n",
    "from sklearn.linear_model import PassiveAggressiveRegressor\n",
    "import xgboost as xgb"
   ]
  },
  {
   "cell_type": "code",
   "execution_count": 9,
   "metadata": {},
   "outputs": [],
   "source": [
    "freq_values = [1, 5, 10, 15, 25, 50, 60, 75, 85, 100]"
   ]
  },
  {
   "cell_type": "code",
   "execution_count": 10,
   "metadata": {},
   "outputs": [],
   "source": [
    "def print_results(iter_num=200):\n",
    "    global X_freq\n",
    "    for freq in freq_values:\n",
    "        X_freq = get_freq_data(X, freq=freq)\n",
    "\n",
    "        best = fmin(\n",
    "            fn=f,  # \"Loss\" function to minimize\n",
    "            space=space,  # Hyperparameter space\n",
    "            algo=tpe.suggest,  # Tree-structured Parzen Estimator (TPE)\n",
    "            max_evals=iter_num  # Perform 100 trials\n",
    "        )\n",
    "\n",
    "        print('-----------------------------------------------------')\n",
    "        print(\"Freq:\", freq)\n",
    "        print(\"X_freq shape:\", X_freq.shape)\n",
    "        print(\"Found minimum after %d trials:\" %(iter_num))\n",
    "        print(best)\n",
    "        print('-----------------------------------------------------')"
   ]
  },
  {
   "cell_type": "markdown",
   "metadata": {},
   "source": [
    "##### Huber"
   ]
  },
  {
   "cell_type": "code",
<<<<<<< HEAD
   "execution_count": null,
=======
   "execution_count": 11,
>>>>>>> e4dcd5c0b4b6e0d33a5d5dfd4c0fa7cb64088575
   "metadata": {},
   "outputs": [
    {
     "name": "stdout",
     "output_type": "stream",
     "text": [
<<<<<<< HEAD
      " 40%|███▉      | 79/200 [12:55<13:29,  6.69s/it, best loss: 43.14281390004473] "
=======
      "100%|██████████| 200/200 [17:36<00:00,  5.28s/it, best loss: 12.983442145977781]\n",
      "-----------------------------------------------------\n",
      "Freq: 1\n",
      "X_freq shape: (500, 1024)\n",
      "Found minimum after 200 trials:\n",
      "{'alpha': 0.009998736218236517, 'epsilon': 2.6185495425632803, 'max_iter': 260.0}\n",
      "-----------------------------------------------------\n",
      "100%|██████████| 200/200 [04:31<00:00,  1.36s/it, best loss: 12.915831996522124]\n",
      "-----------------------------------------------------\n",
      "Freq: 5\n",
      "X_freq shape: (500, 204)\n",
      "Found minimum after 200 trials:\n",
      "{'alpha': 0.009940165759791989, 'epsilon': 9.565887136287449, 'max_iter': 270.0}\n",
      "-----------------------------------------------------\n",
      "100%|██████████| 200/200 [02:49<00:00,  1.18it/s, best loss: 12.899878974350292]\n",
      "-----------------------------------------------------\n",
      "Freq: 10\n",
      "X_freq shape: (500, 102)\n",
      "Found minimum after 200 trials:\n",
      "{'alpha': 0.009917854945014033, 'epsilon': 6.503522669420225, 'max_iter': 380.0}\n",
      "-----------------------------------------------------\n",
      "100%|██████████| 200/200 [02:20<00:00,  1.42it/s, best loss: 12.876564985820528]\n",
      "-----------------------------------------------------\n",
      "Freq: 15\n",
      "X_freq shape: (500, 68)\n",
      "Found minimum after 200 trials:\n",
      "{'alpha': 0.009971426666848629, 'epsilon': 8.287795289870482, 'max_iter': 230.0}\n",
      "-----------------------------------------------------\n",
      "100%|██████████| 200/200 [01:32<00:00,  2.17it/s, best loss: 12.87220189719198]\n",
      "-----------------------------------------------------\n",
      "Freq: 25\n",
      "X_freq shape: (500, 41)\n",
      "Found minimum after 200 trials:\n",
      "{'alpha': 0.009967863002050503, 'epsilon': 5.895955255797931, 'max_iter': 410.0}\n",
      "-----------------------------------------------------\n",
      "100%|██████████| 200/200 [00:19<00:00, 10.20it/s, best loss: 12.87690438452357] \n",
      "-----------------------------------------------------\n",
      "Freq: 50\n",
      "X_freq shape: (500, 20)\n",
      "Found minimum after 200 trials:\n",
      "{'alpha': 0.009981008692588868, 'epsilon': 3.373173813194943, 'max_iter': 460.0}\n",
      "-----------------------------------------------------\n",
      "100%|██████████| 200/200 [00:19<00:00, 10.24it/s, best loss: 12.870168231089698]\n",
      "-----------------------------------------------------\n",
      "Freq: 60\n",
      "X_freq shape: (500, 17)\n",
      "Found minimum after 200 trials:\n",
      "{'alpha': 0.009917095011017162, 'epsilon': 2.856351464639112, 'max_iter': 200.0}\n",
      "-----------------------------------------------------\n",
      "100%|██████████| 200/200 [00:16<00:00, 12.04it/s, best loss: 12.863668630361499]\n",
      "-----------------------------------------------------\n",
      "Freq: 75\n",
      "X_freq shape: (500, 14)\n",
      "Found minimum after 200 trials:\n",
      "{'alpha': 0.009993188863847945, 'epsilon': 5.0538187086344655, 'max_iter': 330.0}\n",
      "-----------------------------------------------------\n",
      "100%|██████████| 200/200 [00:14<00:00, 13.54it/s, best loss: 12.866224823133734]\n",
      "-----------------------------------------------------\n",
      "Freq: 85\n",
      "X_freq shape: (500, 12)\n",
      "Found minimum after 200 trials:\n",
      "{'alpha': 0.009995573608949882, 'epsilon': 6.815670346847596, 'max_iter': 280.0}\n",
      "-----------------------------------------------------\n",
      "100%|██████████| 200/200 [00:14<00:00, 13.78it/s, best loss: 12.868027394070328]\n",
      "-----------------------------------------------------\n",
      "Freq: 100\n",
      "X_freq shape: (500, 10)\n",
      "Found minimum after 200 trials:\n",
      "{'alpha': 0.009945979367107208, 'epsilon': 7.248122848852386, 'max_iter': 440.0}\n",
      "-----------------------------------------------------\n"
>>>>>>> e4dcd5c0b4b6e0d33a5d5dfd4c0fa7cb64088575
     ]
    }
   ],
   "source": [
    "def f(space):\n",
    "    huber_reg = HuberRegressor(epsilon=space['epsilon'], max_iter=space['max_iter'], alpha=space['alpha'])\n",
    "    scores = cross_validate(huber_reg, X_freq, y, scoring='neg_mean_absolute_error', cv=5)\n",
    "    return -scores['test_score'].mean()\n",
    "    \n",
    "space = {\n",
    "    'epsilon':  hp.loguniform('epsilon', low=np.log(1.1), high=np.log(10)),\n",
    "    'max_iter': ho_scope.int(hp.quniform('max_iter', low=100, high=500, q=10)),\n",
    "    'alpha':  hp.loguniform('alpha', low=np.log(0.0001), high=np.log(0.01)),\n",
    "}\n",
    "\n",
    "global X_freq\n",
    "print_results()"
   ]
  },
  {
   "cell_type": "markdown",
   "metadata": {},
   "source": [
    "#### Ridge"
   ]
  },
  {
   "cell_type": "code",
<<<<<<< HEAD
   "execution_count": null,
   "metadata": {},
   "outputs": [],
=======
   "execution_count": 12,
   "metadata": {},
   "outputs": [
    {
     "name": "stdout",
     "output_type": "stream",
     "text": [
      "100%|██████████| 200/200 [04:37<00:00,  1.39s/it, best loss: 12.863673626759496]\n",
      "-----------------------------------------------------\n",
      "Freq: 1\n",
      "X_freq shape: (500, 1024)\n",
      "Found minimum after 200 trials:\n",
      "{'alpha': 9.972508462213852, 'max_iter': 3200.0, 'solver': 1}\n",
      "-----------------------------------------------------\n",
      "100%|██████████| 200/200 [00:44<00:00,  4.53it/s, best loss: 12.855990180927051]\n",
      "-----------------------------------------------------\n",
      "Freq: 5\n",
      "X_freq shape: (500, 204)\n",
      "Found minimum after 200 trials:\n",
      "{'alpha': 9.953270900591683, 'max_iter': 3600.0, 'solver': 3}\n",
      "-----------------------------------------------------\n",
      "100%|██████████| 200/200 [00:27<00:00,  7.22it/s, best loss: 12.856817788552167]\n",
      "-----------------------------------------------------\n",
      "Freq: 10\n",
      "X_freq shape: (500, 102)\n",
      "Found minimum after 200 trials:\n",
      "{'alpha': 9.763475557457008, 'max_iter': 3100.0, 'solver': 5}\n",
      "-----------------------------------------------------\n",
      "100%|██████████| 200/200 [00:12<00:00, 16.24it/s, best loss: 12.854808317061579]\n",
      "-----------------------------------------------------\n",
      "Freq: 15\n",
      "X_freq shape: (500, 68)\n",
      "Found minimum after 200 trials:\n",
      "{'alpha': 4.693582238944829, 'max_iter': 3300.0, 'solver': 3}\n",
      "-----------------------------------------------------\n",
      "100%|██████████| 200/200 [00:12<00:00, 16.07it/s, best loss: 12.855918344627693]\n",
      "-----------------------------------------------------\n",
      "Freq: 25\n",
      "X_freq shape: (500, 41)\n",
      "Found minimum after 200 trials:\n",
      "{'alpha': 4.455199338678872, 'max_iter': 2100.0, 'solver': 5}\n",
      "-----------------------------------------------------\n",
      "100%|██████████| 200/200 [00:05<00:00, 36.42it/s, best loss: 12.855952360288905]\n",
      "-----------------------------------------------------\n",
      "Freq: 50\n",
      "X_freq shape: (500, 20)\n",
      "Found minimum after 200 trials:\n",
      "{'alpha': 9.997034003833138, 'max_iter': 4200.0, 'solver': 3}\n",
      "-----------------------------------------------------\n",
      "100%|██████████| 200/200 [00:05<00:00, 38.48it/s, best loss: 12.85576627211401] \n",
      "-----------------------------------------------------\n",
      "Freq: 60\n",
      "X_freq shape: (500, 17)\n",
      "Found minimum after 200 trials:\n",
      "{'alpha': 9.910474606243149, 'max_iter': 1400.0, 'solver': 3}\n",
      "-----------------------------------------------------\n",
      "100%|██████████| 200/200 [00:05<00:00, 35.51it/s, best loss: 12.855767046985283]\n",
      "-----------------------------------------------------\n",
      "Freq: 75\n",
      "X_freq shape: (500, 14)\n",
      "Found minimum after 200 trials:\n",
      "{'alpha': 9.904180467281266, 'max_iter': 3700.0, 'solver': 5}\n",
      "-----------------------------------------------------\n",
      "100%|██████████| 200/200 [00:04<00:00, 44.46it/s, best loss: 12.855556927667447]\n",
      "-----------------------------------------------------\n",
      "Freq: 85\n",
      "X_freq shape: (500, 12)\n",
      "Found minimum after 200 trials:\n",
      "{'alpha': 9.985546962755594, 'max_iter': 4400.0, 'solver': 0}\n",
      "-----------------------------------------------------\n",
      "100%|██████████| 200/200 [00:04<00:00, 41.34it/s, best loss: 12.85441912633234] \n",
      "-----------------------------------------------------\n",
      "Freq: 100\n",
      "X_freq shape: (500, 10)\n",
      "Found minimum after 200 trials:\n",
      "{'alpha': 9.992651445670798, 'max_iter': 3300.0, 'solver': 5}\n",
      "-----------------------------------------------------\n"
     ]
    }
   ],
>>>>>>> e4dcd5c0b4b6e0d33a5d5dfd4c0fa7cb64088575
   "source": [
    "def f(space):\n",
    "    ridge_reg = linear_model.Ridge(solver=space['solver'], max_iter=space['max_iter'], alpha=space['alpha'])\n",
    "    scores = cross_validate(ridge_reg, X_freq, y, scoring='neg_mean_absolute_error', cv=5)\n",
    "    return -scores['test_score'].mean()\n",
    "    \n",
    "space = {\n",
    "    'solver': hp.choice('solver', ['auto', 'svd', 'cholesky', 'lsqr', 'sparse_cg', 'sag', 'saga']),\n",
    "    'max_iter': ho_scope.int(hp.quniform('max_iter', low=1000, high=5000, q=100)),\n",
    "    'alpha':  hp.loguniform('alpha', low=np.log(0.0001), high=np.log(10)),\n",
    "}\n",
    "\n",
    "global X_freq\n",
    "print_results()"
   ]
  },
  {
   "cell_type": "markdown",
   "metadata": {},
   "source": [
    "#### Lasso"
   ]
  },
  {
   "cell_type": "code",
<<<<<<< HEAD
   "execution_count": null,
=======
   "execution_count": 13,
>>>>>>> e4dcd5c0b4b6e0d33a5d5dfd4c0fa7cb64088575
   "metadata": {},
   "outputs": [],
   "source": [
    "import warnings\n",
    "warnings.filterwarnings(\"ignore\")"
   ]
  },
  {
   "cell_type": "code",
<<<<<<< HEAD
   "execution_count": null,
   "metadata": {},
   "outputs": [],
=======
   "execution_count": 14,
   "metadata": {},
   "outputs": [
    {
     "name": "stdout",
     "output_type": "stream",
     "text": [
      "100%|██████████| 200/200 [01:18<00:00,  2.54it/s, best loss: 12.85072]        \n",
      "-----------------------------------------------------\n",
      "Freq: 1\n",
      "X_freq shape: (500, 1024)\n",
      "Found minimum after 200 trials:\n",
      "{'alpha': 3.668769083434489, 'max_iter': 3900.0, 'normalize': 1}\n",
      "-----------------------------------------------------\n",
      "100%|██████████| 200/200 [00:26<00:00,  7.44it/s, best loss: 12.85072]\n",
      "-----------------------------------------------------\n",
      "Freq: 5\n",
      "X_freq shape: (500, 204)\n",
      "Found minimum after 200 trials:\n",
      "{'alpha': 4.464694663003078, 'max_iter': 1600.0, 'normalize': 1}\n",
      "-----------------------------------------------------\n",
      "100%|██████████| 200/200 [00:22<00:00,  8.96it/s, best loss: 12.85072]        \n",
      "-----------------------------------------------------\n",
      "Freq: 10\n",
      "X_freq shape: (500, 102)\n",
      "Found minimum after 200 trials:\n",
      "{'alpha': 7.111343586455893, 'max_iter': 2200.0, 'normalize': 0}\n",
      "-----------------------------------------------------\n",
      "100%|██████████| 200/200 [00:13<00:00, 14.53it/s, best loss: 12.85072]        \n",
      "-----------------------------------------------------\n",
      "Freq: 15\n",
      "X_freq shape: (500, 68)\n",
      "Found minimum after 200 trials:\n",
      "{'alpha': 2.448320190825293, 'max_iter': 1200.0, 'normalize': 1}\n",
      "-----------------------------------------------------\n",
      "100%|██████████| 200/200 [00:10<00:00, 19.23it/s, best loss: 12.85072]        \n",
      "-----------------------------------------------------\n",
      "Freq: 25\n",
      "X_freq shape: (500, 41)\n",
      "Found minimum after 200 trials:\n",
      "{'alpha': 0.1940956015684823, 'max_iter': 4600.0, 'normalize': 0}\n",
      "-----------------------------------------------------\n",
      "100%|██████████| 200/200 [00:04<00:00, 48.30it/s, best loss: 12.850648744085408]\n",
      "-----------------------------------------------------\n",
      "Freq: 50\n",
      "X_freq shape: (500, 20)\n",
      "Found minimum after 200 trials:\n",
      "{'alpha': 0.12459885477415232, 'max_iter': 3300.0, 'normalize': 1}\n",
      "-----------------------------------------------------\n",
      "100%|██████████| 200/200 [00:03<00:00, 53.98it/s, best loss: 12.85072]\n",
      "-----------------------------------------------------\n",
      "Freq: 60\n",
      "X_freq shape: (500, 17)\n",
      "Found minimum after 200 trials:\n",
      "{'alpha': 0.27671510886642925, 'max_iter': 2800.0, 'normalize': 1}\n",
      "-----------------------------------------------------\n",
      "100%|██████████| 200/200 [00:03<00:00, 53.09it/s, best loss: 12.85072]\n",
      "-----------------------------------------------------\n",
      "Freq: 75\n",
      "X_freq shape: (500, 14)\n",
      "Found minimum after 200 trials:\n",
      "{'alpha': 4.254174256922476, 'max_iter': 1700.0, 'normalize': 1}\n",
      "-----------------------------------------------------\n",
      "100%|██████████| 200/200 [00:03<00:00, 55.38it/s, best loss: 12.85072]\n",
      "-----------------------------------------------------\n",
      "Freq: 85\n",
      "X_freq shape: (500, 12)\n",
      "Found minimum after 200 trials:\n",
      "{'alpha': 0.20338564686796162, 'max_iter': 1300.0, 'normalize': 1}\n",
      "-----------------------------------------------------\n",
      "100%|██████████| 200/200 [00:03<00:00, 54.96it/s, best loss: 12.85072]\n",
      "-----------------------------------------------------\n",
      "Freq: 100\n",
      "X_freq shape: (500, 10)\n",
      "Found minimum after 200 trials:\n",
      "{'alpha': 7.069231059187791, 'max_iter': 1000.0, 'normalize': 0}\n",
      "-----------------------------------------------------\n"
     ]
    }
   ],
>>>>>>> e4dcd5c0b4b6e0d33a5d5dfd4c0fa7cb64088575
   "source": [
    "def f(space):\n",
    "    lasso_reg = linear_model.Lasso(max_iter=space['max_iter'], alpha=space['alpha'], normalize=space['normalize'])\n",
    "    scores = cross_validate(lasso_reg, X_freq, y, scoring='neg_mean_absolute_error', cv=5)\n",
    "    return -scores['test_score'].mean()\n",
    "    \n",
    "space = {\n",
    "    'normalize': hp.choice('normalize', [True, False]),\n",
    "    'max_iter': ho_scope.int(hp.quniform('max_iter', low=1000, high=5000, q=100)),\n",
    "    'alpha':  hp.loguniform('alpha', low=np.log(0.0001), high=np.log(10)),\n",
    "}\n",
    "\n",
    "global X_freq\n",
    "print_results()"
   ]
  },
  {
   "cell_type": "markdown",
   "metadata": {},
   "source": [
    "#### Decision tree"
   ]
  },
  {
   "cell_type": "code",
<<<<<<< HEAD
   "execution_count": null,
   "metadata": {},
   "outputs": [],
=======
   "execution_count": 15,
   "metadata": {},
   "outputs": [
    {
     "name": "stdout",
     "output_type": "stream",
     "text": [
      "100%|██████████| 200/200 [00:21<00:00,  9.29it/s, best loss: 12.738206392449033]\n",
      "-----------------------------------------------------\n",
      "Freq: 1\n",
      "X_freq shape: (500, 1024)\n",
      "Found minimum after 200 trials:\n",
      "{'max_features': 2, 'max_iter': 94.0, 'min_samples_leaf': 5.0, 'min_samples_split': 5.0, 'min_weight_fraction_leaf': 0.23703293134508518}\n",
      "-----------------------------------------------------\n",
      "100%|██████████| 200/200 [00:08<00:00, 24.64it/s, best loss: 12.754405381599657]\n",
      "-----------------------------------------------------\n",
      "Freq: 5\n",
      "X_freq shape: (500, 204)\n",
      "Found minimum after 200 trials:\n",
      "{'max_features': 2, 'max_iter': 30.0, 'min_samples_leaf': 2.0, 'min_samples_split': 3.0, 'min_weight_fraction_leaf': 0.311453318273629}\n",
      "-----------------------------------------------------\n",
      "100%|██████████| 200/200 [00:09<00:00, 21.27it/s, best loss: 12.71393579673867] \n",
      "-----------------------------------------------------\n",
      "Freq: 10\n",
      "X_freq shape: (500, 102)\n",
      "Found minimum after 200 trials:\n",
      "{'max_features': 1, 'max_iter': 80.0, 'min_samples_leaf': 2.0, 'min_samples_split': 6.0, 'min_weight_fraction_leaf': 0.2994242017760155}\n",
      "-----------------------------------------------------\n",
      "100%|██████████| 200/200 [00:07<00:00, 26.07it/s, best loss: 12.694944031340933]\n",
      "-----------------------------------------------------\n",
      "Freq: 15\n",
      "X_freq shape: (500, 68)\n",
      "Found minimum after 200 trials:\n",
      "{'max_features': 1, 'max_iter': 54.0, 'min_samples_leaf': 9.0, 'min_samples_split': 8.0, 'min_weight_fraction_leaf': 0.15278599355495628}\n",
      "-----------------------------------------------------\n",
      "100%|██████████| 200/200 [00:07<00:00, 25.80it/s, best loss: 12.692324228336668]\n",
      "-----------------------------------------------------\n",
      "Freq: 25\n",
      "X_freq shape: (500, 41)\n",
      "Found minimum after 200 trials:\n",
      "{'max_features': 1, 'max_iter': 94.0, 'min_samples_leaf': 5.0, 'min_samples_split': 3.0, 'min_weight_fraction_leaf': 0.31212523658896474}\n",
      "-----------------------------------------------------\n",
      "100%|██████████| 200/200 [00:07<00:00, 28.17it/s, best loss: 12.64738846598075] \n",
      "-----------------------------------------------------\n",
      "Freq: 50\n",
      "X_freq shape: (500, 20)\n",
      "Found minimum after 200 trials:\n",
      "{'max_features': 1, 'max_iter': 76.0, 'min_samples_leaf': 5.0, 'min_samples_split': 2.0, 'min_weight_fraction_leaf': 0.1729137133502897}\n",
      "-----------------------------------------------------\n",
      "100%|██████████| 200/200 [00:06<00:00, 30.67it/s, best loss: 12.698481080074137]\n",
      "-----------------------------------------------------\n",
      "Freq: 60\n",
      "X_freq shape: (500, 17)\n",
      "Found minimum after 200 trials:\n",
      "{'max_features': 0, 'max_iter': 52.0, 'min_samples_leaf': 4.0, 'min_samples_split': 8.0, 'min_weight_fraction_leaf': 0.30922148897796786}\n",
      "-----------------------------------------------------\n",
      "100%|██████████| 200/200 [00:06<00:00, 29.10it/s, best loss: 12.732943077879678]\n",
      "-----------------------------------------------------\n",
      "Freq: 75\n",
      "X_freq shape: (500, 14)\n",
      "Found minimum after 200 trials:\n",
      "{'max_features': 1, 'max_iter': 86.0, 'min_samples_leaf': 9.0, 'min_samples_split': 5.0, 'min_weight_fraction_leaf': 0.2194573934558134}\n",
      "-----------------------------------------------------\n",
      "100%|██████████| 200/200 [00:07<00:00, 27.91it/s, best loss: 12.727381173628592]\n",
      "-----------------------------------------------------\n",
      "Freq: 85\n",
      "X_freq shape: (500, 12)\n",
      "Found minimum after 200 trials:\n",
      "{'max_features': 1, 'max_iter': 70.0, 'min_samples_leaf': 4.0, 'min_samples_split': 3.0, 'min_weight_fraction_leaf': 0.26748863816045704}\n",
      "-----------------------------------------------------\n",
      "100%|██████████| 200/200 [00:07<00:00, 26.44it/s, best loss: 12.697496526114929]\n",
      "-----------------------------------------------------\n",
      "Freq: 100\n",
      "X_freq shape: (500, 10)\n",
      "Found minimum after 200 trials:\n",
      "{'max_features': 1, 'max_iter': 28.0, 'min_samples_leaf': 1.0, 'min_samples_split': 10.0, 'min_weight_fraction_leaf': 0.15392830188422793}\n",
      "-----------------------------------------------------\n"
     ]
    }
   ],
>>>>>>> e4dcd5c0b4b6e0d33a5d5dfd4c0fa7cb64088575
   "source": [
    "def f(space):\n",
    "    dt_reg = tree.DecisionTreeRegressor(max_depth=space['max_depth'], min_samples_split=space['min_samples_split'],\n",
    "                                       min_samples_leaf=space['min_samples_leaf'], min_weight_fraction_leaf=\n",
    "                                        space['min_weight_fraction_leaf'], max_features=space['max_features'])\n",
    "    scores = cross_validate(dt_reg, X_freq, y, scoring='neg_mean_absolute_error', cv=5)\n",
    "    return -scores['test_score'].mean()\n",
    "    \n",
    "space = {\n",
    "    'max_depth':  ho_scope.int(hp.quniform('max_iter', low=4, high=100, q=2)),\n",
    "    'min_samples_split': ho_scope.int(hp.quniform('min_samples_split', low=2, high=10, q=1)),\n",
    "    'min_samples_leaf':  ho_scope.int(hp.quniform('min_samples_leaf', low=1, high=10, q=1)),\n",
    "    'min_weight_fraction_leaf': hp.uniform('min_weight_fraction_leaf', 0, 0.5),\n",
    "    'max_features': hp.choice('max_features', ['auto', 'sqrt', 'log2'])\n",
    "}\n",
    "\n",
    "global X_freq\n",
    "print_results()"
   ]
  },
  {
   "cell_type": "markdown",
   "metadata": {},
   "source": [
    "#### Passive aggresive"
   ]
  },
  {
   "cell_type": "code",
<<<<<<< HEAD
   "execution_count": null,
   "metadata": {},
   "outputs": [],
=======
   "execution_count": 16,
   "metadata": {},
   "outputs": [
    {
     "name": "stdout",
     "output_type": "stream",
     "text": [
      "100%|██████████| 200/200 [00:33<00:00,  5.98it/s, best loss: 12.741330020799698]\n",
      "-----------------------------------------------------\n",
      "Freq: 1\n",
      "X_freq shape: (500, 1024)\n",
      "Found minimum after 200 trials:\n",
      "{'c': 0.004724153601882852, 'max_iter': 2500.0, 'tol': 1.7400027049924672e-06, 'verbose': 84.0}\n",
      "-----------------------------------------------------\n",
      "100%|██████████| 200/200 [00:15<00:00, 12.80it/s, best loss: 12.786989554951782]\n",
      "-----------------------------------------------------\n",
      "Freq: 5\n",
      "X_freq shape: (500, 204)\n",
      "Found minimum after 200 trials:\n",
      "{'c': 0.09041072105239996, 'max_iter': 2400.0, 'tol': 1.9988578541729964e-05, 'verbose': 76.0}\n",
      "-----------------------------------------------------\n",
      "100%|██████████| 200/200 [00:14<00:00, 13.90it/s, best loss: 12.829701598314955]\n",
      "-----------------------------------------------------\n",
      "Freq: 10\n",
      "X_freq shape: (500, 102)\n",
      "Found minimum after 200 trials:\n",
      "{'c': 0.00010019806695111477, 'max_iter': 3300.0, 'tol': 5.249184303010807e-05, 'verbose': 32.0}\n",
      "-----------------------------------------------------\n",
      "100%|██████████| 200/200 [00:06<00:00, 33.31it/s, best loss: 12.822387875654542]\n",
      "-----------------------------------------------------\n",
      "Freq: 15\n",
      "X_freq shape: (500, 68)\n",
      "Found minimum after 200 trials:\n",
      "{'c': 0.08172279297030119, 'max_iter': 1800.0, 'tol': 4.397573613446898e-06, 'verbose': 6.0}\n",
      "-----------------------------------------------------\n",
      "100%|██████████| 200/200 [00:06<00:00, 30.68it/s, best loss: 12.7896312911983]  \n",
      "-----------------------------------------------------\n",
      "Freq: 25\n",
      "X_freq shape: (500, 41)\n",
      "Found minimum after 200 trials:\n",
      "{'c': 0.10513016218001797, 'max_iter': 2500.0, 'tol': 1.5219574714500775e-06, 'verbose': 4.0}\n",
      "-----------------------------------------------------\n",
      "100%|██████████| 200/200 [00:06<00:00, 29.39it/s, best loss: 12.817892745704714]\n",
      "-----------------------------------------------------\n",
      "Freq: 50\n",
      "X_freq shape: (500, 20)\n",
      "Found minimum after 200 trials:\n",
      "{'c': 0.1383297980741023, 'max_iter': 3300.0, 'tol': 0.00018350248562797595, 'verbose': 82.0}\n",
      "-----------------------------------------------------\n",
      "100%|██████████| 200/200 [00:05<00:00, 34.92it/s, best loss: 12.772871492902697]\n",
      "-----------------------------------------------------\n",
      "Freq: 60\n",
      "X_freq shape: (500, 17)\n",
      "Found minimum after 200 trials:\n",
      "{'c': 0.3378084715349957, 'max_iter': 2500.0, 'tol': 0.00047665443773998664, 'verbose': 58.0}\n",
      "-----------------------------------------------------\n",
      "100%|██████████| 200/200 [00:06<00:00, 30.70it/s, best loss: 12.763600014226276]\n",
      "-----------------------------------------------------\n",
      "Freq: 75\n",
      "X_freq shape: (500, 14)\n",
      "Found minimum after 200 trials:\n",
      "{'c': 0.13473194559917473, 'max_iter': 3700.0, 'tol': 1.0934230463541032e-05, 'verbose': 4.0}\n",
      "-----------------------------------------------------\n",
      "100%|██████████| 200/200 [00:05<00:00, 36.97it/s, best loss: 12.778068601764422]\n",
      "-----------------------------------------------------\n",
      "Freq: 85\n",
      "X_freq shape: (500, 12)\n",
      "Found minimum after 200 trials:\n",
      "{'c': 0.13435499654002422, 'max_iter': 3100.0, 'tol': 3.0027185089962084e-06, 'verbose': 28.0}\n",
      "-----------------------------------------------------\n",
      "100%|██████████| 200/200 [00:05<00:00, 35.89it/s, best loss: 12.794572051012365]\n",
      "-----------------------------------------------------\n",
      "Freq: 100\n",
      "X_freq shape: (500, 10)\n",
      "Found minimum after 200 trials:\n",
      "{'c': 0.44234143262786796, 'max_iter': 3200.0, 'tol': 0.0005405758363732383, 'verbose': 70.0}\n",
      "-----------------------------------------------------\n"
     ]
    }
   ],
>>>>>>> e4dcd5c0b4b6e0d33a5d5dfd4c0fa7cb64088575
   "source": [
    "def f(space):\n",
    "    pa_reg = PassiveAggressiveRegressor(max_iter=space['max_iter'], tol=space['max_iter'], \n",
    "                                       C = space['C'])\n",
    "    scores = cross_validate(pa_reg, X_freq, y, scoring='neg_mean_absolute_error', cv=5)\n",
    "    return -scores['test_score'].mean()\n",
    "    \n",
    "space = {\n",
    "    'max_iter': ho_scope.int(hp.quniform('max_iter', low=1000, high=5000, q=100)),\n",
    "    'tol': hp.loguniform('tol', low=np.log(0.000001), high=np.log(0.001)),\n",
    "    'verbose': ho_scope.int(hp.quniform('verbose', low=1, high=100, q=2)),\n",
    "    'C':  hp.loguniform('c', low=np.log(0.0001), high=np.log(10)),\n",
    "}\n",
    "\n",
    "global X_freq\n",
    "print_results()"
   ]
  },
  {
   "cell_type": "markdown",
   "metadata": {},
   "source": [
    "#### Xgboost"
   ]
  },
  {
   "cell_type": "code",
<<<<<<< HEAD
   "execution_count": null,
   "metadata": {},
   "outputs": [],
=======
   "execution_count": 17,
   "metadata": {},
   "outputs": [
    {
     "name": "stdout",
     "output_type": "stream",
     "text": [
      "100%|██████████| 100/100 [41:39<00:00, 24.99s/it, best loss: 12.852599250853121] \n",
      "-----------------------------------------------------\n",
      "Freq: 1\n",
      "X_freq shape: (500, 1024)\n",
      "Found minimum after 100 trials:\n",
      "{'alpha': 0.15344179472425398, 'booster': 1, 'eta': 0.03515422380834955, 'gamma': 13.77688693551538, 'lambda': 9.816138925907751, 'max_depth': 18.0}\n",
      "-----------------------------------------------------\n",
      "100%|██████████| 100/100 [08:51<00:00,  5.31s/it, best loss: 12.851249461885834]\n",
      "-----------------------------------------------------\n",
      "Freq: 5\n",
      "X_freq shape: (500, 204)\n",
      "Found minimum after 100 trials:\n",
      "{'alpha': 0.012576833196962466, 'booster': 1, 'eta': 0.007609971822398314, 'gamma': 1.1031970577885053, 'lambda': 9.87839308036462, 'max_depth': 24.0}\n",
      "-----------------------------------------------------\n",
      "100%|██████████| 100/100 [04:26<00:00,  2.67s/it, best loss: 12.851023561373353]\n",
      "-----------------------------------------------------\n",
      "Freq: 10\n",
      "X_freq shape: (500, 102)\n",
      "Found minimum after 100 trials:\n",
      "{'alpha': 0.2830562740094731, 'booster': 1, 'eta': 0.025678723580026028, 'gamma': 0.13636210485118117, 'lambda': 9.992767204124114, 'max_depth': 16.0}\n",
      "-----------------------------------------------------\n",
      "100%|██████████| 100/100 [03:45<00:00,  2.25s/it, best loss: 12.85092969905585]\n",
      "-----------------------------------------------------\n",
      "Freq: 15\n",
      "X_freq shape: (500, 68)\n",
      "Found minimum after 100 trials:\n",
      "{'alpha': 0.0019724761543942248, 'booster': 1, 'eta': 0.13324114651664176, 'gamma': 0.008354105919355394, 'lambda': 9.899837332753673, 'max_depth': 48.0}\n",
      "-----------------------------------------------------\n",
      "100%|██████████| 100/100 [02:17<00:00,  1.37s/it, best loss: 12.85010912727844]\n",
      "-----------------------------------------------------\n",
      "Freq: 25\n",
      "X_freq shape: (500, 41)\n",
      "Found minimum after 100 trials:\n",
      "{'alpha': 6.028201539422119, 'booster': 1, 'eta': 0.1792772275412408, 'gamma': 83.78132810979072, 'lambda': 0.001957850142437938, 'max_depth': 48.0}\n",
      "-----------------------------------------------------\n",
      "100%|██████████| 100/100 [01:30<00:00,  1.11it/s, best loss: 12.850744126614183]\n",
      "-----------------------------------------------------\n",
      "Freq: 50\n",
      "X_freq shape: (500, 20)\n",
      "Found minimum after 100 trials:\n",
      "{'alpha': 0.02531168190063795, 'booster': 1, 'eta': 0.083209280048401, 'gamma': 2.503549683927535, 'lambda': 9.867631574045031, 'max_depth': 26.0}\n",
      "-----------------------------------------------------\n",
      "100%|██████████| 100/100 [01:33<00:00,  1.07it/s, best loss: 12.848525721009821]\n",
      "-----------------------------------------------------\n",
      "Freq: 60\n",
      "X_freq shape: (500, 17)\n",
      "Found minimum after 100 trials:\n",
      "{'alpha': 0.45450272829135147, 'booster': 1, 'eta': 0.018913425081894145, 'gamma': 0.01892945877671217, 'lambda': 0.001001932931676481, 'max_depth': 46.0}\n",
      "-----------------------------------------------------\n",
      "100%|██████████| 100/100 [01:14<00:00,  1.35it/s, best loss: 12.850736388593912]\n",
      "-----------------------------------------------------\n",
      "Freq: 75\n",
      "X_freq shape: (500, 14)\n",
      "Found minimum after 100 trials:\n",
      "{'alpha': 0.00938475146763069, 'booster': 1, 'eta': 0.1669392390867213, 'gamma': 1.537236699432578, 'lambda': 9.96395829337502, 'max_depth': 22.0}\n",
      "-----------------------------------------------------\n",
      "100%|██████████| 100/100 [01:10<00:00,  1.43it/s, best loss: 12.850733908861875]\n",
      "-----------------------------------------------------\n",
      "Freq: 85\n",
      "X_freq shape: (500, 12)\n",
      "Found minimum after 100 trials:\n",
      "{'alpha': 0.029428170332157513, 'booster': 1, 'eta': 0.14386271672505502, 'gamma': 1.150711787666878, 'lambda': 9.985257780220088, 'max_depth': 28.0}\n",
      "-----------------------------------------------------\n",
      "100%|██████████| 100/100 [01:15<00:00,  1.33it/s, best loss: 12.850715243466198]\n",
      "-----------------------------------------------------\n",
      "Freq: 100\n",
      "X_freq shape: (500, 10)\n",
      "Found minimum after 100 trials:\n",
      "{'alpha': 0.0010024472241587762, 'booster': 1, 'eta': 0.032401049850407156, 'gamma': 1.2247734703766038, 'lambda': 0.5061439041168809, 'max_depth': 36.0}\n",
      "-----------------------------------------------------\n"
     ]
    }
   ],
>>>>>>> e4dcd5c0b4b6e0d33a5d5dfd4c0fa7cb64088575
   "source": [
    "def f(space):\n",
    "    xgb_reg = xgb.XGBRegressor(objective=\"reg:linear\", booster=space['booster'], eta=space['eta'], \n",
    "                               gamma=space['gamma'], max_depth=space['max_depth'], reg_lambda=space['lambda'],\n",
    "                               alpha=space['alpha'], verbosity=0)\n",
    "    scores = cross_validate(xgb_reg, X_freq, y, scoring='neg_mean_absolute_error', cv=5)\n",
    "    return -scores['test_score'].mean()\n",
    "    \n",
    "space = {\n",
    "    'booster': hp.choice('booster', ['gbtree', 'gblinear', 'dart']),\n",
    "    'eta': hp.loguniform('eta', low=np.log(0.001), high=np.log(1)),\n",
    "    'gamma': hp.loguniform('gamma', low=np.log(0.001), high=np.log(100)),\n",
    "    'max_depth': ho_scope.int(hp.quniform('max_depth', low=5, high=50, q=2)),\n",
    "    'lambda': hp.loguniform('lambda', low=np.log(0.001), high=np.log(10)),\n",
    "    'alpha':  hp.loguniform('alpha', low=np.log(0.001), high=np.log(10)),\n",
    "}\n",
    "\n",
    "global X_freq\n",
    "print_results(iter_num=100)"
   ]
  }
 ],
 "metadata": {
  "kernelspec": {
   "display_name": "Python [conda env:.conda-impulse_processing] *",
   "language": "python",
   "name": "conda-env-.conda-impulse_processing-py"
  },
  "language_info": {
   "codemirror_mode": {
    "name": "ipython",
    "version": 3
   },
   "file_extension": ".py",
   "mimetype": "text/x-python",
   "name": "python",
   "nbconvert_exporter": "python",
   "pygments_lexer": "ipython3",
   "version": "3.6.9"
  }
 },
 "nbformat": 4,
 "nbformat_minor": 2
}
