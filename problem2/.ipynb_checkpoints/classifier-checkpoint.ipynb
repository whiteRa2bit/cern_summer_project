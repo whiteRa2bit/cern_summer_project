{
 "cells": [
  {
   "cell_type": "code",
   "execution_count": 1,
   "metadata": {},
   "outputs": [],
   "source": [
    "import matplotlib.pyplot as plt\n",
    "import numpy as np\n",
    "from sklearn.model_selection import train_test_split\n",
    "from sklearn.linear_model import LinearRegression\n",
    "from sklearn.metrics import r2_score, mean_absolute_error, mean_squared_error\n",
    "from sklearn.model_selection import cross_validate\n",
    "import tqdm"
   ]
  },
  {
   "cell_type": "code",
   "execution_count": 2,
   "metadata": {},
   "outputs": [],
   "source": [
    "def get_data():\n",
    "    file = open('./data/shashlik_61_pulses.txt', 'r')\n",
    "    data = file.readlines()\n",
    "    data = np.array([list(map(float, experiment.split())) for experiment in data])\n",
    "   \n",
    "    X = data[:, 2:]\n",
    "    y_baseline = data[:, 1]\n",
    "    y = data[:, 0]\n",
    "    \n",
    "    return X, y"
   ]
  },
  {
   "cell_type": "code",
   "execution_count": 64,
   "metadata": {},
   "outputs": [],
   "source": [
    "X_origin, y_origin = get_data()"
   ]
  },
  {
   "cell_type": "code",
   "execution_count": 65,
   "metadata": {},
   "outputs": [],
   "source": [
    "X_origin = np.array([experiment - np.max(experiment) for experiment in X_origin])"
   ]
  },
  {
   "cell_type": "code",
   "execution_count": 68,
   "metadata": {},
   "outputs": [],
   "source": [
    "def generate_multi_signal(tau, alpha, to_plot=False):\n",
    "    if tau > X_origin.shape[1]:\n",
    "        print(\"Error: value tau = %i is too big\" % tau)\n",
    "    \n",
    "    first_signal = X_origin[np.random.choice(X_origin.shape[0], 1, replace=False)][0]  \n",
    "    second_signal = X_origin[np.random.choice(X_origin.shape[0], 1, replace=False)][0]\n",
    "\n",
    "    second_signal = np.concatenate([[second_signal[0]]*tau, second_signal[:-tau]])\n",
    "    \n",
    "#     first_signal -= np.max(first_signal)\n",
    "#     second_signal -= np.max(second_signal)\n",
    "    \n",
    "    if to_plot:\n",
    "        plt.plot(first_signal)\n",
    "        plt.plot(second_signal)\n",
    "        plt.plot(first_signal/alpha + second_signal)\n",
    "        plt.legend(['First signal', 'Second signal', 'Sum of signals'])\n",
    "        plt.show()\n",
    "    \n",
    "    return first_signal/alpha + second_signal"
   ]
  },
  {
   "cell_type": "code",
   "execution_count": 69,
   "metadata": {},
   "outputs": [
    {
     "data": {
      "image/png": "[encoded data removed]",
      "text/plain": [
       "<Figure size 432x288 with 1 Axes>"
      ]
     },
     "metadata": {
      "needs_background": "light"
     },
     "output_type": "display_data"
    },
    {
     "data": {
      "text/plain": [
       "array([-24.895, -24.895, -24.4  , ..., -19.865, -19.92 , -18.34 ])"
      ]
     },
     "execution_count": 69,
     "metadata": {},
     "output_type": "execute_result"
    }
   ],
   "source": [
    "generate_multi_signal(50, 2, to_plot=True)"
   ]
  },
  {
   "cell_type": "markdown",
   "metadata": {},
   "source": [
    "##### Fixate tau and alpha parameters"
   ]
  },
  {
   "cell_type": "code",
   "execution_count": 70,
   "metadata": {},
   "outputs": [],
   "source": [
    "tau = 50\n",
    "alpha = 2"
   ]
  },
  {
   "cell_type": "markdown",
   "metadata": {},
   "source": [
    "### Preparing data"
   ]
  },
  {
   "cell_type": "code",
   "execution_count": 72,
   "metadata": {},
   "outputs": [],
   "source": [
    "##### Hyperaparemeter for dataset size:\n",
    "data_size = 5000\n",
    "pos_size = int(data_size/2)\n",
    "neg_size = data_size - pos_size"
   ]
  },
  {
   "cell_type": "code",
   "execution_count": 73,
   "metadata": {},
   "outputs": [
    {
     "name": "stdout",
     "output_type": "stream",
     "text": [
      "X positive shape: (2500, 1024)\n",
      "y positive shape: (2500,)\n"
     ]
    }
   ],
   "source": [
    "idxs = np.random.randint(X_origin.shape[0], size=pos_size)\n",
    "X_positive = X_origin[idxs]\n",
    "y_positive = np.ones(pos_size)\n",
    "print(\"X positive shape:\", X_positive.shape)\n",
    "print(\"y positive shape:\", y_positive.shape)"
   ]
  },
  {
   "cell_type": "code",
   "execution_count": 74,
   "metadata": {},
   "outputs": [
    {
     "name": "stdout",
     "output_type": "stream",
     "text": [
      "X negative shape: (2500, 1024)\n",
      "y negative shape: (2500,)\n"
     ]
    }
   ],
   "source": [
    "X_negative = np.array([generate_multi_signal(tau, alpha) for i in range(neg_size)])\n",
    "y_negative = np.zeros(neg_size)\n",
    "print(\"X negative shape:\", X_negative.shape)\n",
    "print(\"y negative shape:\", y_negative.shape)"
   ]
  },
  {
   "cell_type": "code",
   "execution_count": 75,
   "metadata": {},
   "outputs": [
    {
     "name": "stdout",
     "output_type": "stream",
     "text": [
      "X shape: (5000, 1024)\n",
      "y shape: (5000,)\n"
     ]
    }
   ],
   "source": [
    "from sklearn.utils import shuffle\n",
    "\n",
    "X = np.concatenate([X_positive, X_negative])\n",
    "y = np.concatenate([y_positive, y_negative])\n",
    "\n",
    "X, y = shuffle(X, y)\n",
    "\n",
    "print(\"X shape:\", X.shape)\n",
    "print(\"y shape:\", y.shape)"
   ]
  },
  {
   "cell_type": "markdown",
   "metadata": {},
   "source": [
    "### Splitting our data for train and test"
   ]
  },
  {
   "cell_type": "code",
   "execution_count": 76,
   "metadata": {},
   "outputs": [
    {
     "name": "stdout",
     "output_type": "stream",
     "text": [
      "X_train.shape: (3500, 1024)\n",
      "y_train.shape (3500,)\n",
      "X_test shape: (1500, 1024)\n",
      "y_test shape: (1500,)\n"
     ]
    }
   ],
   "source": [
    "from sklearn.model_selection import train_test_split\n",
    "\n",
    "X_train, X_test, y_train, y_test = train_test_split(X, y, stratify=y, test_size=0.3)\n",
    "\n",
    "print(\"X_train.shape:\", X_train.shape)\n",
    "print(\"y_train.shape\", y_train.shape)\n",
    "print(\"X_test shape:\", X_test.shape)\n",
    "print(\"y_test shape:\", y_test.shape)"
   ]
  },
  {
   "cell_type": "markdown",
   "metadata": {},
   "source": [
    "### Ensemble"
   ]
  },
  {
   "cell_type": "code",
   "execution_count": 77,
   "metadata": {},
   "outputs": [],
   "source": [
    "from scipy.stats import rankdata\n",
    "from itertools import cycle\n",
    "from sklearn.base import BaseEstimator, ClassifierMixin\n",
    "\n",
    "class ShuffleVoter(BaseEstimator, ClassifierMixin):  \n",
    "    \"\"\"\n",
    "       scikit-learn based voting aggregation ensembling.\n",
    "       Using bootstrapping creates a set of models, differing only by which data sample they are fed\n",
    "       \"\"\"\n",
    "\n",
    "    def __init__(self, models):\n",
    "        \"\"\"\n",
    "        model - base model ( or a pipeline ) ( unfitted )\n",
    "        \"\"\"\n",
    "        self.models = models\n",
    "        \n",
    "    def ensemble_predictions(self, predictions, weights, type_=\"harmonic\"):\n",
    "        \"\"\"\n",
    "        Combines probabilistic class estimates using a variety of strategies.\n",
    "        Linear, harmonic, geometric and rank averaging are supported at this moment. \n",
    "        Insipred by well known Abhishek's kernel on Kaggle \n",
    "        model - base model ( or a pipeline ) ( unfitted )\n",
    "        \"\"\"\n",
    "        assert np.isclose(np.sum(weights), 1.0)\n",
    "        if type_ == \"linear\":\n",
    "            res = np.average(predictions, weights=weights, axis=0)\n",
    "        elif type_ == \"harmonic\":\n",
    "            res = np.average([1 / p for p in predictions], weights=weights, axis=0)\n",
    "            return 1 / res\n",
    "        elif type_ == \"geometric\":\n",
    "            numerator = np.average(\n",
    "                [np.log(p) for p in predictions], weights=weights, axis=0\n",
    "            )\n",
    "            res = np.exp(numerator / sum(weights))\n",
    "            return res\n",
    "        elif type_ == \"rank\":\n",
    "            res = np.average([rankdata(p) for p in predictions], weights=weights, axis=0)\n",
    "            return res / (len(res) + 1)\n",
    "        return res\n",
    "\n",
    "\n",
    "    def fit( self, X, y, n_boots = 14, test_size = 100 ):\n",
    "        \"\"\"\n",
    "        n_boots - number of bootstrapping iterations ( and respective models built)\n",
    "        \"\"\"\n",
    "        self.clfs  = []\n",
    "        for i, model in zip(range(n_boots), cycle(self.models)):\n",
    "            X_tr, X_te, y_tr, y_te = train_test_split( X, y, test_size=test_size, random_state=3521 + i*11)\n",
    "\n",
    "            pa_clf = model\n",
    "            pa_clf.fit(X_tr, y_tr)\n",
    "\n",
    "            self.clfs.append(pa_clf)\n",
    "\n",
    "    def predict( self, X, ensemble_type = 'rank'):\n",
    "        # TODO: nonuniform weights\n",
    "        \n",
    "        n_boots = len( self.clfs)\n",
    "        preds = [ clf.predict(X) for clf in self.clfs ]\n",
    "#         return self.ensemble_predictions( preds, np.ones(n_boots)*(1/float(n_boots)), ensemble_type)\n",
    "        return np.round(self.ensemble_predictions( preds, np.ones(n_boots)*(1/float(n_boots)), ensemble_type))\n",
    "\n",
    "    \n",
    "    def predict_proba( self, X, ensemble_type = 'rank' ):\n",
    "        n_boots = len( self.clfs)\n",
    "        preds = [ clf.predict_proba(X) for clf in self.clfs ]\n",
    "        return self.ensemble_predictions( preds, np.ones(n_boots)*(1/float(n_boots)), ensemble_type)\n"
   ]
  },
  {
   "cell_type": "markdown",
   "metadata": {},
   "source": [
    "### Defining pipelines"
   ]
  },
  {
   "cell_type": "code",
   "execution_count": 78,
   "metadata": {},
   "outputs": [],
   "source": [
    "import warnings\n",
    "from sklearn.preprocessing import PolynomialFeatures\n",
    "from sklearn.base import TransformerMixin\n",
    "from sklearn.pipeline import Pipeline\n",
    "from sklearn.metrics import f1_score\n",
    "from sklearn.model_selection import cross_val_score\n",
    "from sklearn.multiclass import OneVsRestClassifier\n",
    "from sklearn.svm import LinearSVC\n",
    "from sklearn.linear_model import LogisticRegression\n",
    "from sklearn.neural_network import MLPClassifier\n",
    "from sklearn.neighbors import KNeighborsClassifier\n",
    "from sklearn.tree import DecisionTreeClassifier\n",
    "from sklearn.ensemble import RandomForestClassifier\n",
    "from sklearn.naive_bayes import GaussianNB\n",
    "from sklearn.svm import SVC\n",
    "from sklearn.linear_model import PassiveAggressiveClassifier\n",
    "from sklearn.model_selection import train_test_split\n",
    "warnings.filterwarnings('ignore')"
   ]
  },
  {
   "cell_type": "code",
   "execution_count": 79,
   "metadata": {},
   "outputs": [],
   "source": [
    "def get_pipelines(hyperparams = {'svc_c': 10, 'mlp_max_iter': 1000, 'kn_n': 5, 'pa_c': 1}):\n",
    "    SVC_pipeline = Pipeline([\n",
    "                    ('clf', LinearSVC(C=hyperparams['svc_c'])),\n",
    "                ])\n",
    "\n",
    "\n",
    "    MLP_pipeline = Pipeline([\n",
    "                    ('clf', MLPClassifier(max_iter=hyperparams['mlp_max_iter'])),\n",
    "                ])\n",
    "\n",
    "    KN_pipeline = Pipeline([\n",
    "                    ('clf', KNeighborsClassifier(n_neighbors=hyperparams['kn_n'])),\n",
    "                ])\n",
    "    \n",
    "    PA_pipeline = Pipeline([\n",
    "                ('clf', PassiveAggressiveClassifier(C = hyperparams['pa_c'], max_iter=1000, tol=1e-3)),\n",
    "            ])\n",
    "\n",
    "    pipelines = {'svc': SVC_pipeline, 'kn': KN_pipeline, 'pa': PA_pipeline,  'mlp': MLP_pipeline}\n",
    "    \n",
    "    return pipelines"
   ]
  },
  {
   "cell_type": "code",
   "execution_count": 80,
   "metadata": {},
   "outputs": [],
   "source": [
    "pipelines = get_pipelines()"
   ]
  },
  {
   "cell_type": "markdown",
   "metadata": {},
   "source": [
    "### Pipelines scores:"
   ]
  },
  {
   "cell_type": "code",
   "execution_count": 81,
   "metadata": {},
   "outputs": [],
   "source": [
    "from sklearn.model_selection import cross_validate\n",
    "from sklearn.metrics import make_scorer, accuracy_score, precision_score, recall_score, f1_score"
   ]
  },
  {
   "cell_type": "code",
   "execution_count": 83,
   "metadata": {},
   "outputs": [
    {
     "name": "stdout",
     "output_type": "stream",
     "text": [
      "Model name: svc\n",
      "accuracy 0.98760 (+/- 0.01870)\n",
      "precision 0.97961 (+/- 0.03898)\n",
      "recall 0.99640 (+/- 0.00640)\n",
      "f1_score 0.98781 (+/- 0.01805)\n",
      "------------------------------\n",
      "Model name: kn\n",
      "accuracy 1.00000 (+/- 0.00000)\n",
      "precision 1.00000 (+/- 0.00000)\n",
      "recall 1.00000 (+/- 0.00000)\n",
      "f1_score 1.00000 (+/- 0.00000)\n",
      "------------------------------\n",
      "Model name: pa\n",
      "accuracy 0.98560 (+/- 0.00627)\n",
      "precision 0.98651 (+/- 0.01482)\n",
      "recall 0.98480 (+/- 0.02368)\n",
      "f1_score 0.98557 (+/- 0.00648)\n",
      "------------------------------\n",
      "Model name: mlp\n",
      "accuracy 0.99420 (+/- 0.01203)\n",
      "precision 0.99362 (+/- 0.01109)\n",
      "recall 0.99480 (+/- 0.01689)\n",
      "f1_score 0.99419 (+/- 0.01209)\n",
      "------------------------------\n"
     ]
    }
   ],
   "source": [
    "for model_name, model in pipelines.items():\n",
    "    print(\"Model name:\", model_name)\n",
    "    \n",
    "    scoring = {'accuracy' : make_scorer(accuracy_score), \n",
    "           'precision' : make_scorer(precision_score),\n",
    "           'recall' : make_scorer(recall_score), \n",
    "           'f1_score' : make_scorer(f1_score)}\n",
    "    \n",
    "    scores = cross_validate(model, X, y, scoring=scoring, cv=5)\n",
    "    for score in scoring.keys():\n",
    "        print(score, \"%0.5f (+/- %0.5f)\" % (scores[\"test_\" + score].mean(), scores[\"test_\" + score].std() * 2))\n",
    "    print('------------------------------')"
   ]
  },
  {
   "cell_type": "markdown",
   "metadata": {},
   "source": [
    "### Ensemble score"
   ]
  },
  {
   "cell_type": "code",
   "execution_count": 84,
   "metadata": {},
   "outputs": [
    {
     "name": "stdout",
     "output_type": "stream",
     "text": [
      "accuracy 0.996800000 (+/- 0.006374951)\n",
      "precision 0.996806339 (+/- 0.006942063)\n",
      "recall 0.996800000 (+/- 0.008236504)\n",
      "f1_score 0.996798774 (+/- 0.006374403)\n",
      "------------------------------\n"
     ]
    }
   ],
   "source": [
    "my_shuffle_voter = ShuffleVoter(list(pipelines.values()))\n",
    "\n",
    "scoring = {'accuracy' : make_scorer(accuracy_score), \n",
    "       'precision' : make_scorer(precision_score),\n",
    "       'recall' : make_scorer(recall_score), \n",
    "       'f1_score' : make_scorer(f1_score)}\n",
    "\n",
    "scores = cross_validate(my_shuffle_voter, X, y, scoring=scoring, cv=5)\n",
    "for score in scoring.keys():\n",
    "    print(score, \"%0.9f (+/- %0.9f)\" % (scores[\"test_\" + score].mean(), scores[\"test_\" + score].std() * 2))\n",
    "print('------------------------------')"
   ]
  }
 ],
 "metadata": {
  "kernelspec": {
   "display_name": "Python 3",
   "language": "python",
   "name": "python3"
  },
  "language_info": {
   "codemirror_mode": {
    "name": "ipython",
    "version": 3
   },
   "file_extension": ".py",
   "mimetype": "text/x-python",
   "name": "python",
   "nbconvert_exporter": "python",
   "pygments_lexer": "ipython3",
   "version": "3.7.1"
  }
 },
 "nbformat": 4,
 "nbformat_minor": 2
}
