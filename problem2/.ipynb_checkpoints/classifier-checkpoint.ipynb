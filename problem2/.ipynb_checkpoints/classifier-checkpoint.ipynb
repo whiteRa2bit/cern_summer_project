{
 "cells": [
  {
   "cell_type": "code",
   "execution_count": 1,
   "metadata": {},
   "outputs": [],
   "source": [
    "import matplotlib.pyplot as plt\n",
    "import numpy as np\n",
    "from sklearn.model_selection import train_test_split\n",
    "from sklearn.linear_model import LinearRegression\n",
    "from sklearn.metrics import r2_score, mean_absolute_error, mean_squared_error\n",
    "from sklearn.model_selection import cross_validate\n",
    "import tqdm"
   ]
  },
  {
   "cell_type": "code",
   "execution_count": 2,
   "metadata": {},
   "outputs": [],
   "source": [
    "def get_data():\n",
    "    file = open('./data/shashlik_61_pulses.txt', 'r')\n",
    "    data = file.readlines()\n",
    "    data = np.array([list(map(float, experiment.split())) for experiment in data])\n",
    "   \n",
    "    X = data[:, 2:]\n",
    "    y_baseline = data[:, 1]\n",
    "    y = data[:, 0]\n",
    "    \n",
    "    return X, y"
   ]
  },
  {
   "cell_type": "code",
   "execution_count": 5,
   "metadata": {},
   "outputs": [],
   "source": [
    "X_origin, y_origin = get_data()"
   ]
  },
  {
   "cell_type": "code",
   "execution_count": 6,
   "metadata": {},
   "outputs": [],
   "source": [
    "X_origin = np.array([experiment - np.max(experiment) for experiment in X_origin])"
   ]
  },
  {
   "cell_type": "code",
   "execution_count": 22,
   "metadata": {},
   "outputs": [],
   "source": [
    "y_origin = np.round(y_origin)"
   ]
  },
  {
   "cell_type": "code",
   "execution_count": 23,
   "metadata": {},
   "outputs": [],
   "source": [
    "def generate_multi_signal(tau, alpha, to_plot=False):\n",
    "    \n",
    "    ATTEMPTS_NUM = 10000\n",
    "    cur_attempt = 0\n",
    "    \n",
    "    while cur_attempt < ATTEMPTS_NUM:\n",
    "        first_idx = np.random.choice(y_origin.shape[0], 1, replace=False)[0]\n",
    "\n",
    "        first_impulse = X_origin[first_idx]\n",
    "        first_ref_time = y_origin[first_idx]\n",
    "\n",
    "        if first_ref_time > np.mean(y_origin):\n",
    "            second_ref_time = first_ref_time - tau\n",
    "        else:\n",
    "            second_ref_time = first_ref_time + tau\n",
    "\n",
    "        second_idxs = np.where(y_origin == second_ref_time)[0]\n",
    "        \n",
    "        if len(second_idxs) > 1:\n",
    "            second_idx = np.random.choice(len(second_idxs), 1, replace=False)[0]\n",
    "            second_impulse = X_origin[second_idx]\n",
    "\n",
    "            multi_impulse = first_impulse + alpha*second_impulse\n",
    "            \n",
    "#             print(\"INDEXES:\")\n",
    "#             print(first_idx)\n",
    "#             print(second_idx)\n",
    "            if to_plot:\n",
    "                plt.plot(first_impulse)\n",
    "                plt.plot(second_impulse)\n",
    "                plt.plot(multi_impulse)\n",
    "                plt.legend(['First signal', 'Second signal', 'Sum of signals'])\n",
    "                plt.show()\n",
    "    \n",
    "            return multi_impulse\n",
    "        else:\n",
    "            cur_attempt += 1\n",
    "            continue\n",
    "    print(\"Value of tau = %i is too big\" %tau)"
   ]
  },
  {
   "cell_type": "code",
   "execution_count": 26,
   "metadata": {
    "scrolled": true
   },
   "outputs": [
    {
     "data": {
      "image/png": "[encoded data removed]",
      "text/plain": [
       "<Figure size 432x288 with 1 Axes>"
      ]
     },
     "metadata": {
      "needs_background": "light"
     },
     "output_type": "display_data"
    },
    {
     "data": {
      "text/plain": [
       "array([-28.61 , -28.61 , -28.61 , ...,  -1.99 ,  -1.014,  -4.012])"
      ]
     },
     "execution_count": 26,
     "metadata": {},
     "output_type": "execute_result"
    }
   ],
   "source": [
    "generate_multi_signal(55, 0.4, to_plot=True)"
   ]
  },
  {
   "cell_type": "markdown",
   "metadata": {},
   "source": [
    "##### Fixate tau and alpha parameters"
   ]
  },
  {
   "cell_type": "code",
   "execution_count": 40,
   "metadata": {},
   "outputs": [],
   "source": [
    "tau = 30\n",
    "alpha = 0.01"
   ]
  },
  {
   "cell_type": "markdown",
   "metadata": {},
   "source": [
    "### Preparing data"
   ]
  },
  {
   "cell_type": "code",
   "execution_count": 41,
   "metadata": {},
   "outputs": [],
   "source": [
    "##### Hyperaparemeter for dataset size:\n",
    "data_size = 3000\n",
    "pos_size = int(data_size/2)\n",
    "neg_size = data_size - pos_size"
   ]
  },
  {
   "cell_type": "code",
   "execution_count": 42,
   "metadata": {
    "scrolled": true
   },
   "outputs": [
    {
     "name": "stdout",
     "output_type": "stream",
     "text": [
      "X positive shape: (1500, 1024)\n",
      "y positive shape: (1500,)\n"
     ]
    }
   ],
   "source": [
    "idxs = np.random.randint(X_origin.shape[0], size=pos_size)\n",
    "X_positive = X_origin[idxs]\n",
    "y_positive = np.ones(pos_size)\n",
    "print(\"X positive shape:\", X_positive.shape)\n",
    "print(\"y positive shape:\", y_positive.shape)"
   ]
  },
  {
   "cell_type": "code",
   "execution_count": 43,
   "metadata": {},
   "outputs": [
    {
     "name": "stdout",
     "output_type": "stream",
     "text": [
      "X negative shape: (1500, 1024)\n",
      "y negative shape: (1500,)\n"
     ]
    }
   ],
   "source": [
    "X_negative = np.array([generate_multi_signal(tau, alpha) for i in range(neg_size)])\n",
    "y_negative = np.zeros(neg_size)\n",
    "\n",
    "print(\"X negative shape:\", X_negative.shape)\n",
    "print(\"y negative shape:\", y_negative.shape)"
   ]
  },
  {
   "cell_type": "code",
   "execution_count": 44,
   "metadata": {
    "scrolled": true
   },
   "outputs": [
    {
     "name": "stdout",
     "output_type": "stream",
     "text": [
      "X shape: (3000, 1024)\n",
      "y shape: (3000,)\n"
     ]
    }
   ],
   "source": [
    "from sklearn.utils import shuffle\n",
    "\n",
    "X = np.concatenate([X_positive, X_negative])\n",
    "y = np.concatenate([y_positive, y_negative])\n",
    "\n",
    "X, y = shuffle(X, y)\n",
    "\n",
    "print(\"X shape:\", X.shape)\n",
    "print(\"y shape:\", y.shape)"
   ]
  },
  {
   "cell_type": "markdown",
   "metadata": {},
   "source": [
    "### Splitting our data for train and test"
   ]
  },
  {
   "cell_type": "code",
   "execution_count": 45,
   "metadata": {},
   "outputs": [
    {
     "name": "stdout",
     "output_type": "stream",
     "text": [
      "X_train.shape: (2100, 1024)\n",
      "y_train.shape (2100,)\n",
      "X_test shape: (900, 1024)\n",
      "y_test shape: (900,)\n"
     ]
    }
   ],
   "source": [
    "from sklearn.model_selection import train_test_split\n",
    "\n",
    "X_train, X_test, y_train, y_test = train_test_split(X, y, stratify=y, test_size=0.3)\n",
    "\n",
    "print(\"X_train.shape:\", X_train.shape)\n",
    "print(\"y_train.shape\", y_train.shape)\n",
    "print(\"X_test shape:\", X_test.shape)\n",
    "print(\"y_test shape:\", y_test.shape)"
   ]
  },
  {
   "cell_type": "markdown",
   "metadata": {},
   "source": [
    "### Ensemble"
   ]
  },
  {
   "cell_type": "code",
   "execution_count": 46,
   "metadata": {},
   "outputs": [],
   "source": [
    "from scipy.stats import rankdata\n",
    "from itertools import cycle\n",
    "from sklearn.base import BaseEstimator, ClassifierMixin\n",
    "\n",
    "class ShuffleVoter(BaseEstimator, ClassifierMixin):  \n",
    "    \"\"\"\n",
    "       scikit-learn based voting aggregation ensembling.\n",
    "       Using bootstrapping creates a set of models, differing only by which data sample they are fed\n",
    "       \"\"\"\n",
    "\n",
    "    def __init__(self, models):\n",
    "        \"\"\"\n",
    "        model - base model ( or a pipeline ) ( unfitted )\n",
    "        \"\"\"\n",
    "        self.models = models\n",
    "        \n",
    "    def ensemble_predictions(self, predictions, weights, type_=\"harmonic\"):\n",
    "        \"\"\"\n",
    "        Combines probabilistic class estimates using a variety of strategies.\n",
    "        Linear, harmonic, geometric and rank averaging are supported at this moment. \n",
    "        Insipred by well known Abhishek's kernel on Kaggle \n",
    "        model - base model ( or a pipeline ) ( unfitted )\n",
    "        \"\"\"\n",
    "        assert np.isclose(np.sum(weights), 1.0)\n",
    "        if type_ == \"linear\":\n",
    "            res = np.average(predictions, weights=weights, axis=0)\n",
    "        elif type_ == \"harmonic\":\n",
    "            res = np.average([1 / p for p in predictions], weights=weights, axis=0)\n",
    "            return 1 / res\n",
    "        elif type_ == \"geometric\":\n",
    "            numerator = np.average(\n",
    "                [np.log(p) for p in predictions], weights=weights, axis=0\n",
    "            )\n",
    "            res = np.exp(numerator / sum(weights))\n",
    "            return res\n",
    "        elif type_ == \"rank\":\n",
    "            res = np.average([rankdata(p) for p in predictions], weights=weights, axis=0)\n",
    "            return res / (len(res) + 1)\n",
    "        return res\n",
    "\n",
    "\n",
    "    def fit( self, X, y, n_boots = 14, test_size = 100 ):\n",
    "        \"\"\"\n",
    "        n_boots - number of bootstrapping iterations ( and respective models built)\n",
    "        \"\"\"\n",
    "        self.clfs  = []\n",
    "        for i, model in zip(range(n_boots), cycle(self.models)):\n",
    "            X_tr, X_te, y_tr, y_te = train_test_split( X, y, test_size=test_size, random_state=3521 + i*11)\n",
    "\n",
    "            pa_clf = model\n",
    "            pa_clf.fit(X_tr, y_tr)\n",
    "\n",
    "            self.clfs.append(pa_clf)\n",
    "\n",
    "    def predict( self, X, ensemble_type = 'rank'):\n",
    "        # TODO: nonuniform weights\n",
    "        \n",
    "        n_boots = len( self.clfs)\n",
    "        preds = [ clf.predict(X) for clf in self.clfs ]\n",
    "#         return self.ensemble_predictions( preds, np.ones(n_boots)*(1/float(n_boots)), ensemble_type)\n",
    "        return np.round(self.ensemble_predictions( preds, np.ones(n_boots)*(1/float(n_boots)), ensemble_type))\n",
    "\n",
    "    \n",
    "    def predict_proba( self, X, ensemble_type = 'rank' ):\n",
    "        n_boots = len( self.clfs)\n",
    "        preds = [ clf.predict_proba(X) for clf in self.clfs ]\n",
    "        return self.ensemble_predictions( preds, np.ones(n_boots)*(1/float(n_boots)), ensemble_type)\n"
   ]
  },
  {
   "cell_type": "markdown",
   "metadata": {},
   "source": [
    "### Defining pipelines"
   ]
  },
  {
   "cell_type": "code",
   "execution_count": 47,
   "metadata": {},
   "outputs": [],
   "source": [
    "import warnings\n",
    "from sklearn.preprocessing import PolynomialFeatures\n",
    "from sklearn.base import TransformerMixin\n",
    "from sklearn.pipeline import Pipeline\n",
    "from sklearn.metrics import f1_score\n",
    "from sklearn.model_selection import cross_val_score\n",
    "from sklearn.multiclass import OneVsRestClassifier\n",
    "from sklearn.svm import LinearSVC\n",
    "from sklearn.linear_model import LogisticRegression\n",
    "from sklearn.neural_network import MLPClassifier\n",
    "from sklearn.neighbors import KNeighborsClassifier\n",
    "from sklearn.tree import DecisionTreeClassifier\n",
    "from sklearn.ensemble import RandomForestClassifier\n",
    "from sklearn.naive_bayes import GaussianNB\n",
    "from sklearn.svm import SVC\n",
    "from sklearn.linear_model import PassiveAggressiveClassifier\n",
    "from sklearn.model_selection import train_test_split\n",
    "warnings.filterwarnings('ignore')"
   ]
  },
  {
   "cell_type": "code",
   "execution_count": 52,
   "metadata": {},
   "outputs": [],
   "source": [
    "def get_pipelines(hyperparams = {'svc_c': 0.1, 'mlp_max_iter': 1000, 'kn_n': 5, 'pa_c': 0.1}):\n",
    "    SVC_pipeline = Pipeline([\n",
    "                    ('clf', LinearSVC(C=hyperparams['svc_c'])),\n",
    "                ])\n",
    "\n",
    "\n",
    "    MLP_pipeline = Pipeline([\n",
    "                    ('clf', MLPClassifier(max_iter=hyperparams['mlp_max_iter'])),\n",
    "                ])\n",
    "\n",
    "    KN_pipeline = Pipeline([\n",
    "                    ('clf', KNeighborsClassifier(n_neighbors=hyperparams['kn_n'])),\n",
    "                ])\n",
    "    \n",
    "    PA_pipeline = Pipeline([\n",
    "                ('clf', PassiveAggressiveClassifier(C = hyperparams['pa_c'], max_iter=1000, tol=1e-3)),\n",
    "            ])\n",
    "\n",
    "    pipelines = {'svc': SVC_pipeline, 'kn': KN_pipeline, 'pa': PA_pipeline,  'mlp': MLP_pipeline}\n",
    "    \n",
    "    return pipelines"
   ]
  },
  {
   "cell_type": "code",
   "execution_count": 53,
   "metadata": {},
   "outputs": [],
   "source": [
    "pipelines = get_pipelines()"
   ]
  },
  {
   "cell_type": "markdown",
   "metadata": {},
   "source": [
    "### Pipelines scores:"
   ]
  },
  {
   "cell_type": "code",
   "execution_count": 54,
   "metadata": {},
   "outputs": [],
   "source": [
    "from sklearn.model_selection import cross_validate\n",
    "from sklearn.metrics import make_scorer, accuracy_score, precision_score, recall_score, f1_score"
   ]
  },
  {
   "cell_type": "code",
   "execution_count": 55,
   "metadata": {
    "scrolled": true
   },
   "outputs": [
    {
     "name": "stdout",
     "output_type": "stream",
     "text": [
      "Model name: svc\n",
      "accuracy 0.49900 (+/- 0.01335)\n",
      "precision 0.26614 (+/- 0.54074)\n",
      "recall 0.33067 (+/- 0.87512)\n",
      "f1_score 0.24317 (+/- 0.59266)\n",
      "------------------------------\n",
      "Model name: kn\n",
      "accuracy 0.55033 (+/- 0.05869)\n",
      "precision 0.55079 (+/- 0.05860)\n",
      "recall 0.54667 (+/- 0.07005)\n",
      "f1_score 0.54851 (+/- 0.06129)\n",
      "------------------------------\n",
      "Model name: pa\n",
      "accuracy 0.50000 (+/- 0.00298)\n",
      "precision 0.39779 (+/- 0.39804)\n",
      "recall 0.70600 (+/- 0.89595)\n",
      "f1_score 0.47836 (+/- 0.57844)\n",
      "------------------------------\n",
      "Model name: mlp\n",
      "accuracy 0.50000 (+/- 0.00843)\n",
      "precision 0.30756 (+/- 0.50759)\n",
      "recall 0.32333 (+/- 0.82918)\n",
      "f1_score 0.25237 (+/- 0.56646)\n",
      "------------------------------\n"
     ]
    }
   ],
   "source": [
    "for model_name, model in pipelines.items():\n",
    "    print(\"Model name:\", model_name)\n",
    "    \n",
    "    scoring = {'accuracy' : make_scorer(accuracy_score), \n",
    "           'precision' : make_scorer(precision_score),\n",
    "           'recall' : make_scorer(recall_score), \n",
    "           'f1_score' : make_scorer(f1_score)}\n",
    "    \n",
    "    scores = cross_validate(model, X, y, scoring=scoring, cv=10)\n",
    "    for score in scoring.keys():\n",
    "        print(score, \"%0.5f (+/- %0.5f)\" % (scores[\"test_\" + score].mean(), scores[\"test_\" + score].std() * 2))\n",
    "    print('------------------------------')"
   ]
  },
  {
   "cell_type": "markdown",
   "metadata": {},
   "source": [
    "### Ensemble score"
   ]
  },
  {
   "cell_type": "code",
   "execution_count": 56,
   "metadata": {},
   "outputs": [
    {
     "name": "stdout",
     "output_type": "stream",
     "text": [
      "accuracy 0.545666667 (+/- 0.046552241)\n",
      "precision 0.549250117 (+/- 0.047841128)\n",
      "recall 0.516000000 (+/- 0.139930141)\n",
      "f1_score 0.529457869 (+/- 0.084061057)\n"
     ]
    }
   ],
   "source": [
    "my_shuffle_voter = ShuffleVoter(list(pipelines.values()))\n",
    "\n",
    "scoring = {'accuracy' : make_scorer(accuracy_score), \n",
    "       'precision' : make_scorer(precision_score),\n",
    "       'recall' : make_scorer(recall_score), \n",
    "       'f1_score' : make_scorer(f1_score)}\n",
    "\n",
    "scores = cross_validate(my_shuffle_voter, X, y, scoring=scoring, cv=5)\n",
    "for score in scoring.keys():\n",
    "    print(score, \"%0.9f (+/- %0.9f)\" % (scores[\"test_\" + score].mean(), scores[\"test_\" + score].std() * 2))"
   ]
  },
  {
   "cell_type": "code",
   "execution_count": null,
   "metadata": {},
   "outputs": [],
   "source": [
    "### Let's plot accuracy dependenc"
   ]
  },
  {
   "cell_type": "code",
   "execution_count": 57,
   "metadata": {},
   "outputs": [
    {
     "ename": "ValueError",
     "evalue": "Unknown projection '3d'",
     "output_type": "error",
     "traceback": [
      "\u001b[0;31m---------------------------------------------------------------------------\u001b[0m",
      "\u001b[0;31mKeyError\u001b[0m                                  Traceback (most recent call last)",
      "\u001b[0;32m~/anaconda3/lib/python3.7/site-packages/matplotlib/projections/__init__.py\u001b[0m in \u001b[0;36mget_projection_class\u001b[0;34m(projection)\u001b[0m\n\u001b[1;32m     57\u001b[0m     \u001b[0;32mtry\u001b[0m\u001b[0;34m:\u001b[0m\u001b[0;34m\u001b[0m\u001b[0;34m\u001b[0m\u001b[0m\n\u001b[0;32m---> 58\u001b[0;31m         \u001b[0;32mreturn\u001b[0m \u001b[0mprojection_registry\u001b[0m\u001b[0;34m.\u001b[0m\u001b[0mget_projection_class\u001b[0m\u001b[0;34m(\u001b[0m\u001b[0mprojection\u001b[0m\u001b[0;34m)\u001b[0m\u001b[0;34m\u001b[0m\u001b[0;34m\u001b[0m\u001b[0m\n\u001b[0m\u001b[1;32m     59\u001b[0m     \u001b[0;32mexcept\u001b[0m \u001b[0mKeyError\u001b[0m\u001b[0;34m:\u001b[0m\u001b[0;34m\u001b[0m\u001b[0;34m\u001b[0m\u001b[0m\n",
      "\u001b[0;32m~/anaconda3/lib/python3.7/site-packages/matplotlib/projections/__init__.py\u001b[0m in \u001b[0;36mget_projection_class\u001b[0;34m(self, name)\u001b[0m\n\u001b[1;32m     24\u001b[0m         \"\"\"\n\u001b[0;32m---> 25\u001b[0;31m         \u001b[0;32mreturn\u001b[0m \u001b[0mself\u001b[0m\u001b[0;34m.\u001b[0m\u001b[0m_all_projection_types\u001b[0m\u001b[0;34m[\u001b[0m\u001b[0mname\u001b[0m\u001b[0;34m]\u001b[0m\u001b[0;34m\u001b[0m\u001b[0;34m\u001b[0m\u001b[0m\n\u001b[0m\u001b[1;32m     26\u001b[0m \u001b[0;34m\u001b[0m\u001b[0m\n",
      "\u001b[0;31mKeyError\u001b[0m: '3d'",
      "\nDuring handling of the above exception, another exception occurred:\n",
      "\u001b[0;31mValueError\u001b[0m                                Traceback (most recent call last)",
      "\u001b[0;32m<ipython-input-57-626f47d37e68>\u001b[0m in \u001b[0;36m<module>\u001b[0;34m\u001b[0m\n\u001b[1;32m      1\u001b[0m \u001b[0;31m### fig = plt.figure()\u001b[0m\u001b[0;34m\u001b[0m\u001b[0;34m\u001b[0m\u001b[0;34m\u001b[0m\u001b[0m\n\u001b[0;32m----> 2\u001b[0;31m \u001b[0max\u001b[0m \u001b[0;34m=\u001b[0m \u001b[0mplt\u001b[0m\u001b[0;34m.\u001b[0m\u001b[0maxes\u001b[0m\u001b[0;34m(\u001b[0m\u001b[0mprojection\u001b[0m\u001b[0;34m=\u001b[0m\u001b[0;34m\"3d\"\u001b[0m\u001b[0;34m)\u001b[0m\u001b[0;34m\u001b[0m\u001b[0;34m\u001b[0m\u001b[0m\n\u001b[0m\u001b[1;32m      3\u001b[0m \u001b[0;34m\u001b[0m\u001b[0m\n\u001b[1;32m      4\u001b[0m \u001b[0mz_line\u001b[0m \u001b[0;34m=\u001b[0m \u001b[0mnp\u001b[0m\u001b[0;34m.\u001b[0m\u001b[0mlinspace\u001b[0m\u001b[0;34m(\u001b[0m\u001b[0;36m0\u001b[0m\u001b[0;34m,\u001b[0m \u001b[0;36m15\u001b[0m\u001b[0;34m,\u001b[0m \u001b[0;36m1000\u001b[0m\u001b[0;34m)\u001b[0m\u001b[0;34m\u001b[0m\u001b[0;34m\u001b[0m\u001b[0m\n\u001b[1;32m      5\u001b[0m \u001b[0mx_line\u001b[0m \u001b[0;34m=\u001b[0m \u001b[0mnp\u001b[0m\u001b[0;34m.\u001b[0m\u001b[0mcos\u001b[0m\u001b[0;34m(\u001b[0m\u001b[0mz_line\u001b[0m\u001b[0;34m)\u001b[0m\u001b[0;34m\u001b[0m\u001b[0;34m\u001b[0m\u001b[0m\n",
      "\u001b[0;32m~/anaconda3/lib/python3.7/site-packages/matplotlib/pyplot.py\u001b[0m in \u001b[0;36maxes\u001b[0;34m(arg, **kwargs)\u001b[0m\n\u001b[1;32m    874\u001b[0m \u001b[0;34m\u001b[0m\u001b[0m\n\u001b[1;32m    875\u001b[0m     \u001b[0;32mif\u001b[0m \u001b[0marg\u001b[0m \u001b[0;32mis\u001b[0m \u001b[0;32mNone\u001b[0m\u001b[0;34m:\u001b[0m\u001b[0;34m\u001b[0m\u001b[0;34m\u001b[0m\u001b[0m\n\u001b[0;32m--> 876\u001b[0;31m         \u001b[0;32mreturn\u001b[0m \u001b[0msubplot\u001b[0m\u001b[0;34m(\u001b[0m\u001b[0;36m111\u001b[0m\u001b[0;34m,\u001b[0m \u001b[0;34m**\u001b[0m\u001b[0mkwargs\u001b[0m\u001b[0;34m)\u001b[0m\u001b[0;34m\u001b[0m\u001b[0;34m\u001b[0m\u001b[0m\n\u001b[0m\u001b[1;32m    877\u001b[0m \u001b[0;34m\u001b[0m\u001b[0m\n\u001b[1;32m    878\u001b[0m     \u001b[0;32mif\u001b[0m \u001b[0misinstance\u001b[0m\u001b[0;34m(\u001b[0m\u001b[0marg\u001b[0m\u001b[0;34m,\u001b[0m \u001b[0mAxes\u001b[0m\u001b[0;34m)\u001b[0m\u001b[0;34m:\u001b[0m\u001b[0;34m\u001b[0m\u001b[0;34m\u001b[0m\u001b[0m\n",
      "\u001b[0;32m~/anaconda3/lib/python3.7/site-packages/matplotlib/pyplot.py\u001b[0m in \u001b[0;36msubplot\u001b[0;34m(*args, **kwargs)\u001b[0m\n\u001b[1;32m   1082\u001b[0m \u001b[0;34m\u001b[0m\u001b[0m\n\u001b[1;32m   1083\u001b[0m     \u001b[0mfig\u001b[0m \u001b[0;34m=\u001b[0m \u001b[0mgcf\u001b[0m\u001b[0;34m(\u001b[0m\u001b[0;34m)\u001b[0m\u001b[0;34m\u001b[0m\u001b[0;34m\u001b[0m\u001b[0m\n\u001b[0;32m-> 1084\u001b[0;31m     \u001b[0ma\u001b[0m \u001b[0;34m=\u001b[0m \u001b[0mfig\u001b[0m\u001b[0;34m.\u001b[0m\u001b[0madd_subplot\u001b[0m\u001b[0;34m(\u001b[0m\u001b[0;34m*\u001b[0m\u001b[0margs\u001b[0m\u001b[0;34m,\u001b[0m \u001b[0;34m**\u001b[0m\u001b[0mkwargs\u001b[0m\u001b[0;34m)\u001b[0m\u001b[0;34m\u001b[0m\u001b[0;34m\u001b[0m\u001b[0m\n\u001b[0m\u001b[1;32m   1085\u001b[0m     \u001b[0mbbox\u001b[0m \u001b[0;34m=\u001b[0m \u001b[0ma\u001b[0m\u001b[0;34m.\u001b[0m\u001b[0mbbox\u001b[0m\u001b[0;34m\u001b[0m\u001b[0;34m\u001b[0m\u001b[0m\n\u001b[1;32m   1086\u001b[0m     \u001b[0mbyebye\u001b[0m \u001b[0;34m=\u001b[0m \u001b[0;34m[\u001b[0m\u001b[0;34m]\u001b[0m\u001b[0;34m\u001b[0m\u001b[0;34m\u001b[0m\u001b[0m\n",
      "\u001b[0;32m~/anaconda3/lib/python3.7/site-packages/matplotlib/figure.py\u001b[0m in \u001b[0;36madd_subplot\u001b[0;34m(self, *args, **kwargs)\u001b[0m\n\u001b[1;32m   1347\u001b[0m         \u001b[0;32melse\u001b[0m\u001b[0;34m:\u001b[0m\u001b[0;34m\u001b[0m\u001b[0;34m\u001b[0m\u001b[0m\n\u001b[1;32m   1348\u001b[0m             projection_class, kwargs, key = process_projection_requirements(\n\u001b[0;32m-> 1349\u001b[0;31m                 self, *args, **kwargs)\n\u001b[0m\u001b[1;32m   1350\u001b[0m \u001b[0;34m\u001b[0m\u001b[0m\n\u001b[1;32m   1351\u001b[0m             \u001b[0;31m# try to find the axes with this key in the stack\u001b[0m\u001b[0;34m\u001b[0m\u001b[0;34m\u001b[0m\u001b[0;34m\u001b[0m\u001b[0m\n",
      "\u001b[0;32m~/anaconda3/lib/python3.7/site-packages/matplotlib/projections/__init__.py\u001b[0m in \u001b[0;36mprocess_projection_requirements\u001b[0;34m(figure, polar, projection, *args, **kwargs)\u001b[0m\n\u001b[1;32m     79\u001b[0m \u001b[0;34m\u001b[0m\u001b[0m\n\u001b[1;32m     80\u001b[0m     \u001b[0;32mif\u001b[0m \u001b[0misinstance\u001b[0m\u001b[0;34m(\u001b[0m\u001b[0mprojection\u001b[0m\u001b[0;34m,\u001b[0m \u001b[0mstr\u001b[0m\u001b[0;34m)\u001b[0m \u001b[0;32mor\u001b[0m \u001b[0mprojection\u001b[0m \u001b[0;32mis\u001b[0m \u001b[0;32mNone\u001b[0m\u001b[0;34m:\u001b[0m\u001b[0;34m\u001b[0m\u001b[0;34m\u001b[0m\u001b[0m\n\u001b[0;32m---> 81\u001b[0;31m         \u001b[0mprojection_class\u001b[0m \u001b[0;34m=\u001b[0m \u001b[0mget_projection_class\u001b[0m\u001b[0;34m(\u001b[0m\u001b[0mprojection\u001b[0m\u001b[0;34m)\u001b[0m\u001b[0;34m\u001b[0m\u001b[0;34m\u001b[0m\u001b[0m\n\u001b[0m\u001b[1;32m     82\u001b[0m     \u001b[0;32melif\u001b[0m \u001b[0mhasattr\u001b[0m\u001b[0;34m(\u001b[0m\u001b[0mprojection\u001b[0m\u001b[0;34m,\u001b[0m \u001b[0;34m'_as_mpl_axes'\u001b[0m\u001b[0;34m)\u001b[0m\u001b[0;34m:\u001b[0m\u001b[0;34m\u001b[0m\u001b[0;34m\u001b[0m\u001b[0m\n\u001b[1;32m     83\u001b[0m         \u001b[0mprojection_class\u001b[0m\u001b[0;34m,\u001b[0m \u001b[0mextra_kwargs\u001b[0m \u001b[0;34m=\u001b[0m \u001b[0mprojection\u001b[0m\u001b[0;34m.\u001b[0m\u001b[0m_as_mpl_axes\u001b[0m\u001b[0;34m(\u001b[0m\u001b[0;34m)\u001b[0m\u001b[0;34m\u001b[0m\u001b[0;34m\u001b[0m\u001b[0m\n",
      "\u001b[0;32m~/anaconda3/lib/python3.7/site-packages/matplotlib/projections/__init__.py\u001b[0m in \u001b[0;36mget_projection_class\u001b[0;34m(projection)\u001b[0m\n\u001b[1;32m     58\u001b[0m         \u001b[0;32mreturn\u001b[0m \u001b[0mprojection_registry\u001b[0m\u001b[0;34m.\u001b[0m\u001b[0mget_projection_class\u001b[0m\u001b[0;34m(\u001b[0m\u001b[0mprojection\u001b[0m\u001b[0;34m)\u001b[0m\u001b[0;34m\u001b[0m\u001b[0;34m\u001b[0m\u001b[0m\n\u001b[1;32m     59\u001b[0m     \u001b[0;32mexcept\u001b[0m \u001b[0mKeyError\u001b[0m\u001b[0;34m:\u001b[0m\u001b[0;34m\u001b[0m\u001b[0;34m\u001b[0m\u001b[0m\n\u001b[0;32m---> 60\u001b[0;31m         \u001b[0;32mraise\u001b[0m \u001b[0mValueError\u001b[0m\u001b[0;34m(\u001b[0m\u001b[0;34m\"Unknown projection %r\"\u001b[0m \u001b[0;34m%\u001b[0m \u001b[0mprojection\u001b[0m\u001b[0;34m)\u001b[0m\u001b[0;34m\u001b[0m\u001b[0;34m\u001b[0m\u001b[0m\n\u001b[0m\u001b[1;32m     61\u001b[0m \u001b[0;34m\u001b[0m\u001b[0m\n\u001b[1;32m     62\u001b[0m \u001b[0;34m\u001b[0m\u001b[0m\n",
      "\u001b[0;31mValueError\u001b[0m: Unknown projection '3d'"
     ]
    },
    {
     "data": {
      "text/plain": [
       "<Figure size 432x288 with 0 Axes>"
      ]
     },
     "metadata": {},
     "output_type": "display_data"
    }
   ],
   "source": [
    "### fig = plt.figure()\n",
    "ax = plt.axes(projection=\"3d\")\n",
    "\n",
    "z_line = np.linspace(0, 15, 1000)\n",
    "x_line = np.cos(z_line)\n",
    "y_line = np.sin(z_line)\n",
    "ax.plot3D(x_line, y_line, z_line, 'gray')\n",
    "\n",
    "z_points = 15 * np.random.random(100)\n",
    "x_points = np.cos(z_points) + 0.1 * np.random.randn(100)\n",
    "y_points = np.sin(z_points) + 0.1 * np.random.randn(100)\n",
    "ax.scatter3D(x_points, y_points, z_points, c=z_points, cmap='hsv');\n",
    "\n",
    "plt.show()"
   ]
  }
 ],
 "metadata": {
  "kernelspec": {
   "display_name": "Python 3",
   "language": "python",
   "name": "python3"
  },
  "language_info": {
   "codemirror_mode": {
    "name": "ipython",
    "version": 3
   },
   "file_extension": ".py",
   "mimetype": "text/x-python",
   "name": "python",
   "nbconvert_exporter": "python",
   "pygments_lexer": "ipython3",
   "version": "3.7.1"
  }
 },
 "nbformat": 4,
 "nbformat_minor": 2
}
