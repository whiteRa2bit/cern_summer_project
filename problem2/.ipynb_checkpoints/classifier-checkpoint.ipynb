{
 "cells": [
  {
   "cell_type": "code",
   "execution_count": 1,
   "metadata": {},
   "outputs": [],
   "source": [
    "import matplotlib.pyplot as plt\n",
    "import numpy as np\n",
    "from sklearn.model_selection import train_test_split\n",
    "from sklearn.linear_model import LinearRegression\n",
    "from sklearn.metrics import r2_score, mean_absolute_error, mean_squared_error\n",
    "from sklearn.model_selection import cross_validate\n",
    "import tqdm"
   ]
  },
  {
   "cell_type": "code",
   "execution_count": 2,
   "metadata": {},
   "outputs": [],
   "source": [
    "def get_data():\n",
    "    file = open('./data/shashlik_61_pulses.txt', 'r')\n",
    "    data = file.readlines()\n",
    "    data = np.array([list(map(float, experiment.split())) for experiment in data])\n",
    "   \n",
    "    X = data[:, 2:]\n",
    "    y_baseline = data[:, 1]\n",
    "    y = data[:, 0]\n",
    "    \n",
    "    return X, y"
   ]
  },
  {
   "cell_type": "code",
   "execution_count": 3,
   "metadata": {},
   "outputs": [],
   "source": [
    "X_origin, y_origin = get_data()\n",
    "\n",
    "X_origin = np.array([experiment - np.max(experiment) for experiment in X_origin])\n",
    "X_origin = np.array([experiment/-np.min(experiment) for experiment in X_origin])\n",
    "\n",
    "y_origin = np.round(y_origin)"
   ]
  },
  {
   "cell_type": "code",
   "execution_count": 4,
   "metadata": {},
   "outputs": [],
   "source": [
    "def generate_multi_signal(tau, alpha, to_plot=False):\n",
    "    \n",
    "    ATTEMPTS_NUM = 10000\n",
    "    cur_attempt = 0\n",
    "    \n",
    "    if alpha > 1:\n",
    "        alpha = 1/alpha       ### This is a hack\n",
    "    \n",
    "    \n",
    "    while cur_attempt < ATTEMPTS_NUM:\n",
    "        first_idx = np.random.choice(y_origin.shape[0], 1, replace=False)[0]\n",
    "\n",
    "        first_impulse = X_origin[first_idx]\n",
    "        first_ref_time = y_origin[first_idx]\n",
    "\n",
    "        if first_ref_time > np.mean(y_origin):\n",
    "            second_ref_time = first_ref_time - tau\n",
    "        else:\n",
    "            second_ref_time = first_ref_time + tau\n",
    "\n",
    "        second_idxs = np.where(y_origin == second_ref_time)[0]\n",
    "        \n",
    "        if len(second_idxs) > 1:\n",
    "            second_idx = np.random.choice(len(second_idxs), 1, replace=False)[0]\n",
    "            second_impulse = X_origin[second_idx]\n",
    "\n",
    "            multi_impulse = first_impulse + alpha*second_impulse\n",
    "            multi_impulse /= -np.min(multi_impulse)\n",
    "            \n",
    "#             print(\"INDEXES:\")\n",
    "#             print(first_idx)\n",
    "#             print(second_idx)\n",
    "            if to_plot:\n",
    "                plt.plot(first_impulse)\n",
    "                plt.plot(second_impulse)\n",
    "                plt.plot(multi_impulse)\n",
    "                plt.legend(['First signal', 'Second signal', 'Sum of signals'])\n",
    "                plt.show()\n",
    "    \n",
    "            return multi_impulse\n",
    "        else:\n",
    "            cur_attempt += 1\n",
    "            continue\n",
    "    print(\"Value of tau = %i is too big\" %tau)"
   ]
  },
  {
   "cell_type": "code",
   "execution_count": 5,
   "metadata": {
    "scrolled": false
   },
   "outputs": [
    {
     "data": {
      "image/png": "[encoded data removed]",
      "text/plain": [
       "<Figure size 432x288 with 1 Axes>"
      ]
     },
     "metadata": {
      "needs_background": "light"
     },
     "output_type": "display_data"
    },
    {
     "data": {
      "text/plain": [
       "array([-1.26085445e-02, -1.26085445e-02, -1.32396027e-02, ...,\n",
       "       -2.54096937e-09, -1.89948531e-03, -6.94163435e-03])"
      ]
     },
     "execution_count": 5,
     "metadata": {},
     "output_type": "execute_result"
    }
   ],
   "source": [
    "generate_multi_signal(0, 1000000, to_plot=True)"
   ]
  },
  {
   "cell_type": "markdown",
   "metadata": {},
   "source": [
    "##### Fixate tau and alpha parameters"
   ]
  },
  {
   "cell_type": "code",
   "execution_count": 6,
   "metadata": {},
   "outputs": [],
   "source": [
    "tau = 0\n",
    "alpha = 1000"
   ]
  },
  {
   "cell_type": "markdown",
   "metadata": {},
   "source": [
    "### Preparing data"
   ]
  },
  {
   "cell_type": "code",
   "execution_count": 23,
   "metadata": {},
   "outputs": [],
   "source": [
    "from sklearn.utils import shuffle\n",
    "\n",
    "def prepare_data(tau, alpha, data_size=3000, to_print=False):\n",
    "    data_size = 5000\n",
    "    pos_size = int(data_size/2)\n",
    "    neg_size = data_size - pos_size\n",
    "    \n",
    "    idxs = np.random.randint(X_origin.shape[0], size=pos_size)\n",
    "    X_positive = X_origin[idxs]\n",
    "    y_positive = np.ones(pos_size)\n",
    "    \n",
    "\n",
    "    X_negative = np.array([generate_multi_signal(tau, alpha) for i in range(neg_size)])\n",
    "    y_negative = np.zeros(neg_size)\n",
    "    \n",
    "\n",
    "    X = np.concatenate([X_positive, X_negative])\n",
    "    y = np.concatenate([y_positive, y_negative])\n",
    "   \n",
    "    if to_print:\n",
    "        print(\"X positive shape:\", X_positive.shape)\n",
    "        print(\"y positive shape:\", y_positive.shape)\n",
    "        print(\"X negative shape:\", X_negative.shape)\n",
    "        print(\"y negative shape:\", y_negative.shape)\n",
    "        print(\"X shape:\", X.shape)\n",
    "        print(\"y shape:\", y.shape)\n",
    "    \n",
    "    \n",
    "    \n",
    "    X, y = shuffle(X, y)\n",
    "\n",
    "    return X, y"
   ]
  },
  {
   "cell_type": "code",
   "execution_count": 8,
   "metadata": {},
   "outputs": [
    {
     "name": "stdout",
     "output_type": "stream",
     "text": [
      "X positive shape: (250, 1024)\n",
      "y positive shape: (250,)\n",
      "X negative shape: (250, 1024)\n",
      "y negative shape: (250,)\n",
      "X shape: (500, 1024)\n",
      "y shape: (500,)\n"
     ]
    }
   ],
   "source": [
    "X, y = prepare_data(tau, alpha, to_print=True)"
   ]
  },
  {
   "cell_type": "markdown",
   "metadata": {},
   "source": [
    "### Splitting our data for train and test"
   ]
  },
  {
   "cell_type": "code",
   "execution_count": 9,
   "metadata": {},
   "outputs": [
    {
     "name": "stdout",
     "output_type": "stream",
     "text": [
      "X_train.shape: (350, 1024)\n",
      "y_train.shape (350,)\n",
      "X_test shape: (150, 1024)\n",
      "y_test shape: (150,)\n"
     ]
    }
   ],
   "source": [
    "from sklearn.model_selection import train_test_split\n",
    "\n",
    "X_train, X_test, y_train, y_test = train_test_split(X, y, stratify=y, test_size=0.3)\n",
    "\n",
    "print(\"X_train.shape:\", X_train.shape)\n",
    "print(\"y_train.shape\", y_train.shape)\n",
    "print(\"X_test shape:\", X_test.shape)\n",
    "print(\"y_test shape:\", y_test.shape)"
   ]
  },
  {
   "cell_type": "markdown",
   "metadata": {},
   "source": [
    "### Ensemble"
   ]
  },
  {
   "cell_type": "code",
   "execution_count": 10,
   "metadata": {},
   "outputs": [],
   "source": [
    "from scipy.stats import rankdata\n",
    "from itertools import cycle\n",
    "from sklearn.base import BaseEstimator, ClassifierMixin\n",
    "\n",
    "class ShuffleVoter(BaseEstimator, ClassifierMixin):  \n",
    "    \"\"\"\n",
    "       scikit-learn based voting aggregation ensembling.\n",
    "       Using bootstrapping creates a set of models, differing only by which data sample they are fed\n",
    "       \"\"\"\n",
    "\n",
    "    def __init__(self, models):\n",
    "        \"\"\"\n",
    "        model - base model ( or a pipeline ) ( unfitted )\n",
    "        \"\"\"\n",
    "        self.models = models\n",
    "        \n",
    "    def ensemble_predictions(self, predictions, weights, type_=\"harmonic\"):\n",
    "        \"\"\"\n",
    "        Combines probabilistic class estimates using a variety of strategies.\n",
    "        Linear, harmonic, geometric and rank averaging are supported at this moment. \n",
    "        Insipred by well known Abhishek's kernel on Kaggle \n",
    "        model - base model ( or a pipeline ) ( unfitted )\n",
    "        \"\"\"\n",
    "        assert np.isclose(np.sum(weights), 1.0)\n",
    "        if type_ == \"linear\":\n",
    "            res = np.average(predictions, weights=weights, axis=0)\n",
    "        elif type_ == \"harmonic\":\n",
    "            res = np.average([1 / p for p in predictions], weights=weights, axis=0)\n",
    "            return 1 / res\n",
    "        elif type_ == \"geometric\":\n",
    "            numerator = np.average(\n",
    "                [np.log(p) for p in predictions], weights=weights, axis=0\n",
    "            )\n",
    "            res = np.exp(numerator / sum(weights))\n",
    "            return res\n",
    "        elif type_ == \"rank\":\n",
    "            res = np.average([rankdata(p) for p in predictions], weights=weights, axis=0)\n",
    "            return res / (len(res) + 1)\n",
    "        return res\n",
    "\n",
    "\n",
    "    def fit( self, X, y, n_boots = 14, test_size = 100 ):\n",
    "        \"\"\"\n",
    "        n_boots - number of bootstrapping iterations ( and respective models built)\n",
    "        \"\"\"\n",
    "        self.clfs  = []\n",
    "        for i, model in zip(range(n_boots), cycle(self.models)):\n",
    "            X_tr, X_te, y_tr, y_te = train_test_split( X, y, test_size=test_size, random_state=3521 + i*11)\n",
    "\n",
    "            pa_clf = model\n",
    "            pa_clf.fit(X_tr, y_tr)\n",
    "\n",
    "            self.clfs.append(pa_clf)\n",
    "\n",
    "    def predict( self, X, ensemble_type = 'rank'):\n",
    "        # TODO: nonuniform weights\n",
    "        \n",
    "        n_boots = len( self.clfs)\n",
    "        preds = [ clf.predict(X) for clf in self.clfs ]\n",
    "#         return self.ensemble_predictions( preds, np.ones(n_boots)*(1/float(n_boots)), ensemble_type)\n",
    "        return np.round(self.ensemble_predictions( preds, np.ones(n_boots)*(1/float(n_boots)), ensemble_type))\n",
    "\n",
    "    \n",
    "    def predict_proba( self, X, ensemble_type = 'rank' ):\n",
    "        n_boots = len( self.clfs)\n",
    "        preds = [ clf.predict_proba(X) for clf in self.clfs ]\n",
    "        return self.ensemble_predictions( preds, np.ones(n_boots)*(1/float(n_boots)), ensemble_type)\n"
   ]
  },
  {
   "cell_type": "markdown",
   "metadata": {},
   "source": [
    "### Defining pipelines"
   ]
  },
  {
   "cell_type": "code",
   "execution_count": 11,
   "metadata": {},
   "outputs": [],
   "source": [
    "import warnings\n",
    "from sklearn.preprocessing import PolynomialFeatures\n",
    "from sklearn.base import TransformerMixin\n",
    "from sklearn.pipeline import Pipeline\n",
    "from sklearn.metrics import f1_score\n",
    "from sklearn.model_selection import cross_val_score\n",
    "from sklearn.multiclass import OneVsRestClassifier\n",
    "from sklearn.svm import LinearSVC\n",
    "from sklearn.linear_model import LogisticRegression\n",
    "from sklearn.neural_network import MLPClassifier\n",
    "from sklearn.neighbors import KNeighborsClassifier\n",
    "from sklearn.tree import DecisionTreeClassifier\n",
    "from sklearn.ensemble import RandomForestClassifier\n",
    "from sklearn.naive_bayes import GaussianNB\n",
    "from sklearn.svm import SVC\n",
    "from sklearn.linear_model import PassiveAggressiveClassifier\n",
    "from sklearn.model_selection import train_test_split\n",
    "warnings.filterwarnings('ignore')"
   ]
  },
  {
   "cell_type": "code",
   "execution_count": 12,
   "metadata": {},
   "outputs": [],
   "source": [
    "def get_pipelines(hyperparams = {'svc_c': 0.1, 'mlp_max_iter': 1000, 'kn_n': 5, 'pa_c': 0.0001}):\n",
    "    SVC_pipeline = Pipeline([\n",
    "                    ('clf', LinearSVC(C=hyperparams['svc_c'])),\n",
    "                ])\n",
    "\n",
    "\n",
    "    MLP_pipeline = Pipeline([\n",
    "                    ('clf', MLPClassifier(max_iter=hyperparams['mlp_max_iter'])),\n",
    "                ])\n",
    "\n",
    "    KN_pipeline = Pipeline([\n",
    "                    ('clf', KNeighborsClassifier(n_neighbors=hyperparams['kn_n'])),\n",
    "                ])\n",
    "    \n",
    "    PA_pipeline = Pipeline([\n",
    "                ('clf', PassiveAggressiveClassifier(C = hyperparams['pa_c'], max_iter=5000, tol=1e-3)),\n",
    "            ])\n",
    "\n",
    "    pipelines = {'svc': SVC_pipeline, 'kn': KN_pipeline, 'pa': PA_pipeline,  'mlp': MLP_pipeline}\n",
    "    \n",
    "    return pipelines"
   ]
  },
  {
   "cell_type": "code",
   "execution_count": 13,
   "metadata": {},
   "outputs": [],
   "source": [
    "pipelines = get_pipelines()"
   ]
  },
  {
   "cell_type": "markdown",
   "metadata": {},
   "source": [
    "### Pipelines scores:"
   ]
  },
  {
   "cell_type": "code",
   "execution_count": 14,
   "metadata": {},
   "outputs": [],
   "source": [
    "from sklearn.model_selection import cross_validate\n",
    "from sklearn.metrics import make_scorer, accuracy_score, precision_score, recall_score, f1_score"
   ]
  },
  {
   "cell_type": "code",
   "execution_count": 275,
   "metadata": {},
   "outputs": [],
   "source": [
    "del pipelines['mlp']"
   ]
  },
  {
   "cell_type": "code",
   "execution_count": 276,
   "metadata": {
    "scrolled": true
   },
   "outputs": [
    {
     "name": "stdout",
     "output_type": "stream",
     "text": [
      "Model name: svc\n",
      "accuracy 0.51280 (+/- 0.02448)\n",
      "precision 0.51185 (+/- 0.02259)\n",
      "recall 0.52440 (+/- 0.09889)\n",
      "f1_score 0.51731 (+/- 0.05790)\n",
      "------------------------------\n",
      "Model name: kn\n",
      "accuracy 0.49980 (+/- 0.02114)\n",
      "precision 0.49976 (+/- 0.02172)\n",
      "recall 0.48620 (+/- 0.03252)\n",
      "f1_score 0.49282 (+/- 0.02545)\n",
      "------------------------------\n",
      "Model name: pa\n",
      "accuracy 0.50690 (+/- 0.02382)\n",
      "precision 0.50667 (+/- 0.02206)\n",
      "recall 0.51040 (+/- 0.13510)\n",
      "f1_score 0.50644 (+/- 0.07193)\n",
      "------------------------------\n"
     ]
    }
   ],
   "source": [
    "pipelines\n",
    "\n",
    "for model_name, model in pipelines.items():\n",
    "    print(\"Model name:\", model_name)\n",
    "    \n",
    "    scoring = {'accuracy' : make_scorer(accuracy_score), \n",
    "           'precision' : make_scorer(precision_score),\n",
    "           'recall' : make_scorer(recall_score), \n",
    "           'f1_score' : make_scorer(f1_score)}\n",
    "    \n",
    "    scores = cross_validate(model, X, y, scoring=scoring, cv=10)\n",
    "    for score in scoring.keys():\n",
    "        print(score, \"%0.5f (+/- %0.5f)\" % (scores[\"test_\" + score].mean(), scores[\"test_\" + score].std() * 2))\n",
    "    print('------------------------------')"
   ]
  },
  {
   "cell_type": "markdown",
   "metadata": {},
   "source": [
    "### Ensemble score"
   ]
  },
  {
   "cell_type": "code",
   "execution_count": 21,
   "metadata": {},
   "outputs": [
    {
     "name": "stdout",
     "output_type": "stream",
     "text": [
      "accuracy 0.554000000 (+/- 0.036061676)\n",
      "precision 0.557346939 (+/- 0.035980859)\n",
      "recall 0.525333333 (+/- 0.078610149)\n",
      "f1_score 0.540241006 (+/- 0.050629285)\n"
     ]
    }
   ],
   "source": [
    "scoring = {'accuracy' : make_scorer(accuracy_score), \n",
    "       'precision' : make_scorer(precision_score),\n",
    "       'recall' : make_scorer(recall_score), \n",
    "       'f1_score' : make_scorer(f1_score)}\n",
    "\n",
    "scores = cross_validate(my_shuffle_voter, X, y, scoring=scoring, cv=5)\n",
    "for score in scoring.keys():\n",
    "    print(score, \"%0.9f (+/- %0.9f)\" % (scores[\"test_\" + score].mean(), scores[\"test_\" + score].std() * 2))"
   ]
  },
  {
   "cell_type": "markdown",
   "metadata": {},
   "source": [
    "### Let's plot accuracy dependency"
   ]
  },
  {
   "cell_type": "code",
   "execution_count": 24,
   "metadata": {},
   "outputs": [],
   "source": [
    "tau_values = range(0, 55, 5)\n",
    "alpha_values = np.around(np.arange(0, 100, 2), decimals=2)"
   ]
  },
  {
   "cell_type": "code",
   "execution_count": 25,
   "metadata": {},
   "outputs": [],
   "source": [
    "scores_dict = {}\n",
    "\n",
    "for tau in tau_values:\n",
    "    scores_dict[tau] = dict(zip(alpha_values, np.zeros(len(alpha_values))))"
   ]
  },
  {
   "cell_type": "code",
   "execution_count": 26,
   "metadata": {},
   "outputs": [
    {
     "name": "stderr",
     "output_type": "stream",
     "text": [
      "100%|██████████| 50/50 [03:56<00:00,  4.74s/it]\n",
      "100%|██████████| 50/50 [04:01<00:00,  4.82s/it]\n",
      "100%|██████████| 50/50 [04:00<00:00,  4.80s/it]\n",
      "100%|██████████| 50/50 [03:59<00:00,  4.80s/it]\n",
      "100%|██████████| 50/50 [04:00<00:00,  4.80s/it]\n",
      "100%|██████████| 50/50 [04:09<00:00,  5.00s/it]\n",
      "100%|██████████| 50/50 [03:55<00:00,  4.71s/it]\n",
      "100%|██████████| 50/50 [04:31<00:00,  5.42s/it]\n",
      "100%|██████████| 50/50 [05:31<00:00,  6.62s/it]\n",
      "100%|██████████| 50/50 [05:27<00:00,  6.55s/it]\n",
      "100%|██████████| 50/50 [10:02<00:00, 12.04s/it]\n"
     ]
    }
   ],
   "source": [
    "for tau in tau_values:\n",
    "    for alpha in tqdm.tqdm(alpha_values):\n",
    "#         print(\"Tau:\", tau)\n",
    "#         print(\"Alpha:\", alpha)\n",
    "#         print(\"Processing...\")\n",
    "        \n",
    "        X, y = prepare_data(tau, alpha)\n",
    "        pipelines = get_pipelines()\n",
    "\n",
    "        scoring = {'accuracy' : make_scorer(accuracy_score)}\n",
    "        scores = cross_validate(pipelines['kn'], X, y, scoring=scoring, cv=5)\n",
    "        \n",
    "        scores_dict[tau][alpha] = scores[\"test_accuracy\"].mean()\n",
    "#         print('______________________________________')\n",
    "#         print()"
   ]
  },
  {
   "cell_type": "code",
   "execution_count": 27,
   "metadata": {},
   "outputs": [],
   "source": [
    "import pickle\n",
    "\n",
    "def save_obj(obj, name ):\n",
    "    with open('./data/'+ name + '.pkl', 'wb') as f:\n",
    "        pickle.dump(obj, f, pickle.HIGHEST_PROTOCOL)\n",
    "        \n",
    "def load_obj(name ):\n",
    "    with open('./data/' + name + '.pkl', 'rb') as f:\n",
    "        return pickle.load(f)\n",
    "    \n",
    "save_obj(scores_dict, 'accuracy_scores')"
   ]
  },
  {
   "cell_type": "code",
   "execution_count": 28,
   "metadata": {},
   "outputs": [],
   "source": [
    "x, y, z = [], [], []\n",
    "for tau, alpha_dict in scores_dict.items():\n",
    "    for alpha, accuracy in alpha_dict.items():\n",
    "        x.append(tau)\n",
    "        y.append(alpha)\n",
    "        z.append(accuracy)"
   ]
  },
  {
   "cell_type": "code",
   "execution_count": 33,
   "metadata": {},
   "outputs": [
    {
     "data": {
      "image/png": "[encoded data removed]",
      "text/plain": [
       "<Figure size 432x288 with 1 Axes>"
      ]
     },
     "metadata": {
      "needs_background": "light"
     },
     "output_type": "display_data"
    }
   ],
   "source": [
    "from mpl_toolkits.mplot3d import Axes3D\n",
    "import matplotlib\n",
    "matplotlib.use('Qt4Agg')\n",
    "\n",
    "\n",
    "fig1 = matplotlib.pyplot.figure()\n",
    "ax1 = Axes3D(fig1)\n",
    "\n",
    "ax1.set_xlabel(r\"${\\tau}$\", fontsize=15)\n",
    "ax1.set_ylabel(r\"${\\alpha}$\", fontsize=15)\n",
    "ax1.set_zlabel('Accuracy', fontsize=15)\n",
    "\n",
    "ax1.view_init(30, 220)\n",
    "ax1.plot(10*x, 10*y, 10*z, 'ro', color='b', linewidth=3)\n",
    "\n",
    "# for angle in range(0, 150):\n",
    "#     ax1.view_init(30, angle)\n",
    "#     plt.draw()\n",
    "#     plt.pause(.001)\n",
    "plt.show()"
   ]
  },
  {
   "cell_type": "markdown",
   "metadata": {},
   "source": [
    "### Smaller alpha values"
   ]
  },
  {
   "cell_type": "code",
   "execution_count": 34,
   "metadata": {},
   "outputs": [],
   "source": [
    "tau_values = range(0, 55, 5)\n",
    "alpha_values = np.around(np.arange(0, 1, 0.05), decimals=2)"
   ]
  },
  {
   "cell_type": "code",
   "execution_count": 35,
   "metadata": {},
   "outputs": [],
   "source": [
    "scores_dict = {}\n",
    "\n",
    "for tau in tau_values:\n",
    "    scores_dict[tau] = dict(zip(alpha_values, np.zeros(len(alpha_values))))"
   ]
  },
  {
   "cell_type": "code",
   "execution_count": 36,
   "metadata": {},
   "outputs": [
    {
     "name": "stderr",
     "output_type": "stream",
     "text": [
      "100%|██████████| 20/20 [01:39<00:00,  4.96s/it]\n",
      "100%|██████████| 20/20 [01:33<00:00,  4.70s/it]\n",
      "100%|██████████| 20/20 [01:35<00:00,  4.77s/it]\n",
      "100%|██████████| 20/20 [01:37<00:00,  4.89s/it]\n",
      "100%|██████████| 20/20 [01:42<00:00,  5.13s/it]\n",
      "100%|██████████| 20/20 [01:44<00:00,  5.24s/it]\n",
      "100%|██████████| 20/20 [01:47<00:00,  5.36s/it]\n",
      "100%|██████████| 20/20 [01:37<00:00,  4.86s/it]\n",
      "100%|██████████| 20/20 [01:54<00:00,  5.72s/it]\n",
      "100%|██████████| 20/20 [02:09<00:00,  6.47s/it]\n",
      "100%|██████████| 20/20 [03:57<00:00, 11.87s/it]\n"
     ]
    }
   ],
   "source": [
    "for tau in tau_values:\n",
    "    for alpha in tqdm.tqdm(alpha_values):\n",
    "#         print(\"Tau:\", tau)\n",
    "#         print(\"Alpha:\", alpha)\n",
    "#         print(\"Processing...\")\n",
    "        \n",
    "        X, y = prepare_data(tau, alpha)\n",
    "        pipelines = get_pipelines()\n",
    "\n",
    "        scoring = {'accuracy' : make_scorer(accuracy_score)}\n",
    "        scores = cross_validate(pipelines['kn'], X, y, scoring=scoring, cv=5)\n",
    "        \n",
    "        scores_dict[tau][alpha] = scores[\"test_accuracy\"].mean()\n",
    "#         print('______________________________________')\n",
    "#         print()"
   ]
  },
  {
   "cell_type": "code",
   "execution_count": 37,
   "metadata": {},
   "outputs": [],
   "source": [
    "save_obj(scores_dict, 'accuracy_scores_detailed')"
   ]
  },
  {
   "cell_type": "code",
   "execution_count": 38,
   "metadata": {},
   "outputs": [],
   "source": [
    "x, y, z = [], [], []\n",
    "for tau, alpha_dict in scores_dict.items():\n",
    "    for alpha, accuracy in alpha_dict.items():\n",
    "        x.append(tau)\n",
    "        y.append(alpha)\n",
    "        z.append(accuracy)"
   ]
  },
  {
   "cell_type": "code",
   "execution_count": 41,
   "metadata": {},
   "outputs": [
    {
     "data": {
      "image/png": "[encoded data removed]",
      "text/plain": [
       "<Figure size 432x288 with 1 Axes>"
      ]
     },
     "metadata": {
      "needs_background": "light"
     },
     "output_type": "display_data"
    }
   ],
   "source": [
    "from mpl_toolkits.mplot3d import Axes3D\n",
    "import matplotlib\n",
    "matplotlib.use('Qt4Agg')\n",
    "\n",
    "\n",
    "fig1 = matplotlib.pyplot.figure()\n",
    "ax1 = Axes3D(fig1)\n",
    "\n",
    "# ax1.set_xlabel(r\"$\\dot{\\tau}$\")\n",
    "ax1.set_xlabel(r\"${\\tau}$\", fontsize=15)\n",
    "ax1.set_ylabel(r\"${\\alpha}$\", fontsize=15)\n",
    "ax1.set_zlabel('Accuracy', fontsize=15)\n",
    "\n",
    "ax1.view_init(40, 220)\n",
    "ax1.plot(10*x, 10*y, 10*z, 'ro', color='b', linewidth=3)\n",
    "\n",
    "for angle in range(0, 220):\n",
    "    ax1.view_init(30, angle)\n",
    "    plt.draw()\n",
    "    plt.pause(.001)\n",
    "\n",
    "plt.show()"
   ]
  }
 ],
 "metadata": {
  "kernelspec": {
   "display_name": "Python 3",
   "language": "python",
   "name": "python3"
  },
  "language_info": {
   "codemirror_mode": {
    "name": "ipython",
    "version": 3
   },
   "file_extension": ".py",
   "mimetype": "text/x-python",
   "name": "python",
   "nbconvert_exporter": "python",
   "pygments_lexer": "ipython3",
   "version": "3.7.1"
  }
 },
 "nbformat": 4,
 "nbformat_minor": 2
}
