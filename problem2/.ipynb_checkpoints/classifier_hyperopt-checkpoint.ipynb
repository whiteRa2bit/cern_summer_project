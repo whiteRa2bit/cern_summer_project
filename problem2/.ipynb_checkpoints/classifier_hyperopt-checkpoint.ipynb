{
 "cells": [
  {
   "cell_type": "code",
   "execution_count": 1,
   "metadata": {},
   "outputs": [],
   "source": [
    "import matplotlib.pyplot as plt\n",
    "import numpy as np\n",
    "from sklearn.model_selection import train_test_split\n",
    "from sklearn.metrics import accuracy_score\n",
    "from sklearn.model_selection import cross_validate\n",
    "import tqdm\n",
    "import random"
   ]
  },
  {
   "cell_type": "markdown",
   "metadata": {},
   "source": [
    "### Preprocessing data"
   ]
  },
  {
   "cell_type": "code",
   "execution_count": 2,
   "metadata": {},
   "outputs": [],
   "source": [
    "from common import get_data, get_freq_data, signal_cyclic_shift, generate_multi_signal"
   ]
  },
  {
   "cell_type": "code",
   "execution_count": 3,
   "metadata": {},
   "outputs": [],
   "source": [
    "X_origin, y_origin = get_data()"
   ]
  },
  {
   "cell_type": "code",
   "execution_count": 4,
   "metadata": {},
   "outputs": [],
   "source": [
    "X_one_signal, y_one_signal = get_data(is_one_signal=True)"
   ]
  },
  {
   "cell_type": "code",
   "execution_count": 5,
   "metadata": {},
   "outputs": [],
   "source": [
    "from sklearn.utils import shuffle\n",
    "\n",
    "def prepare_data(X_origin, y_origin, tau_range, alpha_range, data_size=1000, to_print=False):\n",
    "    pos_size = int(data_size/2)\n",
    "    neg_size = data_size - pos_size\n",
    "    \n",
    "    X = []\n",
    "    y = []\n",
    "    for i in range(data_size):\n",
    "        alpha = random.choice(alpha_range)\n",
    "        tau = random.choice(tau_range)\n",
    "        \n",
    "        if i < pos_size:\n",
    "            X.append(random.choice(X_one_signal))\n",
    "            y.append(1)\n",
    "        else:\n",
    "            X.append(generate_multi_signal(X_origin, y_origin, tau, alpha)['multi_impulse'])\n",
    "            y.append(0)\n",
    "   \n",
    "    X = np.array(X)\n",
    "    y = np.array(y)\n",
    "   \n",
    "    if to_print:\n",
    "#         print(\"X positive shape:\", X_positive.shape)\n",
    "#         print(\"y positive shape:\", y_positive.shape)\n",
    "#         print(\"X negative shape:\", X_negative.shape)\n",
    "#         print(\"y negative shape:\", y_negative.shape)\n",
    "        print(\"X shape:\", X.shape)\n",
    "        print(\"y shape:\", y.shape)\n",
    "    \n",
    "    X, y = shuffle(X, y)\n",
    "\n",
    "    return X, y"
   ]
  },
  {
   "cell_type": "code",
   "execution_count": 6,
   "metadata": {},
   "outputs": [
    {
     "name": "stdout",
     "output_type": "stream",
     "text": [
      "X shape: (5000, 1024)\n",
      "y shape: (5000,)\n"
     ]
    }
   ],
   "source": [
    "alpha_range = np.array([np.around(10**i, decimals=4) for i in np.arange(-3, 3.1, 0.1)])\n",
    "tau_range = np.arange(-25, 25, 1)\n",
    "X, y = prepare_data(X_origin, y_origin, tau_range, alpha_range, data_size=5000, to_print=True)"
   ]
  },
  {
   "cell_type": "code",
   "execution_count": 7,
   "metadata": {},
   "outputs": [
    {
     "data": {
      "text/plain": [
       "5000"
      ]
     },
     "execution_count": 7,
     "metadata": {},
     "output_type": "execute_result"
    }
   ],
   "source": [
    "len(X)"
   ]
  },
  {
   "cell_type": "code",
   "execution_count": 8,
   "metadata": {
    "scrolled": true
   },
   "outputs": [
    {
     "data": {
      "image/png": "[encoded data removed]",
      "text/plain": [
       "<Figure size 432x288 with 1 Axes>"
      ]
     },
     "metadata": {
      "needs_background": "light"
     },
     "output_type": "display_data"
    }
   ],
   "source": [
    "import random\n",
    "i = random.choice(range(len(X)))\n",
    "plt.title(str(y[i]))\n",
    "plt.plot(X[i])\n",
    "plt.show()"
   ]
  },
  {
   "cell_type": "markdown",
   "metadata": {},
   "source": [
    "### Models"
   ]
  },
  {
   "cell_type": "code",
   "execution_count": 9,
   "metadata": {},
   "outputs": [],
   "source": [
    "from sklearn.neighbors import KNeighborsClassifier\n",
    "from sklearn.tree import DecisionTreeClassifier\n",
    "from sklearn.ensemble import RandomForestClassifier\n",
    "from sklearn.naive_bayes import GaussianNB\n",
    "from sklearn.svm import SVC\n",
    "from sklearn.linear_model import PassiveAggressiveClassifier\n",
    "from sklearn.neural_network import MLPClassifier"
   ]
  },
  {
   "cell_type": "code",
   "execution_count": 10,
   "metadata": {},
   "outputs": [],
   "source": [
    "freq_values = [1, 5, 10, 15, 25, 50, 60, 75, 85, 100]"
   ]
  },
  {
   "cell_type": "code",
   "execution_count": 11,
   "metadata": {},
   "outputs": [],
   "source": [
    "def print_results(iter_num=200):\n",
    "    global X_freq\n",
    "    for freq in freq_values:\n",
    "        X_freq = get_freq_data(X, freq=freq)\n",
    "\n",
    "        best = fmin(\n",
    "            fn=f,  # \"Loss\" function to minimize\n",
    "            space=space,  # Hyperparameter space\n",
    "            algo=tpe.suggest,  # Tree-structured Parzen Estimator (TPE)\n",
    "            max_evals=iter_num  # Perform 100 trials\n",
    "        )\n",
    "\n",
    "        print('-----------------------------------------------------')\n",
    "        print(\"Freq:\", freq)\n",
    "        print(\"X_freq shape:\", X_freq.shape)\n",
    "        print(\"Found minimum after %d trials:\" %(iter_num))\n",
    "        print(best)\n",
    "        print('-----------------------------------------------------')"
   ]
  },
  {
   "cell_type": "markdown",
   "metadata": {},
   "source": [
    "### Hyperopt"
   ]
  },
  {
   "cell_type": "code",
   "execution_count": 12,
   "metadata": {},
   "outputs": [],
   "source": [
    "from hyperopt.pyll import scope as ho_scope\n",
    "from hyperopt import fmin, tpe, hp"
   ]
  },
  {
   "cell_type": "markdown",
   "metadata": {},
   "source": [
    "###### KNeighborsClassifier"
   ]
  },
  {
   "cell_type": "code",
   "execution_count": 13,
   "metadata": {},
   "outputs": [
    {
     "name": "stdout",
     "output_type": "stream",
     "text": [
      "100%|██████████| 50/50 [21:39<00:00, 25.99s/it, best loss: -0.7482]           \n",
      "-----------------------------------------------------\n",
      "Freq: 1\n",
      "X_freq shape: (5000, 1024)\n",
      "Found minimum after 50 trials:\n",
      "{'algorithm': 2, 'leaf_size': 34.0, 'n_neighbors': 8.0, 'p': 0, 'weights': 1}\n",
      "-----------------------------------------------------\n",
      "100%|██████████| 50/50 [03:12<00:00,  3.85s/it, best loss: -0.7263999999999999]\n",
      "-----------------------------------------------------\n",
      "Freq: 5\n",
      "X_freq shape: (5000, 204)\n",
      "Found minimum after 50 trials:\n",
      "{'algorithm': 0, 'leaf_size': 40.0, 'n_neighbors': 8.0, 'p': 0, 'weights': 1}\n",
      "-----------------------------------------------------\n",
      "100%|██████████| 50/50 [01:44<00:00,  2.09s/it, best loss: -0.6526000000000001]\n",
      "-----------------------------------------------------\n",
      "Freq: 10\n",
      "X_freq shape: (5000, 102)\n",
      "Found minimum after 50 trials:\n",
      "{'algorithm': 3, 'leaf_size': 24.0, 'n_neighbors': 7.0, 'p': 0, 'weights': 1}\n",
      "-----------------------------------------------------\n",
      "100%|██████████| 50/50 [01:10<00:00,  1.41s/it, best loss: -0.673]             \n",
      "-----------------------------------------------------\n",
      "Freq: 15\n",
      "X_freq shape: (5000, 68)\n",
      "Found minimum after 50 trials:\n",
      "{'algorithm': 1, 'leaf_size': 26.0, 'n_neighbors': 8.0, 'p': 0, 'weights': 1}\n",
      "-----------------------------------------------------\n",
      "100%|██████████| 50/50 [00:55<00:00,  1.11s/it, best loss: -0.6538]\n",
      "-----------------------------------------------------\n",
      "Freq: 25\n",
      "X_freq shape: (5000, 41)\n",
      "Found minimum after 50 trials:\n",
      "{'algorithm': 1, 'leaf_size': 54.0, 'n_neighbors': 10.0, 'p': 0, 'weights': 1}\n",
      "-----------------------------------------------------\n",
      "100%|██████████| 50/50 [00:43<00:00,  1.16it/s, best loss: -0.6218]            \n",
      "-----------------------------------------------------\n",
      "Freq: 50\n",
      "X_freq shape: (5000, 20)\n",
      "Found minimum after 50 trials:\n",
      "{'algorithm': 2, 'leaf_size': 46.0, 'n_neighbors': 3.0, 'p': 0, 'weights': 1}\n",
      "-----------------------------------------------------\n",
      "100%|██████████| 50/50 [00:31<00:00,  1.59it/s, best loss: -0.6324]           \n",
      "-----------------------------------------------------\n",
      "Freq: 60\n",
      "X_freq shape: (5000, 17)\n",
      "Found minimum after 50 trials:\n",
      "{'algorithm': 0, 'leaf_size': 34.0, 'n_neighbors': 10.0, 'p': 0, 'weights': 1}\n",
      "-----------------------------------------------------\n",
      "100%|██████████| 50/50 [00:34<00:00,  1.45it/s, best loss: -0.6119999999999999]\n",
      "-----------------------------------------------------\n",
      "Freq: 75\n",
      "X_freq shape: (5000, 14)\n",
      "Found minimum after 50 trials:\n",
      "{'algorithm': 2, 'leaf_size': 50.0, 'n_neighbors': 10.0, 'p': 0, 'weights': 1}\n",
      "-----------------------------------------------------\n",
      "100%|██████████| 50/50 [00:30<00:00,  1.65it/s, best loss: -0.6125999999999999]\n",
      "-----------------------------------------------------\n",
      "Freq: 85\n",
      "X_freq shape: (5000, 12)\n",
      "Found minimum after 50 trials:\n",
      "{'algorithm': 0, 'leaf_size': 48.0, 'n_neighbors': 10.0, 'p': 0, 'weights': 1}\n",
      "-----------------------------------------------------\n",
      "100%|██████████| 50/50 [00:30<00:00,  1.66it/s, best loss: -0.5965999999999999]\n",
      "-----------------------------------------------------\n",
      "Freq: 100\n",
      "X_freq shape: (5000, 10)\n",
      "Found minimum after 50 trials:\n",
      "{'algorithm': 2, 'leaf_size': 10.0, 'n_neighbors': 5.0, 'p': 0, 'weights': 1}\n",
      "-----------------------------------------------------\n"
     ]
    }
   ],
   "source": [
    "def f(space):\n",
    "        model = KNeighborsClassifier(n_neighbors=space['n_neighbors'], weights=space['weights'],\\\n",
    "                                     algorithm=space['algorithm'], leaf_size=space['leaf_size'], p=space['p'])\n",
    "        scores = cross_validate(model, X_freq, y, scoring='accuracy', cv=5)\n",
    "        return -scores['test_score'].mean()\n",
    "\n",
    "space = {\n",
    "        'n_neighbors': ho_scope.int(hp.quniform('n_neighbors', low=2, high=10, q=1)),\n",
    "        'weights':  hp.choice('weights', ['uniform', 'distance']),\n",
    "        'algorithm': hp.choice('algorithm', ['auto', 'ball_tree', 'kd_tree', 'brute']),\n",
    "        'leaf_size': ho_scope.int(hp.quniform('leaf_size', low=4, high=60, q=2)),\n",
    "        'p': hp.choice('p', [1, 2])\n",
    "}\n",
    "    \n",
    "global X_freq\n",
    "print_results(iter_num=50)"
   ]
  },
  {
   "cell_type": "markdown",
   "metadata": {},
   "source": [
    "##### DecisionTreeClassifier"
   ]
  },
  {
   "cell_type": "code",
   "execution_count": 14,
   "metadata": {},
   "outputs": [
    {
     "name": "stdout",
     "output_type": "stream",
     "text": [
      "100%|██████████| 200/200 [04:52<00:00,  1.46s/it, best loss: -0.9568]           \n",
      "-----------------------------------------------------\n",
      "Freq: 1\n",
      "X_freq shape: (5000, 1024)\n",
      "Found minimum after 200 trials:\n",
      "{'criterion': 1, 'max_depth': 13, 'max_features': 0, 'min_samples_leaf': 2.0, 'min_samples_split': 10.0, 'min_weight_fraction_leaf': 0.008523324264696193}\n",
      "-----------------------------------------------------\n",
      "100%|██████████| 200/200 [01:58<00:00,  1.69it/s, best loss: -0.8844]           \n",
      "-----------------------------------------------------\n",
      "Freq: 5\n",
      "X_freq shape: (5000, 204)\n",
      "Found minimum after 200 trials:\n",
      "{'criterion': 1, 'max_depth': 8, 'max_features': 1, 'min_samples_leaf': 8.0, 'min_samples_split': 3.0, 'min_weight_fraction_leaf': 0.014591026678552194}\n",
      "-----------------------------------------------------\n",
      "100%|██████████| 200/200 [01:08<00:00,  2.90it/s, best loss: -0.7298000000000001]\n",
      "-----------------------------------------------------\n",
      "Freq: 10\n",
      "X_freq shape: (5000, 102)\n",
      "Found minimum after 200 trials:\n",
      "{'criterion': 1, 'max_depth': 14, 'max_features': 1, 'min_samples_leaf': 7.0, 'min_samples_split': 2.0, 'min_weight_fraction_leaf': 0.00025398929532697645}\n",
      "-----------------------------------------------------\n",
      "100%|██████████| 200/200 [00:47<00:00,  4.20it/s, best loss: -0.7238]            \n",
      "-----------------------------------------------------\n",
      "Freq: 15\n",
      "X_freq shape: (5000, 68)\n",
      "Found minimum after 200 trials:\n",
      "{'criterion': 0, 'max_depth': 16, 'max_features': 0, 'min_samples_leaf': 9.0, 'min_samples_split': 9.0, 'min_weight_fraction_leaf': 0.0002623032626379749}\n",
      "-----------------------------------------------------\n",
      "100%|██████████| 200/200 [00:53<00:00,  3.75it/s, best loss: -0.6612000000000001]\n",
      "-----------------------------------------------------\n",
      "Freq: 25\n",
      "X_freq shape: (5000, 41)\n",
      "Found minimum after 200 trials:\n",
      "{'criterion': 1, 'max_depth': 17, 'max_features': 1, 'min_samples_leaf': 2.0, 'min_samples_split': 10.0, 'min_weight_fraction_leaf': 7.505121043171701e-05}\n",
      "-----------------------------------------------------\n",
      "100%|██████████| 200/200 [00:37<00:00,  5.35it/s, best loss: -0.5892]          \n",
      "-----------------------------------------------------\n",
      "Freq: 50\n",
      "X_freq shape: (5000, 20)\n",
      "Found minimum after 200 trials:\n",
      "{'criterion': 0, 'max_depth': 15, 'max_features': 2, 'min_samples_leaf': 7.0, 'min_samples_split': 2.0, 'min_weight_fraction_leaf': 0.00013395028286673901}\n",
      "-----------------------------------------------------\n",
      "100%|██████████| 200/200 [00:41<00:00,  4.77it/s, best loss: -0.6015999999999999]\n",
      "-----------------------------------------------------\n",
      "Freq: 60\n",
      "X_freq shape: (5000, 17)\n",
      "Found minimum after 200 trials:\n",
      "{'criterion': 0, 'max_depth': 13, 'max_features': 2, 'min_samples_leaf': 3.0, 'min_samples_split': 6.0, 'min_weight_fraction_leaf': 0.0025553382272804903}\n",
      "-----------------------------------------------------\n",
      "100%|██████████| 200/200 [00:30<00:00,  6.62it/s, best loss: -0.6112]          \n",
      "-----------------------------------------------------\n",
      "Freq: 75\n",
      "X_freq shape: (5000, 14)\n",
      "Found minimum after 200 trials:\n",
      "{'criterion': 0, 'max_depth': 15, 'max_features': 0, 'min_samples_leaf': 4.0, 'min_samples_split': 2.0, 'min_weight_fraction_leaf': 0.0001712406145939348}\n",
      "-----------------------------------------------------\n",
      "100%|██████████| 200/200 [00:36<00:00,  5.47it/s, best loss: -0.6138000000000001]\n",
      "-----------------------------------------------------\n",
      "Freq: 85\n",
      "X_freq shape: (5000, 12)\n",
      "Found minimum after 200 trials:\n",
      "{'criterion': 1, 'max_depth': 16, 'max_features': 0, 'min_samples_leaf': 8.0, 'min_samples_split': 7.0, 'min_weight_fraction_leaf': 6.16395073401374e-05}\n",
      "-----------------------------------------------------\n",
      "100%|██████████| 200/200 [00:36<00:00,  5.47it/s, best loss: -0.585]             \n",
      "-----------------------------------------------------\n",
      "Freq: 100\n",
      "X_freq shape: (5000, 10)\n",
      "Found minimum after 200 trials:\n",
      "{'criterion': 1, 'max_depth': 17, 'max_features': 0, 'min_samples_leaf': 6.0, 'min_samples_split': 7.0, 'min_weight_fraction_leaf': 0.003741673794972568}\n",
      "-----------------------------------------------------\n"
     ]
    }
   ],
   "source": [
    "def f(space):\n",
    "    model = DecisionTreeClassifier(max_depth=space['max_depth'], max_features=space['max_features'],\\\n",
    "                                  criterion=space['criterion'], min_samples_split=space['min_samples_split'],\\\n",
    "                                  min_samples_leaf=space['min_samples_leaf'], min_weight_fraction_leaf = space['min_weight_fraction_leaf'])\n",
    "    scores = cross_validate(model, X_freq, y, scoring='accuracy', cv=5)\n",
    "    return -scores['test_score'].mean()\n",
    "    \n",
    "space = {\n",
    "    'max_depth': hp.choice('max_depth', range(1,20)),\n",
    "    'max_features': hp.choice('max_features', ['auto', 'sqrt', 'log2']),\n",
    "    'criterion': hp.choice('criterion', [\"gini\", \"entropy\"]),\n",
    "    'min_samples_split': ho_scope.int(hp.quniform('min_samples_split', low=2, high=10, q=1)),\n",
    "    'min_samples_leaf':  ho_scope.int(hp.quniform('min_samples_leaf', low=1, high=10, q=1)),\n",
    "    'min_weight_fraction_leaf': hp.uniform('min_weight_fraction_leaf', 0, 0.5),\n",
    "}\n",
    "\n",
    "global X_freq\n",
    "print_results()"
   ]
  },
  {
   "cell_type": "markdown",
   "metadata": {},
   "source": [
    "##### RandomForest"
   ]
  },
  {
   "cell_type": "code",
   "execution_count": 15,
   "metadata": {},
   "outputs": [],
   "source": [
    "import warnings\n",
    "warnings.filterwarnings(\"ignore\")"
   ]
  },
  {
   "cell_type": "code",
   "execution_count": 16,
   "metadata": {},
   "outputs": [
    {
     "name": "stdout",
     "output_type": "stream",
     "text": [
      "100%|██████████| 200/200 [22:15<00:00,  6.68s/it, best loss: -0.9728]            \n",
      "-----------------------------------------------------\n",
      "Freq: 1\n",
      "X_freq shape: (5000, 1024)\n",
      "Found minimum after 200 trials:\n",
      "{'criterion': 1, 'max_depth': 13, 'max_features': 0, 'min_samples_leaf': 1.0, 'min_samples_split': 4.0, 'min_weight_fraction_leaf': 0.000990811167603108}\n",
      "-----------------------------------------------------\n",
      "100%|██████████| 200/200 [07:31<00:00,  2.26s/it, best loss: -0.945]            \n",
      "-----------------------------------------------------\n",
      "Freq: 5\n",
      "X_freq shape: (5000, 204)\n",
      "Found minimum after 200 trials:\n",
      "{'criterion': 1, 'max_depth': 15, 'max_features': 1, 'min_samples_leaf': 10.0, 'min_samples_split': 2.0, 'min_weight_fraction_leaf': 0.0009892337010474505}\n",
      "-----------------------------------------------------\n",
      "100%|██████████| 200/200 [05:50<00:00,  1.75s/it, best loss: -0.842]            \n",
      "-----------------------------------------------------\n",
      "Freq: 10\n",
      "X_freq shape: (5000, 102)\n",
      "Found minimum after 200 trials:\n",
      "{'criterion': 1, 'max_depth': 12, 'max_features': 0, 'min_samples_leaf': 9.0, 'min_samples_split': 3.0, 'min_weight_fraction_leaf': 0.0028256473042533813}\n",
      "-----------------------------------------------------\n",
      "100%|██████████| 200/200 [05:22<00:00,  1.61s/it, best loss: -0.827]            \n",
      "-----------------------------------------------------\n",
      "Freq: 15\n",
      "X_freq shape: (5000, 68)\n",
      "Found minimum after 200 trials:\n",
      "{'criterion': 1, 'max_depth': 17, 'max_features': 1, 'min_samples_leaf': 5.0, 'min_samples_split': 7.0, 'min_weight_fraction_leaf': 0.0006716572856625453}\n",
      "-----------------------------------------------------\n",
      "100%|██████████| 200/200 [04:07<00:00,  1.24s/it, best loss: -0.7322]            \n",
      "-----------------------------------------------------\n",
      "Freq: 25\n",
      "X_freq shape: (5000, 41)\n",
      "Found minimum after 200 trials:\n",
      "{'criterion': 1, 'max_depth': 10, 'max_features': 1, 'min_samples_leaf': 7.0, 'min_samples_split': 2.0, 'min_weight_fraction_leaf': 0.00038447265370684805}\n",
      "-----------------------------------------------------\n",
      "100%|██████████| 200/200 [03:06<00:00,  1.07it/s, best loss: -0.6557999999999999]\n",
      "-----------------------------------------------------\n",
      "Freq: 50\n",
      "X_freq shape: (5000, 20)\n",
      "Found minimum after 200 trials:\n",
      "{'criterion': 1, 'max_depth': 13, 'max_features': 1, 'min_samples_leaf': 2.0, 'min_samples_split': 8.0, 'min_weight_fraction_leaf': 0.0003989811045009658}\n",
      "-----------------------------------------------------\n",
      "100%|██████████| 200/200 [02:21<00:00,  1.41it/s, best loss: -0.6576000000000001]\n",
      "-----------------------------------------------------\n",
      "Freq: 60\n",
      "X_freq shape: (5000, 17)\n",
      "Found minimum after 200 trials:\n",
      "{'criterion': 0, 'max_depth': 15, 'max_features': 1, 'min_samples_leaf': 5.0, 'min_samples_split': 10.0, 'min_weight_fraction_leaf': 0.0005605568985052982}\n",
      "-----------------------------------------------------\n",
      "100%|██████████| 200/200 [02:16<00:00,  1.47it/s, best loss: -0.6614000000000001]\n",
      "-----------------------------------------------------\n",
      "Freq: 75\n",
      "X_freq shape: (5000, 14)\n",
      "Found minimum after 200 trials:\n",
      "{'criterion': 0, 'max_depth': 13, 'max_features': 2, 'min_samples_leaf': 3.0, 'min_samples_split': 5.0, 'min_weight_fraction_leaf': 5.696645729779803e-05}\n",
      "-----------------------------------------------------\n",
      "100%|██████████| 200/200 [01:56<00:00,  1.72it/s, best loss: -0.6702]            \n",
      "-----------------------------------------------------\n",
      "Freq: 85\n",
      "X_freq shape: (5000, 12)\n",
      "Found minimum after 200 trials:\n",
      "{'criterion': 0, 'max_depth': 18, 'max_features': 2, 'min_samples_leaf': 3.0, 'min_samples_split': 7.0, 'min_weight_fraction_leaf': 0.0016728754976179257}\n",
      "-----------------------------------------------------\n",
      "100%|██████████| 200/200 [01:46<00:00,  1.87it/s, best loss: -0.6155999999999999]\n",
      "-----------------------------------------------------\n",
      "Freq: 100\n",
      "X_freq shape: (5000, 10)\n",
      "Found minimum after 200 trials:\n",
      "{'criterion': 0, 'max_depth': 15, 'max_features': 1, 'min_samples_leaf': 7.0, 'min_samples_split': 3.0, 'min_weight_fraction_leaf': 0.001665172379950201}\n",
      "-----------------------------------------------------\n"
     ]
    }
   ],
   "source": [
    "def f(space):\n",
    "    model = RandomForestClassifier(max_depth=space['max_depth'], max_features=space['max_features'],\\\n",
    "                                  criterion=space['criterion'], min_samples_split=space['min_samples_split'],\\\n",
    "                                  min_samples_leaf=space['min_samples_leaf'], min_weight_fraction_leaf = space['min_weight_fraction_leaf'],\\\n",
    "                                  verbose=0)\n",
    "    scores = cross_validate(model, X_freq, y, scoring='accuracy', cv=5)\n",
    "    return -scores['test_score'].mean()\n",
    "    \n",
    "space = {\n",
    "    'max_depth': hp.choice('max_depth', range(1,20)),\n",
    "    'max_features': hp.choice('max_features', ['auto', 'sqrt', 'log2']),\n",
    "    'criterion': hp.choice('criterion', [\"gini\", \"entropy\"]),\n",
    "    'min_samples_split': ho_scope.int(hp.quniform('min_samples_split', low=2, high=10, q=1)),\n",
    "    'min_samples_leaf':  ho_scope.int(hp.quniform('min_samples_leaf', low=1, high=10, q=1)),\n",
    "    'min_weight_fraction_leaf': hp.uniform('min_weight_fraction_leaf', 0, 0.5),\n",
    "}\n",
    "\n",
    "global X_freq\n",
    "print_results()"
   ]
  },
  {
   "cell_type": "markdown",
   "metadata": {},
   "source": [
    "##### GaussianNB"
   ]
  },
  {
   "cell_type": "code",
   "execution_count": 17,
   "metadata": {},
   "outputs": [
    {
     "name": "stdout",
     "output_type": "stream",
     "text": [
      "100%|██████████| 200/200 [02:58<00:00,  1.12it/s, best loss: -0.944]           \n",
      "-----------------------------------------------------\n",
      "Freq: 1\n",
      "X_freq shape: (5000, 1024)\n",
      "Found minimum after 200 trials:\n",
      "{'var_smoothing': 1.2460184378655685e-09}\n",
      "-----------------------------------------------------\n",
      "100%|██████████| 200/200 [00:28<00:00,  6.99it/s, best loss: -0.9108]\n",
      "-----------------------------------------------------\n",
      "Freq: 5\n",
      "X_freq shape: (5000, 204)\n",
      "Found minimum after 200 trials:\n",
      "{'var_smoothing': 1.0282014918470923e-10}\n",
      "-----------------------------------------------------\n",
      "100%|██████████| 200/200 [00:17<00:00, 11.49it/s, best loss: -0.808]\n",
      "-----------------------------------------------------\n",
      "Freq: 10\n",
      "X_freq shape: (5000, 102)\n",
      "Found minimum after 200 trials:\n",
      "{'var_smoothing': 6.377556397965757e-10}\n",
      "-----------------------------------------------------\n",
      "100%|██████████| 200/200 [00:13<00:00, 14.97it/s, best loss: -0.733]\n",
      "-----------------------------------------------------\n",
      "Freq: 15\n",
      "X_freq shape: (5000, 68)\n",
      "Found minimum after 200 trials:\n",
      "{'var_smoothing': 2.2962117400154974e-09}\n",
      "-----------------------------------------------------\n",
      "100%|██████████| 200/200 [00:09<00:00, 21.87it/s, best loss: -0.6746000000000001]\n",
      "-----------------------------------------------------\n",
      "Freq: 25\n",
      "X_freq shape: (5000, 41)\n",
      "Found minimum after 200 trials:\n",
      "{'var_smoothing': 1.2908377701761542e-08}\n",
      "-----------------------------------------------------\n",
      "100%|██████████| 200/200 [00:06<00:00, 29.53it/s, best loss: -0.5773999999999999]\n",
      "-----------------------------------------------------\n",
      "Freq: 50\n",
      "X_freq shape: (5000, 20)\n",
      "Found minimum after 200 trials:\n",
      "{'var_smoothing': 6.490487471670385e-09}\n",
      "-----------------------------------------------------\n",
      "100%|██████████| 200/200 [00:08<00:00, 23.86it/s, best loss: -0.5712]\n",
      "-----------------------------------------------------\n",
      "Freq: 60\n",
      "X_freq shape: (5000, 17)\n",
      "Found minimum after 200 trials:\n",
      "{'var_smoothing': 5.976912618238698e-09}\n",
      "-----------------------------------------------------\n",
      "100%|██████████| 200/200 [00:07<00:00, 25.54it/s, best loss: -0.579]\n",
      "-----------------------------------------------------\n",
      "Freq: 75\n",
      "X_freq shape: (5000, 14)\n",
      "Found minimum after 200 trials:\n",
      "{'var_smoothing': 4.791540789108842e-10}\n",
      "-----------------------------------------------------\n",
      "100%|██████████| 200/200 [00:07<00:00, 26.79it/s, best loss: -0.611]\n",
      "-----------------------------------------------------\n",
      "Freq: 85\n",
      "X_freq shape: (5000, 12)\n",
      "Found minimum after 200 trials:\n",
      "{'var_smoothing': 1.676267544339988e-10}\n",
      "-----------------------------------------------------\n",
      "100%|██████████| 200/200 [00:05<00:00, 34.61it/s, best loss: -0.564]\n",
      "-----------------------------------------------------\n",
      "Freq: 100\n",
      "X_freq shape: (5000, 10)\n",
      "Found minimum after 200 trials:\n",
      "{'var_smoothing': 5.838586353515949e-09}\n",
      "-----------------------------------------------------\n"
     ]
    }
   ],
   "source": [
    "def f(space):\n",
    "    model = GaussianNB(var_smoothing=space['var_smoothing'])\n",
    "    scores = cross_validate(model, X_freq, y, scoring='accuracy', cv=5)\n",
    "    return -scores['test_score'].mean()\n",
    "    \n",
    "space = {\n",
    "    'var_smoothing': hp.loguniform('var_smoothing', low=np.log(1e-10), high=np.log(1e-7))\n",
    "}\n",
    "\n",
    "global X_freq\n",
    "print_results()"
   ]
  },
  {
   "cell_type": "markdown",
   "metadata": {},
   "source": [
    "##### SVC"
   ]
  },
  {
   "cell_type": "code",
   "execution_count": null,
   "metadata": {},
   "outputs": [
    {
     "name": "stdout",
     "output_type": "stream",
     "text": [
      " 29%|██▉       | 58/200 [1:55:47<4:10:25, 105.81s/it, best loss: -0.9882]             "
     ]
    }
   ],
   "source": [
    "def f(space):\n",
    "    model = SVC(C=space['C'], kernel=space['kernel'], degree=space['degree'], gamma=space['gamma'],\\\n",
    "               shrinking=space['shrinking'])\n",
    "    scores = cross_validate(model, X_freq, y, scoring='accuracy', cv=5)\n",
    "    return -scores['test_score'].mean()\n",
    "    \n",
    "space = {\n",
    "    'C': hp.loguniform('C', low=np.log(0.01), high=np.log(1)),\n",
    "    'kernel': hp.choice('kernel', ['linear', 'poly', 'rbf', 'sigmoid']),\n",
    "    'degree':  ho_scope.int(hp.quniform('degree', low=2, high=5, q=1)),\n",
    "    'gamma':  hp.loguniform('gamma', low=np.log(0.001), high=np.log(100)),\n",
    "    'shrinking': hp.choice('shrinking', [True, False])\n",
    "}\n",
    "\n",
    "global X_freq\n",
    "print_results()"
   ]
  },
  {
   "cell_type": "markdown",
   "metadata": {},
   "source": [
    "##### PassiveAggressiveClassifier"
   ]
  },
  {
   "cell_type": "code",
   "execution_count": null,
   "metadata": {},
   "outputs": [],
   "source": [
    "def f(space):\n",
    "    model = PassiveAggressiveClassifier(C=space['C'], fit_intercept=space['fit_intercept'])\n",
    "    scores = cross_validate(model, X_freq, y, scoring='accuracy', cv=5)\n",
    "    return -scores['test_score'].mean()\n",
    "    \n",
    "space = {\n",
    "    'C': hp.loguniform('C', low=np.log(0.01), high=np.log(1)),\n",
    "    'fit_intercept': hp.choice('fit_intercept', [True, False]),\n",
    "}\n",
    "\n",
    "global X_freq\n",
    "print_results()"
   ]
  },
  {
   "cell_type": "markdown",
   "metadata": {},
   "source": [
    "#####  MLPClassifier"
   ]
  },
  {
   "cell_type": "code",
   "execution_count": null,
   "metadata": {},
   "outputs": [],
   "source": [
    "def f(space):\n",
    "    model = MLPClassifier(hidden_layer_sizes=(space['first_size'], space['second_size']), \n",
    "                          activation=space['activation'], batch_size=16,\n",
    "                         max_iter=space['max_iter'])\n",
    "    scores = cross_validate(model, X_freq, y, scoring='accuracy', cv=5)\n",
    "    return -scores['test_score'].mean()\n",
    "    \n",
    "space = {\n",
    "    'first_size':  ho_scope.int(hp.quniform('first_size', low=50, high=100, q=10)),\n",
    "    'second_size':  ho_scope.int(hp.quniform('second_size', low=10, high=40, q=5)),\n",
    "    'activation': hp.choice('activation', ['identity', 'logistic', 'tanh', 'relu']),\n",
    "    'learning_rate': hp.choice('learning_rate', ['constant', 'invscaling', 'adaptive']),\n",
    "    'learning_rate_init': hp.loguniform('learning_rate_init', low=np.log(0.00001), high=np.log(0.1)),\n",
    "    'max_iter': ho_scope.int(hp.quniform('max_iter', low=200, high=500, q=25))\n",
    "}\n",
    "\n",
    "global X_freq\n",
    "print_results(iter_num=25)"
   ]
  }
 ],
 "metadata": {
  "kernelspec": {
   "display_name": "Python [conda env:.conda-impulse_processing] *",
   "language": "python",
   "name": "conda-env-.conda-impulse_processing-py"
  },
  "language_info": {
   "codemirror_mode": {
    "name": "ipython",
    "version": 3
   },
   "file_extension": ".py",
   "mimetype": "text/x-python",
   "name": "python",
   "nbconvert_exporter": "python",
   "pygments_lexer": "ipython3",
   "version": "3.6.9"
  }
 },
 "nbformat": 4,
 "nbformat_minor": 2
}
