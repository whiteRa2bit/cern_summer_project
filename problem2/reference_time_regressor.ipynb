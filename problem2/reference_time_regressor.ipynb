{
 "cells": [
  {
   "cell_type": "code",
   "execution_count": 1,
   "metadata": {},
   "outputs": [],
   "source": [
    "import matplotlib.pyplot as plt\n",
    "import numpy as np\n",
    "from sklearn.model_selection import train_test_split\n",
    "from sklearn.linear_model import LinearRegression\n",
    "from sklearn.metrics import r2_score, mean_absolute_error, mean_squared_error\n",
    "from sklearn.model_selection import cross_validate\n",
    "import tqdm"
   ]
  },
  {
   "cell_type": "code",
   "execution_count": 2,
   "metadata": {},
   "outputs": [],
   "source": [
    "def get_data():\n",
    "    file = open('./data/shashlik_61_pulses.txt', 'r')\n",
    "    data = file.readlines()\n",
    "    data = np.array([list(map(float, experiment.split())) for experiment in data])\n",
    "   \n",
    "    X = data[:, 2:]\n",
    "    y_baseline = data[:, 1]\n",
    "    y = data[:, 0]\n",
    "    \n",
    "    \n",
    "    X = np.array([experiment - np.max(experiment) for experiment in X])\n",
    "    X = np.array([experiment/-np.min(experiment) for experiment in X])\n",
    "\n",
    "    y = np.round(y)\n",
    "    y = y.astype(int)\n",
    "    \n",
    "    ## Let's shift each signal so that reference time matches for each signal\n",
    "    mean_ref_time = int(y.mean())\n",
    "    X = np.array([signal_cyclic_shift(signal, mean_ref_time - y[i]) for i, signal in enumerate(X, 0)])\n",
    "    y = np.array([mean_ref_time]*len(y))\n",
    "\n",
    "    return X, y\n",
    "\n",
    "def get_freq_data(X, freq=1, start_point=384):\n",
    "    X_freq = np.concatenate([X[:, start_point::-freq][:, ::-1], X[:, start_point + freq::freq]], axis=1)\n",
    "    return X_freq\n",
    "\n",
    "def signal_cyclic_shift(signal, tau):\n",
    "    signal_start = signal[:-tau]\n",
    "    \n",
    "    new_signal = np.concatenate([signal[-tau:], signal_start])\n",
    "    \n",
    "    return new_signal"
   ]
  },
  {
   "cell_type": "code",
   "execution_count": 3,
   "metadata": {},
   "outputs": [],
   "source": [
    "X_origin, y_origin = get_data()\n",
    "\n",
    "mean_argmin =  int(np.argmin(X_origin, axis=1).mean())"
   ]
  },
  {
   "cell_type": "code",
   "execution_count": 4,
   "metadata": {},
   "outputs": [],
   "source": [
    "import random\n",
    "\n",
    "def generate_multi_signal(X_origin, y_origin, tau, alpha, to_plot=False):\n",
    "    first_idx, second_idx = np.random.choice(X_origin.shape[0], 2, replace=False)\n",
    "    first_impulse = X_origin[first_idx]\n",
    "    second_impulse = X_origin[second_idx]\n",
    "    \n",
    "    first_ref_time = y_origin[first_idx]\n",
    "    second_ref_time = y_origin[second_idx]\n",
    "    \n",
    "    \n",
    "#     print(\"SHIFT:\", tau)\n",
    "#     print(\"BEFORE SHIFT:\", first_ref_time, second_ref_time)\n",
    "    ### Randomly choose what signal to shift\n",
    "    if random.choice([True, False]):\n",
    "        first_impulse = signal_cyclic_shift(first_impulse, tau)\n",
    "        first_ref_time += tau\n",
    "    else:\n",
    "        second_impulse = signal_cyclic_shift(second_impulse, tau)\n",
    "        second_ref_time += tau\n",
    "    \n",
    "#     print(\"AFTER SHIFT:\", first_ref_time, second_ref_time)\n",
    "\n",
    "    \n",
    "    multi_impulse = first_impulse + second_impulse*alpha\n",
    "    multi_impulse /= -np.min(multi_impulse)\n",
    "    \n",
    "    first_impulse_shifted = signal_cyclic_shift(first_impulse, mean_argmin - np.argmin(first_impulse))\n",
    "    second_impulse_shifted = signal_cyclic_shift(second_impulse, mean_argmin - np.argmin(second_impulse))\n",
    "    multi_impulse_shifted = signal_cyclic_shift(multi_impulse, mean_argmin - np.argmin(multi_impulse))\n",
    "\n",
    "#     print(mean_argmin - np.argmin(multi_impulse))\n",
    "    first_ref_time +=  mean_argmin - np.argmin(multi_impulse)\n",
    "    second_ref_time +=  mean_argmin - np.argmin(multi_impulse)\n",
    "    \n",
    "    if to_plot:\n",
    "        plt.plot(first_impulse)\n",
    "        plt.plot(second_impulse)\n",
    "        plt.plot(multi_impulse_shifted)\n",
    "        plt.legend(['First signal', 'Second signal', 'Sum of signals'])\n",
    "        plt.show()\n",
    "        \n",
    "    return {'first_impulse': first_impulse_shifted,\\\n",
    "            'second_impulse': second_impulse_shifted,\\\n",
    "            'first_ref_time': first_ref_time,\\\n",
    "            'second_ref_time': second_ref_time,\\\n",
    "            'multi_impulse': multi_impulse_shifted}"
   ]
  },
  {
   "cell_type": "code",
   "execution_count": 5,
   "metadata": {
    "scrolled": true
   },
   "outputs": [
    {
     "data": {
      "image/png": "[encoded data removed]",
      "text/plain": [
       "<Figure size 432x288 with 1 Axes>"
      ]
     },
     "metadata": {
      "needs_background": "light"
     },
     "output_type": "display_data"
    }
   ],
   "source": [
    "alpha_range = np.arange(1, 100, 0.1)\n",
    "tau_range = np.arange(-100, 101, 1)\n",
    "\n",
    "alpha = random.choice(alpha_range)\n",
    "tau = random.choice(tau_range)\n",
    "signal = generate_multi_signal(X_origin, y_origin, tau, alpha, to_plot=True)"
   ]
  },
  {
   "cell_type": "code",
   "execution_count": 6,
   "metadata": {},
   "outputs": [
    {
     "data": {
      "text/plain": [
       "{'first_impulse': array([-0.01412513, -0.01296891, -0.01284044, ..., -0.0142536 ,\n",
       "        -0.01412513, -0.01412513]),\n",
       " 'second_impulse': array([-0.01289096, -0.01113961, -0.01102893, ..., -0.01140004,\n",
       "        -0.01167999, -0.01167999]),\n",
       " 'first_ref_time': 160,\n",
       " 'second_ref_time': 167,\n",
       " 'multi_impulse': array([-0.01189362, -0.01305665, -0.01136869, ..., -0.00940469,\n",
       "        -0.01151477, -0.01183921])}"
      ]
     },
     "execution_count": 6,
     "metadata": {},
     "output_type": "execute_result"
    }
   ],
   "source": [
    "signal"
   ]
  },
  {
   "cell_type": "code",
   "execution_count": 7,
   "metadata": {},
   "outputs": [],
   "source": [
    "from sklearn.utils import shuffle\n",
    "\n",
    "def prepare_data(X_origin, y_origin, tau_range, alpha_range, data_size=1000, to_print=False):    \n",
    "    X = []\n",
    "    y = []\n",
    "    alpha_values = []\n",
    "    tau_values = []\n",
    "    for i in range(data_size):\n",
    "        alpha = random.choice(alpha_range)\n",
    "        tau = random.choice(tau_range)\n",
    "        signal = generate_multi_signal(X_origin, y_origin, tau, alpha)\n",
    "        \n",
    "        \n",
    "        X.append(signal['multi_impulse'])\n",
    "        y.append(signal['first_ref_time']) ### We have alpha >= 1 so second_ref_time always will be close to 167,\n",
    "                                           ### so we will predict first_ref_time\n",
    "        \n",
    "        alpha_values.append(alpha)\n",
    "        tau_values.append(tau)\n",
    "   \n",
    "    X = np.array(X)\n",
    "    y = np.array(y)\n",
    "    \n",
    "    if to_print:\n",
    "        print(\"X shape:\", X.shape)\n",
    "        print(\"y shape:\", y.shape)\n",
    "    \n",
    "    X, y = shuffle(X, y)\n",
    "\n",
    "#     plt.scatter(alpha_values, tau_values)\n",
    "#     plt.show()\n",
    "    \n",
    "    return X, y"
   ]
  },
  {
   "cell_type": "code",
   "execution_count": 8,
   "metadata": {},
   "outputs": [],
   "source": [
    "# alpha_range = np.array([np.around(10**i, decimals=4) for i in np.arange(0, 3.1, 0.01)])\n",
    "\n",
    "alpha_range = np.arange(1, 100, 0.1)\n",
    "tau_range = np.arange(-100, 101, 1)"
   ]
  },
  {
   "cell_type": "code",
   "execution_count": 9,
   "metadata": {
    "scrolled": false
   },
   "outputs": [
    {
     "name": "stdout",
     "output_type": "stream",
     "text": [
      "X shape: (5000, 1024)\n",
      "y shape: (5000,)\n"
     ]
    }
   ],
   "source": [
    "X, y = prepare_data(X_origin, y_origin, tau_range, alpha_range, data_size=5000, to_print=True)"
   ]
  },
  {
   "cell_type": "code",
   "execution_count": 10,
   "metadata": {},
   "outputs": [],
   "source": [
    "from sklearn.preprocessing import normalize"
   ]
  },
  {
   "cell_type": "code",
   "execution_count": 11,
   "metadata": {
    "scrolled": true
   },
   "outputs": [
    {
     "data": {
      "text/plain": [
       "(array([459., 541., 511., 477., 475., 605., 478., 482., 519., 453.]),\n",
       " array([ 63. ,  83.6, 104.2, 124.8, 145.4, 166. , 186.6, 207.2, 227.8,\n",
       "        248.4, 269. ]),\n",
       " <a list of 10 Patch objects>)"
      ]
     },
     "execution_count": 11,
     "metadata": {},
     "output_type": "execute_result"
    },
    {
     "data": {
      "image/png": "[encoded data removed]",
      "text/plain": [
       "<Figure size 432x288 with 1 Axes>"
      ]
     },
     "metadata": {
      "needs_background": "light"
     },
     "output_type": "display_data"
    }
   ],
   "source": [
    "plt.hist(y)"
   ]
  },
  {
   "cell_type": "code",
   "execution_count": 12,
   "metadata": {},
   "outputs": [],
   "source": [
    "from sklearn.pipeline import Pipeline\n",
    "from sklearn.linear_model import HuberRegressor\n",
    "from sklearn import linear_model\n",
    "from sklearn import tree\n",
    "from sklearn import svm\n",
    "from sklearn.linear_model import PassiveAggressiveRegressor\n",
    "import xgboost as xgb\n",
    "from catboost import CatBoostRegressor"
   ]
  },
  {
   "cell_type": "code",
   "execution_count": 13,
   "metadata": {},
   "outputs": [],
   "source": [
    "def print_scores():\n",
    "    for model in models:    \n",
    "        model_name = type(model).__name__\n",
    "        print(\"Regressor:\", model_name)\n",
    "    #         stregr = StackingRegressor(regressors=models, meta_regressor=model)\n",
    "        scoring = ['r2', 'neg_mean_squared_error', 'neg_mean_absolute_error']\n",
    "        scores = cross_validate(model, X, y, scoring=scoring, cv=5)\n",
    "\n",
    "        r2_score_mean = scores['test_r2'].mean()\n",
    "        r2_score_std = scores['test_r2'].std()\n",
    "        mse_score_mean = -scores['test_neg_mean_squared_error'].mean()\n",
    "        mse_score_std = scores['test_neg_mean_squared_error'].std()\n",
    "        mae_score_mean = -scores['test_neg_mean_absolute_error'].mean()\n",
    "        mae_score_std = scores['test_neg_mean_absolute_error'].std()\n",
    "        rmse_score_mean = np.sqrt(-scores['test_neg_mean_squared_error']).mean()\n",
    "        rmse_score_std = np.sqrt(-scores['test_neg_mean_squared_error']).std()\n",
    "\n",
    "        cur_scores = [(r2_score_mean, r2_score_std), (mse_score_mean, mse_score_std),\\\n",
    "                          (mae_score_mean, mae_score_std), (rmse_score_mean, rmse_score_std)]\n",
    "    #         print('!!!!!!!!')\n",
    "    #         print(\"TEST\")\n",
    "    #         print(models_scores[type(models[0]).__name__]['r2'])\n",
    "    #         print('!!!!!!!!')\n",
    "        print(\"95% confidence interval:\")\n",
    "        for i, metric in enumerate(['r2', 'mse', 'mae', 'rmse'], 0):\n",
    "    #         models_scores[model_name][metric].append(cur_scores[i])\n",
    "            print(metric, \"score: %0.5f (+/- %0.5f)\" % (cur_scores[i][0], 2*cur_scores[i][1]))\n",
    "        print('----------------------------------')\n",
    "    print('____________________________________________________________')\n",
    "    print()"
   ]
  },
  {
   "cell_type": "code",
   "execution_count": 14,
   "metadata": {},
   "outputs": [],
   "source": [
    "import warnings\n",
    "warnings.filterwarnings(\"ignore\")"
   ]
  },
  {
   "cell_type": "code",
   "execution_count": 15,
   "metadata": {},
   "outputs": [],
   "source": [
    "def get_models():\n",
    "    huber_reg = HuberRegressor(epsilon= 4.927, alpha= 0.00759)\n",
    "    ridge_reg = linear_model.Ridge(solver='saga', max_iter=5000, alpha= 1)\n",
    "    lasso_reg = linear_model.Lasso(max_iter=4400, alpha=0.69, normalize=False)\n",
    "    dt_reg = tree.DecisionTreeRegressor(min_samples_split=7, min_samples_leaf=9, min_weight_fraction_leaf=0.1, \n",
    "                                                                                                 max_features='sqrt')\n",
    "\n",
    "    pa_reg = PassiveAggressiveRegressor(C=0.44, max_iter=2800, tol=2.4e-5)\n",
    "    xgb_reg = xgb.XGBRegressor(objective=\"reg:linear\", alpha= 0.01, booster='gbtree', eta= 0.323, gamma=0.189, \n",
    "                               reg_lambda=0.48, max_depth=6, verbosity=0)\n",
    "    return [huber_reg, ridge_reg, lasso_reg, dt_reg,  pa_reg, xgb_reg]"
   ]
  },
  {
   "cell_type": "code",
   "execution_count": 16,
   "metadata": {},
   "outputs": [],
   "source": [
    "models = get_models()"
   ]
  },
  {
   "cell_type": "code",
   "execution_count": 17,
   "metadata": {
    "scrolled": false
   },
   "outputs": [
    {
     "name": "stdout",
     "output_type": "stream",
     "text": [
      "Regressor: HuberRegressor\n",
      "95% confidence interval:\n",
      "r2 score: 0.20702 (+/- 0.10525)\n",
      "mse score: 2692.30802 (+/- 447.27599)\n",
      "mae score: 42.05817 (+/- 2.38344)\n",
      "rmse score: 51.84186 (+/- 4.34952)\n",
      "----------------------------------\n",
      "Regressor: Ridge\n",
      "95% confidence interval:\n",
      "r2 score: 0.21397 (+/- 0.07540)\n",
      "mse score: 2668.61018 (+/- 369.91187)\n",
      "mae score: 42.26412 (+/- 2.38238)\n",
      "rmse score: 51.62689 (+/- 3.61892)\n",
      "----------------------------------\n",
      "Regressor: Lasso\n",
      "95% confidence interval:\n",
      "r2 score: 0.03426 (+/- 0.00887)\n",
      "mse score: 3276.31892 (+/- 225.43257)\n",
      "mae score: 49.57186 (+/- 1.89326)\n",
      "rmse score: 57.23065 (+/- 1.97173)\n",
      "----------------------------------\n",
      "Regressor: DecisionTreeRegressor\n",
      "95% confidence interval:\n",
      "r2 score: 0.75630 (+/- 0.06790)\n",
      "mse score: 827.62491 (+/- 250.50734)\n",
      "mae score: 20.99448 (+/- 3.12654)\n",
      "rmse score: 28.68660 (+/- 4.33773)\n",
      "----------------------------------\n",
      "Regressor: PassiveAggressiveRegressor\n",
      "95% confidence interval:\n",
      "r2 score: -0.18146 (+/- 0.07146)\n",
      "mse score: 4009.31331 (+/- 405.87513)\n",
      "mae score: 44.62587 (+/- 4.89903)\n",
      "rmse score: 63.29814 (+/- 3.26094)\n",
      "----------------------------------\n",
      "Regressor: XGBRegressor\n",
      "95% confidence interval:\n",
      "r2 score: 0.93816 (+/- 0.01078)\n",
      "mse score: 209.67940 (+/- 36.94468)\n",
      "mae score: 9.45639 (+/- 0.46077)\n",
      "rmse score: 14.46638 (+/- 1.27020)\n",
      "----------------------------------\n",
      "____________________________________________________________\n",
      "\n"
     ]
    }
   ],
   "source": [
    "print_scores()"
   ]
  },
  {
   "cell_type": "markdown",
   "metadata": {},
   "source": [
    "### Stacking"
   ]
  },
  {
   "cell_type": "code",
   "execution_count": 18,
   "metadata": {},
   "outputs": [],
   "source": [
    "from mlxtend.regressor import StackingRegressor\n"
   ]
  },
  {
   "cell_type": "code",
   "execution_count": 19,
   "metadata": {},
   "outputs": [
    {
     "name": "stdout",
     "output_type": "stream",
     "text": [
      "Metaregressor: HuberRegressor\n",
      "95% confidence interval:\n",
      "r2 score: 0.93884 (+/- 0.01124)\n",
      "mse score: 207.32598 (+/- 37.62785)\n",
      "mae score: 9.39188 (+/- 0.50641)\n",
      "rmse score: 14.38403 (+/- 1.30497)\n",
      "--------------------------------------------------------\n",
      "Metaregressor: Ridge\n",
      "95% confidence interval:\n",
      "r2 score: 0.93891 (+/- 0.01085)\n",
      "mse score: 207.07344 (+/- 36.30497)\n",
      "mae score: 9.38350 (+/- 0.47926)\n",
      "rmse score: 14.37625 (+/- 1.25991)\n",
      "--------------------------------------------------------\n",
      "Metaregressor: Lasso\n",
      "95% confidence interval:\n",
      "r2 score: 0.93876 (+/- 0.01039)\n",
      "mse score: 207.58861 (+/- 34.80951)\n",
      "mae score: 9.40024 (+/- 0.45970)\n",
      "rmse score: 14.39532 (+/- 1.20571)\n",
      "--------------------------------------------------------\n",
      "Metaregressor: DecisionTreeRegressor\n",
      "95% confidence interval:\n",
      "r2 score: 0.80571 (+/- 0.13383)\n",
      "mse score: 654.05774 (+/- 411.93102)\n",
      "mae score: 19.44717 (+/- 6.11473)\n",
      "rmse score: 25.29050 (+/- 7.60224)\n",
      "--------------------------------------------------------\n",
      "Metaregressor: PassiveAggressiveRegressor\n",
      "95% confidence interval:\n",
      "r2 score: 0.93046 (+/- 0.02732)\n",
      "mse score: 236.36466 (+/- 101.26149)\n",
      "mae score: 10.62439 (+/- 2.36716)\n",
      "rmse score: 15.29409 (+/- 3.13395)\n",
      "--------------------------------------------------------\n",
      "Metaregressor: XGBRegressor\n",
      "95% confidence interval:\n",
      "r2 score: 0.93756 (+/- 0.01054)\n",
      "mse score: 211.68046 (+/- 35.23410)\n",
      "mae score: 9.31981 (+/- 0.43990)\n",
      "rmse score: 14.53666 (+/- 1.21010)\n",
      "--------------------------------------------------------\n"
     ]
    }
   ],
   "source": [
    "for i in range(len(models)):\n",
    "    models = get_models()\n",
    "    print(\"Metaregressor:\", type(models[i]).__name__)\n",
    "\n",
    "    stregr = StackingRegressor(regressors=models, meta_regressor=models[i])\n",
    "    scoring = ['r2', 'neg_mean_squared_error', 'neg_mean_absolute_error']\n",
    "    scores = cross_validate(stregr, X, y, scoring=scoring, cv=5)\n",
    "\n",
    "    r2_score_mean = scores['test_r2'].mean()\n",
    "    r2_score_std = scores['test_r2'].std()\n",
    "    mse_score_mean = -scores['test_neg_mean_squared_error'].mean()\n",
    "    mse_score_std = scores['test_neg_mean_squared_error'].std()\n",
    "    mae_score_mean = -scores['test_neg_mean_absolute_error'].mean()\n",
    "    mae_score_std = scores['test_neg_mean_absolute_error'].std()\n",
    "    rmse_score_mean = np.sqrt(-scores['test_neg_mean_squared_error']).mean()\n",
    "    rmse_score_std = np.sqrt(-scores['test_neg_mean_squared_error']).std()\n",
    "\n",
    "    cur_scores = [(r2_score_mean, r2_score_std), (mse_score_mean, mse_score_std),\\\n",
    "                      (mae_score_mean, mae_score_std), (rmse_score_mean, rmse_score_std)]\n",
    "    #         print('!!!!!!!!')\n",
    "    #         print(\"TEST\")\n",
    "    #         print(models_scores[type(models[0]).__name__]['r2'])\n",
    "    #         print('!!!!!!!!')\n",
    "    print(\"95% confidence interval:\")\n",
    "    for i, metric in enumerate(['r2', 'mse', 'mae', 'rmse'], 0):\n",
    "    #         models_scores[model_name][metric].append(cur_scores[i])\n",
    "        print(metric, \"score: %0.5f (+/- %0.5f)\" % (cur_scores[i][0], 2*cur_scores[i][1]))\n",
    "    print('--------------------------------------------------------')"
   ]
  },
  {
   "cell_type": "code",
   "execution_count": 20,
   "metadata": {},
   "outputs": [
    {
     "name": "stdout",
     "output_type": "stream",
     "text": [
      "Metaregressor: HuberRegressor\n",
      "95% confindence interval:\n",
      "r2 score: 0.93897 (+/- 0.01000)\n",
      "mse score: 206.95282 (+/- 34.87114)\n",
      "mae score: 9.38817 (+/- 0.45054)\n",
      "rmse score: 14.37324 (+/- 1.20488)\n",
      "--------------------------------------------------------\n",
      "Metaregressor: Ridge\n",
      "95% confindence interval:\n",
      "r2 score: 0.93859 (+/- 0.01054)\n",
      "mse score: 208.17779 (+/- 35.16671)\n",
      "mae score: 9.42246 (+/- 0.49417)\n",
      "rmse score: 14.41553 (+/- 1.21710)\n",
      "--------------------------------------------------------\n",
      "Metaregressor: Lasso\n",
      "95% confindence interval:\n",
      "r2 score: 0.93886 (+/- 0.01009)\n",
      "mse score: 207.27428 (+/- 33.92486)\n",
      "mae score: 9.39508 (+/- 0.42658)\n",
      "rmse score: 14.38505 (+/- 1.17422)\n",
      "--------------------------------------------------------\n",
      "Metaregressor: DecisionTreeRegressor\n",
      "95% confindence interval:\n",
      "r2 score: 0.79576 (+/- 0.08452)\n",
      "mse score: 691.87188 (+/- 277.70342)\n",
      "mae score: 19.90657 (+/- 3.65211)\n",
      "rmse score: 26.14870 (+/- 5.69826)\n",
      "--------------------------------------------------------\n",
      "Metaregressor: PassiveAggressiveRegressor\n",
      "95% confindence interval:\n",
      "r2 score: 0.93698 (+/- 0.00658)\n",
      "mse score: 213.76393 (+/- 26.11434)\n",
      "mae score: 9.78907 (+/- 0.78524)\n",
      "rmse score: 14.61400 (+/- 0.88273)\n",
      "--------------------------------------------------------\n",
      "Metaregressor: XGBRegressor\n",
      "95% confindence interval:\n",
      "r2 score: 0.89432 (+/- 0.02293)\n",
      "mse score: 357.56652 (+/- 62.17741)\n",
      "mae score: 13.86251 (+/- 0.93991)\n",
      "rmse score: 18.89087 (+/- 1.67497)\n",
      "--------------------------------------------------------\n"
     ]
    }
   ],
   "source": [
    "for i in range(len(models)):\n",
    "    models = get_models()\n",
    "    meta_reg = models[i]\n",
    "    del models[i]\n",
    "    \n",
    "    stregr = StackingRegressor(regressors=models, meta_regressor=meta_reg)\n",
    "    scoring = ['r2', 'neg_mean_squared_error', 'neg_mean_absolute_error']\n",
    "    \n",
    "    print(\"Metaregressor:\", type(meta_reg).__name__)\n",
    "    \n",
    "    scores = cross_validate(stregr, X, y, scoring=scoring, cv=5)\n",
    "\n",
    "    r2_score_mean = scores['test_r2'].mean()\n",
    "    r2_score_std = scores['test_r2'].std()\n",
    "    mse_score_mean = -scores['test_neg_mean_squared_error'].mean()\n",
    "    mse_score_std = scores['test_neg_mean_squared_error'].std()\n",
    "    mae_score_mean = -scores['test_neg_mean_absolute_error'].mean()\n",
    "    mae_score_std = scores['test_neg_mean_absolute_error'].std()\n",
    "    rmse_score_mean = np.sqrt(-scores['test_neg_mean_squared_error']).mean()\n",
    "    rmse_score_std = np.sqrt(-scores['test_neg_mean_squared_error']).std()\n",
    "\n",
    "    cur_scores = [(r2_score_mean, r2_score_std), (mse_score_mean, mse_score_std),\\\n",
    "                      (mae_score_mean, mae_score_std), (rmse_score_mean, rmse_score_std)]\n",
    "    #         print('!!!!!!!!')\n",
    "    #         print(\"TEST\")\n",
    "    #         print(models_scores[type(models[0]).__name__]['r2'])\n",
    "    #         print('!!!!!!!!')\n",
    "    print(\"95% confindence interval:\")\n",
    "    for i, metric in enumerate(['r2', 'mse', 'mae', 'rmse'], 0):\n",
    "    #         models_scores[model_name][metric].append(cur_scores[i])\n",
    "        print(metric, \"score: %0.5f (+/- %0.5f)\" % (cur_scores[i][0], 2*cur_scores[i][1]))\n",
    "    print('--------------------------------------------------------')"
   ]
  }
 ],
 "metadata": {
  "kernelspec": {
   "display_name": "Python 3",
   "language": "python",
   "name": "python3"
  },
  "language_info": {
   "codemirror_mode": {
    "name": "ipython",
    "version": 3
   },
   "file_extension": ".py",
   "mimetype": "text/x-python",
   "name": "python",
   "nbconvert_exporter": "python",
   "pygments_lexer": "ipython3",
   "version": "3.7.1"
  }
 },
 "nbformat": 4,
 "nbformat_minor": 2
}
