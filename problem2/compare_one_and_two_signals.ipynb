{
 "cells": [
  {
   "cell_type": "code",
   "execution_count": 1,
   "metadata": {},
   "outputs": [],
   "source": [
    "import matplotlib.pyplot as plt\n",
    "import numpy as np\n",
    "from sklearn.model_selection import train_test_split\n",
    "from sklearn.linear_model import LinearRegression\n",
    "from sklearn.metrics import r2_score, mean_absolute_error, mean_squared_error\n",
    "from sklearn.model_selection import cross_validate\n",
    "import tqdm"
   ]
  },
  {
   "cell_type": "code",
   "execution_count": 2,
   "metadata": {},
   "outputs": [],
   "source": [
    "def get_data(is_one_signal=True):\n",
    "    file = open('./data/shashlik_61_pulses.txt', 'r')\n",
    "    data = file.readlines()\n",
    "    data = np.array([list(map(float, experiment.split())) for experiment in data])\n",
    "   \n",
    "    X = data[:, 2:]\n",
    "    y_baseline = data[:, 1]\n",
    "    y = data[:, 0]\n",
    "    \n",
    "    \n",
    "    X = np.array([experiment - np.max(experiment) for experiment in X])\n",
    "    X = np.array([experiment/-np.min(experiment) for experiment in X])\n",
    "\n",
    "    y = np.round(y)\n",
    "    y = y.astype(int)\n",
    "    \n",
    "    if is_one_signal:\n",
    "        mean_argmin = int(np.argmin(X, axis=1).mean())\n",
    "        for i in range(len(X)):\n",
    "            cur_argmin = np.argmin(X[i])\n",
    "            X[i] = signal_cyclic_shift(X[i], mean_argmin - cur_argmin)\n",
    "            y[i] = y[i] + mean_argmin - cur_argmin;\n",
    "            \n",
    "#         X = np.array([signal_cyclic_shift(signal, mean_argmin - np.argmin(signal)) for signal in X])\n",
    "#         y = np.array([ref_time - np.argmin])\n",
    "    ## Let's shift each signal so that reference time matches for each signal\n",
    "\n",
    "    else:\n",
    "        mean_ref_time = int(y.mean())\n",
    "        X = np.array([signal_cyclic_shift(signal, mean_ref_time - y[i]) for i, signal in enumerate(X, 0)])\n",
    "        y = np.array([mean_ref_time]*len(y))\n",
    "\n",
    "    return X, y\n",
    "\n",
    "def get_freq_data(X, freq=1, start_point=384):\n",
    "    X_freq = np.concatenate([X[:, start_point::-freq][:, ::-1], X[:, start_point + freq::freq]], axis=1)\n",
    "    return X_freq\n",
    "\n",
    "def signal_cyclic_shift(signal, tau):\n",
    "    signal_start = signal[:-tau]\n",
    "    \n",
    "    new_signal = np.concatenate([signal[-tau:], signal_start])\n",
    "    \n",
    "    return new_signal"
   ]
  },
  {
   "cell_type": "code",
   "execution_count": 3,
   "metadata": {},
   "outputs": [],
   "source": [
    "X_two_signals, y_two_signals = get_data(is_one_signal=False)\n",
    "\n",
    "mean_argmin =  int(np.argmin(X_two_signals, axis=1).mean())"
   ]
  },
  {
   "cell_type": "code",
   "execution_count": 4,
   "metadata": {},
   "outputs": [],
   "source": [
    "X_two_signals_train, X_two_signals_test, y_two_signals_train, y_two_signals_test = train_test_split(X_two_signals,\\\n",
    "                                                                                    y_two_signals, test_size=0.2, shuffle=False)"
   ]
  },
  {
   "cell_type": "code",
   "execution_count": 5,
   "metadata": {},
   "outputs": [],
   "source": [
    "def get_ref_time(first_impulse, second_impulse, first_ref_time, second_ref_time):\n",
    "    if np.min(first_impulse) < np.min(second_impulse):\n",
    "         return first_ref_time\n",
    "    else:\n",
    "        return second_ref_time"
   ]
  },
  {
   "cell_type": "code",
   "execution_count": 6,
   "metadata": {},
   "outputs": [],
   "source": [
    "import random\n",
    "\n",
    "def generate_multi_signal(X_origin, y_origin, tau, alpha, to_plot=False):\n",
    "    first_idx, second_idx = np.random.choice(X_origin.shape[0], 2, replace=False)\n",
    "    first_impulse = X_origin[first_idx]\n",
    "    second_impulse = X_origin[second_idx]\n",
    "    \n",
    "    \n",
    "    first_ref_time = y_origin[first_idx]\n",
    "    second_ref_time = y_origin[second_idx]\n",
    "    \n",
    "    \n",
    "#     print(\"SHIFT:\", tau)\n",
    "#     print(\"BEFORE SHIFT:\", first_ref_time, second_ref_time)\n",
    "    ### Randomly choose what signal to shift\n",
    "#     if random.choice([True, False]):\n",
    "#         first_impulse = signal_cyclic_shift(first_impulse, tau)\n",
    "#         first_ref_time += tau\n",
    "#     else:\n",
    "#         second_impulse = signal_cyclic_shift(second_impulse, tau)\n",
    "#         second_ref_time += tau\n",
    "    second_impulse = signal_cyclic_shift(second_impulse, tau)\n",
    "    second_ref_time += tau\n",
    "    \n",
    "#     print(\"AFTER SHIFT:\", first_ref_time, second_ref_time)\n",
    "    \n",
    "    multi_impulse = first_impulse + second_impulse*alpha\n",
    "    multi_impulse /= -np.min(multi_impulse)\n",
    "    \n",
    "    first_impulse_shifted = signal_cyclic_shift(first_impulse, mean_argmin - np.argmin(first_impulse))\n",
    "    second_impulse_shifted = signal_cyclic_shift(second_impulse, mean_argmin - np.argmin(second_impulse))\n",
    "    multi_impulse_shifted = signal_cyclic_shift(multi_impulse, mean_argmin - np.argmin(multi_impulse))\n",
    "\n",
    "#     print(mean_argmin - np.argmin(multi_impulse))\n",
    "    first_ref_time +=  mean_argmin - np.argmin(multi_impulse)\n",
    "    second_ref_time +=  mean_argmin - np.argmin(multi_impulse)\n",
    "    \n",
    "    if to_plot:\n",
    "        plt.plot(first_impulse)\n",
    "        plt.plot(second_impulse)\n",
    "        plt.plot(multi_impulse_shifted)\n",
    "        plt.legend(['First signal', 'Second signal', 'Sum of signals'])\n",
    "        plt.show()\n",
    "        \n",
    "    ref_time = get_ref_time(first_impulse, second_impulse*alpha, first_ref_time, second_ref_time)\n",
    "    \n",
    "    return {'first_impulse': first_impulse_shifted,\\\n",
    "            'second_impulse': second_impulse_shifted,\\\n",
    "            'ref_time': ref_time,\\\n",
    "            'multi_impulse': multi_impulse_shifted}"
   ]
  },
  {
   "cell_type": "code",
   "execution_count": 7,
   "metadata": {},
   "outputs": [],
   "source": [
    "from sklearn.utils import shuffle\n",
    "\n",
    "def prepare_data(X_origin, y_origin, tau_range, alpha_range, data_size=1000, to_print=False):    \n",
    "    X = []\n",
    "    y = []\n",
    "    alpha_values = []\n",
    "    tau_values = []\n",
    "    for i in range(data_size):\n",
    "        alpha = random.choice(alpha_range)\n",
    "        tau = random.choice(tau_range)\n",
    "        signal = generate_multi_signal(X_origin, y_origin, tau, alpha)\n",
    "        \n",
    "        \n",
    "        X.append(signal['multi_impulse'])\n",
    "        y.append(signal['ref_time']) \n",
    "        \n",
    "        alpha_values.append(alpha)\n",
    "        tau_values.append(tau)\n",
    "   \n",
    "    X = np.array(X)\n",
    "    y = np.array(y)\n",
    "    \n",
    "    if to_print:\n",
    "        print(\"X shape:\", X.shape)\n",
    "        print(\"y shape:\", y.shape)\n",
    "    \n",
    "    X, y = shuffle(X, y)\n",
    "\n",
    "#     plt.scatter(alpha_values, tau_values)\n",
    "#     plt.show()\n",
    "    \n",
    "    return X, y"
   ]
  },
  {
   "cell_type": "code",
   "execution_count": 8,
   "metadata": {},
   "outputs": [],
   "source": [
    "from scipy.stats import truncnorm\n",
    "\n",
    "def get_truncated_normal(mean=0, sd=1, low=0, upp=10):\n",
    "    return truncnorm(\n",
    "        (low - mean) / sd, (upp - mean) / sd, loc=mean, scale=sd)\n",
    "\n",
    "\n",
    "tau_train_range = list(map(int, get_truncated_normal(mean=0, sd=10, low=-40, upp=40).rvs(1000)))\n",
    "tau_test_range = list(map(int, get_truncated_normal(mean=0, sd=10, low=-40, upp=40).rvs(1000)))\n",
    "alpha_train_range = np.array([np.around(10**i, decimals=4) for i in np.arange(-3, 0.05, 0.05)])\n",
    "alpha_test_range = np.array([0, 0.01, 0.05, 0.1, 0.5, 1])\n",
    "freq_values = [1, 25, 50, 75, 100]"
   ]
  },
  {
   "cell_type": "code",
   "execution_count": 9,
   "metadata": {},
   "outputs": [],
   "source": [
    "import xgboost as xgb\n",
    "from sklearn.model_selection import cross_validate\n",
    "from math import sqrt"
   ]
  },
  {
   "cell_type": "code",
   "execution_count": 10,
   "metadata": {
    "scrolled": true
   },
   "outputs": [
    {
     "data": {
      "image/png": "[encoded data removed]",
      "text/plain": [
       "<Figure size 432x288 with 1 Axes>"
      ]
     },
     "metadata": {
      "needs_background": "light"
     },
     "output_type": "display_data"
    }
   ],
   "source": [
    "plt.title(\"Alpha train distribution\")\n",
    "plt.hist(alpha_train_range)\n",
    "plt.show()"
   ]
  },
  {
   "cell_type": "code",
   "execution_count": 11,
   "metadata": {},
   "outputs": [],
   "source": [
    "from sklearn.metrics import mean_squared_error"
   ]
  },
  {
   "cell_type": "code",
   "execution_count": 12,
   "metadata": {},
   "outputs": [],
   "source": [
    "two_signals_scores = {alpha:[] for alpha in alpha_test_range}"
   ]
  },
  {
   "cell_type": "code",
   "execution_count": 13,
   "metadata": {},
   "outputs": [],
   "source": [
    "model = xgb.XGBRegressor(objective=\"reg:linear\", alpha= 0.01, booster='gbtree', eta= 0.323, gamma=0.189, \n",
    "                               reg_lambda=0.48, max_depth=6, verbosity=0)"
   ]
  },
  {
   "cell_type": "code",
   "execution_count": 14,
   "metadata": {},
   "outputs": [
    {
     "name": "stderr",
     "output_type": "stream",
     "text": [
      "100%|██████████| 6/6 [00:01<00:00,  3.56it/s]\n",
      "100%|██████████| 6/6 [00:01<00:00,  3.75it/s]\n",
      "100%|██████████| 6/6 [00:01<00:00,  3.71it/s]\n",
      "100%|██████████| 6/6 [00:01<00:00,  3.77it/s]\n",
      "100%|██████████| 6/6 [00:03<00:00,  1.95it/s]\n"
     ]
    }
   ],
   "source": [
    "TEST_SIZE = len(X_two_signals_test)\n",
    "TIME_SCALE_COEF = 0.2\n",
    "\n",
    "for freq in freq_values:\n",
    "    X_train, y_train = prepare_data(X_two_signals_train, y_two_signals_train, tau_train_range, alpha_train_range, data_size=len(X_two_signals))\n",
    "    X_train_freq = get_freq_data(X_train, freq=freq)\n",
    "    model.fit(X_train_freq, y_train)\n",
    "    \n",
    "    for alpha in tqdm.tqdm(alpha_test_range):\n",
    "        X_test_cur, y_test_cur = prepare_data(X_two_signals_test, y_two_signals_test, tau_test_range, [alpha], data_size=TEST_SIZE)\n",
    "        X_test_freq = get_freq_data(X_test_cur, freq=freq)\n",
    "        y_pred = model.predict(X_test_freq)\n",
    "        two_signals_scores[alpha].append(sqrt(mean_squared_error(y_pred, y_test_cur)) * TIME_SCALE_COEF)"
   ]
  },
  {
   "cell_type": "code",
   "execution_count": 15,
   "metadata": {},
   "outputs": [],
   "source": [
    "alpha_one_signal_test = [0, 0.01, 0.05] \n",
    "one_signal_scores = {alpha: [] for alpha in alpha_one_signal_test} \n",
    "one_signal_scores[-1] = [] ### -1 - predict for one signal data"
   ]
  },
  {
   "cell_type": "code",
   "execution_count": 16,
   "metadata": {},
   "outputs": [],
   "source": [
    "X_one_signal, y_one_signal = get_data(is_one_signal=True)"
   ]
  },
  {
   "cell_type": "code",
   "execution_count": 17,
   "metadata": {},
   "outputs": [],
   "source": [
    "X_one_signal_train, X_one_signal_test, y_one_signal_train, y_one_signal_test = train_test_split(X_one_signal,\\\n",
    "                                                                                    y_one_signal, test_size=0.2, shuffle=False)"
   ]
  },
  {
   "cell_type": "code",
   "execution_count": 18,
   "metadata": {},
   "outputs": [
    {
     "name": "stderr",
     "output_type": "stream",
     "text": [
      "100%|██████████| 5/5 [00:55<00:00, 11.03s/it]\n"
     ]
    }
   ],
   "source": [
    "for freq in tqdm.tqdm(freq_values):\n",
    "    X_train_freq = get_freq_data(X_one_signal_train, freq=freq, start_point=mean_argmin)\n",
    "    model.fit(X_train_freq, y_one_signal_train)\n",
    "    X_test_freq = get_freq_data(X_one_signal_test, freq=freq, start_point=mean_argmin)\n",
    "    y_pred = model.predict(X_test_freq)\n",
    "    one_signal_scores[-1].append(sqrt(mean_squared_error(y_pred, y_one_signal_test)) * TIME_SCALE_COEF)"
   ]
  },
  {
   "cell_type": "code",
   "execution_count": 19,
   "metadata": {
    "scrolled": true
   },
   "outputs": [
    {
     "name": "stderr",
     "output_type": "stream",
     "text": [
      "100%|██████████| 3/3 [00:00<00:00,  3.56it/s]\n",
      "100%|██████████| 3/3 [00:00<00:00,  3.75it/s]\n",
      "100%|██████████| 3/3 [00:00<00:00,  3.69it/s]\n",
      "100%|██████████| 3/3 [00:00<00:00,  3.69it/s]\n",
      "100%|██████████| 3/3 [00:00<00:00,  3.69it/s]\n"
     ]
    }
   ],
   "source": [
    "for freq in freq_values:\n",
    "    X_train_freq = get_freq_data(X_one_signal_train, freq=freq, start_point=mean_argmin)\n",
    "    model.fit(X_train_freq, y_one_signal_train)\n",
    "    \n",
    "    for alpha in tqdm.tqdm(alpha_one_signal_test):\n",
    "        X_test_cur, y_test_cur = prepare_data(X_two_signals_test, y_two_signals_test, tau_test_range, [alpha], data_size=TEST_SIZE)\n",
    "        X_test_freq = get_freq_data(X_test_cur, freq=freq)\n",
    "        y_pred = model.predict(X_test_freq)\n",
    "        one_signal_scores[alpha].append(sqrt(mean_squared_error(y_pred, y_test_cur)) * TIME_SCALE_COEF)"
   ]
  },
  {
   "cell_type": "code",
   "execution_count": 20,
   "metadata": {
    "scrolled": true
   },
   "outputs": [
    {
     "data": {
      "image/png": "[encoded data removed]",
      "text/plain": [
       "<Figure size 432x288 with 1 Axes>"
      ]
     },
     "metadata": {
      "needs_background": "light"
     },
     "output_type": "display_data"
    }
   ],
   "source": [
    "ORIGIN_FREQ = 5000\n",
    "\n",
    "\n",
    "plt.title(\"One signal model\")\n",
    "for alpha in [-1] + alpha_one_signal_test:\n",
    "    plt.plot(one_signal_scores[alpha])\n",
    "plt.ylabel(\"RMSE [ns]\")\n",
    "plt.xlabel(\"Sampling frequency [MHz]\")\n",
    "plt.xticks(range(len(freq_values)), [int(ORIGIN_FREQ/freq) for freq in freq_values])\n",
    "plt.legend([\"One signal\"] + [\"Two signals, alpha=\" + str(a) for a in alpha_one_signal_test])\n",
    "plt.show()"
   ]
  },
  {
   "cell_type": "code",
   "execution_count": 21,
   "metadata": {
    "scrolled": true
   },
   "outputs": [
    {
     "data": {
      "image/png": "[encoded data removed]",
      "text/plain": [
       "<Figure size 432x288 with 1 Axes>"
      ]
     },
     "metadata": {
      "needs_background": "light"
     },
     "output_type": "display_data"
    }
   ],
   "source": [
    "plt.plot(one_signal_scores[-1])\n",
    "\n",
    "for alpha in two_signals_scores.keys():\n",
    "    plt.plot(two_signals_scores[alpha])\n",
    "\n",
    "plt.ylabel(\"RMSE [ns]\")\n",
    "plt.xlabel(\"Sampling frequency [MHz]\")\n",
    "plt.xticks(range(len(freq_values)), [int(ORIGIN_FREQ/freq) for freq in freq_values])\n",
    "plt.legend(['one signal'] + ['two signals, alpha=' + str(key) for key in two_signals_scores.keys()])\n",
    "plt.show()"
   ]
  },
  {
   "cell_type": "code",
   "execution_count": 23,
   "metadata": {
    "scrolled": true
   },
   "outputs": [
    {
     "data": {
      "image/png": "[encoded data removed]",
      "text/plain": [
       "<Figure size 432x288 with 1 Axes>"
      ]
     },
     "metadata": {
      "needs_background": "light"
     },
     "output_type": "display_data"
    }
   ],
   "source": [
    "plt.plot(one_signal_scores[-1])\n",
    "plt.plot(two_signals_scores[0])\n",
    "plt.plot(two_signals_scores[0.01])\n",
    "plt.ylabel(\"RMSE [ns]\")\n",
    "plt.xlabel(\"Sampling frequency [MHz]\")\n",
    "plt.xticks(range(len(freq_values)), [int(ORIGIN_FREQ/freq) for freq in freq_values])\n",
    "plt.legend(['one signal', 'two signals, alpha=0', 'two signals, alpha=0.01'])\n",
    "plt.show()"
   ]
  },
  {
   "cell_type": "markdown",
   "metadata": {},
   "source": [
    "### -----------------------------------------------"
   ]
  },
  {
   "cell_type": "code",
   "execution_count": 33,
   "metadata": {},
   "outputs": [],
   "source": [
    "X_two_signals, y_two_signals = get_data(is_one_signal=False)\n",
    "mean_argmin =  int(np.argmin(X_two_signals, axis=1).mean())\n",
    "\n",
    "X_two_signals_train, X_two_signals_test, y_two_signals_train, y_two_signals_test = train_test_split(X_two_signals,\\\n",
    "                                                                                    y_two_signals, test_size=0.2, shuffle=False)"
   ]
  },
  {
   "cell_type": "code",
   "execution_count": 34,
   "metadata": {},
   "outputs": [],
   "source": [
    "X_one_signal, y_one_signal = get_data(is_one_signal=True)"
   ]
  },
  {
   "cell_type": "code",
   "execution_count": 35,
   "metadata": {},
   "outputs": [],
   "source": [
    "X_one_signal_train, X_one_signal_test, y_one_signal_train, y_one_signal_test = train_test_split(X_one_signal,\\\n",
    "                                                                                    y_one_signal, test_size=0.2, shuffle=False)"
   ]
  },
  {
   "cell_type": "code",
   "execution_count": 37,
   "metadata": {},
   "outputs": [
    {
     "data": {
      "text/plain": [
       "(1570, 1024)"
      ]
     },
     "execution_count": 37,
     "metadata": {},
     "output_type": "execute_result"
    }
   ],
   "source": [
    "X_one_signal_test.shape"
   ]
  },
  {
   "cell_type": "code",
   "execution_count": 38,
   "metadata": {},
   "outputs": [
    {
     "data": {
      "text/plain": [
       "(1570, 1024)"
      ]
     },
     "execution_count": 38,
     "metadata": {},
     "output_type": "execute_result"
    }
   ],
   "source": [
    "X_two_signals_test.shape"
   ]
  },
  {
   "cell_type": "code",
   "execution_count": 39,
   "metadata": {},
   "outputs": [],
   "source": [
    "for i in range(len(X_two_signals_test)):\n",
    "    cur_argmin = np.argmin(X_two_signals_test[i])\n",
    "    X_two_signals_test[i] = signal_cyclic_shift(X_two_signals_test[i], mean_argmin - cur_argmin)\n",
    "    y_two_signals_test[i] += mean_argmin - cur_argmin"
   ]
  },
  {
   "cell_type": "code",
   "execution_count": 40,
   "metadata": {},
   "outputs": [
    {
     "data": {
      "text/plain": [
       "(array([  6.,  19., 287., 353., 413., 457.,  31.,   2.,   0.,   2.]),\n",
       " array([160. , 161.4, 162.8, 164.2, 165.6, 167. , 168.4, 169.8, 171.2,\n",
       "        172.6, 174. ]),\n",
       " <a list of 10 Patch objects>)"
      ]
     },
     "execution_count": 40,
     "metadata": {},
     "output_type": "execute_result"
    },
    {
     "data": {
      "image/png": "[encoded data removed]",
      "text/plain": [
       "<Figure size 432x288 with 1 Axes>"
      ]
     },
     "metadata": {
      "needs_background": "light"
     },
     "output_type": "display_data"
    }
   ],
   "source": [
    "plt.hist(y_one_signal_test)"
   ]
  },
  {
   "cell_type": "code",
   "execution_count": 41,
   "metadata": {},
   "outputs": [
    {
     "data": {
      "text/plain": [
       "(array([  6.,  19., 287., 353., 413., 457.,  31.,   2.,   0.,   2.]),\n",
       " array([160. , 161.4, 162.8, 164.2, 165.6, 167. , 168.4, 169.8, 171.2,\n",
       "        172.6, 174. ]),\n",
       " <a list of 10 Patch objects>)"
      ]
     },
     "execution_count": 41,
     "metadata": {},
     "output_type": "execute_result"
    },
    {
     "data": {
      "image/png": "[encoded data removed]",
      "text/plain": [
       "<Figure size 432x288 with 1 Axes>"
      ]
     },
     "metadata": {
      "needs_background": "light"
     },
     "output_type": "display_data"
    }
   ],
   "source": [
    "plt.hist(y_two_signals_test)"
   ]
  },
  {
   "cell_type": "code",
   "execution_count": 42,
   "metadata": {},
   "outputs": [
    {
     "data": {
      "text/plain": [
       "array([-0.01551657, -0.01423485, -0.01425427, ..., -0.01294666,\n",
       "       -0.01358752, -0.01360694])"
      ]
     },
     "execution_count": 42,
     "metadata": {},
     "output_type": "execute_result"
    }
   ],
   "source": [
    "X_two_signals_test[0]"
   ]
  },
  {
   "cell_type": "code",
   "execution_count": 31,
   "metadata": {},
   "outputs": [
    {
     "data": {
      "text/plain": [
       "array([-0.01551657, -0.01423485, -0.01425427, ..., -0.01294666,\n",
       "       -0.01358752, -0.01360694])"
      ]
     },
     "execution_count": 31,
     "metadata": {},
     "output_type": "execute_result"
    }
   ],
   "source": [
    "X_one_signal_test[0]"
   ]
  },
  {
   "cell_type": "markdown",
   "metadata": {},
   "source": [
    "### --------------------------------------------"
   ]
  }
 ],
 "metadata": {
  "kernelspec": {
   "display_name": "Python 3",
   "language": "python",
   "name": "python3"
  },
  "language_info": {
   "codemirror_mode": {
    "name": "ipython",
    "version": 3
   },
   "file_extension": ".py",
   "mimetype": "text/x-python",
   "name": "python",
   "nbconvert_exporter": "python",
   "pygments_lexer": "ipython3",
   "version": "3.7.4"
  }
 },
 "nbformat": 4,
 "nbformat_minor": 2
}
