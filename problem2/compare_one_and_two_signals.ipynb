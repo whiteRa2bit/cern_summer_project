{
 "cells": [
  {
   "cell_type": "code",
   "execution_count": 1,
   "metadata": {},
   "outputs": [],
   "source": [
    "import matplotlib.pyplot as plt\n",
    "import numpy as np\n",
    "from sklearn.model_selection import train_test_split\n",
    "from sklearn.linear_model import LinearRegression\n",
    "from sklearn.metrics import r2_score, mean_absolute_error, mean_squared_error\n",
    "from sklearn.model_selection import cross_validate\n",
    "import tqdm"
   ]
  },
  {
   "cell_type": "code",
   "execution_count": 2,
   "metadata": {},
   "outputs": [],
   "source": [
    "def get_data(is_one_signal=True):\n",
    "    file = open('./data/shashlik_61_pulses.txt', 'r')\n",
    "    data = file.readlines()\n",
    "    data = np.array([list(map(float, experiment.split())) for experiment in data])\n",
    "   \n",
    "    X = data[:, 2:]\n",
    "    y_baseline = data[:, 1]\n",
    "    y = data[:, 0]\n",
    "    \n",
    "    \n",
    "    X = np.array([experiment - np.max(experiment) for experiment in X])\n",
    "    X = np.array([experiment/-np.min(experiment) for experiment in X])\n",
    "\n",
    "    y = np.round(y)\n",
    "    y = y.astype(int)\n",
    "    \n",
    "    if is_one_signal:\n",
    "        mean_argmin = int(np.argmin(X_origin, axis=1).mean())\n",
    "        \n",
    "        for i in range(len(X)):\n",
    "            cur_argmin = np.argmin(X[i])\n",
    "            X[i] = signal_cyclic_shift(X[i], mean_argmin - cur_argmin)\n",
    "            y[i] = y[i] + mean_argmin - cur_argmin;\n",
    "            \n",
    "#         X = np.array([signal_cyclic_shift(signal, mean_argmin - np.argmin(signal)) for signal in X])\n",
    "#         y = np.array([ref_time - np.argmin])\n",
    "    ## Let's shift each signal so that reference time matches for each signal\n",
    "\n",
    "    else:\n",
    "        mean_ref_time = int(y.mean())\n",
    "        X = np.array([signal_cyclic_shift(signal, mean_ref_time - y[i]) for i, signal in enumerate(X, 0)])\n",
    "        y = np.array([mean_ref_time]*len(y))\n",
    "\n",
    "    return X, y\n",
    "\n",
    "def get_freq_data(X, freq=1, start_point=384):\n",
    "    X_freq = np.concatenate([X[:, start_point::-freq][:, ::-1], X[:, start_point + freq::freq]], axis=1)\n",
    "    return X_freq\n",
    "\n",
    "def signal_cyclic_shift(signal, tau):\n",
    "    signal_start = signal[:-tau]\n",
    "    \n",
    "    new_signal = np.concatenate([signal[-tau:], signal_start])\n",
    "    \n",
    "    return new_signal"
   ]
  },
  {
   "cell_type": "code",
   "execution_count": 3,
   "metadata": {},
   "outputs": [],
   "source": [
    "X_origin, y_origin = get_data(is_one_signal=False)\n",
    "\n",
    "mean_argmin =  int(np.argmin(X_origin, axis=1).mean())"
   ]
  },
  {
   "cell_type": "code",
   "execution_count": 4,
   "metadata": {},
   "outputs": [],
   "source": [
    "def get_ref_time(first_impulse, second_impulse, first_ref_time, second_ref_time):\n",
    "    if np.min(first_impulse) < np.min(second_impulse):\n",
    "         return first_ref_time\n",
    "    else:\n",
    "        return second_ref_time"
   ]
  },
  {
   "cell_type": "code",
   "execution_count": 5,
   "metadata": {},
   "outputs": [],
   "source": [
    "import random\n",
    "\n",
    "def generate_multi_signal(X_origin, y_origin, tau, alpha, to_plot=False):\n",
    "    first_idx, second_idx = np.random.choice(X_origin.shape[0], 2, replace=False)\n",
    "    first_impulse = X_origin[first_idx]\n",
    "    second_impulse = X_origin[second_idx]\n",
    "    \n",
    "    first_ref_time = y_origin[first_idx]\n",
    "    second_ref_time = y_origin[second_idx]\n",
    "    \n",
    "    \n",
    "#     print(\"SHIFT:\", tau)\n",
    "#     print(\"BEFORE SHIFT:\", first_ref_time, second_ref_time)\n",
    "    ### Randomly choose what signal to shift\n",
    "#     if random.choice([True, False]):\n",
    "#         first_impulse = signal_cyclic_shift(first_impulse, tau)\n",
    "#         first_ref_time += tau\n",
    "#     else:\n",
    "#         second_impulse = signal_cyclic_shift(second_impulse, tau)\n",
    "#         second_ref_time += tau\n",
    "    second_impulse = signal_cyclic_shift(second_impulse, tau)\n",
    "    second_ref_time += tau\n",
    "    \n",
    "#     print(\"AFTER SHIFT:\", first_ref_time, second_ref_time)\n",
    "    \n",
    "    multi_impulse = first_impulse + second_impulse*alpha\n",
    "    multi_impulse /= -np.min(multi_impulse)\n",
    "    \n",
    "    first_impulse_shifted = signal_cyclic_shift(first_impulse, mean_argmin - np.argmin(first_impulse))\n",
    "    second_impulse_shifted = signal_cyclic_shift(second_impulse, mean_argmin - np.argmin(second_impulse))\n",
    "    multi_impulse_shifted = signal_cyclic_shift(multi_impulse, mean_argmin - np.argmin(multi_impulse))\n",
    "\n",
    "#     print(mean_argmin - np.argmin(multi_impulse))\n",
    "    first_ref_time +=  mean_argmin - np.argmin(multi_impulse)\n",
    "    second_ref_time +=  mean_argmin - np.argmin(multi_impulse)\n",
    "    \n",
    "    if to_plot:\n",
    "        plt.plot(first_impulse)\n",
    "        plt.plot(second_impulse)\n",
    "        plt.plot(multi_impulse_shifted)\n",
    "        plt.legend(['First signal', 'Second signal', 'Sum of signals'])\n",
    "        plt.show()\n",
    "        \n",
    "    ref_time = get_ref_time(first_impulse, second_impulse*alpha, first_ref_time, second_ref_time)\n",
    "    \n",
    "    return {'first_impulse': first_impulse_shifted,\\\n",
    "            'second_impulse': second_impulse_shifted,\\\n",
    "            'ref_time': ref_time,\\\n",
    "            'multi_impulse': multi_impulse_shifted}"
   ]
  },
  {
   "cell_type": "code",
   "execution_count": 6,
   "metadata": {},
   "outputs": [],
   "source": [
    "from sklearn.utils import shuffle\n",
    "\n",
    "def prepare_data(X_origin, y_origin, tau_range, alpha_range, data_size=1000, to_print=False):    \n",
    "    X = []\n",
    "    y = []\n",
    "    alpha_values = []\n",
    "    tau_values = []\n",
    "    for i in range(data_size):\n",
    "        alpha = random.choice(alpha_range)\n",
    "        tau = random.choice(tau_range)\n",
    "        signal = generate_multi_signal(X_origin, y_origin, tau, alpha)\n",
    "        \n",
    "        \n",
    "        X.append(signal['multi_impulse'])\n",
    "        y.append(signal['ref_time']) \n",
    "        \n",
    "        alpha_values.append(alpha)\n",
    "        tau_values.append(tau)\n",
    "   \n",
    "    X = np.array(X)\n",
    "    y = np.array(y)\n",
    "    \n",
    "    if to_print:\n",
    "        print(\"X shape:\", X.shape)\n",
    "        print(\"y shape:\", y.shape)\n",
    "    \n",
    "    X, y = shuffle(X, y)\n",
    "\n",
    "#     plt.scatter(alpha_values, tau_values)\n",
    "#     plt.show()\n",
    "    \n",
    "    return X, y"
   ]
  },
  {
   "cell_type": "code",
   "execution_count": 7,
   "metadata": {},
   "outputs": [],
   "source": [
    "from scipy.stats import truncnorm\n",
    "\n",
    "def get_truncated_normal(mean=0, sd=1, low=0, upp=10):\n",
    "    return truncnorm(\n",
    "        (low - mean) / sd, (upp - mean) / sd, loc=mean, scale=sd)\n",
    "\n",
    "\n",
    "tau_range = list(map(int, get_truncated_normal(mean=0, sd=10, low=-40, upp=40).rvs(1000)))\n",
    "alpha_range = np.array([np.around(10**i, decimals=4) for i in np.arange(-3, 0, 0.1)])\n",
    "\n",
    "alpha_values = np.array([0.01, 0.05, 0.1, 0.5, 1])\n",
    "freq_values = [1, 25, 50, 75, 100]"
   ]
  },
  {
   "cell_type": "code",
   "execution_count": 8,
   "metadata": {},
   "outputs": [],
   "source": [
    "import xgboost as xgb\n",
    "from sklearn.model_selection import cross_validate\n",
    "from math import sqrt"
   ]
  },
  {
   "cell_type": "code",
   "execution_count": 9,
   "metadata": {},
   "outputs": [],
   "source": [
    "results = {alpha: [] for alpha in alpha_range}"
   ]
  },
  {
   "cell_type": "code",
   "execution_count": null,
   "metadata": {},
   "outputs": [],
   "source": [
    "X, y = prepare_data(X_origin, y_origin, tau_range, alpha_range, data_size=len(X_origin))\n",
    "model = xgb.XGBRegressor(objective=\"reg:linear\", alpha= 0.01, booster='gbtree', eta= 0.323, gamma=0.189, \n",
    "                               reg_lambda=0.48, max_depth=6, verbosity=0)\n",
    "model.fit(X_cur, y_cur)"
   ]
  },
  {
   "cell_type": "code",
   "execution_count": 28,
   "metadata": {},
   "outputs": [],
   "source": [
    "from sklearn.metrics import mean_squared_error"
   ]
  },
  {
   "cell_type": "code",
   "execution_count": 10,
   "metadata": {},
   "outputs": [
    {
     "name": "stderr",
     "output_type": "stream",
     "text": [
      "100%|██████████| 5/5 [04:09<00:00, 49.96s/it] \n",
      "100%|██████████| 5/5 [04:20<00:00, 52.06s/it] \n",
      "100%|██████████| 5/5 [04:31<00:00, 54.39s/it] \n",
      "100%|██████████| 5/5 [05:21<00:00, 64.40s/it] \n",
      "100%|██████████| 5/5 [05:04<00:00, 60.94s/it] \n"
     ]
    }
   ],
   "source": [
    "TIME_SCALE_COEF = 0.2\n",
    "DATA_SIZE = len(X_origin)\n",
    "for alpha in alpha_values:\n",
    "    X_cur, y_cur = prepare_data(X_origin, y_origin, tau_range, [alpha], data_size=DATA_SIZE)\n",
    "    for freq in tqdm.tqdm(freq_values):\n",
    "        X_freq = get_freq_data(X_cur, freq=freq)\n",
    "        y_pred = model.predict(X_freq)\n",
    "        \n",
    "        results[alpha].append(sqrt(mean_squared_error(y_pred, y_cur)) * TIME_SCALE_COEF)"
   ]
  },
  {
   "cell_type": "code",
   "execution_count": 22,
   "metadata": {},
   "outputs": [],
   "source": [
    "one_signal_results = []"
   ]
  },
  {
   "cell_type": "code",
   "execution_count": 23,
   "metadata": {},
   "outputs": [],
   "source": [
    "X_origin, y_origin = get_data(is_one_signal=True)"
   ]
  },
  {
   "cell_type": "code",
   "execution_count": 25,
   "metadata": {},
   "outputs": [
    {
     "name": "stderr",
     "output_type": "stream",
     "text": [
      "\n",
      "  0%|          | 0/5 [00:00<?, ?it/s]\u001b[A\n",
      " 20%|██        | 1/5 [03:46<15:06, 226.68s/it]\u001b[A\n",
      " 40%|████      | 2/5 [03:56<05:55, 118.35s/it]\u001b[A\n",
      " 60%|██████    | 3/5 [04:02<02:41, 80.68s/it] \u001b[A\n",
      " 80%|████████  | 4/5 [04:06<01:01, 61.53s/it]\u001b[A\n",
      "100%|██████████| 5/5 [04:09<00:00, 49.86s/it]\u001b[A\n",
      "\u001b[A"
     ]
    }
   ],
   "source": [
    "idx = np.random.choice(np.arange(len(X_origin)), DATA_SIZE, replace=False)\n",
    "X_cur = X_origin[idx]\n",
    "y_cur = y_origin[idx]\n",
    "\n",
    "for freq in tqdm.tqdm(freq_values):\n",
    "    X_freq = get_freq_data(X_cur, freq=freq, start_point=384)\n",
    "    scoring = ['neg_mean_squared_error']\n",
    "    scores = cross_validate(model, X_freq, y_cur, scoring=scoring, cv=5)\n",
    "    one_signal_results.append(-scores['test_neg_mean_squared_error'].mean() * TIME_SCALE_COEF)"
   ]
  },
  {
   "cell_type": "code",
   "execution_count": 26,
   "metadata": {
    "scrolled": true
   },
   "outputs": [
    {
     "data": {
      "text/plain": [
       "[<matplotlib.lines.Line2D at 0x7f406cfb6610>]"
      ]
     },
     "execution_count": 26,
     "metadata": {},
     "output_type": "execute_result"
    },
    {
     "data": {
      "image/png": "[encoded data removed]",
      "text/plain": [
       "<Figure size 432x288 with 1 Axes>"
      ]
     },
     "metadata": {
      "needs_background": "light"
     },
     "output_type": "display_data"
    }
   ],
   "source": [
    "plt.plot(one_signal_results)"
   ]
  },
  {
   "cell_type": "code",
   "execution_count": 27,
   "metadata": {
    "scrolled": true
   },
   "outputs": [
    {
     "data": {
      "image/png": "[encoded data removed]",
      "text/plain": [
       "<Figure size 432x288 with 1 Axes>"
      ]
     },
     "metadata": {
      "needs_background": "light"
     },
     "output_type": "display_data"
    }
   ],
   "source": [
    "plt.plot(one_signal_results)\n",
    "\n",
    "for alpha in results.keys():\n",
    "    plt.plot(results[alpha])\n",
    "\n",
    "    \n",
    "ORIGIN_FREQ = 5000\n",
    "plt.ylabel(\"RMSE [ns]\")\n",
    "plt.xlabel(\"Sampling frequency [MHz]\")\n",
    "plt.xticks(range(len(freq_values)), [int(ORIGIN_FREQ/freq) for freq in freq_values])\n",
    "plt.legend(['one signal'] + ['two signals, alpha=' + str(key) for key in results.keys()])\n",
    "plt.show()"
   ]
  }
 ],
 "metadata": {
  "kernelspec": {
   "display_name": "Python 3",
   "language": "python",
   "name": "python3"
  },
  "language_info": {
   "codemirror_mode": {
    "name": "ipython",
    "version": 3
   },
   "file_extension": ".py",
   "mimetype": "text/x-python",
   "name": "python",
   "nbconvert_exporter": "python",
   "pygments_lexer": "ipython3",
   "version": "3.7.4"
  }
 },
 "nbformat": 4,
 "nbformat_minor": 2
}
