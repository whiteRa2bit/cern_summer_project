{
 "cells": [
  {
   "cell_type": "code",
   "execution_count": 1,
   "metadata": {},
   "outputs": [],
   "source": [
    "import matplotlib.pyplot as plt\n",
    "import numpy as np\n",
    "from sklearn.model_selection import train_test_split\n",
    "from sklearn.linear_model import LinearRegression\n",
    "from sklearn.metrics import r2_score, mean_absolute_error, mean_squared_error\n",
    "from sklearn.model_selection import cross_validate\n",
    "import tqdm"
   ]
  },
  {
   "cell_type": "code",
   "execution_count": 2,
   "metadata": {},
   "outputs": [],
   "source": [
    "def get_data():\n",
    "    file = open('./data/shashlik_61_pulses.txt', 'r')\n",
    "    data = file.readlines()\n",
    "    data = np.array([list(map(float, experiment.split())) for experiment in data])\n",
    "   \n",
    "    X = data[:, 2:]\n",
    "    y_baseline = data[:, 1]\n",
    "    y = data[:, 0]\n",
    "    \n",
    "    return X, y"
   ]
  },
  {
   "cell_type": "code",
   "execution_count": 3,
   "metadata": {},
   "outputs": [],
   "source": [
    "X_origin, y_origin = get_data()\n",
    "\n",
    "X_origin = np.array([experiment - np.max(experiment) for experiment in X_origin])\n",
    "y_origin = np.round(y_origin)"
   ]
  },
  {
   "cell_type": "code",
   "execution_count": 4,
   "metadata": {},
   "outputs": [],
   "source": [
    "def generate_multi_signal(tau, alpha, to_plot=False):\n",
    "    \n",
    "    ATTEMPTS_NUM = 10000\n",
    "    cur_attempt = 0\n",
    "    \n",
    "    while cur_attempt < ATTEMPTS_NUM:\n",
    "        first_idx = np.random.choice(y_origin.shape[0], 1, replace=False)[0]\n",
    "\n",
    "        first_impulse = X_origin[first_idx]\n",
    "        first_ref_time = y_origin[first_idx]\n",
    "\n",
    "        if first_ref_time > np.mean(y_origin):\n",
    "            second_ref_time = first_ref_time - tau\n",
    "        else:\n",
    "            second_ref_time = first_ref_time + tau\n",
    "\n",
    "        second_idxs = np.where(y_origin == second_ref_time)[0]\n",
    "        \n",
    "        if len(second_idxs) > 1:\n",
    "            second_idx = np.random.choice(len(second_idxs), 1, replace=False)[0]\n",
    "            second_impulse = X_origin[second_idx]\n",
    "\n",
    "            multi_impulse = first_impulse + alpha*second_impulse\n",
    "            \n",
    "#             print(\"INDEXES:\")\n",
    "#             print(first_idx)\n",
    "#             print(second_idx)\n",
    "            if to_plot:\n",
    "                plt.plot(first_impulse)\n",
    "                plt.plot(second_impulse)\n",
    "                plt.plot(multi_impulse)\n",
    "                plt.legend(['First signal', 'Second signal', 'Sum of signals'])\n",
    "                plt.show()\n",
    "    \n",
    "            return multi_impulse\n",
    "        else:\n",
    "            cur_attempt += 1\n",
    "            continue\n",
    "    print(\"Value of tau = %i is too big\" %tau)"
   ]
  },
  {
   "cell_type": "code",
   "execution_count": 5,
   "metadata": {
    "scrolled": true
   },
   "outputs": [
    {
     "data": {
      "image/png": "[encoded data removed]",
      "text/plain": [
       "<Figure size 432x288 with 1 Axes>"
      ]
     },
     "metadata": {
      "needs_background": "light"
     },
     "output_type": "display_data"
    },
    {
     "data": {
      "text/plain": [
       "array([-25.152, -25.148, -25.334, ...,  -3.726,  -2.   ,  -5.98 ])"
      ]
     },
     "execution_count": 5,
     "metadata": {},
     "output_type": "execute_result"
    }
   ],
   "source": [
    "generate_multi_signal(55, 0.4, to_plot=True)"
   ]
  },
  {
   "cell_type": "markdown",
   "metadata": {},
   "source": [
    "##### Fixate tau and alpha parameters"
   ]
  },
  {
   "cell_type": "code",
   "execution_count": 9,
   "metadata": {},
   "outputs": [],
   "source": [
    "tau = 30\n",
    "alpha = 0.01"
   ]
  },
  {
   "cell_type": "markdown",
   "metadata": {},
   "source": [
    "### Preparing data"
   ]
  },
  {
   "cell_type": "code",
   "execution_count": 10,
   "metadata": {},
   "outputs": [],
   "source": [
    "from sklearn.utils import shuffle\n",
    "\n",
    "def prepare_data(tau, alpha, data_size=3000, to_print=False):\n",
    "    data_size = 3000\n",
    "    pos_size = int(data_size/2)\n",
    "    neg_size = data_size - pos_size\n",
    "    \n",
    "    idxs = np.random.randint(X_origin.shape[0], size=pos_size)\n",
    "    X_positive = X_origin[idxs]\n",
    "    y_positive = np.ones(pos_size)\n",
    "    \n",
    "\n",
    "    X_negative = np.array([generate_multi_signal(tau, alpha) for i in range(neg_size)])\n",
    "    y_negative = np.zeros(neg_size)\n",
    "    \n",
    "\n",
    "    X = np.concatenate([X_positive, X_negative])\n",
    "    y = np.concatenate([y_positive, y_negative])\n",
    "   \n",
    "    if to_print:\n",
    "        print(\"X positive shape:\", X_positive.shape)\n",
    "        print(\"y positive shape:\", y_positive.shape)\n",
    "        print(\"X negative shape:\", X_negative.shape)\n",
    "        print(\"y negative shape:\", y_negative.shape)\n",
    "        print(\"X shape:\", X.shape)\n",
    "        print(\"y shape:\", y.shape)\n",
    "    \n",
    "    \n",
    "    \n",
    "    X, y = shuffle(X, y)\n",
    "\n",
    "    return X, y"
   ]
  },
  {
   "cell_type": "code",
   "execution_count": 11,
   "metadata": {},
   "outputs": [
    {
     "name": "stdout",
     "output_type": "stream",
     "text": [
      "X positive shape: (1500, 1024)\n",
      "y positive shape: (1500,)\n",
      "X negative shape: (1500, 1024)\n",
      "y negative shape: (1500,)\n",
      "X shape: (3000, 1024)\n",
      "y shape: (3000,)\n"
     ]
    }
   ],
   "source": [
    "X, y = prepare_data(tau, alpha, to_print=True)"
   ]
  },
  {
   "cell_type": "markdown",
   "metadata": {},
   "source": [
    "### Splitting our data for train and test"
   ]
  },
  {
   "cell_type": "code",
   "execution_count": 12,
   "metadata": {},
   "outputs": [
    {
     "name": "stdout",
     "output_type": "stream",
     "text": [
      "X_train.shape: (2100, 1024)\n",
      "y_train.shape (2100,)\n",
      "X_test shape: (900, 1024)\n",
      "y_test shape: (900,)\n"
     ]
    }
   ],
   "source": [
    "from sklearn.model_selection import train_test_split\n",
    "\n",
    "X_train, X_test, y_train, y_test = train_test_split(X, y, stratify=y, test_size=0.3)\n",
    "\n",
    "print(\"X_train.shape:\", X_train.shape)\n",
    "print(\"y_train.shape\", y_train.shape)\n",
    "print(\"X_test shape:\", X_test.shape)\n",
    "print(\"y_test shape:\", y_test.shape)"
   ]
  },
  {
   "cell_type": "markdown",
   "metadata": {},
   "source": [
    "### Ensemble"
   ]
  },
  {
   "cell_type": "code",
   "execution_count": 13,
   "metadata": {},
   "outputs": [],
   "source": [
    "from scipy.stats import rankdata\n",
    "from itertools import cycle\n",
    "from sklearn.base import BaseEstimator, ClassifierMixin\n",
    "\n",
    "class ShuffleVoter(BaseEstimator, ClassifierMixin):  \n",
    "    \"\"\"\n",
    "       scikit-learn based voting aggregation ensembling.\n",
    "       Using bootstrapping creates a set of models, differing only by which data sample they are fed\n",
    "       \"\"\"\n",
    "\n",
    "    def __init__(self, models):\n",
    "        \"\"\"\n",
    "        model - base model ( or a pipeline ) ( unfitted )\n",
    "        \"\"\"\n",
    "        self.models = models\n",
    "        \n",
    "    def ensemble_predictions(self, predictions, weights, type_=\"harmonic\"):\n",
    "        \"\"\"\n",
    "        Combines probabilistic class estimates using a variety of strategies.\n",
    "        Linear, harmonic, geometric and rank averaging are supported at this moment. \n",
    "        Insipred by well known Abhishek's kernel on Kaggle \n",
    "        model - base model ( or a pipeline ) ( unfitted )\n",
    "        \"\"\"\n",
    "        assert np.isclose(np.sum(weights), 1.0)\n",
    "        if type_ == \"linear\":\n",
    "            res = np.average(predictions, weights=weights, axis=0)\n",
    "        elif type_ == \"harmonic\":\n",
    "            res = np.average([1 / p for p in predictions], weights=weights, axis=0)\n",
    "            return 1 / res\n",
    "        elif type_ == \"geometric\":\n",
    "            numerator = np.average(\n",
    "                [np.log(p) for p in predictions], weights=weights, axis=0\n",
    "            )\n",
    "            res = np.exp(numerator / sum(weights))\n",
    "            return res\n",
    "        elif type_ == \"rank\":\n",
    "            res = np.average([rankdata(p) for p in predictions], weights=weights, axis=0)\n",
    "            return res / (len(res) + 1)\n",
    "        return res\n",
    "\n",
    "\n",
    "    def fit( self, X, y, n_boots = 14, test_size = 100 ):\n",
    "        \"\"\"\n",
    "        n_boots - number of bootstrapping iterations ( and respective models built)\n",
    "        \"\"\"\n",
    "        self.clfs  = []\n",
    "        for i, model in zip(range(n_boots), cycle(self.models)):\n",
    "            X_tr, X_te, y_tr, y_te = train_test_split( X, y, test_size=test_size, random_state=3521 + i*11)\n",
    "\n",
    "            pa_clf = model\n",
    "            pa_clf.fit(X_tr, y_tr)\n",
    "\n",
    "            self.clfs.append(pa_clf)\n",
    "\n",
    "    def predict( self, X, ensemble_type = 'rank'):\n",
    "        # TODO: nonuniform weights\n",
    "        \n",
    "        n_boots = len( self.clfs)\n",
    "        preds = [ clf.predict(X) for clf in self.clfs ]\n",
    "#         return self.ensemble_predictions( preds, np.ones(n_boots)*(1/float(n_boots)), ensemble_type)\n",
    "        return np.round(self.ensemble_predictions( preds, np.ones(n_boots)*(1/float(n_boots)), ensemble_type))\n",
    "\n",
    "    \n",
    "    def predict_proba( self, X, ensemble_type = 'rank' ):\n",
    "        n_boots = len( self.clfs)\n",
    "        preds = [ clf.predict_proba(X) for clf in self.clfs ]\n",
    "        return self.ensemble_predictions( preds, np.ones(n_boots)*(1/float(n_boots)), ensemble_type)\n"
   ]
  },
  {
   "cell_type": "markdown",
   "metadata": {},
   "source": [
    "### Defining pipelines"
   ]
  },
  {
   "cell_type": "code",
   "execution_count": 14,
   "metadata": {},
   "outputs": [],
   "source": [
    "import warnings\n",
    "from sklearn.preprocessing import PolynomialFeatures\n",
    "from sklearn.base import TransformerMixin\n",
    "from sklearn.pipeline import Pipeline\n",
    "from sklearn.metrics import f1_score\n",
    "from sklearn.model_selection import cross_val_score\n",
    "from sklearn.multiclass import OneVsRestClassifier\n",
    "from sklearn.svm import LinearSVC\n",
    "from sklearn.linear_model import LogisticRegression\n",
    "from sklearn.neural_network import MLPClassifier\n",
    "from sklearn.neighbors import KNeighborsClassifier\n",
    "from sklearn.tree import DecisionTreeClassifier\n",
    "from sklearn.ensemble import RandomForestClassifier\n",
    "from sklearn.naive_bayes import GaussianNB\n",
    "from sklearn.svm import SVC\n",
    "from sklearn.linear_model import PassiveAggressiveClassifier\n",
    "from sklearn.model_selection import train_test_split\n",
    "warnings.filterwarnings('ignore')"
   ]
  },
  {
   "cell_type": "code",
   "execution_count": 15,
   "metadata": {},
   "outputs": [],
   "source": [
    "def get_pipelines(hyperparams = {'svc_c': 0.1, 'mlp_max_iter': 1000, 'kn_n': 5, 'pa_c': 0.1}):\n",
    "    SVC_pipeline = Pipeline([\n",
    "                    ('clf', LinearSVC(C=hyperparams['svc_c'])),\n",
    "                ])\n",
    "\n",
    "\n",
    "    MLP_pipeline = Pipeline([\n",
    "                    ('clf', MLPClassifier(max_iter=hyperparams['mlp_max_iter'])),\n",
    "                ])\n",
    "\n",
    "    KN_pipeline = Pipeline([\n",
    "                    ('clf', KNeighborsClassifier(n_neighbors=hyperparams['kn_n'])),\n",
    "                ])\n",
    "    \n",
    "    PA_pipeline = Pipeline([\n",
    "                ('clf', PassiveAggressiveClassifier(C = hyperparams['pa_c'], max_iter=1000, tol=1e-3)),\n",
    "            ])\n",
    "\n",
    "    pipelines = {'svc': SVC_pipeline, 'kn': KN_pipeline, 'pa': PA_pipeline,  'mlp': MLP_pipeline}\n",
    "    \n",
    "    return pipelines"
   ]
  },
  {
   "cell_type": "code",
   "execution_count": 16,
   "metadata": {},
   "outputs": [],
   "source": [
    "pipelines = get_pipelines()"
   ]
  },
  {
   "cell_type": "markdown",
   "metadata": {},
   "source": [
    "### Pipelines scores:"
   ]
  },
  {
   "cell_type": "code",
   "execution_count": 17,
   "metadata": {},
   "outputs": [],
   "source": [
    "from sklearn.model_selection import cross_validate\n",
    "from sklearn.metrics import make_scorer, accuracy_score, precision_score, recall_score, f1_score"
   ]
  },
  {
   "cell_type": "code",
   "execution_count": 19,
   "metadata": {
    "scrolled": true
   },
   "outputs": [
    {
     "name": "stdout",
     "output_type": "stream",
     "text": [
      "Model name: svc\n",
      "accuracy 0.49633 (+/- 0.01672)\n",
      "precision 0.23911 (+/- 0.48145)\n",
      "recall 0.38667 (+/- 0.91905)\n",
      "f1_score 0.27523 (+/- 0.61970)\n",
      "------------------------------\n",
      "Model name: kn\n",
      "accuracy 0.55167 (+/- 0.06438)\n",
      "precision 0.55404 (+/- 0.06534)\n",
      "recall 0.53733 (+/- 0.07035)\n",
      "f1_score 0.54507 (+/- 0.06017)\n",
      "------------------------------\n",
      "Model name: pa\n",
      "accuracy 0.49733 (+/- 0.01600)\n",
      "precision 0.09785 (+/- 0.39152)\n",
      "recall 0.15933 (+/- 0.66277)\n",
      "f1_score 0.11964 (+/- 0.48247)\n",
      "------------------------------\n",
      "Model name: mlp\n",
      "accuracy 0.50000 (+/- 0.01886)\n",
      "precision 0.33954 (+/- 0.44851)\n",
      "recall 0.40600 (+/- 0.87752)\n",
      "f1_score 0.31238 (+/- 0.57539)\n",
      "------------------------------\n"
     ]
    }
   ],
   "source": [
    "for model_name, model in pipelines.items():\n",
    "    print(\"Model name:\", model_name)\n",
    "    \n",
    "    scoring = {'accuracy' : make_scorer(accuracy_score), \n",
    "           'precision' : make_scorer(precision_score),\n",
    "           'recall' : make_scorer(recall_score), \n",
    "           'f1_score' : make_scorer(f1_score)}\n",
    "    \n",
    "    scores = cross_validate(model, X, y, scoring=scoring, cv=10)\n",
    "    for score in scoring.keys():\n",
    "        print(score, \"%0.5f (+/- %0.5f)\" % (scores[\"test_\" + score].mean(), scores[\"test_\" + score].std() * 2))\n",
    "    print('------------------------------')"
   ]
  },
  {
   "cell_type": "markdown",
   "metadata": {},
   "source": [
    "### Ensemble score"
   ]
  },
  {
   "cell_type": "code",
   "execution_count": 21,
   "metadata": {},
   "outputs": [
    {
     "name": "stdout",
     "output_type": "stream",
     "text": [
      "accuracy 0.554000000 (+/- 0.036061676)\n",
      "precision 0.557346939 (+/- 0.035980859)\n",
      "recall 0.525333333 (+/- 0.078610149)\n",
      "f1_score 0.540241006 (+/- 0.050629285)\n"
     ]
    }
   ],
   "source": [
    "\n",
    "scoring = {'accuracy' : make_scorer(accuracy_score), \n",
    "       'precision' : make_scorer(precision_score),\n",
    "       'recall' : make_scorer(recall_score), \n",
    "       'f1_score' : make_scorer(f1_score)}\n",
    "\n",
    "scores = cross_validate(my_shuffle_voter, X, y, scoring=scoring, cv=5)\n",
    "for score in scoring.keys():\n",
    "    print(score, \"%0.9f (+/- %0.9f)\" % (scores[\"test_\" + score].mean(), scores[\"test_\" + score].std() * 2))"
   ]
  },
  {
   "cell_type": "markdown",
   "metadata": {},
   "source": [
    "### Let's plot accuracy dependency"
   ]
  },
  {
   "cell_type": "code",
   "execution_count": 28,
   "metadata": {},
   "outputs": [],
   "source": [
    "tau_values = range(0, 55, 5)\n",
    "alpha_values = np.around(np.arange(0, 2, 0.05), decimals=2)"
   ]
  },
  {
   "cell_type": "code",
   "execution_count": 29,
   "metadata": {},
   "outputs": [],
   "source": [
    "scores_dict = {}\n",
    "\n",
    "for tau in tau_values:\n",
    "    scores_dict[tau] = dict(zip(alpha_values, np.zeros(len(alpha_values))))"
   ]
  },
  {
   "cell_type": "code",
   "execution_count": 30,
   "metadata": {},
   "outputs": [
    {
     "name": "stderr",
     "output_type": "stream",
     "text": [
      "100%|██████████| 40/40 [01:39<00:00,  2.48s/it]\n",
      "100%|██████████| 40/40 [01:32<00:00,  2.31s/it]\n",
      "100%|██████████| 40/40 [01:25<00:00,  2.15s/it]\n",
      "100%|██████████| 40/40 [01:25<00:00,  2.14s/it]\n",
      "100%|██████████| 40/40 [01:25<00:00,  2.13s/it]\n",
      "100%|██████████| 40/40 [01:25<00:00,  2.15s/it]\n",
      "100%|██████████| 40/40 [01:25<00:00,  2.15s/it]\n",
      "100%|██████████| 40/40 [01:29<00:00,  2.23s/it]\n",
      "100%|██████████| 40/40 [28:06<00:00, 42.16s/it]   \n",
      "100%|██████████| 40/40 [02:18<00:00,  3.46s/it]\n",
      "100%|██████████| 40/40 [04:04<00:00,  6.11s/it]\n"
     ]
    }
   ],
   "source": [
    "for tau in tau_values:\n",
    "    for alpha in tqdm.tqdm(alpha_values):\n",
    "#         print(\"Tau:\", tau)\n",
    "#         print(\"Alpha:\", alpha)\n",
    "#         print(\"Processing...\")\n",
    "        \n",
    "        X, y = prepare_data(tau, alpha)\n",
    "        pipelines = get_pipelines()\n",
    "\n",
    "        scoring = {'accuracy' : make_scorer(accuracy_score)}\n",
    "        scores = cross_validate(pipelines['kn'], X, y, scoring=scoring, cv=5)\n",
    "        \n",
    "        scores_dict[tau][alpha] = scores[\"test_accuracy\"].mean()\n",
    "#         print('______________________________________')\n",
    "#         print()"
   ]
  },
  {
   "cell_type": "code",
   "execution_count": null,
   "metadata": {},
   "outputs": [],
   "source": [
    "def save_obj(obj, name ):\n",
    "    with open('./data/'+ name + '.pkl', 'wb') as f:\n",
    "        pickle.dump(obj, f, pickle.HIGHEST_PROTOCOL)\n",
    "        \n",
    "def load_obj(name ):\n",
    "    with open('./data/' + name + '.pkl', 'rb') as f:\n",
    "        return pickle.load(f)\n",
    "    \n",
    "save_obj(scores_dict, 'accuracy_scores')"
   ]
  },
  {
   "cell_type": "code",
   "execution_count": 32,
   "metadata": {},
   "outputs": [],
   "source": [
    "x, y, z = [], [], []\n",
    "for tau, alpha_dict in scores_dict.items():\n",
    "    for alpha, accuracy in alpha_dict.items():\n",
    "        x.append(tau)\n",
    "        y.append(alpha)\n",
    "        z.append(accuracy)"
   ]
  },
  {
   "cell_type": "code",
   "execution_count": null,
   "metadata": {},
   "outputs": [],
   "source": [
    "from mpl_toolkits.mplot3d import Axes3D\n",
    "import matplotlib\n",
    "matplotlib.use('Qt4Agg')\n",
    "\n",
    "\n",
    "fig1 = matplotlib.pyplot.figure()\n",
    "ax1 = Axes3D(fig1)\n",
    "\n",
    "ax1.plot(10*x, 10*y, 10*z, 'ro', color='b', linewidth=3)\n",
    "# ax1.plot(10*twodim_other[:, 0], 10*twodim_other[:, 1], 10*twodim_other[:, 2], 'ro', color='r', linewidth=3)\n",
    "\n",
    "for angle in range(0, 220):\n",
    "    ax1.view_init(30, angle)\n",
    "    plt.draw()\n",
    "    plt.pause(.001)\n",
    "plt.show()"
   ]
  },
  {
   "cell_type": "markdown",
   "metadata": {},
   "source": [
    "### Smaller alpha values"
   ]
  },
  {
   "cell_type": "code",
   "execution_count": 18,
   "metadata": {},
   "outputs": [],
   "source": [
    "tau_values = range(0, 55, 5)\n",
    "alpha_values = np.around(np.arange(0, 0.15, 0.01), decimals=2)"
   ]
  },
  {
   "cell_type": "code",
   "execution_count": 19,
   "metadata": {},
   "outputs": [],
   "source": [
    "scores_dict = {}\n",
    "\n",
    "for tau in tau_values:\n",
    "    scores_dict[tau] = dict(zip(alpha_values, np.zeros(len(alpha_values))))"
   ]
  },
  {
   "cell_type": "code",
   "execution_count": 20,
   "metadata": {},
   "outputs": [
    {
     "name": "stderr",
     "output_type": "stream",
     "text": [
      "100%|██████████| 15/15 [00:32<00:00,  2.19s/it]\n",
      "100%|██████████| 15/15 [00:32<00:00,  2.17s/it]\n",
      "100%|██████████| 15/15 [00:32<00:00,  2.16s/it]\n",
      "100%|██████████| 15/15 [00:32<00:00,  2.18s/it]\n",
      "100%|██████████| 15/15 [00:34<00:00,  2.31s/it]\n",
      "100%|██████████| 15/15 [00:33<00:00,  2.21s/it]\n",
      "100%|██████████| 15/15 [00:33<00:00,  2.21s/it]\n",
      "100%|██████████| 15/15 [00:34<00:00,  2.31s/it]\n",
      "100%|██████████| 15/15 [00:38<00:00,  2.60s/it]\n",
      "100%|██████████| 15/15 [00:48<00:00,  3.25s/it]\n",
      "100%|██████████| 15/15 [01:24<00:00,  5.61s/it]\n"
     ]
    }
   ],
   "source": [
    "for tau in tau_values:\n",
    "    for alpha in tqdm.tqdm(alpha_values):\n",
    "#         print(\"Tau:\", tau)\n",
    "#         print(\"Alpha:\", alpha)\n",
    "#         print(\"Processing...\")\n",
    "        \n",
    "        X, y = prepare_data(tau, alpha)\n",
    "        pipelines = get_pipelines()\n",
    "\n",
    "        scoring = {'accuracy' : make_scorer(accuracy_score)}\n",
    "        scores = cross_validate(pipelines['kn'], X, y, scoring=scoring, cv=5)\n",
    "        \n",
    "        scores_dict[tau][alpha] = scores[\"test_accuracy\"].mean()\n",
    "#         print('______________________________________')\n",
    "#         print()"
   ]
  },
  {
   "cell_type": "code",
   "execution_count": 21,
   "metadata": {},
   "outputs": [
    {
     "data": {
      "text/plain": [
       "{0: {0.0: 0.5176666666666667,\n",
       "  0.01: 0.535,\n",
       "  0.02: 0.6596666666666666,\n",
       "  0.03: 0.736,\n",
       "  0.04: 0.8176666666666665,\n",
       "  0.05: 0.8633333333333333,\n",
       "  0.06: 0.9043333333333334,\n",
       "  0.07: 0.9406666666666667,\n",
       "  0.08: 0.9606666666666666,\n",
       "  0.09: 0.9790000000000001,\n",
       "  0.1: 0.9886666666666667,\n",
       "  0.11: 0.9896666666666667,\n",
       "  0.12: 0.9933333333333334,\n",
       "  0.13: 0.998,\n",
       "  0.14: 0.999},\n",
       " 5: {0.0: 0.51,\n",
       "  0.01: 0.529,\n",
       "  0.02: 0.6426666666666667,\n",
       "  0.03: 0.7376666666666667,\n",
       "  0.04: 0.8156666666666667,\n",
       "  0.05: 0.8643333333333333,\n",
       "  0.06: 0.9086666666666666,\n",
       "  0.07: 0.9406666666666667,\n",
       "  0.08: 0.9570000000000001,\n",
       "  0.09: 0.9806666666666665,\n",
       "  0.1: 0.9853333333333334,\n",
       "  0.11: 0.9913333333333332,\n",
       "  0.12: 0.9963333333333333,\n",
       "  0.13: 0.9970000000000001,\n",
       "  0.14: 0.9986666666666666},\n",
       " 10: {0.0: 0.5003333333333334,\n",
       "  0.01: 0.5516666666666666,\n",
       "  0.02: 0.659,\n",
       "  0.03: 0.7463333333333333,\n",
       "  0.04: 0.8153333333333332,\n",
       "  0.05: 0.869,\n",
       "  0.06: 0.899,\n",
       "  0.07: 0.9403333333333332,\n",
       "  0.08: 0.9560000000000001,\n",
       "  0.09: 0.9796666666666667,\n",
       "  0.1: 0.9883333333333333,\n",
       "  0.11: 0.9896666666666667,\n",
       "  0.12: 0.9970000000000001,\n",
       "  0.13: 0.9976666666666667,\n",
       "  0.14: 0.999},\n",
       " 15: {0.0: 0.48966666666666664,\n",
       "  0.01: 0.546,\n",
       "  0.02: 0.6519999999999999,\n",
       "  0.03: 0.741,\n",
       "  0.04: 0.8089999999999999,\n",
       "  0.05: 0.8676666666666668,\n",
       "  0.06: 0.9086666666666666,\n",
       "  0.07: 0.9376666666666666,\n",
       "  0.08: 0.9626666666666667,\n",
       "  0.09: 0.9743333333333334,\n",
       "  0.1: 0.9853333333333334,\n",
       "  0.11: 0.993,\n",
       "  0.12: 0.9973333333333334,\n",
       "  0.13: 0.998,\n",
       "  0.14: 0.998},\n",
       " 20: {0.0: 0.504,\n",
       "  0.01: 0.5349999999999999,\n",
       "  0.02: 0.6666666666666666,\n",
       "  0.03: 0.7406666666666666,\n",
       "  0.04: 0.8170000000000002,\n",
       "  0.05: 0.858,\n",
       "  0.06: 0.9109999999999999,\n",
       "  0.07: 0.9333333333333333,\n",
       "  0.08: 0.9603333333333334,\n",
       "  0.09: 0.976,\n",
       "  0.1: 0.9856666666666666,\n",
       "  0.11: 0.9879999999999999,\n",
       "  0.12: 0.9966666666666665,\n",
       "  0.13: 0.999,\n",
       "  0.14: 0.9973333333333333},\n",
       " 25: {0.0: 0.5013333333333334,\n",
       "  0.01: 0.5436666666666666,\n",
       "  0.02: 0.6496666666666667,\n",
       "  0.03: 0.7430000000000001,\n",
       "  0.04: 0.8193333333333334,\n",
       "  0.05: 0.8546666666666667,\n",
       "  0.06: 0.9109999999999999,\n",
       "  0.07: 0.9369999999999999,\n",
       "  0.08: 0.961,\n",
       "  0.09: 0.9756666666666666,\n",
       "  0.1: 0.9870000000000001,\n",
       "  0.11: 0.9923333333333332,\n",
       "  0.12: 0.9963333333333333,\n",
       "  0.13: 0.9973333333333333,\n",
       "  0.14: 0.9986666666666666},\n",
       " 30: {0.0: 0.4956666666666667,\n",
       "  0.01: 0.5286666666666667,\n",
       "  0.02: 0.659,\n",
       "  0.03: 0.7283333333333334,\n",
       "  0.04: 0.8246666666666668,\n",
       "  0.05: 0.8866666666666665,\n",
       "  0.06: 0.8960000000000001,\n",
       "  0.07: 0.9363333333333334,\n",
       "  0.08: 0.9600000000000002,\n",
       "  0.09: 0.9693333333333334,\n",
       "  0.1: 0.9916666666666668,\n",
       "  0.11: 0.9940000000000001,\n",
       "  0.12: 0.9973333333333333,\n",
       "  0.13: 0.998,\n",
       "  0.14: 0.9993333333333332},\n",
       " 35: {0.0: 0.5923333333333334,\n",
       "  0.01: 0.6176666666666667,\n",
       "  0.02: 0.7096666666666667,\n",
       "  0.03: 0.7756666666666667,\n",
       "  0.04: 0.8273333333333334,\n",
       "  0.05: 0.8936666666666667,\n",
       "  0.06: 0.9243333333333335,\n",
       "  0.07: 0.9493333333333334,\n",
       "  0.08: 0.9713333333333333,\n",
       "  0.09: 0.9786666666666666,\n",
       "  0.1: 0.9893333333333333,\n",
       "  0.11: 0.9936666666666667,\n",
       "  0.12: 0.9960000000000001,\n",
       "  0.13: 0.9979999999999999,\n",
       "  0.14: 0.9996666666666666},\n",
       " 40: {0.0: 0.6979999999999998,\n",
       "  0.01: 0.7300000000000001,\n",
       "  0.02: 0.779,\n",
       "  0.03: 0.8473333333333333,\n",
       "  0.04: 0.8816666666666666,\n",
       "  0.05: 0.9126666666666667,\n",
       "  0.06: 0.9410000000000001,\n",
       "  0.07: 0.9563333333333335,\n",
       "  0.08: 0.9743333333333333,\n",
       "  0.09: 0.9856666666666666,\n",
       "  0.1: 0.9906666666666666,\n",
       "  0.11: 0.9953333333333333,\n",
       "  0.12: 0.9973333333333333,\n",
       "  0.13: 0.9983333333333333,\n",
       "  0.14: 1.0},\n",
       " 45: {0.0: 0.8566666666666668,\n",
       "  0.01: 0.8323333333333334,\n",
       "  0.02: 0.8603333333333334,\n",
       "  0.03: 0.909,\n",
       "  0.04: 0.9163333333333334,\n",
       "  0.05: 0.9443333333333334,\n",
       "  0.06: 0.9649999999999999,\n",
       "  0.07: 0.9716666666666667,\n",
       "  0.08: 0.9880000000000001,\n",
       "  0.09: 0.9893333333333334,\n",
       "  0.1: 0.9923333333333332,\n",
       "  0.11: 0.9966666666666667,\n",
       "  0.12: 0.999,\n",
       "  0.13: 0.999,\n",
       "  0.14: 0.9996666666666666},\n",
       " 50: {0.0: 0.9543333333333333,\n",
       "  0.01: 0.9530000000000001,\n",
       "  0.02: 0.9479999999999998,\n",
       "  0.03: 0.9550000000000001,\n",
       "  0.04: 0.9623333333333333,\n",
       "  0.05: 0.9709999999999999,\n",
       "  0.06: 0.9816666666666667,\n",
       "  0.07: 0.986,\n",
       "  0.08: 0.9906666666666666,\n",
       "  0.09: 0.994,\n",
       "  0.1: 0.9963333333333333,\n",
       "  0.11: 0.999,\n",
       "  0.12: 0.999,\n",
       "  0.13: 0.9993333333333332,\n",
       "  0.14: 0.9996666666666666}}"
      ]
     },
     "execution_count": 21,
     "metadata": {},
     "output_type": "execute_result"
    }
   ],
   "source": [
    "save_obj(scores_dict, 'accuracy_scores_detailed')"
   ]
  },
  {
   "cell_type": "code",
   "execution_count": 23,
   "metadata": {},
   "outputs": [],
   "source": [
    "x, y, z = [], [], []\n",
    "for tau, alpha_dict in scores_dict.items():\n",
    "    for alpha, accuracy in alpha_dict.items():\n",
    "        x.append(tau)\n",
    "        y.append(alpha)\n",
    "        z.append(accuracy)"
   ]
  },
  {
   "cell_type": "code",
   "execution_count": 27,
   "metadata": {},
   "outputs": [
    {
     "data": {
      "image/png": "[encoded data removed]",
      "text/plain": [
       "<Figure size 432x288 with 1 Axes>"
      ]
     },
     "metadata": {
      "needs_background": "light"
     },
     "output_type": "display_data"
    }
   ],
   "source": [
    "from mpl_toolkits.mplot3d import Axes3D\n",
    "import matplotlib\n",
    "matplotlib.use('Qt4Agg')\n",
    "\n",
    "\n",
    "fig1 = matplotlib.pyplot.figure()\n",
    "ax1 = Axes3D(fig1)\n",
    "\n",
    "ax1.plot(10*x, 10*y, 10*z, 'ro', color='b', linewidth=3)\n",
    "# ax1.plot(10*twodim_other[:, 0], 10*twodim_other[:, 1], 10*twodim_other[:, 2], 'ro', color='r', linewidth=3)\n",
    "\n",
    "for angle in range(0, 220):\n",
    "    ax1.view_init(30, angle)\n",
    "    plt.draw()\n",
    "    plt.pause(.001)\n",
    "plt.show()"
   ]
  }
 ],
 "metadata": {
  "kernelspec": {
   "display_name": "Python 3",
   "language": "python",
   "name": "python3"
  },
  "language_info": {
   "codemirror_mode": {
    "name": "ipython",
    "version": 3
   },
   "file_extension": ".py",
   "mimetype": "text/x-python",
   "name": "python",
   "nbconvert_exporter": "python",
   "pygments_lexer": "ipython3",
   "version": "3.7.1"
  }
 },
 "nbformat": 4,
 "nbformat_minor": 2
}
