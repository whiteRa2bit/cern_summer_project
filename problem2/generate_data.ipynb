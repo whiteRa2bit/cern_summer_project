{
 "cells": [
  {
   "cell_type": "code",
   "execution_count": 1,
   "metadata": {},
   "outputs": [],
   "source": [
    "import matplotlib.pyplot as plt\n",
    "import numpy as np\n",
    "from sklearn.model_selection import train_test_split\n",
    "from sklearn.linear_model import LinearRegression\n",
    "from sklearn.metrics import r2_score, mean_absolute_error, mean_squared_error\n",
    "from sklearn.model_selection import cross_validate\n",
    "import tqdm"
   ]
  },
  {
   "cell_type": "code",
   "execution_count": 2,
   "metadata": {},
   "outputs": [],
   "source": [
    "def get_data():\n",
    "    file = open('./data/shashlik_61_pulses.txt', 'r')\n",
    "    data = file.readlines()\n",
    "    data = np.array([list(map(float, experiment.split())) for experiment in data])\n",
    "   \n",
    "    X = data[:, 2:]\n",
    "    y_baseline = data[:, 1]\n",
    "    y = data[:, 0]\n",
    "    \n",
    "    return X, y"
   ]
  },
  {
   "cell_type": "code",
   "execution_count": 3,
   "metadata": {},
   "outputs": [],
   "source": [
    "X, y = get_data()"
   ]
  },
  {
   "cell_type": "code",
   "execution_count": 47,
   "metadata": {},
   "outputs": [],
   "source": [
    "X = np.array([experiment - np.max(experiment) for experiment in X])"
   ]
  },
  {
   "cell_type": "code",
   "execution_count": 172,
   "metadata": {},
   "outputs": [],
   "source": [
    "def generate_multi_signal(tau, alpha, to_plot=False):\n",
    "    \n",
    "    ATTEMPTS_NUM = 10000\n",
    "    cur_attempt = 0\n",
    "    \n",
    "    while cur_attempt < ATTEMPTS_NUM:\n",
    "        first_idx = np.random.choice(y.shape[0], 1, replace=False)[0]\n",
    "\n",
    "        first_impulse = X[first_idx]\n",
    "        first_ref_time = y[first_idx]\n",
    "\n",
    "        if first_ref_time > np.mean(y):\n",
    "            second_ref_time = first_ref_time - tau\n",
    "        else:\n",
    "            second_ref_time = first_ref_time + tau\n",
    "\n",
    "        second_idxs = np.where(y == second_ref_time)[0]\n",
    "        \n",
    "        if len(second_idxs) > 1:\n",
    "            second_idx = np.random.choice(len(second_idxs), 1, replace=False)[0]\n",
    "            second_impulse = X[second_idx]\n",
    "\n",
    "            multi_impulse = first_impulse + alpha*second_impulse\n",
    "            \n",
    "#             print(\"INDEXES:\")\n",
    "#             print(first_idx)\n",
    "#             print(second_idx)\n",
    "            if to_plot:\n",
    "                plt.plot(first_impulse)\n",
    "                plt.plot(second_impulse)\n",
    "                plt.plot(multi_impulse)\n",
    "                plt.legend(['First signal', 'Second signal', 'Sum of signals'])\n",
    "                plt.show()\n",
    "    \n",
    "            return multi_impulse\n",
    "        else:\n",
    "            cur_attempt += 1\n",
    "            continue\n",
    "    print(\"Value of tau = %i is too big\" %tau)"
   ]
  },
  {
   "cell_type": "code",
   "execution_count": 196,
   "metadata": {},
   "outputs": [
    {
     "data": {
      "image/png": "[encoded data removed]",
      "text/plain": [
       "<Figure size 432x288 with 1 Axes>"
      ]
     },
     "metadata": {
      "needs_background": "light"
     },
     "output_type": "display_data"
    },
    {
     "data": {
      "text/plain": [
       "array([-21.764, -21.781, -24.148, ...,  -2.082,  -2.36 ,  -4.85 ])"
      ]
     },
     "execution_count": 196,
     "metadata": {},
     "output_type": "execute_result"
    }
   ],
   "source": [
    "generate_multi_signal(57, 0.3, to_plot=True)"
   ]
  }
 ],
 "metadata": {
  "kernelspec": {
   "display_name": "Python 3",
   "language": "python",
   "name": "python3"
  },
  "language_info": {
   "codemirror_mode": {
    "name": "ipython",
    "version": 3
   },
   "file_extension": ".py",
   "mimetype": "text/x-python",
   "name": "python",
   "nbconvert_exporter": "python",
   "pygments_lexer": "ipython3",
   "version": "3.7.1"
  }
 },
 "nbformat": 4,
 "nbformat_minor": 2
}
